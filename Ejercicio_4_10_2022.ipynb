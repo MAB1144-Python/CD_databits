{
  "nbformat": 4,
  "nbformat_minor": 0,
  "metadata": {
    "colab": {
      "provenance": [],
      "authorship_tag": "ABX9TyNIWsTRvWqv4uRZiI+GDXSU",
      "include_colab_link": true
    },
    "kernelspec": {
      "name": "python3",
      "display_name": "Python 3"
    },
    "language_info": {
      "name": "python"
    }
  },
  "cells": [
    {
      "cell_type": "markdown",
      "metadata": {
        "id": "view-in-github",
        "colab_type": "text"
      },
      "source": [
        "<a href=\"https://colab.research.google.com/github/MAB1144-Python/CD_databits/blob/main/Ejercicio_4_10_2022.ipynb\" target=\"_parent\"><img src=\"https://colab.research.google.com/assets/colab-badge.svg\" alt=\"Open In Colab\"/></a>"
      ]
    },
    {
      "cell_type": "code",
      "execution_count": null,
      "metadata": {
        "id": "wmvoiI0GzQl4"
      },
      "outputs": [],
      "source": []
    },
    {
      "cell_type": "markdown",
      "source": [
        "Ejercicio de conceptos de ETL, conocimiento del Dataset."
      ],
      "metadata": {
        "id": "aiN4Gziu16ku"
      }
    },
    {
      "cell_type": "markdown",
      "source": [
        "Seleccionar un dataset desde kagle, en formato csv que tenga aproximadamente 5000 datos.\n",
        "basado en las clases anteriores debemos realizar los siguientes puntos:\n",
        "1-realizar limpieza de variables.\n",
        "2-realizar renombramiento de las columnas.\n",
        "3-asignar el tipo de dato exacrto para cada una de las variables.\n",
        "4-realizar el procesamiento de las vartiables datatime\n",
        "5-seleccionar 3 variables principales.\n",
        "6-aplicar groupby con los primeros 2000 datos con dos de las variables.\n",
        "7-aplicar group by por los ultimos 1500 datos con una variable.\n",
        "8-aplicar el reset index y recuperar en los dos casos.\n",
        "9-obtener un histograma para cada una de las variables que muestre la linea de tendencia y mostrar la media, la mediana, y la moda dentro de la misma gráf. "
      ],
      "metadata": {
        "id": "4IAFhp12zTcG"
      }
    }
  ]
}