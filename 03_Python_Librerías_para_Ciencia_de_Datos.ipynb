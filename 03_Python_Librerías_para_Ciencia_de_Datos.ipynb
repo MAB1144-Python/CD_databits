{
  "cells": [
    {
      "cell_type": "markdown",
      "metadata": {
        "id": "view-in-github",
        "colab_type": "text"
      },
      "source": [
        "<a href=\"https://colab.research.google.com/github/MAB1144-Python/CD_databits/blob/main/03_Python_Librer%C3%ADas_para_Ciencia_de_Datos.ipynb\" target=\"_parent\"><img src=\"https://colab.research.google.com/assets/colab-badge.svg\" alt=\"Open In Colab\"/></a>"
      ]
    },
    {
      "cell_type": "markdown",
      "source": [
        "\n",
        "\n",
        "<div style=\"text-align: center; line-height: 0; padding-top: 9px;\">\n",
        "  <img src=\"https://storage.googleapis.com/datasets-academy/public-img/notebooks/headers/databits-header-notebook.png\" alt=\"Databricks Learning\" style=\"width: 100%;\">\n",
        "</div>"
      ],
      "metadata": {
        "application/vnd.databricks.v1+cell": {
          "title": "",
          "showTitle": false,
          "inputWidgets": {},
          "nuid": "cf58b9d0-b4c6-4dba-bd51-0f7bf80d4cea"
        },
        "id": "XHXOAwloMNIA"
      }
    },
    {
      "cell_type": "markdown",
      "source": [
        "\n",
        "\n",
        "# <center>  Librerías para Ciencia de Datos </center>\n",
        "\n",
        "## Descripción\n",
        "En esta lección se trabajará con las principales librerías enfocadas en Ciencia de Datos\n",
        "\n",
        "## Contenido\n",
        "\n",
        "* Arreglos n-dimensionales y operaciones con NumPy\n",
        "* Series y Dataframes con Pandas\n",
        "* Manipulación de DataFrames con Pandas\n",
        "\n",
        "\n",
        "## Audiencia\n",
        "\n",
        "* Audiencia primaria: Desarrolladores, Ingenieros y Científicos de datos y Analistas de BI\n",
        "\n",
        "## Requisitos previos\n",
        "\n",
        "* Conocimientos básicos de programación\n",
        "* Navegador web: Chrome\n",
        "\n",
        "<img alt=\"Caution\" title=\"Caution\" style=\"vertical-align: text-bottom; position: relative; height:1.3em; top:0.0em\" src=\"https://storage.googleapis.com/datasets-academy/public-img/notebooks/icons/danger.png\"/> **Disclaimer:** Este material ha sido preparado por el equipo de **handytec Academy®**. Se prohibe la publicación o reproducción de este material sin previa autorización de **handytec Academy®** - 2022 Todos los derechos reservados."
      ],
      "metadata": {
        "id": "XrIYsn5bmseb",
        "application/vnd.databricks.v1+cell": {
          "title": "",
          "showTitle": false,
          "inputWidgets": {},
          "nuid": "7b304884-8fdc-407b-939d-6d5fcf021973"
        }
      }
    },
    {
      "cell_type": "markdown",
      "source": [
        "### Programación orientada a objetos en Python\n",
        "\n",
        "#### Clases / Objetos\n",
        "En la verdadera programación orientada a objetos (OOP), el desarrollador escribe código en torno a cosas llamadas objetos. Un objeto (o una clase) agrupa datos y funciones que operan sobre esos datos. Es posible que conozca esta terminología de *C++* y otros lenguajes.\n",
        "\n",
        "#### Módulos\n",
        "Los módulos en Python contienen grandes cantidades de código que se encuentran relacionados. En la mayoría de los casos, poseen varias clases y funciones que abordan una necesidad particular. \n",
        "\n",
        "#### Librerías / Bibliotecas\n",
        "Las librerías pueden contener múltiples módulos que van juntos. Las librerías generalmente tiene una estructura de directorio específica."
      ],
      "metadata": {
        "application/vnd.databricks.v1+cell": {
          "title": "",
          "showTitle": false,
          "inputWidgets": {},
          "nuid": "18783605-2c3d-4c8a-98f1-b214ed5702c8"
        },
        "id": "l4ISvpbvMNIE"
      }
    },
    {
      "cell_type": "markdown",
      "source": [
        "### Importar Módulos\n",
        "Todo notebook debería empezar con una sección de código que importe los **módulos** que se emplearán.\n",
        "\n",
        "A continuación importaremos el módulo **numpy** y **pandas**. Estas son librerías comúnmente empleadas en el área de la Ciencia de Datos. \n",
        "\n",
        "De manera general, utilizaremos la estructura `import MODULE_NAME as MODULE_NICKNAME` para importar cualquier módulo que la programación requiera."
      ],
      "metadata": {
        "application/vnd.databricks.v1+cell": {
          "title": "",
          "showTitle": false,
          "inputWidgets": {},
          "nuid": "68f5ed88-bcce-4f43-9a02-dc313be93df3"
        },
        "id": "SJSIIgtyMNIE"
      }
    },
    {
      "cell_type": "code",
      "source": [
        "#!pip install numpy\n",
        "import numpy as np\n",
        "import pandas as pd\n",
        "      "
      ],
      "metadata": {
        "application/vnd.databricks.v1+cell": {
          "title": "",
          "showTitle": false,
          "inputWidgets": {},
          "nuid": "38548a47-27e9-4382-8576-69329cf2a013"
        },
        "id": "RZ8FEIbiMNIF"
      },
      "outputs": [],
      "execution_count": null
    },
    {
      "cell_type": "markdown",
      "source": [
        "### Buena práctica: verificar versión actual de librerías"
      ],
      "metadata": {
        "application/vnd.databricks.v1+cell": {
          "title": "",
          "showTitle": false,
          "inputWidgets": {},
          "nuid": "df6682e4-3192-401c-b612-d3e0fe870e63"
        },
        "id": "ZIZMki0VMNIG"
      }
    },
    {
      "cell_type": "code",
      "source": [
        "print('** Versiones Actuales | Requeridas **')\n",
        "print('NumPy: Version Actual:', np.__version__)\n",
        "print('Pandas: Version Actual:', pd.__version__)"
      ],
      "metadata": {
        "application/vnd.databricks.v1+cell": {
          "title": "",
          "showTitle": false,
          "inputWidgets": {},
          "nuid": "f3440800-1a93-4de1-96fa-aa1385e7aa00"
        },
        "colab": {
          "base_uri": "https://localhost:8080/"
        },
        "id": "PboJ3bnpMNIG",
        "outputId": "a7b0f2b2-d591-4f2b-fa68-ce51e52b85df"
      },
      "outputs": [
        {
          "output_type": "stream",
          "name": "stdout",
          "text": [
            "** Versiones Actuales | Requeridas **\n",
            "NumPy: Version Actual: 1.21.6\n",
            "Pandas: Version Actual: 1.3.5\n"
          ]
        }
      ],
      "execution_count": null
    },
    {
      "cell_type": "markdown",
      "source": [
        "## 1. Arreglos n-dimensionales y operaciones con NumPy\n",
        "NumPy es una librería optimizada para programación numérica a través de procesamiento de datos en arreglos multidimensionales. <br>\n",
        "\n",
        "Optimiza operaciones tradicionales que se realizan a través de bucles o tipos de datos primitivos, gracias a su mecanismo de procesar las operaciones a través de lotes en códigos optimizados en C y Fortran.\n",
        "\n",
        "[NumPy](https://numpy.org/devdocs/index.html) define estructuras de datos de tipo *ndarrays* : arreglos n-dimensionales.\n",
        "### 1.1 Arreglos en 1D:"
      ],
      "metadata": {
        "application/vnd.databricks.v1+cell": {
          "title": "",
          "showTitle": false,
          "inputWidgets": {},
          "nuid": "eec2757e-e64c-4145-a0d1-0c2754147c1f"
        },
        "id": "v78_FIp7MNIH"
      }
    },
    {
      "cell_type": "code",
      "source": [
        "# Emplear listas para la creación de ndarrays, por medio de la función np.array\n",
        "lt = [1, 2, 3, 5]\n",
        "print(lt)\n",
        "A = np.asarray(lt)\n",
        "print(A)\n",
        "print(type(A))"
      ],
      "metadata": {
        "application/vnd.databricks.v1+cell": {
          "title": "",
          "showTitle": false,
          "inputWidgets": {},
          "nuid": "e600a761-3a6d-4a09-b1fd-55caddcbb1d2"
        },
        "colab": {
          "base_uri": "https://localhost:8080/"
        },
        "id": "vWsDlg8-MNIH",
        "outputId": "8dd17ce2-5c02-4b0e-9150-e4502a0657be"
      },
      "outputs": [
        {
          "output_type": "stream",
          "name": "stdout",
          "text": [
            "[1, 2, 3, 5]\n",
            "[1 2 3 5]\n",
            "<class 'numpy.ndarray'>\n"
          ]
        }
      ],
      "execution_count": null
    },
    {
      "cell_type": "code",
      "source": [
        "B = [1,4.5, 3.6]\n",
        "C = np.array(B)\n",
        "C.dtype"
      ],
      "metadata": {
        "colab": {
          "base_uri": "https://localhost:8080/"
        },
        "id": "NytTEGus7fAu",
        "outputId": "1bfa01e2-38b3-44e8-ba0c-8cef6278a28c"
      },
      "execution_count": null,
      "outputs": [
        {
          "output_type": "execute_result",
          "data": {
            "text/plain": [
              "dtype('float64')"
            ]
          },
          "metadata": {},
          "execution_count": 59
        }
      ]
    },
    {
      "cell_type": "code",
      "source": [
        "# Métodos para analizar propiedades en un ndarray\n",
        "print ('Forma (filas, columnas): ', A.shape)\n",
        "print ('Número de dimensiones', A.ndim)\n",
        "print ('Tipo de dato: ', A.dtype)"
      ],
      "metadata": {
        "application/vnd.databricks.v1+cell": {
          "title": "",
          "showTitle": false,
          "inputWidgets": {},
          "nuid": "a8db5393-8f9f-4372-b919-6516fb2c283c"
        },
        "colab": {
          "base_uri": "https://localhost:8080/"
        },
        "id": "5ws730mhMNII",
        "outputId": "e075cd73-ec58-4e02-e288-a4ee7f4e2a74"
      },
      "outputs": [
        {
          "output_type": "stream",
          "name": "stdout",
          "text": [
            "Forma (filas, columnas):  (4,)\n",
            "Número de dimensiones 1\n",
            "Tipo de dato:  int64\n"
          ]
        }
      ],
      "execution_count": null
    },
    {
      "cell_type": "markdown",
      "source": [
        "Selección de elementos por indexado o slicing en un vector"
      ],
      "metadata": {
        "application/vnd.databricks.v1+cell": {
          "title": "",
          "showTitle": false,
          "inputWidgets": {},
          "nuid": "9c03887d-40a5-44fa-974f-157d10a30a68"
        },
        "id": "v3-TLECAMNII"
      }
    },
    {
      "cell_type": "code",
      "source": [
        "print(A)\n",
        "print(A[-2])\n",
        "print(A[2:])"
      ],
      "metadata": {
        "application/vnd.databricks.v1+cell": {
          "title": "",
          "showTitle": false,
          "inputWidgets": {},
          "nuid": "25a697c7-57ca-4a74-b529-11d55556bc2e"
        },
        "colab": {
          "base_uri": "https://localhost:8080/"
        },
        "id": "OuK6QZBAMNIJ",
        "outputId": "8f5bc6a0-f842-45c0-fe9a-61f0fb659932"
      },
      "outputs": [
        {
          "output_type": "stream",
          "name": "stdout",
          "text": [
            "[1 2 3 5]\n",
            "3\n",
            "[3 5]\n"
          ]
        }
      ],
      "execution_count": null
    },
    {
      "cell_type": "markdown",
      "source": [
        "Operaciones aritméticas `(+ , - , *, /, //, **, %)`  en los ndarrays son de elemento a elemento con arreglos del mismo tamaño (caso contrario se aplica **broadcasting**)"
      ],
      "metadata": {
        "application/vnd.databricks.v1+cell": {
          "title": "",
          "showTitle": false,
          "inputWidgets": {},
          "nuid": "2d0c1b79-056f-49cd-9616-418704faae5d"
        },
        "id": "9oTTcsLtMNIJ"
      }
    },
    {
      "cell_type": "code",
      "source": [
        "A1 = [1,2,3]\n",
        "B1 = [4,5,6]\n",
        "A1 + B1"
      ],
      "metadata": {
        "colab": {
          "base_uri": "https://localhost:8080/"
        },
        "id": "fB2p6DEj8MRk",
        "outputId": "cd94fd3a-c224-481f-e49c-dacd53d13a42"
      },
      "execution_count": null,
      "outputs": [
        {
          "output_type": "execute_result",
          "data": {
            "text/plain": [
              "[1, 2, 3, 4, 5, 6]"
            ]
          },
          "metadata": {},
          "execution_count": 62
        }
      ]
    },
    {
      "cell_type": "code",
      "source": [
        "A2 = np.array([1,2,3])\n",
        "B2 = np.array([4,5,6])\n",
        "A2 + B2"
      ],
      "metadata": {
        "colab": {
          "base_uri": "https://localhost:8080/"
        },
        "id": "BU_IeEfq8Xp-",
        "outputId": "0225ac4f-279f-4102-bef7-42a2da8eda90"
      },
      "execution_count": null,
      "outputs": [
        {
          "output_type": "execute_result",
          "data": {
            "text/plain": [
              "array([5, 7, 9])"
            ]
          },
          "metadata": {},
          "execution_count": 63
        }
      ]
    },
    {
      "cell_type": "code",
      "source": [
        "A"
      ],
      "metadata": {
        "application/vnd.databricks.v1+cell": {
          "title": "",
          "showTitle": false,
          "inputWidgets": {},
          "nuid": "dd09cb9a-0f6b-4cac-ad2e-8931e305cf1b"
        },
        "colab": {
          "base_uri": "https://localhost:8080/"
        },
        "id": "igYmmRLoMNIJ",
        "outputId": "6f00d3fa-c4c3-42d4-e831-2cdb86bbdb32"
      },
      "outputs": [
        {
          "output_type": "execute_result",
          "data": {
            "text/plain": [
              "array([1, 2, 3, 5])"
            ]
          },
          "metadata": {},
          "execution_count": 64
        }
      ],
      "execution_count": null
    },
    {
      "cell_type": "code",
      "source": [
        "# Operaciones entre ndarrays\n",
        "B = np.array([2,1,0,3])\n",
        "A ** B"
      ],
      "metadata": {
        "application/vnd.databricks.v1+cell": {
          "title": "",
          "showTitle": false,
          "inputWidgets": {},
          "nuid": "eb486c35-47db-4dcd-8462-78d382350800"
        },
        "colab": {
          "base_uri": "https://localhost:8080/"
        },
        "id": "jWuTmE7nMNIJ",
        "outputId": "ce9c8eb2-88eb-43e7-be1d-39b9bac5fd95"
      },
      "outputs": [
        {
          "output_type": "execute_result",
          "data": {
            "text/plain": [
              "array([  1,   2,   1, 125])"
            ]
          },
          "metadata": {},
          "execution_count": 65
        }
      ],
      "execution_count": null
    },
    {
      "cell_type": "markdown",
      "source": [
        "### 1.2 Arreglos en 2D:"
      ],
      "metadata": {
        "application/vnd.databricks.v1+cell": {
          "title": "",
          "showTitle": false,
          "inputWidgets": {},
          "nuid": "1f51026f-8555-4bfa-9e1e-47f337113f03"
        },
        "id": "ix0w657AMNIK"
      }
    },
    {
      "cell_type": "code",
      "source": [
        "# Emplear una lista de listas para la creación de un ndarray de dos dimensiones\n",
        "T = np.array([[3, 4, 2],\n",
        "              [6, 1, 9],\n",
        "              [5, 7, 8.0]])\n",
        "print(T)"
      ],
      "metadata": {
        "application/vnd.databricks.v1+cell": {
          "title": "",
          "showTitle": false,
          "inputWidgets": {},
          "nuid": "5ceb8905-fc42-47a9-a130-39420b0ef1ba"
        },
        "colab": {
          "base_uri": "https://localhost:8080/"
        },
        "id": "lSLdIzchMNIK",
        "outputId": "e369ab19-dcbe-4d04-af55-f792dc43b0df"
      },
      "outputs": [
        {
          "output_type": "stream",
          "name": "stdout",
          "text": [
            "[[3. 4. 2.]\n",
            " [6. 1. 9.]\n",
            " [5. 7. 8.]]\n"
          ]
        }
      ],
      "execution_count": null
    },
    {
      "cell_type": "code",
      "source": [
        "# Métodos para analizar propiedades en un ndarray\n",
        "print ('Forma (filas,cols): ', T.shape)\n",
        "print ('Número de dimesiones:', T.ndim)\n",
        "print ('Tipo dato de elementos: ', T.dtype)"
      ],
      "metadata": {
        "application/vnd.databricks.v1+cell": {
          "title": "",
          "showTitle": false,
          "inputWidgets": {},
          "nuid": "21325403-97f7-41b2-a9f4-1422365e748b"
        },
        "colab": {
          "base_uri": "https://localhost:8080/"
        },
        "id": "20yN4yBWMNIK",
        "outputId": "ece7b95b-77ed-4b4e-d908-a1d9e4d6b9c8"
      },
      "outputs": [
        {
          "output_type": "stream",
          "name": "stdout",
          "text": [
            "Forma (filas,cols):  (3, 3)\n",
            "Número de dimesiones: 2\n",
            "Tipo dato de elementos:  float64\n"
          ]
        }
      ],
      "execution_count": null
    },
    {
      "cell_type": "markdown",
      "source": [
        "Selección de elementos por indexado y slicing en una matriz"
      ],
      "metadata": {
        "application/vnd.databricks.v1+cell": {
          "title": "",
          "showTitle": false,
          "inputWidgets": {},
          "nuid": "04d969fd-0c50-49c4-971b-7a8c08a1aadb"
        },
        "id": "ulSwPx11MNIK"
      }
    },
    {
      "cell_type": "code",
      "source": [
        "# Selección de un elemento en una matriz: ndarray[filas][columnas]\n",
        "print(T)\n",
        "print(T[1])"
      ],
      "metadata": {
        "application/vnd.databricks.v1+cell": {
          "title": "",
          "showTitle": false,
          "inputWidgets": {},
          "nuid": "a533920d-15ed-440c-84b9-9f79a3b88538"
        },
        "colab": {
          "base_uri": "https://localhost:8080/"
        },
        "id": "kGKOJiThMNIK",
        "outputId": "47d4b693-0fc2-44e4-8035-26a78f583ab2"
      },
      "outputs": [
        {
          "output_type": "stream",
          "name": "stdout",
          "text": [
            "[[3. 4. 2.]\n",
            " [6. 1. 9.]\n",
            " [5. 7. 8.]]\n",
            "[6. 1. 9.]\n"
          ]
        }
      ],
      "execution_count": null
    },
    {
      "cell_type": "code",
      "source": [
        "# Selección de varios elementos en una matriz: ndarray[filas, columnas]\n",
        "print(T[1:2, 1:3])"
      ],
      "metadata": {
        "application/vnd.databricks.v1+cell": {
          "title": "",
          "showTitle": false,
          "inputWidgets": {},
          "nuid": "6c6c8d73-1492-453e-8041-05f6b08097df"
        },
        "colab": {
          "base_uri": "https://localhost:8080/"
        },
        "id": "3PXcSr5AMNIL",
        "outputId": "4d29002f-637e-4cbd-ff47-e9dfe4f63f12"
      },
      "outputs": [
        {
          "output_type": "stream",
          "name": "stdout",
          "text": [
            "[[1. 9.]]\n"
          ]
        }
      ],
      "execution_count": null
    },
    {
      "cell_type": "code",
      "source": [
        "list(T)"
      ],
      "metadata": {
        "id": "7aHWJtV89tCN",
        "outputId": "cf881bd3-4003-41e3-c37e-4bd607705671",
        "colab": {
          "base_uri": "https://localhost:8080/"
        }
      },
      "execution_count": null,
      "outputs": [
        {
          "output_type": "execute_result",
          "data": {
            "text/plain": [
              "[array([3., 4., 2.]), array([6., 1., 9.]), array([5., 7., 8.])]"
            ]
          },
          "metadata": {},
          "execution_count": 70
        }
      ]
    },
    {
      "cell_type": "markdown",
      "source": [
        "### 1.3 Funciones básicas en NumPy"
      ],
      "metadata": {
        "application/vnd.databricks.v1+cell": {
          "title": "",
          "showTitle": false,
          "inputWidgets": {},
          "nuid": "c577588d-0b8d-4a4e-aabb-0f17786f26a6"
        },
        "id": "IeMUhNa4MNIL"
      }
    },
    {
      "cell_type": "markdown",
      "source": [
        "Podemos especificar el tipo de dato requerido a través del parámetro **dtype**:"
      ],
      "metadata": {
        "application/vnd.databricks.v1+cell": {
          "title": "",
          "showTitle": false,
          "inputWidgets": {},
          "nuid": "bd48d6ea-b712-4ed7-a64f-1a7bab6eea7f"
        },
        "id": "Df6gihqXMNIL"
      }
    },
    {
      "cell_type": "code",
      "source": [
        "#Creación de ndarrays con valores de cero, empleando la función np.zeros\n",
        "cero_array = np.zeros((4,3), dtype = float)\n",
        "cero_array[2][1] = 5 \n",
        "print(cero_array)"
      ],
      "metadata": {
        "application/vnd.databricks.v1+cell": {
          "title": "",
          "showTitle": false,
          "inputWidgets": {},
          "nuid": "8030487c-cff7-485d-a2d0-aa1f0cf6aad3"
        },
        "colab": {
          "base_uri": "https://localhost:8080/"
        },
        "id": "B05kXC4oMNIL",
        "outputId": "68f162aa-4ea6-4fc6-862e-e52cbb5de266"
      },
      "outputs": [
        {
          "output_type": "stream",
          "name": "stdout",
          "text": [
            "[[0. 0. 0.]\n",
            " [0. 0. 0.]\n",
            " [0. 5. 0.]\n",
            " [0. 0. 0.]]\n"
          ]
        }
      ],
      "execution_count": null
    },
    {
      "cell_type": "code",
      "source": [],
      "metadata": {
        "id": "iFZjUET1uBem"
      },
      "execution_count": null,
      "outputs": []
    },
    {
      "cell_type": "code",
      "source": [
        "#Creación de ndarrays con valores de cero, empleando la función np.ones\n",
        "uno_array = np.ones((3,4), dtype = float)\n",
        "uno_array[2][1] = 5.10 \n",
        "print(uno_array)"
      ],
      "metadata": {
        "application/vnd.databricks.v1+cell": {
          "title": "",
          "showTitle": false,
          "inputWidgets": {},
          "nuid": "cf2cffa6-1199-4d38-8f51-327ce478a760"
        },
        "colab": {
          "base_uri": "https://localhost:8080/"
        },
        "id": "jt-oR2blMNIL",
        "outputId": "c2bd6ff6-c5b1-4ac2-b25f-904febace73b"
      },
      "outputs": [
        {
          "output_type": "stream",
          "name": "stdout",
          "text": [
            "[[1.  1.  1.  1. ]\n",
            " [1.  1.  1.  1. ]\n",
            " [1.  5.1 1.  1. ]]\n"
          ]
        }
      ],
      "execution_count": null
    },
    {
      "cell_type": "code",
      "source": [
        "#Creación de un ndarray con un rango de valores, empleando la función np.arange(inicio, fin-1, step)\n",
        "rango = np.arange(0, 1, 0.1)\n",
        "print(rango)"
      ],
      "metadata": {
        "application/vnd.databricks.v1+cell": {
          "title": "",
          "showTitle": false,
          "inputWidgets": {},
          "nuid": "8a8fc54d-f969-4681-934f-8bb9d92de4f2"
        },
        "colab": {
          "base_uri": "https://localhost:8080/"
        },
        "id": "V4adOrATMNIL",
        "outputId": "0a29bd78-a80a-4846-db7d-c3d393afabdd"
      },
      "outputs": [
        {
          "output_type": "stream",
          "name": "stdout",
          "text": [
            "[0.  0.1 0.2 0.3 0.4 0.5 0.6 0.7 0.8 0.9]\n"
          ]
        }
      ],
      "execution_count": null
    },
    {
      "cell_type": "markdown",
      "source": [
        "### 1.4 Métodos útiles para aplanar y cambiar la forma de un ndarray"
      ],
      "metadata": {
        "application/vnd.databricks.v1+cell": {
          "title": "",
          "showTitle": false,
          "inputWidgets": {},
          "nuid": "38b62ebe-e1d6-408a-878c-0f45f582e0a2"
        },
        "id": "LlJQXGC9MNIM"
      }
    },
    {
      "cell_type": "code",
      "source": [
        "# El método reshape permite cambiar la forma de un ndarray\n",
        "rango_reshape = rango.reshape(5, 2)\n",
        "print(rango_reshape)"
      ],
      "metadata": {
        "application/vnd.databricks.v1+cell": {
          "title": "",
          "showTitle": false,
          "inputWidgets": {},
          "nuid": "14a3e7e2-f572-471f-b5f8-af2764d405d8"
        },
        "colab": {
          "base_uri": "https://localhost:8080/"
        },
        "id": "GnQrtnRHMNIM",
        "outputId": "aab61414-6ad3-439c-9e7b-0b56689ea164"
      },
      "outputs": [
        {
          "output_type": "stream",
          "name": "stdout",
          "text": [
            "[[0.  0.1]\n",
            " [0.2 0.3]\n",
            " [0.4 0.5]\n",
            " [0.6 0.7]\n",
            " [0.8 0.9]]\n"
          ]
        }
      ],
      "execution_count": null
    },
    {
      "cell_type": "code",
      "source": [
        "# El método ravel permite aplanar un ndarray\n",
        "rango_flat = rango_reshape.ravel()\n",
        "print(rango_flat)\n",
        "print(T.ravel())"
      ],
      "metadata": {
        "application/vnd.databricks.v1+cell": {
          "title": "",
          "showTitle": false,
          "inputWidgets": {},
          "nuid": "a9dccd40-0102-406a-852f-4eb3b684f203"
        },
        "colab": {
          "base_uri": "https://localhost:8080/"
        },
        "id": "4RuPjdI3MNIM",
        "outputId": "7839d991-fbad-4885-a9df-1459a33f44c4"
      },
      "outputs": [
        {
          "output_type": "stream",
          "name": "stdout",
          "text": [
            "[0.  0.1 0.2 0.3 0.4 0.5 0.6 0.7 0.8 0.9]\n",
            "[3. 4. 2. 6. 1. 9. 5. 7. 8.]\n"
          ]
        }
      ],
      "execution_count": null
    },
    {
      "cell_type": "markdown",
      "source": [
        "### 1.5 Funciones estadísticas en NumPy"
      ],
      "metadata": {
        "application/vnd.databricks.v1+cell": {
          "title": "",
          "showTitle": false,
          "inputWidgets": {},
          "nuid": "41c639a3-8f8c-4f0c-b522-b620d087d126"
        },
        "id": "RiVCJd2HMNIM"
      }
    },
    {
      "cell_type": "markdown",
      "source": [
        "Al ser arreglos que pueden tener 1 o más dimensiones, las funciones pueden involucrar todos los elementos, o los elementos por cada una de las dimensiones.<br>\n",
        "A continuación algunas de las funciones más utilizados en NumPy (siendo X un ``ndarray``):\n",
        "    - Suma: np.sum(X)\n",
        "    - Raíz cuadrada: np.sqrt(X)\n",
        "    - Promedio: np.mean(X)\n",
        "    - Varianza: np.var(X)\n",
        "    - Ordenamiento: np.sort(X)\n",
        "    - Maximo, Minimo: np.max(X), np.min(X)\n",
        "    - Indice de posición del valor Maximo: np.argmax(X)\n",
        "    - Indice de posición del valor Minimo: np.argmin(X)"
      ],
      "metadata": {
        "application/vnd.databricks.v1+cell": {
          "title": "",
          "showTitle": false,
          "inputWidgets": {},
          "nuid": "69e76cf0-cbe9-411e-936b-f2a1eb260ead"
        },
        "id": "dgYpccezMNIM"
      }
    },
    {
      "cell_type": "code",
      "source": [
        "#La función np.random.randint genera números aleatorios enteros: np.random.randint(inicio, fin-1, (filas, columnas))\n",
        "np.random.seed(0)\n",
        "A = np.random.randint(1,5,(3,5)) \n",
        "print(A)"
      ],
      "metadata": {
        "application/vnd.databricks.v1+cell": {
          "title": "",
          "showTitle": false,
          "inputWidgets": {},
          "nuid": "07f8a891-1d85-46ed-a7b1-7f4049c00ca4"
        },
        "colab": {
          "base_uri": "https://localhost:8080/"
        },
        "id": "LL_KmP2BMNIM",
        "outputId": "3ba11803-a43a-4905-d6ec-686cee1d62af"
      },
      "outputs": [
        {
          "output_type": "stream",
          "name": "stdout",
          "text": [
            "[[1 4 2 1 4]\n",
            " [4 4 4 2 4]\n",
            " [2 3 1 4 3]]\n"
          ]
        }
      ],
      "execution_count": null
    },
    {
      "cell_type": "code",
      "source": [
        "np.random.randint(1,5)"
      ],
      "metadata": {
        "colab": {
          "base_uri": "https://localhost:8080/"
        },
        "id": "Fz-Cp-ySzOwQ",
        "outputId": "a72535a6-aee3-41b7-cb70-c3980e970a2d"
      },
      "execution_count": null,
      "outputs": [
        {
          "output_type": "execute_result",
          "data": {
            "text/plain": [
              "1"
            ]
          },
          "metadata": {},
          "execution_count": 77
        }
      ]
    },
    {
      "cell_type": "code",
      "source": [
        "#SUMA TOTAL\n",
        "print(np.sum(A))"
      ],
      "metadata": {
        "application/vnd.databricks.v1+cell": {
          "title": "",
          "showTitle": false,
          "inputWidgets": {},
          "nuid": "98bb128a-a425-4bf4-9969-71f7be5b6e1a"
        },
        "colab": {
          "base_uri": "https://localhost:8080/"
        },
        "id": "5V6BY6CoMNIM",
        "outputId": "19ae37db-d560-4e54-8b20-41229b0d0121"
      },
      "outputs": [
        {
          "output_type": "stream",
          "name": "stdout",
          "text": [
            "43\n"
          ]
        }
      ],
      "execution_count": null
    },
    {
      "cell_type": "code",
      "source": [
        "#SUMA POR COLUMNAS\n",
        "print(np.sum(A, axis = 0))"
      ],
      "metadata": {
        "application/vnd.databricks.v1+cell": {
          "title": "",
          "showTitle": false,
          "inputWidgets": {},
          "nuid": "1355bedb-f107-4ea9-a899-85eed4480865"
        },
        "colab": {
          "base_uri": "https://localhost:8080/"
        },
        "id": "K0cRWjAHMNIN",
        "outputId": "4ba441a2-462a-453f-e04d-cd980056e3d6"
      },
      "outputs": [
        {
          "output_type": "stream",
          "name": "stdout",
          "text": [
            "[ 7 11  7  7 11]\n"
          ]
        }
      ],
      "execution_count": null
    },
    {
      "cell_type": "code",
      "source": [
        "#SUMA POR FILAS\n",
        "print(np.sum(A, axis = 1))"
      ],
      "metadata": {
        "application/vnd.databricks.v1+cell": {
          "title": "",
          "showTitle": false,
          "inputWidgets": {},
          "nuid": "bbb6f34f-3def-4aef-a186-8acff0fb87e2"
        },
        "colab": {
          "base_uri": "https://localhost:8080/"
        },
        "id": "5PcdjNt7MNIN",
        "outputId": "6f728148-fb16-4d39-f995-465c942d3979"
      },
      "outputs": [
        {
          "output_type": "stream",
          "name": "stdout",
          "text": [
            "[12 18 13]\n"
          ]
        }
      ],
      "execution_count": null
    },
    {
      "cell_type": "markdown",
      "source": [
        "#### 1.6 Broadcasting\n",
        "\n",
        "Permite realizar operaciones aritméticas entre ndarrays de distintos tamaños\n",
        "\n",
        "![](https://www.astroml.org/_images/fig_broadcast_visual_1.png)"
      ],
      "metadata": {
        "application/vnd.databricks.v1+cell": {
          "title": "",
          "showTitle": false,
          "inputWidgets": {},
          "nuid": "9bd3c60d-1cce-49f9-9664-777ba0b32c80"
        },
        "id": "hu6TqvNPMNIN"
      }
    },
    {
      "cell_type": "code",
      "source": [
        "# Operación de un ndarray con un escalar\n",
        "np.arange(3) + 5"
      ],
      "metadata": {
        "application/vnd.databricks.v1+cell": {
          "title": "",
          "showTitle": false,
          "inputWidgets": {},
          "nuid": "34811c8a-1fdd-4bba-9e5d-c7a2dde76ccd"
        },
        "colab": {
          "base_uri": "https://localhost:8080/"
        },
        "id": "ohNmLCAmMNIN",
        "outputId": "5c03399a-609d-406a-b5f3-68689d3291f9"
      },
      "outputs": [
        {
          "output_type": "execute_result",
          "data": {
            "text/plain": [
              "array([5, 6, 7])"
            ]
          },
          "metadata": {},
          "execution_count": 81
        }
      ],
      "execution_count": null
    },
    {
      "cell_type": "code",
      "source": [],
      "metadata": {
        "id": "WXajH_R4yQNr"
      },
      "execution_count": null,
      "outputs": []
    },
    {
      "cell_type": "markdown",
      "source": [
        "## 2. Series y Dataframes con Pandas\n",
        "\n",
        "Nos gustaría una estructura de datos que pueda almacenar fácilmente variables de diferentes tipos, que almacene nombres de columnas, y en la que podamos hacer referencia por nombre de columna así como por posición indexada. Y sería bueno si esta estructura de datos viniera con funciones integradas que podamos usar para manipularla.\n",
        "\n",
        "`Pandas` es una librería que hace todo esto! La librería está construida sobre `numpy`.\n",
        "\n",
        "Existen dos objetos `pandas` básicos, *series* y *dataframes*, que se pueden considerar como versiones mejoradas de arreglos 1D y 2D `numpy`, respectivamente. \n",
        "\n",
        "Para referencia `pandas` [cheatsheet](https://pandas.pydata.org/Pandas_Cheat_Sheet.pdf) y `pandas` [documentación](https://pandas.pydata.org/pandas-docs/stable/)."
      ],
      "metadata": {
        "collapsed": true,
        "application/vnd.databricks.v1+cell": {
          "title": "",
          "showTitle": false,
          "inputWidgets": {},
          "nuid": "2887b111-9a6a-42d5-8a99-6551b66f862d"
        },
        "id": "z2Ewo1LWMNIN"
      }
    },
    {
      "cell_type": "markdown",
      "source": [
        "**Importancia de Pandas**\n",
        "*    Lectura y escritura de datos \n",
        "*    Modificación de índices y etiquetas de las columnas\n",
        "*    Trabajo con fechas\n",
        "*    Ordenamiento, agrupación y tratamiento de valores faltantes (curación de datos)\n",
        "    \n",
        "Para importar este módulo utilizamos el comando: ```import pandas as pd```"
      ],
      "metadata": {
        "application/vnd.databricks.v1+cell": {
          "title": "",
          "showTitle": false,
          "inputWidgets": {},
          "nuid": "0f25b9f2-7098-4bd7-8c28-339a9658099b"
        },
        "id": "ePnx2w9jMNIN"
      }
    },
    {
      "cell_type": "markdown",
      "source": [
        "### 2.1 Pandas - Series"
      ],
      "metadata": {
        "application/vnd.databricks.v1+cell": {
          "title": "",
          "showTitle": false,
          "inputWidgets": {},
          "nuid": "7956f94d-807b-47af-b521-70316dcd2caa"
        },
        "id": "5uiey9d8MNIO"
      }
    },
    {
      "cell_type": "markdown",
      "source": [
        "Una Serie es una colección de observaciones de una variable individual. <br>\n",
        "\n",
        "Se puede pensar en una Serie como los datos en un arreglo de 1D.\n",
        "\n",
        "En la serie ``items``, cada uno de los índices del 0 al 4 son los identificadores de 5 productos diferentes y los valores float representan el precio unitario correspondiente a cada uno."
      ],
      "metadata": {
        "application/vnd.databricks.v1+cell": {
          "title": "",
          "showTitle": false,
          "inputWidgets": {},
          "nuid": "fcb28bbd-4c9f-428d-a45c-bc7f2d945db1"
        },
        "id": "I5b3QtIWMNIO"
      }
    },
    {
      "cell_type": "code",
      "source": [
        "# Usamos el constructor pd.Series\n",
        "items = pd.Series(data = np.array([2, 3, 'ocho', 6, 7]), name = 'precios', index = ['veg1','cer1','frut1','frut2','frut3'])\n",
        "print(items)"
      ],
      "metadata": {
        "application/vnd.databricks.v1+cell": {
          "title": "",
          "showTitle": false,
          "inputWidgets": {},
          "nuid": "5fa90f82-db3e-41ee-b992-b97765670767"
        },
        "colab": {
          "base_uri": "https://localhost:8080/"
        },
        "id": "Tm96Xe62MNIO",
        "outputId": "fbeb1002-d6bf-456d-ea80-b06d0902124c"
      },
      "outputs": [
        {
          "output_type": "stream",
          "name": "stdout",
          "text": [
            "veg1        2\n",
            "cer1        3\n",
            "frut1    ocho\n",
            "frut2       6\n",
            "frut3       7\n",
            "Name: precios, dtype: object\n"
          ]
        }
      ],
      "execution_count": null
    },
    {
      "cell_type": "markdown",
      "source": [
        "**Importante**: las Series están implementadas sobre arreglos NumPy. Esto les permite soportar operaciones válidas con estos arreglos. En el ejemplo tenemos el caso de la multiplicación de un arreglo de 1D por un escalar."
      ],
      "metadata": {
        "application/vnd.databricks.v1+cell": {
          "title": "",
          "showTitle": false,
          "inputWidgets": {},
          "nuid": "1dcdf253-d347-47d4-9d5d-6fbd6319d3bf"
        },
        "id": "q1auIPzCMNIO"
      }
    },
    {
      "cell_type": "markdown",
      "source": [
        "Método útiles de las Series de Pandas"
      ],
      "metadata": {
        "application/vnd.databricks.v1+cell": {
          "title": "",
          "showTitle": false,
          "inputWidgets": {},
          "nuid": "a4713ea8-f152-4c19-bfb5-72a20f3080f0"
        },
        "id": "53VxQCaqMNIO"
      }
    },
    {
      "cell_type": "code",
      "source": [
        "print('Obtener los índices:', items.index)\n",
        "print('Obtener los valores:', items.values)\n",
        "print('Obtener tipo de dato:', items.dtypes)"
      ],
      "metadata": {
        "application/vnd.databricks.v1+cell": {
          "title": "",
          "showTitle": false,
          "inputWidgets": {},
          "nuid": "438e713d-9210-46ee-b4bb-c873e108bd5b"
        },
        "colab": {
          "base_uri": "https://localhost:8080/"
        },
        "id": "m1bkFfWoMNIO",
        "outputId": "63800984-d169-425e-dcf9-633568effbf6"
      },
      "outputs": [
        {
          "output_type": "stream",
          "name": "stdout",
          "text": [
            "Obtener los índices: Index(['veg1', 'cer1', 'frut1', 'frut2', 'frut3'], dtype='object')\n",
            "Obtener los valores: ['2' '3' 'ocho' '6' '7']\n",
            "Obtener tipo de dato: object\n"
          ]
        }
      ],
      "execution_count": null
    },
    {
      "cell_type": "markdown",
      "source": [
        "### 2.2 Pandas - DataFrames: creación, propiedades y funciones"
      ],
      "metadata": {
        "application/vnd.databricks.v1+cell": {
          "title": "",
          "showTitle": false,
          "inputWidgets": {},
          "nuid": "55f86209-ef0f-4fd1-9cb2-650f0a0a2be6"
        },
        "id": "WpuSJtmeMNIO"
      }
    },
    {
      "cell_type": "markdown",
      "source": [
        "Un DataFrame de Pandas es un objeto que permite guardar datos en varias columnas que estan mutuamente relacionadas. \n",
        "\n",
        "Podemos pensar un DataFrame como una hoja de datos de Excel altamente optimizada. Los DataFrames estan compuestos por filas y columnas.\n",
        "\n",
        "Pandas posee múltiples funciones para cargar varios tipos de archivos: pd.read_csv, pd.read_excel, pd.read_json, pd.read_parquet, etc.\n",
        "\n",
        "\n",
        "### Lectura de datos en un DataFrame\n",
        "\n",
        "A continuación, iniciaremos leyendo los datos del archivo en formato csv en un DataFrame. <br>\n",
        "\n",
        "Este archivo contiene una muestra de datos de 'Penn World Table' con diferentes indicadores socioeconómicos de los países en diferentes años. \n",
        "\n",
        "<a href='https://storage.googleapis.com/datasets-academy/Track%20Data%20Science/01_Intro_Python/PWT91.csv'>\n",
        "  Link para descargar el dataset PWT</a>"
      ],
      "metadata": {
        "application/vnd.databricks.v1+cell": {
          "title": "",
          "showTitle": false,
          "inputWidgets": {},
          "nuid": "07533dae-3aad-4f7c-80d0-d2d600fbc410"
        },
        "id": "m29wTduqMNIO"
      }
    },
    {
      "cell_type": "markdown",
      "source": [
        "**Diccionario de datos:**\n",
        "\n",
        "**countrycode:** Código estándar ISO 3166-1 alfa-3, proporciona códigos para los nombres de países por medio de tres letras<br>\n",
        "**country:** Nombre del país <br>\n",
        "**year:** Año <br>\n",
        "**rgdpo:** Producto Interno Bruto Real calculado mediante la PPA (pariedad de poder adquisitivo) con año base 2011 (en millones dólares) <br>\n",
        "**pop:** Población (millones de personas) <br>\n",
        "**emp:** Personas de 15 años y más que durante la semana trabajaron incluso solo durante una hora, o no estaban en el trabajo pero tenían un trabajo o negocio del que estaban temporalmente ausentes (millones de personas) <br>\n",
        "**avh:** Promedio de horas anuales trabajadas por personas que cumplan la condición de la variable emp <br>\n",
        "**hc:** Índice de capital humano por persona, que se relaciona con los años promedio de escolaridad y el retorno a la educación"
      ],
      "metadata": {
        "application/vnd.databricks.v1+cell": {
          "title": "",
          "showTitle": false,
          "inputWidgets": {},
          "nuid": "c632a04b-0165-45cc-a2d0-ce85a0ee8a05"
        },
        "id": "svdrM_Y-MNIO"
      }
    },
    {
      "cell_type": "code",
      "source": [
        "# Nomeclatura estándar para el nombre de un Dataframe se abrevia con df\n",
        "df = pd.read_csv(filepath_or_buffer = 'https://storage.googleapis.com/datasets-academy/Track%20Data%20Science/01_Intro_Python/PWT91.csv', \n",
        "                 sep = ',', \n",
        "                 decimal = '.',\n",
        "                 )\n",
        "\n",
        "# El método head permite observar las primeras 5 filas del dataframe\n",
        "df.head(200)"
      ],
      "metadata": {
        "application/vnd.databricks.v1+cell": {
          "title": "",
          "showTitle": false,
          "inputWidgets": {},
          "nuid": "e893cc44-7161-488b-9cbe-ce97c6a6a720"
        },
        "colab": {
          "base_uri": "https://localhost:8080/",
          "height": 423
        },
        "id": "3U4V6qGMMNIO",
        "outputId": "4a4667c8-a262-463a-ff98-c7337cf26481"
      },
      "outputs": [
        {
          "output_type": "execute_result",
          "data": {
            "text/plain": [
              "    countrycode   country  year       rgdpo       pop  emp  avh  hc\n",
              "0           ABW     Aruba  1950         NaN       NaN  NaN  NaN NaN\n",
              "1           ABW     Aruba  1951         NaN       NaN  NaN  NaN NaN\n",
              "2           ABW     Aruba  1952         NaN       NaN  NaN  NaN NaN\n",
              "3           ABW     Aruba  1953         NaN       NaN  NaN  NaN NaN\n",
              "4           ABW     Aruba  1954         NaN       NaN  NaN  NaN NaN\n",
              "..          ...       ...   ...         ...       ...  ...  ...  ..\n",
              "195         AIA  Anguilla  2009  299.144043  0.013565  NaN  NaN NaN\n",
              "196         AIA  Anguilla  2010  290.499145  0.013769  NaN  NaN NaN\n",
              "197         AIA  Anguilla  2011  294.841003  0.013951  NaN  NaN NaN\n",
              "198         AIA  Anguilla  2012  277.228668  0.014129  NaN  NaN NaN\n",
              "199         AIA  Anguilla  2013  250.532318  0.014299  NaN  NaN NaN\n",
              "\n",
              "[200 rows x 8 columns]"
            ],
            "text/html": [
              "\n",
              "  <div id=\"df-db0b35ff-649a-486e-80f6-9e99789a4dee\">\n",
              "    <div class=\"colab-df-container\">\n",
              "      <div>\n",
              "<style scoped>\n",
              "    .dataframe tbody tr th:only-of-type {\n",
              "        vertical-align: middle;\n",
              "    }\n",
              "\n",
              "    .dataframe tbody tr th {\n",
              "        vertical-align: top;\n",
              "    }\n",
              "\n",
              "    .dataframe thead th {\n",
              "        text-align: right;\n",
              "    }\n",
              "</style>\n",
              "<table border=\"1\" class=\"dataframe\">\n",
              "  <thead>\n",
              "    <tr style=\"text-align: right;\">\n",
              "      <th></th>\n",
              "      <th>countrycode</th>\n",
              "      <th>country</th>\n",
              "      <th>year</th>\n",
              "      <th>rgdpo</th>\n",
              "      <th>pop</th>\n",
              "      <th>emp</th>\n",
              "      <th>avh</th>\n",
              "      <th>hc</th>\n",
              "    </tr>\n",
              "  </thead>\n",
              "  <tbody>\n",
              "    <tr>\n",
              "      <th>0</th>\n",
              "      <td>ABW</td>\n",
              "      <td>Aruba</td>\n",
              "      <td>1950</td>\n",
              "      <td>NaN</td>\n",
              "      <td>NaN</td>\n",
              "      <td>NaN</td>\n",
              "      <td>NaN</td>\n",
              "      <td>NaN</td>\n",
              "    </tr>\n",
              "    <tr>\n",
              "      <th>1</th>\n",
              "      <td>ABW</td>\n",
              "      <td>Aruba</td>\n",
              "      <td>1951</td>\n",
              "      <td>NaN</td>\n",
              "      <td>NaN</td>\n",
              "      <td>NaN</td>\n",
              "      <td>NaN</td>\n",
              "      <td>NaN</td>\n",
              "    </tr>\n",
              "    <tr>\n",
              "      <th>2</th>\n",
              "      <td>ABW</td>\n",
              "      <td>Aruba</td>\n",
              "      <td>1952</td>\n",
              "      <td>NaN</td>\n",
              "      <td>NaN</td>\n",
              "      <td>NaN</td>\n",
              "      <td>NaN</td>\n",
              "      <td>NaN</td>\n",
              "    </tr>\n",
              "    <tr>\n",
              "      <th>3</th>\n",
              "      <td>ABW</td>\n",
              "      <td>Aruba</td>\n",
              "      <td>1953</td>\n",
              "      <td>NaN</td>\n",
              "      <td>NaN</td>\n",
              "      <td>NaN</td>\n",
              "      <td>NaN</td>\n",
              "      <td>NaN</td>\n",
              "    </tr>\n",
              "    <tr>\n",
              "      <th>4</th>\n",
              "      <td>ABW</td>\n",
              "      <td>Aruba</td>\n",
              "      <td>1954</td>\n",
              "      <td>NaN</td>\n",
              "      <td>NaN</td>\n",
              "      <td>NaN</td>\n",
              "      <td>NaN</td>\n",
              "      <td>NaN</td>\n",
              "    </tr>\n",
              "    <tr>\n",
              "      <th>...</th>\n",
              "      <td>...</td>\n",
              "      <td>...</td>\n",
              "      <td>...</td>\n",
              "      <td>...</td>\n",
              "      <td>...</td>\n",
              "      <td>...</td>\n",
              "      <td>...</td>\n",
              "      <td>...</td>\n",
              "    </tr>\n",
              "    <tr>\n",
              "      <th>195</th>\n",
              "      <td>AIA</td>\n",
              "      <td>Anguilla</td>\n",
              "      <td>2009</td>\n",
              "      <td>299.144043</td>\n",
              "      <td>0.013565</td>\n",
              "      <td>NaN</td>\n",
              "      <td>NaN</td>\n",
              "      <td>NaN</td>\n",
              "    </tr>\n",
              "    <tr>\n",
              "      <th>196</th>\n",
              "      <td>AIA</td>\n",
              "      <td>Anguilla</td>\n",
              "      <td>2010</td>\n",
              "      <td>290.499145</td>\n",
              "      <td>0.013769</td>\n",
              "      <td>NaN</td>\n",
              "      <td>NaN</td>\n",
              "      <td>NaN</td>\n",
              "    </tr>\n",
              "    <tr>\n",
              "      <th>197</th>\n",
              "      <td>AIA</td>\n",
              "      <td>Anguilla</td>\n",
              "      <td>2011</td>\n",
              "      <td>294.841003</td>\n",
              "      <td>0.013951</td>\n",
              "      <td>NaN</td>\n",
              "      <td>NaN</td>\n",
              "      <td>NaN</td>\n",
              "    </tr>\n",
              "    <tr>\n",
              "      <th>198</th>\n",
              "      <td>AIA</td>\n",
              "      <td>Anguilla</td>\n",
              "      <td>2012</td>\n",
              "      <td>277.228668</td>\n",
              "      <td>0.014129</td>\n",
              "      <td>NaN</td>\n",
              "      <td>NaN</td>\n",
              "      <td>NaN</td>\n",
              "    </tr>\n",
              "    <tr>\n",
              "      <th>199</th>\n",
              "      <td>AIA</td>\n",
              "      <td>Anguilla</td>\n",
              "      <td>2013</td>\n",
              "      <td>250.532318</td>\n",
              "      <td>0.014299</td>\n",
              "      <td>NaN</td>\n",
              "      <td>NaN</td>\n",
              "      <td>NaN</td>\n",
              "    </tr>\n",
              "  </tbody>\n",
              "</table>\n",
              "<p>200 rows × 8 columns</p>\n",
              "</div>\n",
              "      <button class=\"colab-df-convert\" onclick=\"convertToInteractive('df-db0b35ff-649a-486e-80f6-9e99789a4dee')\"\n",
              "              title=\"Convert this dataframe to an interactive table.\"\n",
              "              style=\"display:none;\">\n",
              "        \n",
              "  <svg xmlns=\"http://www.w3.org/2000/svg\" height=\"24px\"viewBox=\"0 0 24 24\"\n",
              "       width=\"24px\">\n",
              "    <path d=\"M0 0h24v24H0V0z\" fill=\"none\"/>\n",
              "    <path d=\"M18.56 5.44l.94 2.06.94-2.06 2.06-.94-2.06-.94-.94-2.06-.94 2.06-2.06.94zm-11 1L8.5 8.5l.94-2.06 2.06-.94-2.06-.94L8.5 2.5l-.94 2.06-2.06.94zm10 10l.94 2.06.94-2.06 2.06-.94-2.06-.94-.94-2.06-.94 2.06-2.06.94z\"/><path d=\"M17.41 7.96l-1.37-1.37c-.4-.4-.92-.59-1.43-.59-.52 0-1.04.2-1.43.59L10.3 9.45l-7.72 7.72c-.78.78-.78 2.05 0 2.83L4 21.41c.39.39.9.59 1.41.59.51 0 1.02-.2 1.41-.59l7.78-7.78 2.81-2.81c.8-.78.8-2.07 0-2.86zM5.41 20L4 18.59l7.72-7.72 1.47 1.35L5.41 20z\"/>\n",
              "  </svg>\n",
              "      </button>\n",
              "      \n",
              "  <style>\n",
              "    .colab-df-container {\n",
              "      display:flex;\n",
              "      flex-wrap:wrap;\n",
              "      gap: 12px;\n",
              "    }\n",
              "\n",
              "    .colab-df-convert {\n",
              "      background-color: #E8F0FE;\n",
              "      border: none;\n",
              "      border-radius: 50%;\n",
              "      cursor: pointer;\n",
              "      display: none;\n",
              "      fill: #1967D2;\n",
              "      height: 32px;\n",
              "      padding: 0 0 0 0;\n",
              "      width: 32px;\n",
              "    }\n",
              "\n",
              "    .colab-df-convert:hover {\n",
              "      background-color: #E2EBFA;\n",
              "      box-shadow: 0px 1px 2px rgba(60, 64, 67, 0.3), 0px 1px 3px 1px rgba(60, 64, 67, 0.15);\n",
              "      fill: #174EA6;\n",
              "    }\n",
              "\n",
              "    [theme=dark] .colab-df-convert {\n",
              "      background-color: #3B4455;\n",
              "      fill: #D2E3FC;\n",
              "    }\n",
              "\n",
              "    [theme=dark] .colab-df-convert:hover {\n",
              "      background-color: #434B5C;\n",
              "      box-shadow: 0px 1px 3px 1px rgba(0, 0, 0, 0.15);\n",
              "      filter: drop-shadow(0px 1px 2px rgba(0, 0, 0, 0.3));\n",
              "      fill: #FFFFFF;\n",
              "    }\n",
              "  </style>\n",
              "\n",
              "      <script>\n",
              "        const buttonEl =\n",
              "          document.querySelector('#df-db0b35ff-649a-486e-80f6-9e99789a4dee button.colab-df-convert');\n",
              "        buttonEl.style.display =\n",
              "          google.colab.kernel.accessAllowed ? 'block' : 'none';\n",
              "\n",
              "        async function convertToInteractive(key) {\n",
              "          const element = document.querySelector('#df-db0b35ff-649a-486e-80f6-9e99789a4dee');\n",
              "          const dataTable =\n",
              "            await google.colab.kernel.invokeFunction('convertToInteractive',\n",
              "                                                     [key], {});\n",
              "          if (!dataTable) return;\n",
              "\n",
              "          const docLinkHtml = 'Like what you see? Visit the ' +\n",
              "            '<a target=\"_blank\" href=https://colab.research.google.com/notebooks/data_table.ipynb>data table notebook</a>'\n",
              "            + ' to learn more about interactive tables.';\n",
              "          element.innerHTML = '';\n",
              "          dataTable['output_type'] = 'display_data';\n",
              "          await google.colab.output.renderOutput(dataTable, element);\n",
              "          const docLink = document.createElement('div');\n",
              "          docLink.innerHTML = docLinkHtml;\n",
              "          element.appendChild(docLink);\n",
              "        }\n",
              "      </script>\n",
              "    </div>\n",
              "  </div>\n",
              "  "
            ]
          },
          "metadata": {},
          "execution_count": 84
        }
      ],
      "execution_count": null
    },
    {
      "cell_type": "markdown",
      "source": [
        "**Fuente**: Feenstra, Robert C., Robert Inklaar and Marcel P. Timmer (2015), \"The Next Generation of the Penn World Table\" American Economic Review, 105(10), 3150-3182, available for download at www.ggdc.net/pwt"
      ],
      "metadata": {
        "application/vnd.databricks.v1+cell": {
          "title": "",
          "showTitle": false,
          "inputWidgets": {},
          "nuid": "6f21770a-5b59-4153-b7e6-ed421c2ea33c"
        },
        "id": "yiTplqKOMNIP"
      }
    },
    {
      "cell_type": "markdown",
      "source": [
        "Lo que tenemos ahora es una hoja de cálculo con filas indexadas y columnas nombradas, llamada `df`. **Importante**: Las columnas son *series de pandas*."
      ],
      "metadata": {
        "application/vnd.databricks.v1+cell": {
          "title": "",
          "showTitle": false,
          "inputWidgets": {},
          "nuid": "bc65aa5e-17f7-4e35-b2ce-281e2e5f97af"
        },
        "id": "TkezfHI_MNIP"
      }
    },
    {
      "cell_type": "code",
      "source": [
        "# Comprobamos las dimensiones del Dataframe (filas, columnas)\n",
        "df.shape"
      ],
      "metadata": {
        "application/vnd.databricks.v1+cell": {
          "title": "",
          "showTitle": false,
          "inputWidgets": {},
          "nuid": "8e75cb55-d9f5-4827-8397-570f06457355"
        },
        "colab": {
          "base_uri": "https://localhost:8080/"
        },
        "id": "TNIceafFMNIP",
        "outputId": "25c88e97-2554-4076-f61b-c6b2a5e746ca"
      },
      "outputs": [
        {
          "output_type": "execute_result",
          "data": {
            "text/plain": [
              "(12376, 8)"
            ]
          },
          "metadata": {},
          "execution_count": 85
        }
      ],
      "execution_count": null
    },
    {
      "cell_type": "code",
      "source": [
        "print(type(df))"
      ],
      "metadata": {
        "application/vnd.databricks.v1+cell": {
          "title": "",
          "showTitle": false,
          "inputWidgets": {},
          "nuid": "df65f53a-9c27-47c3-a89c-9f3193d24ce0"
        },
        "colab": {
          "base_uri": "https://localhost:8080/"
        },
        "id": "BhiwhtDYMNIP",
        "outputId": "b06aa7bf-32de-4a92-ec9d-ebf6e43df668"
      },
      "outputs": [
        {
          "output_type": "stream",
          "name": "stdout",
          "text": [
            "<class 'pandas.core.frame.DataFrame'>\n"
          ]
        }
      ],
      "execution_count": null
    },
    {
      "cell_type": "markdown",
      "source": [
        "La función `pd.read_csv` infiere el tipo de datos por defecto"
      ],
      "metadata": {
        "application/vnd.databricks.v1+cell": {
          "title": "",
          "showTitle": false,
          "inputWidgets": {},
          "nuid": "7c6ef21d-6150-4ce8-b8ce-e3eeab2f860f"
        },
        "id": "_OKByOvCMNIP"
      }
    },
    {
      "cell_type": "code",
      "source": [
        "# Comprobamos el tipo de las variables en el dataframe\n",
        "print(df.dtypes)"
      ],
      "metadata": {
        "application/vnd.databricks.v1+cell": {
          "title": "",
          "showTitle": false,
          "inputWidgets": {},
          "nuid": "089a979e-7651-4328-83b4-e8445e28edb7"
        },
        "colab": {
          "base_uri": "https://localhost:8080/"
        },
        "id": "ulbrdhgkMNIP",
        "outputId": "cc0c32f8-cda0-4280-9f01-622322110421"
      },
      "outputs": [
        {
          "output_type": "stream",
          "name": "stdout",
          "text": [
            "countrycode     object\n",
            "country         object\n",
            "year             int64\n",
            "rgdpo          float64\n",
            "pop            float64\n",
            "emp            float64\n",
            "avh            float64\n",
            "hc             float64\n",
            "dtype: object\n"
          ]
        }
      ],
      "execution_count": null
    },
    {
      "cell_type": "code",
      "source": [
        "df.keys()"
      ],
      "metadata": {
        "colab": {
          "base_uri": "https://localhost:8080/"
        },
        "id": "IHb9YU6eq9lD",
        "outputId": "9f255dce-60b3-4533-c6be-b442cf46fc0e"
      },
      "execution_count": null,
      "outputs": [
        {
          "output_type": "execute_result",
          "data": {
            "text/plain": [
              "Index(['countrycode', 'country', 'year', 'rgdpo', 'pop', 'emp', 'avh', 'hc'], dtype='object')"
            ]
          },
          "metadata": {},
          "execution_count": 88
        }
      ]
    },
    {
      "cell_type": "markdown",
      "source": [
        "Podemos cambiar el tipo de las columnas:\n",
        "- Convertir la columna year para que sea tipo datetime, para una mayor información sobre los tipos de [formatos fecha](https://strftime.org/)\n",
        "- Convertir la columna pop (población)"
      ],
      "metadata": {
        "application/vnd.databricks.v1+cell": {
          "title": "",
          "showTitle": false,
          "inputWidgets": {},
          "nuid": "361364af-72e6-402a-bf8b-73e14269062c"
        },
        "id": "7E4EqlYNMNIP"
      }
    },
    {
      "cell_type": "code",
      "source": [
        "df['year']# para una sola"
      ],
      "metadata": {
        "colab": {
          "base_uri": "https://localhost:8080/"
        },
        "id": "yTjix6ToAdaD",
        "outputId": "ad0cea48-62dd-416b-d901-f186dfd0f3f4"
      },
      "execution_count": null,
      "outputs": [
        {
          "output_type": "execute_result",
          "data": {
            "text/plain": [
              "0        1950\n",
              "1        1951\n",
              "2        1952\n",
              "3        1953\n",
              "4        1954\n",
              "         ... \n",
              "12371    2013\n",
              "12372    2014\n",
              "12373    2015\n",
              "12374    2016\n",
              "12375    2017\n",
              "Name: year, Length: 12376, dtype: int64"
            ]
          },
          "metadata": {},
          "execution_count": 89
        }
      ]
    },
    {
      "cell_type": "code",
      "source": [
        "list_cl = ['year','rgdpo','countrycode','pop','year','hc']\n",
        "df1 = df[list_cl]\n",
        "df1"
      ],
      "metadata": {
        "application/vnd.databricks.v1+cell": {
          "title": "",
          "showTitle": false,
          "inputWidgets": {},
          "nuid": "9c5e865b-ab12-4f23-bf14-1333c42b1ffd"
        },
        "colab": {
          "base_uri": "https://localhost:8080/",
          "height": 423
        },
        "id": "pCA71qPpMNIP",
        "outputId": "7b05b615-10fa-4ac6-c58d-bc7acd81ddd6"
      },
      "outputs": [
        {
          "output_type": "execute_result",
          "data": {
            "text/plain": [
              "       year        rgdpo countrycode        pop  year        hc\n",
              "0      1950          NaN         ABW        NaN  1950       NaN\n",
              "1      1951          NaN         ABW        NaN  1951       NaN\n",
              "2      1952          NaN         ABW        NaN  1952       NaN\n",
              "3      1953          NaN         ABW        NaN  1953       NaN\n",
              "4      1954          NaN         ABW        NaN  1954       NaN\n",
              "...     ...          ...         ...        ...   ...       ...\n",
              "12371  2013  28329.81055         ZWE  15.054506  2013  2.504635\n",
              "12372  2014  29355.75977         ZWE  15.411675  2014  2.550258\n",
              "12373  2015  29150.75000         ZWE  15.777451  2015  2.584653\n",
              "12374  2016  29420.44922         ZWE  16.150362  2016  2.616257\n",
              "12375  2017  30940.81641         ZWE  16.529903  2017  2.648248\n",
              "\n",
              "[12376 rows x 6 columns]"
            ],
            "text/html": [
              "\n",
              "  <div id=\"df-95990e1d-e48c-4fe2-80e6-5529eded9ca4\">\n",
              "    <div class=\"colab-df-container\">\n",
              "      <div>\n",
              "<style scoped>\n",
              "    .dataframe tbody tr th:only-of-type {\n",
              "        vertical-align: middle;\n",
              "    }\n",
              "\n",
              "    .dataframe tbody tr th {\n",
              "        vertical-align: top;\n",
              "    }\n",
              "\n",
              "    .dataframe thead th {\n",
              "        text-align: right;\n",
              "    }\n",
              "</style>\n",
              "<table border=\"1\" class=\"dataframe\">\n",
              "  <thead>\n",
              "    <tr style=\"text-align: right;\">\n",
              "      <th></th>\n",
              "      <th>year</th>\n",
              "      <th>rgdpo</th>\n",
              "      <th>countrycode</th>\n",
              "      <th>pop</th>\n",
              "      <th>year</th>\n",
              "      <th>hc</th>\n",
              "    </tr>\n",
              "  </thead>\n",
              "  <tbody>\n",
              "    <tr>\n",
              "      <th>0</th>\n",
              "      <td>1950</td>\n",
              "      <td>NaN</td>\n",
              "      <td>ABW</td>\n",
              "      <td>NaN</td>\n",
              "      <td>1950</td>\n",
              "      <td>NaN</td>\n",
              "    </tr>\n",
              "    <tr>\n",
              "      <th>1</th>\n",
              "      <td>1951</td>\n",
              "      <td>NaN</td>\n",
              "      <td>ABW</td>\n",
              "      <td>NaN</td>\n",
              "      <td>1951</td>\n",
              "      <td>NaN</td>\n",
              "    </tr>\n",
              "    <tr>\n",
              "      <th>2</th>\n",
              "      <td>1952</td>\n",
              "      <td>NaN</td>\n",
              "      <td>ABW</td>\n",
              "      <td>NaN</td>\n",
              "      <td>1952</td>\n",
              "      <td>NaN</td>\n",
              "    </tr>\n",
              "    <tr>\n",
              "      <th>3</th>\n",
              "      <td>1953</td>\n",
              "      <td>NaN</td>\n",
              "      <td>ABW</td>\n",
              "      <td>NaN</td>\n",
              "      <td>1953</td>\n",
              "      <td>NaN</td>\n",
              "    </tr>\n",
              "    <tr>\n",
              "      <th>4</th>\n",
              "      <td>1954</td>\n",
              "      <td>NaN</td>\n",
              "      <td>ABW</td>\n",
              "      <td>NaN</td>\n",
              "      <td>1954</td>\n",
              "      <td>NaN</td>\n",
              "    </tr>\n",
              "    <tr>\n",
              "      <th>...</th>\n",
              "      <td>...</td>\n",
              "      <td>...</td>\n",
              "      <td>...</td>\n",
              "      <td>...</td>\n",
              "      <td>...</td>\n",
              "      <td>...</td>\n",
              "    </tr>\n",
              "    <tr>\n",
              "      <th>12371</th>\n",
              "      <td>2013</td>\n",
              "      <td>28329.81055</td>\n",
              "      <td>ZWE</td>\n",
              "      <td>15.054506</td>\n",
              "      <td>2013</td>\n",
              "      <td>2.504635</td>\n",
              "    </tr>\n",
              "    <tr>\n",
              "      <th>12372</th>\n",
              "      <td>2014</td>\n",
              "      <td>29355.75977</td>\n",
              "      <td>ZWE</td>\n",
              "      <td>15.411675</td>\n",
              "      <td>2014</td>\n",
              "      <td>2.550258</td>\n",
              "    </tr>\n",
              "    <tr>\n",
              "      <th>12373</th>\n",
              "      <td>2015</td>\n",
              "      <td>29150.75000</td>\n",
              "      <td>ZWE</td>\n",
              "      <td>15.777451</td>\n",
              "      <td>2015</td>\n",
              "      <td>2.584653</td>\n",
              "    </tr>\n",
              "    <tr>\n",
              "      <th>12374</th>\n",
              "      <td>2016</td>\n",
              "      <td>29420.44922</td>\n",
              "      <td>ZWE</td>\n",
              "      <td>16.150362</td>\n",
              "      <td>2016</td>\n",
              "      <td>2.616257</td>\n",
              "    </tr>\n",
              "    <tr>\n",
              "      <th>12375</th>\n",
              "      <td>2017</td>\n",
              "      <td>30940.81641</td>\n",
              "      <td>ZWE</td>\n",
              "      <td>16.529903</td>\n",
              "      <td>2017</td>\n",
              "      <td>2.648248</td>\n",
              "    </tr>\n",
              "  </tbody>\n",
              "</table>\n",
              "<p>12376 rows × 6 columns</p>\n",
              "</div>\n",
              "      <button class=\"colab-df-convert\" onclick=\"convertToInteractive('df-95990e1d-e48c-4fe2-80e6-5529eded9ca4')\"\n",
              "              title=\"Convert this dataframe to an interactive table.\"\n",
              "              style=\"display:none;\">\n",
              "        \n",
              "  <svg xmlns=\"http://www.w3.org/2000/svg\" height=\"24px\"viewBox=\"0 0 24 24\"\n",
              "       width=\"24px\">\n",
              "    <path d=\"M0 0h24v24H0V0z\" fill=\"none\"/>\n",
              "    <path d=\"M18.56 5.44l.94 2.06.94-2.06 2.06-.94-2.06-.94-.94-2.06-.94 2.06-2.06.94zm-11 1L8.5 8.5l.94-2.06 2.06-.94-2.06-.94L8.5 2.5l-.94 2.06-2.06.94zm10 10l.94 2.06.94-2.06 2.06-.94-2.06-.94-.94-2.06-.94 2.06-2.06.94z\"/><path d=\"M17.41 7.96l-1.37-1.37c-.4-.4-.92-.59-1.43-.59-.52 0-1.04.2-1.43.59L10.3 9.45l-7.72 7.72c-.78.78-.78 2.05 0 2.83L4 21.41c.39.39.9.59 1.41.59.51 0 1.02-.2 1.41-.59l7.78-7.78 2.81-2.81c.8-.78.8-2.07 0-2.86zM5.41 20L4 18.59l7.72-7.72 1.47 1.35L5.41 20z\"/>\n",
              "  </svg>\n",
              "      </button>\n",
              "      \n",
              "  <style>\n",
              "    .colab-df-container {\n",
              "      display:flex;\n",
              "      flex-wrap:wrap;\n",
              "      gap: 12px;\n",
              "    }\n",
              "\n",
              "    .colab-df-convert {\n",
              "      background-color: #E8F0FE;\n",
              "      border: none;\n",
              "      border-radius: 50%;\n",
              "      cursor: pointer;\n",
              "      display: none;\n",
              "      fill: #1967D2;\n",
              "      height: 32px;\n",
              "      padding: 0 0 0 0;\n",
              "      width: 32px;\n",
              "    }\n",
              "\n",
              "    .colab-df-convert:hover {\n",
              "      background-color: #E2EBFA;\n",
              "      box-shadow: 0px 1px 2px rgba(60, 64, 67, 0.3), 0px 1px 3px 1px rgba(60, 64, 67, 0.15);\n",
              "      fill: #174EA6;\n",
              "    }\n",
              "\n",
              "    [theme=dark] .colab-df-convert {\n",
              "      background-color: #3B4455;\n",
              "      fill: #D2E3FC;\n",
              "    }\n",
              "\n",
              "    [theme=dark] .colab-df-convert:hover {\n",
              "      background-color: #434B5C;\n",
              "      box-shadow: 0px 1px 3px 1px rgba(0, 0, 0, 0.15);\n",
              "      filter: drop-shadow(0px 1px 2px rgba(0, 0, 0, 0.3));\n",
              "      fill: #FFFFFF;\n",
              "    }\n",
              "  </style>\n",
              "\n",
              "      <script>\n",
              "        const buttonEl =\n",
              "          document.querySelector('#df-95990e1d-e48c-4fe2-80e6-5529eded9ca4 button.colab-df-convert');\n",
              "        buttonEl.style.display =\n",
              "          google.colab.kernel.accessAllowed ? 'block' : 'none';\n",
              "\n",
              "        async function convertToInteractive(key) {\n",
              "          const element = document.querySelector('#df-95990e1d-e48c-4fe2-80e6-5529eded9ca4');\n",
              "          const dataTable =\n",
              "            await google.colab.kernel.invokeFunction('convertToInteractive',\n",
              "                                                     [key], {});\n",
              "          if (!dataTable) return;\n",
              "\n",
              "          const docLinkHtml = 'Like what you see? Visit the ' +\n",
              "            '<a target=\"_blank\" href=https://colab.research.google.com/notebooks/data_table.ipynb>data table notebook</a>'\n",
              "            + ' to learn more about interactive tables.';\n",
              "          element.innerHTML = '';\n",
              "          dataTable['output_type'] = 'display_data';\n",
              "          await google.colab.output.renderOutput(dataTable, element);\n",
              "          const docLink = document.createElement('div');\n",
              "          docLink.innerHTML = docLinkHtml;\n",
              "          element.appendChild(docLink);\n",
              "        }\n",
              "      </script>\n",
              "    </div>\n",
              "  </div>\n",
              "  "
            ]
          },
          "metadata": {},
          "execution_count": 90
        }
      ],
      "execution_count": null
    },
    {
      "cell_type": "code",
      "source": [
        "df2 = df[['year','country','hc']]\n",
        "df2.dtypes"
      ],
      "metadata": {
        "colab": {
          "base_uri": "https://localhost:8080/"
        },
        "id": "kAqZIcJWsuRc",
        "outputId": "bec1380c-e8c0-4982-d3b4-130298cf145f"
      },
      "execution_count": null,
      "outputs": [
        {
          "output_type": "execute_result",
          "data": {
            "text/plain": [
              "year         int64\n",
              "country     object\n",
              "hc         float64\n",
              "dtype: object"
            ]
          },
          "metadata": {},
          "execution_count": 91
        }
      ]
    },
    {
      "cell_type": "code",
      "source": [
        "#2013-12-3 12:3:251 %Y-%m-%d %H:%M:%S\n",
        "#05 / agosto de 2022\n",
        "df['year'] = pd.to_datetime(df['year'], format = '%Y')\n",
        "df['pop']  = df['pop'].fillna(0).astype(int)\n",
        "df"
      ],
      "metadata": {
        "application/vnd.databricks.v1+cell": {
          "title": "",
          "showTitle": false,
          "inputWidgets": {},
          "nuid": "d126d61e-97d0-4d20-afeb-5e810a2b6fbc"
        },
        "colab": {
          "base_uri": "https://localhost:8080/",
          "height": 423
        },
        "id": "-MC8w2MdMNIP",
        "outputId": "d1ab7834-ffc9-417c-d092-d08a1c99e6d0"
      },
      "outputs": [
        {
          "output_type": "execute_result",
          "data": {
            "text/plain": [
              "      countrycode   country       year        rgdpo  pop       emp  avh  \\\n",
              "0             ABW     Aruba 1950-01-01          NaN    0       NaN  NaN   \n",
              "1             ABW     Aruba 1951-01-01          NaN    0       NaN  NaN   \n",
              "2             ABW     Aruba 1952-01-01          NaN    0       NaN  NaN   \n",
              "3             ABW     Aruba 1953-01-01          NaN    0       NaN  NaN   \n",
              "4             ABW     Aruba 1954-01-01          NaN    0       NaN  NaN   \n",
              "...           ...       ...        ...          ...  ...       ...  ...   \n",
              "12371         ZWE  Zimbabwe 2013-01-01  28329.81055   15  7.914061  NaN   \n",
              "12372         ZWE  Zimbabwe 2014-01-01  29355.75977   15  8.222112  NaN   \n",
              "12373         ZWE  Zimbabwe 2015-01-01  29150.75000   15  8.530669  NaN   \n",
              "12374         ZWE  Zimbabwe 2016-01-01  29420.44922   16  8.839398  NaN   \n",
              "12375         ZWE  Zimbabwe 2017-01-01  30940.81641   16  9.181251  NaN   \n",
              "\n",
              "             hc  \n",
              "0           NaN  \n",
              "1           NaN  \n",
              "2           NaN  \n",
              "3           NaN  \n",
              "4           NaN  \n",
              "...         ...  \n",
              "12371  2.504635  \n",
              "12372  2.550258  \n",
              "12373  2.584653  \n",
              "12374  2.616257  \n",
              "12375  2.648248  \n",
              "\n",
              "[12376 rows x 8 columns]"
            ],
            "text/html": [
              "\n",
              "  <div id=\"df-c92c6a3e-7e97-489e-b4f8-3c258d8d2ee6\">\n",
              "    <div class=\"colab-df-container\">\n",
              "      <div>\n",
              "<style scoped>\n",
              "    .dataframe tbody tr th:only-of-type {\n",
              "        vertical-align: middle;\n",
              "    }\n",
              "\n",
              "    .dataframe tbody tr th {\n",
              "        vertical-align: top;\n",
              "    }\n",
              "\n",
              "    .dataframe thead th {\n",
              "        text-align: right;\n",
              "    }\n",
              "</style>\n",
              "<table border=\"1\" class=\"dataframe\">\n",
              "  <thead>\n",
              "    <tr style=\"text-align: right;\">\n",
              "      <th></th>\n",
              "      <th>countrycode</th>\n",
              "      <th>country</th>\n",
              "      <th>year</th>\n",
              "      <th>rgdpo</th>\n",
              "      <th>pop</th>\n",
              "      <th>emp</th>\n",
              "      <th>avh</th>\n",
              "      <th>hc</th>\n",
              "    </tr>\n",
              "  </thead>\n",
              "  <tbody>\n",
              "    <tr>\n",
              "      <th>0</th>\n",
              "      <td>ABW</td>\n",
              "      <td>Aruba</td>\n",
              "      <td>1950-01-01</td>\n",
              "      <td>NaN</td>\n",
              "      <td>0</td>\n",
              "      <td>NaN</td>\n",
              "      <td>NaN</td>\n",
              "      <td>NaN</td>\n",
              "    </tr>\n",
              "    <tr>\n",
              "      <th>1</th>\n",
              "      <td>ABW</td>\n",
              "      <td>Aruba</td>\n",
              "      <td>1951-01-01</td>\n",
              "      <td>NaN</td>\n",
              "      <td>0</td>\n",
              "      <td>NaN</td>\n",
              "      <td>NaN</td>\n",
              "      <td>NaN</td>\n",
              "    </tr>\n",
              "    <tr>\n",
              "      <th>2</th>\n",
              "      <td>ABW</td>\n",
              "      <td>Aruba</td>\n",
              "      <td>1952-01-01</td>\n",
              "      <td>NaN</td>\n",
              "      <td>0</td>\n",
              "      <td>NaN</td>\n",
              "      <td>NaN</td>\n",
              "      <td>NaN</td>\n",
              "    </tr>\n",
              "    <tr>\n",
              "      <th>3</th>\n",
              "      <td>ABW</td>\n",
              "      <td>Aruba</td>\n",
              "      <td>1953-01-01</td>\n",
              "      <td>NaN</td>\n",
              "      <td>0</td>\n",
              "      <td>NaN</td>\n",
              "      <td>NaN</td>\n",
              "      <td>NaN</td>\n",
              "    </tr>\n",
              "    <tr>\n",
              "      <th>4</th>\n",
              "      <td>ABW</td>\n",
              "      <td>Aruba</td>\n",
              "      <td>1954-01-01</td>\n",
              "      <td>NaN</td>\n",
              "      <td>0</td>\n",
              "      <td>NaN</td>\n",
              "      <td>NaN</td>\n",
              "      <td>NaN</td>\n",
              "    </tr>\n",
              "    <tr>\n",
              "      <th>...</th>\n",
              "      <td>...</td>\n",
              "      <td>...</td>\n",
              "      <td>...</td>\n",
              "      <td>...</td>\n",
              "      <td>...</td>\n",
              "      <td>...</td>\n",
              "      <td>...</td>\n",
              "      <td>...</td>\n",
              "    </tr>\n",
              "    <tr>\n",
              "      <th>12371</th>\n",
              "      <td>ZWE</td>\n",
              "      <td>Zimbabwe</td>\n",
              "      <td>2013-01-01</td>\n",
              "      <td>28329.81055</td>\n",
              "      <td>15</td>\n",
              "      <td>7.914061</td>\n",
              "      <td>NaN</td>\n",
              "      <td>2.504635</td>\n",
              "    </tr>\n",
              "    <tr>\n",
              "      <th>12372</th>\n",
              "      <td>ZWE</td>\n",
              "      <td>Zimbabwe</td>\n",
              "      <td>2014-01-01</td>\n",
              "      <td>29355.75977</td>\n",
              "      <td>15</td>\n",
              "      <td>8.222112</td>\n",
              "      <td>NaN</td>\n",
              "      <td>2.550258</td>\n",
              "    </tr>\n",
              "    <tr>\n",
              "      <th>12373</th>\n",
              "      <td>ZWE</td>\n",
              "      <td>Zimbabwe</td>\n",
              "      <td>2015-01-01</td>\n",
              "      <td>29150.75000</td>\n",
              "      <td>15</td>\n",
              "      <td>8.530669</td>\n",
              "      <td>NaN</td>\n",
              "      <td>2.584653</td>\n",
              "    </tr>\n",
              "    <tr>\n",
              "      <th>12374</th>\n",
              "      <td>ZWE</td>\n",
              "      <td>Zimbabwe</td>\n",
              "      <td>2016-01-01</td>\n",
              "      <td>29420.44922</td>\n",
              "      <td>16</td>\n",
              "      <td>8.839398</td>\n",
              "      <td>NaN</td>\n",
              "      <td>2.616257</td>\n",
              "    </tr>\n",
              "    <tr>\n",
              "      <th>12375</th>\n",
              "      <td>ZWE</td>\n",
              "      <td>Zimbabwe</td>\n",
              "      <td>2017-01-01</td>\n",
              "      <td>30940.81641</td>\n",
              "      <td>16</td>\n",
              "      <td>9.181251</td>\n",
              "      <td>NaN</td>\n",
              "      <td>2.648248</td>\n",
              "    </tr>\n",
              "  </tbody>\n",
              "</table>\n",
              "<p>12376 rows × 8 columns</p>\n",
              "</div>\n",
              "      <button class=\"colab-df-convert\" onclick=\"convertToInteractive('df-c92c6a3e-7e97-489e-b4f8-3c258d8d2ee6')\"\n",
              "              title=\"Convert this dataframe to an interactive table.\"\n",
              "              style=\"display:none;\">\n",
              "        \n",
              "  <svg xmlns=\"http://www.w3.org/2000/svg\" height=\"24px\"viewBox=\"0 0 24 24\"\n",
              "       width=\"24px\">\n",
              "    <path d=\"M0 0h24v24H0V0z\" fill=\"none\"/>\n",
              "    <path d=\"M18.56 5.44l.94 2.06.94-2.06 2.06-.94-2.06-.94-.94-2.06-.94 2.06-2.06.94zm-11 1L8.5 8.5l.94-2.06 2.06-.94-2.06-.94L8.5 2.5l-.94 2.06-2.06.94zm10 10l.94 2.06.94-2.06 2.06-.94-2.06-.94-.94-2.06-.94 2.06-2.06.94z\"/><path d=\"M17.41 7.96l-1.37-1.37c-.4-.4-.92-.59-1.43-.59-.52 0-1.04.2-1.43.59L10.3 9.45l-7.72 7.72c-.78.78-.78 2.05 0 2.83L4 21.41c.39.39.9.59 1.41.59.51 0 1.02-.2 1.41-.59l7.78-7.78 2.81-2.81c.8-.78.8-2.07 0-2.86zM5.41 20L4 18.59l7.72-7.72 1.47 1.35L5.41 20z\"/>\n",
              "  </svg>\n",
              "      </button>\n",
              "      \n",
              "  <style>\n",
              "    .colab-df-container {\n",
              "      display:flex;\n",
              "      flex-wrap:wrap;\n",
              "      gap: 12px;\n",
              "    }\n",
              "\n",
              "    .colab-df-convert {\n",
              "      background-color: #E8F0FE;\n",
              "      border: none;\n",
              "      border-radius: 50%;\n",
              "      cursor: pointer;\n",
              "      display: none;\n",
              "      fill: #1967D2;\n",
              "      height: 32px;\n",
              "      padding: 0 0 0 0;\n",
              "      width: 32px;\n",
              "    }\n",
              "\n",
              "    .colab-df-convert:hover {\n",
              "      background-color: #E2EBFA;\n",
              "      box-shadow: 0px 1px 2px rgba(60, 64, 67, 0.3), 0px 1px 3px 1px rgba(60, 64, 67, 0.15);\n",
              "      fill: #174EA6;\n",
              "    }\n",
              "\n",
              "    [theme=dark] .colab-df-convert {\n",
              "      background-color: #3B4455;\n",
              "      fill: #D2E3FC;\n",
              "    }\n",
              "\n",
              "    [theme=dark] .colab-df-convert:hover {\n",
              "      background-color: #434B5C;\n",
              "      box-shadow: 0px 1px 3px 1px rgba(0, 0, 0, 0.15);\n",
              "      filter: drop-shadow(0px 1px 2px rgba(0, 0, 0, 0.3));\n",
              "      fill: #FFFFFF;\n",
              "    }\n",
              "  </style>\n",
              "\n",
              "      <script>\n",
              "        const buttonEl =\n",
              "          document.querySelector('#df-c92c6a3e-7e97-489e-b4f8-3c258d8d2ee6 button.colab-df-convert');\n",
              "        buttonEl.style.display =\n",
              "          google.colab.kernel.accessAllowed ? 'block' : 'none';\n",
              "\n",
              "        async function convertToInteractive(key) {\n",
              "          const element = document.querySelector('#df-c92c6a3e-7e97-489e-b4f8-3c258d8d2ee6');\n",
              "          const dataTable =\n",
              "            await google.colab.kernel.invokeFunction('convertToInteractive',\n",
              "                                                     [key], {});\n",
              "          if (!dataTable) return;\n",
              "\n",
              "          const docLinkHtml = 'Like what you see? Visit the ' +\n",
              "            '<a target=\"_blank\" href=https://colab.research.google.com/notebooks/data_table.ipynb>data table notebook</a>'\n",
              "            + ' to learn more about interactive tables.';\n",
              "          element.innerHTML = '';\n",
              "          dataTable['output_type'] = 'display_data';\n",
              "          await google.colab.output.renderOutput(dataTable, element);\n",
              "          const docLink = document.createElement('div');\n",
              "          docLink.innerHTML = docLinkHtml;\n",
              "          element.appendChild(docLink);\n",
              "        }\n",
              "      </script>\n",
              "    </div>\n",
              "  </div>\n",
              "  "
            ]
          },
          "metadata": {},
          "execution_count": 92
        }
      ],
      "execution_count": null
    },
    {
      "cell_type": "code",
      "source": [
        "df_1  = df['emp'].fillna('0')\n",
        "df_1"
      ],
      "metadata": {
        "colab": {
          "base_uri": "https://localhost:8080/"
        },
        "id": "kjy_6hA7DSQc",
        "outputId": "4cdf3ba9-89ba-41f4-8066-a541615e1de3"
      },
      "execution_count": null,
      "outputs": [
        {
          "output_type": "execute_result",
          "data": {
            "text/plain": [
              "0               0\n",
              "1               0\n",
              "2               0\n",
              "3               0\n",
              "4               0\n",
              "           ...   \n",
              "12371    7.914061\n",
              "12372    8.222112\n",
              "12373    8.530669\n",
              "12374    8.839398\n",
              "12375    9.181251\n",
              "Name: emp, Length: 12376, dtype: object"
            ]
          },
          "metadata": {},
          "execution_count": 93
        }
      ]
    },
    {
      "cell_type": "code",
      "source": [
        "df['pop']  = df['pop'].fillna(0).astype(int)\n",
        "df"
      ],
      "metadata": {
        "colab": {
          "base_uri": "https://localhost:8080/",
          "height": 423
        },
        "id": "UD5DNadPuKlF",
        "outputId": "b8e4dbe6-39a4-4e9d-a925-c15556df066d"
      },
      "execution_count": null,
      "outputs": [
        {
          "output_type": "execute_result",
          "data": {
            "text/plain": [
              "      countrycode   country       year        rgdpo  pop       emp  avh  \\\n",
              "0             ABW     Aruba 1950-01-01          NaN    0       NaN  NaN   \n",
              "1             ABW     Aruba 1951-01-01          NaN    0       NaN  NaN   \n",
              "2             ABW     Aruba 1952-01-01          NaN    0       NaN  NaN   \n",
              "3             ABW     Aruba 1953-01-01          NaN    0       NaN  NaN   \n",
              "4             ABW     Aruba 1954-01-01          NaN    0       NaN  NaN   \n",
              "...           ...       ...        ...          ...  ...       ...  ...   \n",
              "12371         ZWE  Zimbabwe 2013-01-01  28329.81055   15  7.914061  NaN   \n",
              "12372         ZWE  Zimbabwe 2014-01-01  29355.75977   15  8.222112  NaN   \n",
              "12373         ZWE  Zimbabwe 2015-01-01  29150.75000   15  8.530669  NaN   \n",
              "12374         ZWE  Zimbabwe 2016-01-01  29420.44922   16  8.839398  NaN   \n",
              "12375         ZWE  Zimbabwe 2017-01-01  30940.81641   16  9.181251  NaN   \n",
              "\n",
              "             hc  \n",
              "0           NaN  \n",
              "1           NaN  \n",
              "2           NaN  \n",
              "3           NaN  \n",
              "4           NaN  \n",
              "...         ...  \n",
              "12371  2.504635  \n",
              "12372  2.550258  \n",
              "12373  2.584653  \n",
              "12374  2.616257  \n",
              "12375  2.648248  \n",
              "\n",
              "[12376 rows x 8 columns]"
            ],
            "text/html": [
              "\n",
              "  <div id=\"df-a88d22b6-6a4a-4075-877a-f2ce52f48730\">\n",
              "    <div class=\"colab-df-container\">\n",
              "      <div>\n",
              "<style scoped>\n",
              "    .dataframe tbody tr th:only-of-type {\n",
              "        vertical-align: middle;\n",
              "    }\n",
              "\n",
              "    .dataframe tbody tr th {\n",
              "        vertical-align: top;\n",
              "    }\n",
              "\n",
              "    .dataframe thead th {\n",
              "        text-align: right;\n",
              "    }\n",
              "</style>\n",
              "<table border=\"1\" class=\"dataframe\">\n",
              "  <thead>\n",
              "    <tr style=\"text-align: right;\">\n",
              "      <th></th>\n",
              "      <th>countrycode</th>\n",
              "      <th>country</th>\n",
              "      <th>year</th>\n",
              "      <th>rgdpo</th>\n",
              "      <th>pop</th>\n",
              "      <th>emp</th>\n",
              "      <th>avh</th>\n",
              "      <th>hc</th>\n",
              "    </tr>\n",
              "  </thead>\n",
              "  <tbody>\n",
              "    <tr>\n",
              "      <th>0</th>\n",
              "      <td>ABW</td>\n",
              "      <td>Aruba</td>\n",
              "      <td>1950-01-01</td>\n",
              "      <td>NaN</td>\n",
              "      <td>0</td>\n",
              "      <td>NaN</td>\n",
              "      <td>NaN</td>\n",
              "      <td>NaN</td>\n",
              "    </tr>\n",
              "    <tr>\n",
              "      <th>1</th>\n",
              "      <td>ABW</td>\n",
              "      <td>Aruba</td>\n",
              "      <td>1951-01-01</td>\n",
              "      <td>NaN</td>\n",
              "      <td>0</td>\n",
              "      <td>NaN</td>\n",
              "      <td>NaN</td>\n",
              "      <td>NaN</td>\n",
              "    </tr>\n",
              "    <tr>\n",
              "      <th>2</th>\n",
              "      <td>ABW</td>\n",
              "      <td>Aruba</td>\n",
              "      <td>1952-01-01</td>\n",
              "      <td>NaN</td>\n",
              "      <td>0</td>\n",
              "      <td>NaN</td>\n",
              "      <td>NaN</td>\n",
              "      <td>NaN</td>\n",
              "    </tr>\n",
              "    <tr>\n",
              "      <th>3</th>\n",
              "      <td>ABW</td>\n",
              "      <td>Aruba</td>\n",
              "      <td>1953-01-01</td>\n",
              "      <td>NaN</td>\n",
              "      <td>0</td>\n",
              "      <td>NaN</td>\n",
              "      <td>NaN</td>\n",
              "      <td>NaN</td>\n",
              "    </tr>\n",
              "    <tr>\n",
              "      <th>4</th>\n",
              "      <td>ABW</td>\n",
              "      <td>Aruba</td>\n",
              "      <td>1954-01-01</td>\n",
              "      <td>NaN</td>\n",
              "      <td>0</td>\n",
              "      <td>NaN</td>\n",
              "      <td>NaN</td>\n",
              "      <td>NaN</td>\n",
              "    </tr>\n",
              "    <tr>\n",
              "      <th>...</th>\n",
              "      <td>...</td>\n",
              "      <td>...</td>\n",
              "      <td>...</td>\n",
              "      <td>...</td>\n",
              "      <td>...</td>\n",
              "      <td>...</td>\n",
              "      <td>...</td>\n",
              "      <td>...</td>\n",
              "    </tr>\n",
              "    <tr>\n",
              "      <th>12371</th>\n",
              "      <td>ZWE</td>\n",
              "      <td>Zimbabwe</td>\n",
              "      <td>2013-01-01</td>\n",
              "      <td>28329.81055</td>\n",
              "      <td>15</td>\n",
              "      <td>7.914061</td>\n",
              "      <td>NaN</td>\n",
              "      <td>2.504635</td>\n",
              "    </tr>\n",
              "    <tr>\n",
              "      <th>12372</th>\n",
              "      <td>ZWE</td>\n",
              "      <td>Zimbabwe</td>\n",
              "      <td>2014-01-01</td>\n",
              "      <td>29355.75977</td>\n",
              "      <td>15</td>\n",
              "      <td>8.222112</td>\n",
              "      <td>NaN</td>\n",
              "      <td>2.550258</td>\n",
              "    </tr>\n",
              "    <tr>\n",
              "      <th>12373</th>\n",
              "      <td>ZWE</td>\n",
              "      <td>Zimbabwe</td>\n",
              "      <td>2015-01-01</td>\n",
              "      <td>29150.75000</td>\n",
              "      <td>15</td>\n",
              "      <td>8.530669</td>\n",
              "      <td>NaN</td>\n",
              "      <td>2.584653</td>\n",
              "    </tr>\n",
              "    <tr>\n",
              "      <th>12374</th>\n",
              "      <td>ZWE</td>\n",
              "      <td>Zimbabwe</td>\n",
              "      <td>2016-01-01</td>\n",
              "      <td>29420.44922</td>\n",
              "      <td>16</td>\n",
              "      <td>8.839398</td>\n",
              "      <td>NaN</td>\n",
              "      <td>2.616257</td>\n",
              "    </tr>\n",
              "    <tr>\n",
              "      <th>12375</th>\n",
              "      <td>ZWE</td>\n",
              "      <td>Zimbabwe</td>\n",
              "      <td>2017-01-01</td>\n",
              "      <td>30940.81641</td>\n",
              "      <td>16</td>\n",
              "      <td>9.181251</td>\n",
              "      <td>NaN</td>\n",
              "      <td>2.648248</td>\n",
              "    </tr>\n",
              "  </tbody>\n",
              "</table>\n",
              "<p>12376 rows × 8 columns</p>\n",
              "</div>\n",
              "      <button class=\"colab-df-convert\" onclick=\"convertToInteractive('df-a88d22b6-6a4a-4075-877a-f2ce52f48730')\"\n",
              "              title=\"Convert this dataframe to an interactive table.\"\n",
              "              style=\"display:none;\">\n",
              "        \n",
              "  <svg xmlns=\"http://www.w3.org/2000/svg\" height=\"24px\"viewBox=\"0 0 24 24\"\n",
              "       width=\"24px\">\n",
              "    <path d=\"M0 0h24v24H0V0z\" fill=\"none\"/>\n",
              "    <path d=\"M18.56 5.44l.94 2.06.94-2.06 2.06-.94-2.06-.94-.94-2.06-.94 2.06-2.06.94zm-11 1L8.5 8.5l.94-2.06 2.06-.94-2.06-.94L8.5 2.5l-.94 2.06-2.06.94zm10 10l.94 2.06.94-2.06 2.06-.94-2.06-.94-.94-2.06-.94 2.06-2.06.94z\"/><path d=\"M17.41 7.96l-1.37-1.37c-.4-.4-.92-.59-1.43-.59-.52 0-1.04.2-1.43.59L10.3 9.45l-7.72 7.72c-.78.78-.78 2.05 0 2.83L4 21.41c.39.39.9.59 1.41.59.51 0 1.02-.2 1.41-.59l7.78-7.78 2.81-2.81c.8-.78.8-2.07 0-2.86zM5.41 20L4 18.59l7.72-7.72 1.47 1.35L5.41 20z\"/>\n",
              "  </svg>\n",
              "      </button>\n",
              "      \n",
              "  <style>\n",
              "    .colab-df-container {\n",
              "      display:flex;\n",
              "      flex-wrap:wrap;\n",
              "      gap: 12px;\n",
              "    }\n",
              "\n",
              "    .colab-df-convert {\n",
              "      background-color: #E8F0FE;\n",
              "      border: none;\n",
              "      border-radius: 50%;\n",
              "      cursor: pointer;\n",
              "      display: none;\n",
              "      fill: #1967D2;\n",
              "      height: 32px;\n",
              "      padding: 0 0 0 0;\n",
              "      width: 32px;\n",
              "    }\n",
              "\n",
              "    .colab-df-convert:hover {\n",
              "      background-color: #E2EBFA;\n",
              "      box-shadow: 0px 1px 2px rgba(60, 64, 67, 0.3), 0px 1px 3px 1px rgba(60, 64, 67, 0.15);\n",
              "      fill: #174EA6;\n",
              "    }\n",
              "\n",
              "    [theme=dark] .colab-df-convert {\n",
              "      background-color: #3B4455;\n",
              "      fill: #D2E3FC;\n",
              "    }\n",
              "\n",
              "    [theme=dark] .colab-df-convert:hover {\n",
              "      background-color: #434B5C;\n",
              "      box-shadow: 0px 1px 3px 1px rgba(0, 0, 0, 0.15);\n",
              "      filter: drop-shadow(0px 1px 2px rgba(0, 0, 0, 0.3));\n",
              "      fill: #FFFFFF;\n",
              "    }\n",
              "  </style>\n",
              "\n",
              "      <script>\n",
              "        const buttonEl =\n",
              "          document.querySelector('#df-a88d22b6-6a4a-4075-877a-f2ce52f48730 button.colab-df-convert');\n",
              "        buttonEl.style.display =\n",
              "          google.colab.kernel.accessAllowed ? 'block' : 'none';\n",
              "\n",
              "        async function convertToInteractive(key) {\n",
              "          const element = document.querySelector('#df-a88d22b6-6a4a-4075-877a-f2ce52f48730');\n",
              "          const dataTable =\n",
              "            await google.colab.kernel.invokeFunction('convertToInteractive',\n",
              "                                                     [key], {});\n",
              "          if (!dataTable) return;\n",
              "\n",
              "          const docLinkHtml = 'Like what you see? Visit the ' +\n",
              "            '<a target=\"_blank\" href=https://colab.research.google.com/notebooks/data_table.ipynb>data table notebook</a>'\n",
              "            + ' to learn more about interactive tables.';\n",
              "          element.innerHTML = '';\n",
              "          dataTable['output_type'] = 'display_data';\n",
              "          await google.colab.output.renderOutput(dataTable, element);\n",
              "          const docLink = document.createElement('div');\n",
              "          docLink.innerHTML = docLinkHtml;\n",
              "          element.appendChild(docLink);\n",
              "        }\n",
              "      </script>\n",
              "    </div>\n",
              "  </div>\n",
              "  "
            ]
          },
          "metadata": {},
          "execution_count": 94
        }
      ]
    },
    {
      "cell_type": "code",
      "source": [],
      "metadata": {
        "id": "nmjeY1htEoDW"
      },
      "execution_count": null,
      "outputs": []
    },
    {
      "cell_type": "markdown",
      "source": [
        "## 3. Manipulación de DataFrames con Pandas"
      ],
      "metadata": {
        "application/vnd.databricks.v1+cell": {
          "title": "",
          "showTitle": false,
          "inputWidgets": {},
          "nuid": "12ab6717-ec65-4070-99a7-0fe0cef618f8"
        },
        "id": "r7nNAdn0MNIQ"
      }
    },
    {
      "cell_type": "markdown",
      "source": [
        "### Selección de filas y columnas de un DataFrame utilizando ```iloc```\n",
        "Cuando queremos seleccionar filas y columnas de acuerdo a la posición del índice, utilizamos el atributo:<br>\n",
        "```iloc[indiceInicioFilas:indiceFinFilas-1 , indiceInicioCols:indiceFinCols-1]```"
      ],
      "metadata": {
        "application/vnd.databricks.v1+cell": {
          "title": "",
          "showTitle": false,
          "inputWidgets": {},
          "nuid": "8b29c163-eeaf-482e-b581-c8bf0bc9f1b7"
        },
        "id": "IZL6y9LxMNIQ"
      }
    },
    {
      "cell_type": "code",
      "source": [
        "#Seleccion de las filas por posición y las tres primeras columnas\n",
        "df.iloc[2300:2303, :2]"
      ],
      "metadata": {
        "application/vnd.databricks.v1+cell": {
          "title": "",
          "showTitle": false,
          "inputWidgets": {},
          "nuid": "9ac200b1-dbb6-4676-bc07-740085ed4fd9"
        },
        "colab": {
          "base_uri": "https://localhost:8080/",
          "height": 143
        },
        "id": "0x5M4DN1MNIQ",
        "outputId": "67bff5b8-76c0-4005-a533-901b64a01c66"
      },
      "outputs": [
        {
          "output_type": "execute_result",
          "data": {
            "text/plain": [
              "     countrycode country\n",
              "2300         CHN   China\n",
              "2301         CHN   China\n",
              "2302         CHN   China"
            ],
            "text/html": [
              "\n",
              "  <div id=\"df-9352f3f9-0fd7-4e03-9024-cc272fd623f5\">\n",
              "    <div class=\"colab-df-container\">\n",
              "      <div>\n",
              "<style scoped>\n",
              "    .dataframe tbody tr th:only-of-type {\n",
              "        vertical-align: middle;\n",
              "    }\n",
              "\n",
              "    .dataframe tbody tr th {\n",
              "        vertical-align: top;\n",
              "    }\n",
              "\n",
              "    .dataframe thead th {\n",
              "        text-align: right;\n",
              "    }\n",
              "</style>\n",
              "<table border=\"1\" class=\"dataframe\">\n",
              "  <thead>\n",
              "    <tr style=\"text-align: right;\">\n",
              "      <th></th>\n",
              "      <th>countrycode</th>\n",
              "      <th>country</th>\n",
              "    </tr>\n",
              "  </thead>\n",
              "  <tbody>\n",
              "    <tr>\n",
              "      <th>2300</th>\n",
              "      <td>CHN</td>\n",
              "      <td>China</td>\n",
              "    </tr>\n",
              "    <tr>\n",
              "      <th>2301</th>\n",
              "      <td>CHN</td>\n",
              "      <td>China</td>\n",
              "    </tr>\n",
              "    <tr>\n",
              "      <th>2302</th>\n",
              "      <td>CHN</td>\n",
              "      <td>China</td>\n",
              "    </tr>\n",
              "  </tbody>\n",
              "</table>\n",
              "</div>\n",
              "      <button class=\"colab-df-convert\" onclick=\"convertToInteractive('df-9352f3f9-0fd7-4e03-9024-cc272fd623f5')\"\n",
              "              title=\"Convert this dataframe to an interactive table.\"\n",
              "              style=\"display:none;\">\n",
              "        \n",
              "  <svg xmlns=\"http://www.w3.org/2000/svg\" height=\"24px\"viewBox=\"0 0 24 24\"\n",
              "       width=\"24px\">\n",
              "    <path d=\"M0 0h24v24H0V0z\" fill=\"none\"/>\n",
              "    <path d=\"M18.56 5.44l.94 2.06.94-2.06 2.06-.94-2.06-.94-.94-2.06-.94 2.06-2.06.94zm-11 1L8.5 8.5l.94-2.06 2.06-.94-2.06-.94L8.5 2.5l-.94 2.06-2.06.94zm10 10l.94 2.06.94-2.06 2.06-.94-2.06-.94-.94-2.06-.94 2.06-2.06.94z\"/><path d=\"M17.41 7.96l-1.37-1.37c-.4-.4-.92-.59-1.43-.59-.52 0-1.04.2-1.43.59L10.3 9.45l-7.72 7.72c-.78.78-.78 2.05 0 2.83L4 21.41c.39.39.9.59 1.41.59.51 0 1.02-.2 1.41-.59l7.78-7.78 2.81-2.81c.8-.78.8-2.07 0-2.86zM5.41 20L4 18.59l7.72-7.72 1.47 1.35L5.41 20z\"/>\n",
              "  </svg>\n",
              "      </button>\n",
              "      \n",
              "  <style>\n",
              "    .colab-df-container {\n",
              "      display:flex;\n",
              "      flex-wrap:wrap;\n",
              "      gap: 12px;\n",
              "    }\n",
              "\n",
              "    .colab-df-convert {\n",
              "      background-color: #E8F0FE;\n",
              "      border: none;\n",
              "      border-radius: 50%;\n",
              "      cursor: pointer;\n",
              "      display: none;\n",
              "      fill: #1967D2;\n",
              "      height: 32px;\n",
              "      padding: 0 0 0 0;\n",
              "      width: 32px;\n",
              "    }\n",
              "\n",
              "    .colab-df-convert:hover {\n",
              "      background-color: #E2EBFA;\n",
              "      box-shadow: 0px 1px 2px rgba(60, 64, 67, 0.3), 0px 1px 3px 1px rgba(60, 64, 67, 0.15);\n",
              "      fill: #174EA6;\n",
              "    }\n",
              "\n",
              "    [theme=dark] .colab-df-convert {\n",
              "      background-color: #3B4455;\n",
              "      fill: #D2E3FC;\n",
              "    }\n",
              "\n",
              "    [theme=dark] .colab-df-convert:hover {\n",
              "      background-color: #434B5C;\n",
              "      box-shadow: 0px 1px 3px 1px rgba(0, 0, 0, 0.15);\n",
              "      filter: drop-shadow(0px 1px 2px rgba(0, 0, 0, 0.3));\n",
              "      fill: #FFFFFF;\n",
              "    }\n",
              "  </style>\n",
              "\n",
              "      <script>\n",
              "        const buttonEl =\n",
              "          document.querySelector('#df-9352f3f9-0fd7-4e03-9024-cc272fd623f5 button.colab-df-convert');\n",
              "        buttonEl.style.display =\n",
              "          google.colab.kernel.accessAllowed ? 'block' : 'none';\n",
              "\n",
              "        async function convertToInteractive(key) {\n",
              "          const element = document.querySelector('#df-9352f3f9-0fd7-4e03-9024-cc272fd623f5');\n",
              "          const dataTable =\n",
              "            await google.colab.kernel.invokeFunction('convertToInteractive',\n",
              "                                                     [key], {});\n",
              "          if (!dataTable) return;\n",
              "\n",
              "          const docLinkHtml = 'Like what you see? Visit the ' +\n",
              "            '<a target=\"_blank\" href=https://colab.research.google.com/notebooks/data_table.ipynb>data table notebook</a>'\n",
              "            + ' to learn more about interactive tables.';\n",
              "          element.innerHTML = '';\n",
              "          dataTable['output_type'] = 'display_data';\n",
              "          await google.colab.output.renderOutput(dataTable, element);\n",
              "          const docLink = document.createElement('div');\n",
              "          docLink.innerHTML = docLinkHtml;\n",
              "          element.appendChild(docLink);\n",
              "        }\n",
              "      </script>\n",
              "    </div>\n",
              "  </div>\n",
              "  "
            ]
          },
          "metadata": {},
          "execution_count": 95
        }
      ],
      "execution_count": null
    },
    {
      "cell_type": "markdown",
      "source": [
        "### Selección de filas y columnas de un DataFrame utilizando ```loc```\n",
        "Cuando queremos seleccionar filas y columnas de acuerdo a una mezcla del nombre de los índices y nombres de las columnas (etiquetas), utilizamos el atributo: ```loc[]```"
      ],
      "metadata": {
        "application/vnd.databricks.v1+cell": {
          "title": "",
          "showTitle": false,
          "inputWidgets": {},
          "nuid": "2e1a1802-0d00-42b0-928b-16656a5beaa1"
        },
        "id": "L5kn4jVoMNIQ"
      }
    },
    {
      "cell_type": "code",
      "source": [
        " df.keys()"
      ],
      "metadata": {
        "colab": {
          "base_uri": "https://localhost:8080/"
        },
        "id": "dDEBhRu3gWRj",
        "outputId": "c6f7dc16-3aab-4f9d-83ee-d6424a9d5128"
      },
      "execution_count": null,
      "outputs": [
        {
          "output_type": "execute_result",
          "data": {
            "text/plain": [
              "Index(['countrycode', 'country', 'year', 'rgdpo', 'pop', 'emp', 'avh', 'hc'], dtype='object')"
            ]
          },
          "metadata": {},
          "execution_count": 96
        }
      ]
    },
    {
      "cell_type": "code",
      "source": [
        "df_seleccion = df.loc[10:15, ['countrycode', 'year', 'pop', 'rgdpo']]\n",
        "df_seleccion.head()\n",
        "#NaN nan Nan NaT None null inf "
      ],
      "metadata": {
        "application/vnd.databricks.v1+cell": {
          "title": "",
          "showTitle": false,
          "inputWidgets": {},
          "nuid": "00a144fc-a88c-48e0-9a3b-7735b7f39d02"
        },
        "colab": {
          "base_uri": "https://localhost:8080/",
          "height": 206
        },
        "id": "iA4fHqwLMNIQ",
        "outputId": "8de96c3f-775c-40d0-dcbe-37c061e2f203"
      },
      "outputs": [
        {
          "output_type": "execute_result",
          "data": {
            "text/plain": [
              "   countrycode       year  pop  rgdpo\n",
              "10         ABW 1960-01-01    0    NaN\n",
              "11         ABW 1961-01-01    0    NaN\n",
              "12         ABW 1962-01-01    0    NaN\n",
              "13         ABW 1963-01-01    0    NaN\n",
              "14         ABW 1964-01-01    0    NaN"
            ],
            "text/html": [
              "\n",
              "  <div id=\"df-78bd63e9-c884-4a21-a628-29c2581624dc\">\n",
              "    <div class=\"colab-df-container\">\n",
              "      <div>\n",
              "<style scoped>\n",
              "    .dataframe tbody tr th:only-of-type {\n",
              "        vertical-align: middle;\n",
              "    }\n",
              "\n",
              "    .dataframe tbody tr th {\n",
              "        vertical-align: top;\n",
              "    }\n",
              "\n",
              "    .dataframe thead th {\n",
              "        text-align: right;\n",
              "    }\n",
              "</style>\n",
              "<table border=\"1\" class=\"dataframe\">\n",
              "  <thead>\n",
              "    <tr style=\"text-align: right;\">\n",
              "      <th></th>\n",
              "      <th>countrycode</th>\n",
              "      <th>year</th>\n",
              "      <th>pop</th>\n",
              "      <th>rgdpo</th>\n",
              "    </tr>\n",
              "  </thead>\n",
              "  <tbody>\n",
              "    <tr>\n",
              "      <th>10</th>\n",
              "      <td>ABW</td>\n",
              "      <td>1960-01-01</td>\n",
              "      <td>0</td>\n",
              "      <td>NaN</td>\n",
              "    </tr>\n",
              "    <tr>\n",
              "      <th>11</th>\n",
              "      <td>ABW</td>\n",
              "      <td>1961-01-01</td>\n",
              "      <td>0</td>\n",
              "      <td>NaN</td>\n",
              "    </tr>\n",
              "    <tr>\n",
              "      <th>12</th>\n",
              "      <td>ABW</td>\n",
              "      <td>1962-01-01</td>\n",
              "      <td>0</td>\n",
              "      <td>NaN</td>\n",
              "    </tr>\n",
              "    <tr>\n",
              "      <th>13</th>\n",
              "      <td>ABW</td>\n",
              "      <td>1963-01-01</td>\n",
              "      <td>0</td>\n",
              "      <td>NaN</td>\n",
              "    </tr>\n",
              "    <tr>\n",
              "      <th>14</th>\n",
              "      <td>ABW</td>\n",
              "      <td>1964-01-01</td>\n",
              "      <td>0</td>\n",
              "      <td>NaN</td>\n",
              "    </tr>\n",
              "  </tbody>\n",
              "</table>\n",
              "</div>\n",
              "      <button class=\"colab-df-convert\" onclick=\"convertToInteractive('df-78bd63e9-c884-4a21-a628-29c2581624dc')\"\n",
              "              title=\"Convert this dataframe to an interactive table.\"\n",
              "              style=\"display:none;\">\n",
              "        \n",
              "  <svg xmlns=\"http://www.w3.org/2000/svg\" height=\"24px\"viewBox=\"0 0 24 24\"\n",
              "       width=\"24px\">\n",
              "    <path d=\"M0 0h24v24H0V0z\" fill=\"none\"/>\n",
              "    <path d=\"M18.56 5.44l.94 2.06.94-2.06 2.06-.94-2.06-.94-.94-2.06-.94 2.06-2.06.94zm-11 1L8.5 8.5l.94-2.06 2.06-.94-2.06-.94L8.5 2.5l-.94 2.06-2.06.94zm10 10l.94 2.06.94-2.06 2.06-.94-2.06-.94-.94-2.06-.94 2.06-2.06.94z\"/><path d=\"M17.41 7.96l-1.37-1.37c-.4-.4-.92-.59-1.43-.59-.52 0-1.04.2-1.43.59L10.3 9.45l-7.72 7.72c-.78.78-.78 2.05 0 2.83L4 21.41c.39.39.9.59 1.41.59.51 0 1.02-.2 1.41-.59l7.78-7.78 2.81-2.81c.8-.78.8-2.07 0-2.86zM5.41 20L4 18.59l7.72-7.72 1.47 1.35L5.41 20z\"/>\n",
              "  </svg>\n",
              "      </button>\n",
              "      \n",
              "  <style>\n",
              "    .colab-df-container {\n",
              "      display:flex;\n",
              "      flex-wrap:wrap;\n",
              "      gap: 12px;\n",
              "    }\n",
              "\n",
              "    .colab-df-convert {\n",
              "      background-color: #E8F0FE;\n",
              "      border: none;\n",
              "      border-radius: 50%;\n",
              "      cursor: pointer;\n",
              "      display: none;\n",
              "      fill: #1967D2;\n",
              "      height: 32px;\n",
              "      padding: 0 0 0 0;\n",
              "      width: 32px;\n",
              "    }\n",
              "\n",
              "    .colab-df-convert:hover {\n",
              "      background-color: #E2EBFA;\n",
              "      box-shadow: 0px 1px 2px rgba(60, 64, 67, 0.3), 0px 1px 3px 1px rgba(60, 64, 67, 0.15);\n",
              "      fill: #174EA6;\n",
              "    }\n",
              "\n",
              "    [theme=dark] .colab-df-convert {\n",
              "      background-color: #3B4455;\n",
              "      fill: #D2E3FC;\n",
              "    }\n",
              "\n",
              "    [theme=dark] .colab-df-convert:hover {\n",
              "      background-color: #434B5C;\n",
              "      box-shadow: 0px 1px 3px 1px rgba(0, 0, 0, 0.15);\n",
              "      filter: drop-shadow(0px 1px 2px rgba(0, 0, 0, 0.3));\n",
              "      fill: #FFFFFF;\n",
              "    }\n",
              "  </style>\n",
              "\n",
              "      <script>\n",
              "        const buttonEl =\n",
              "          document.querySelector('#df-78bd63e9-c884-4a21-a628-29c2581624dc button.colab-df-convert');\n",
              "        buttonEl.style.display =\n",
              "          google.colab.kernel.accessAllowed ? 'block' : 'none';\n",
              "\n",
              "        async function convertToInteractive(key) {\n",
              "          const element = document.querySelector('#df-78bd63e9-c884-4a21-a628-29c2581624dc');\n",
              "          const dataTable =\n",
              "            await google.colab.kernel.invokeFunction('convertToInteractive',\n",
              "                                                     [key], {});\n",
              "          if (!dataTable) return;\n",
              "\n",
              "          const docLinkHtml = 'Like what you see? Visit the ' +\n",
              "            '<a target=\"_blank\" href=https://colab.research.google.com/notebooks/data_table.ipynb>data table notebook</a>'\n",
              "            + ' to learn more about interactive tables.';\n",
              "          element.innerHTML = '';\n",
              "          dataTable['output_type'] = 'display_data';\n",
              "          await google.colab.output.renderOutput(dataTable, element);\n",
              "          const docLink = document.createElement('div');\n",
              "          docLink.innerHTML = docLinkHtml;\n",
              "          element.appendChild(docLink);\n",
              "        }\n",
              "      </script>\n",
              "    </div>\n",
              "  </div>\n",
              "  "
            ]
          },
          "metadata": {},
          "execution_count": 97
        }
      ],
      "execution_count": null
    },
    {
      "cell_type": "code",
      "source": [
        "df.keys()"
      ],
      "metadata": {
        "colab": {
          "base_uri": "https://localhost:8080/"
        },
        "id": "FQCqJ-0riYJS",
        "outputId": "63318a72-2b56-4fe3-dd8e-a24261af28bc"
      },
      "execution_count": null,
      "outputs": [
        {
          "output_type": "execute_result",
          "data": {
            "text/plain": [
              "Index(['countrycode', 'country', 'year', 'rgdpo', 'pop', 'emp', 'avh', 'hc'], dtype='object')"
            ]
          },
          "metadata": {},
          "execution_count": 98
        }
      ]
    },
    {
      "cell_type": "markdown",
      "source": [
        "### Renombrar columnas en un DataFrame"
      ],
      "metadata": {
        "application/vnd.databricks.v1+cell": {
          "title": "",
          "showTitle": false,
          "inputWidgets": {},
          "nuid": "2ba69420-8145-4961-80f8-b9cfed05c5e7"
        },
        "id": "dVwvqOH2MNIQ"
      }
    },
    {
      "cell_type": "code",
      "source": [
        "df_seleccion.rename(columns = {'countrycode': 'codigo_pais', 'pop': 'pob_millones', 'rgdpo': 'pib_real_millones'}, inplace = True)\n",
        "df_seleccion.keys()"
      ],
      "metadata": {
        "application/vnd.databricks.v1+cell": {
          "title": "",
          "showTitle": false,
          "inputWidgets": {},
          "nuid": "90aa4043-8228-4e45-acca-85b65599befd"
        },
        "colab": {
          "base_uri": "https://localhost:8080/"
        },
        "id": "STyykSrFMNIQ",
        "outputId": "9f7b74cc-0d9d-4af6-8b3c-f2c7b1157f2a"
      },
      "outputs": [
        {
          "output_type": "execute_result",
          "data": {
            "text/plain": [
              "Index(['codigo_pais', 'year', 'pob_millones', 'pib_real_millones'], dtype='object')"
            ]
          },
          "metadata": {},
          "execution_count": 99
        }
      ],
      "execution_count": null
    },
    {
      "cell_type": "markdown",
      "source": [
        ">**Ejercicio 1:** Utilizando el método `rename` y la opción `inplace=False`, cambie el nombre de la columna `codigo_pais` por `codigo_iso` en el dataframe `df_seleccion`. Utilizando el método `columns` verifique si el cambio de nombre se grabó de forma permanente en `df_seleccion`."
      ],
      "metadata": {
        "application/vnd.databricks.v1+cell": {
          "title": "",
          "showTitle": false,
          "inputWidgets": {},
          "nuid": "1e14b6af-0193-42ce-9ace-5cb226fdc198"
        },
        "id": "n0AGnnqUMNIQ"
      }
    },
    {
      "cell_type": "code",
      "source": [
        "# archivo\n",
        "df_seleccion = df.loc[:, ['countrycode', 'year', 'pop', 'rgdpo']]\n",
        "#### Ejercicio 1\n",
        "print(df_seleccion.head())\n",
        "df_seleccion.rename(columns = {'countrycode': 'codigo_iso'}, inplace = True)\n",
        "df_seleccion "
      ],
      "metadata": {
        "application/vnd.databricks.v1+cell": {
          "title": "",
          "showTitle": false,
          "inputWidgets": {},
          "nuid": "82626a0d-500b-423c-ae51-c194272adfcf"
        },
        "id": "7AoWaj-JMNIQ",
        "colab": {
          "base_uri": "https://localhost:8080/",
          "height": 531
        },
        "outputId": "849ff7c2-f611-4a41-ab4c-48993f35061d"
      },
      "outputs": [
        {
          "output_type": "stream",
          "name": "stdout",
          "text": [
            "  countrycode       year  pop  rgdpo\n",
            "0         ABW 1950-01-01    0    NaN\n",
            "1         ABW 1951-01-01    0    NaN\n",
            "2         ABW 1952-01-01    0    NaN\n",
            "3         ABW 1953-01-01    0    NaN\n",
            "4         ABW 1954-01-01    0    NaN\n"
          ]
        },
        {
          "output_type": "execute_result",
          "data": {
            "text/plain": [
              "      codigo_iso       year  pop        rgdpo\n",
              "0            ABW 1950-01-01    0          NaN\n",
              "1            ABW 1951-01-01    0          NaN\n",
              "2            ABW 1952-01-01    0          NaN\n",
              "3            ABW 1953-01-01    0          NaN\n",
              "4            ABW 1954-01-01    0          NaN\n",
              "...          ...        ...  ...          ...\n",
              "12371        ZWE 2013-01-01   15  28329.81055\n",
              "12372        ZWE 2014-01-01   15  29355.75977\n",
              "12373        ZWE 2015-01-01   15  29150.75000\n",
              "12374        ZWE 2016-01-01   16  29420.44922\n",
              "12375        ZWE 2017-01-01   16  30940.81641\n",
              "\n",
              "[12376 rows x 4 columns]"
            ],
            "text/html": [
              "\n",
              "  <div id=\"df-6eadfa86-3e52-44ea-bd1e-1ddae961d12c\">\n",
              "    <div class=\"colab-df-container\">\n",
              "      <div>\n",
              "<style scoped>\n",
              "    .dataframe tbody tr th:only-of-type {\n",
              "        vertical-align: middle;\n",
              "    }\n",
              "\n",
              "    .dataframe tbody tr th {\n",
              "        vertical-align: top;\n",
              "    }\n",
              "\n",
              "    .dataframe thead th {\n",
              "        text-align: right;\n",
              "    }\n",
              "</style>\n",
              "<table border=\"1\" class=\"dataframe\">\n",
              "  <thead>\n",
              "    <tr style=\"text-align: right;\">\n",
              "      <th></th>\n",
              "      <th>codigo_iso</th>\n",
              "      <th>year</th>\n",
              "      <th>pop</th>\n",
              "      <th>rgdpo</th>\n",
              "    </tr>\n",
              "  </thead>\n",
              "  <tbody>\n",
              "    <tr>\n",
              "      <th>0</th>\n",
              "      <td>ABW</td>\n",
              "      <td>1950-01-01</td>\n",
              "      <td>0</td>\n",
              "      <td>NaN</td>\n",
              "    </tr>\n",
              "    <tr>\n",
              "      <th>1</th>\n",
              "      <td>ABW</td>\n",
              "      <td>1951-01-01</td>\n",
              "      <td>0</td>\n",
              "      <td>NaN</td>\n",
              "    </tr>\n",
              "    <tr>\n",
              "      <th>2</th>\n",
              "      <td>ABW</td>\n",
              "      <td>1952-01-01</td>\n",
              "      <td>0</td>\n",
              "      <td>NaN</td>\n",
              "    </tr>\n",
              "    <tr>\n",
              "      <th>3</th>\n",
              "      <td>ABW</td>\n",
              "      <td>1953-01-01</td>\n",
              "      <td>0</td>\n",
              "      <td>NaN</td>\n",
              "    </tr>\n",
              "    <tr>\n",
              "      <th>4</th>\n",
              "      <td>ABW</td>\n",
              "      <td>1954-01-01</td>\n",
              "      <td>0</td>\n",
              "      <td>NaN</td>\n",
              "    </tr>\n",
              "    <tr>\n",
              "      <th>...</th>\n",
              "      <td>...</td>\n",
              "      <td>...</td>\n",
              "      <td>...</td>\n",
              "      <td>...</td>\n",
              "    </tr>\n",
              "    <tr>\n",
              "      <th>12371</th>\n",
              "      <td>ZWE</td>\n",
              "      <td>2013-01-01</td>\n",
              "      <td>15</td>\n",
              "      <td>28329.81055</td>\n",
              "    </tr>\n",
              "    <tr>\n",
              "      <th>12372</th>\n",
              "      <td>ZWE</td>\n",
              "      <td>2014-01-01</td>\n",
              "      <td>15</td>\n",
              "      <td>29355.75977</td>\n",
              "    </tr>\n",
              "    <tr>\n",
              "      <th>12373</th>\n",
              "      <td>ZWE</td>\n",
              "      <td>2015-01-01</td>\n",
              "      <td>15</td>\n",
              "      <td>29150.75000</td>\n",
              "    </tr>\n",
              "    <tr>\n",
              "      <th>12374</th>\n",
              "      <td>ZWE</td>\n",
              "      <td>2016-01-01</td>\n",
              "      <td>16</td>\n",
              "      <td>29420.44922</td>\n",
              "    </tr>\n",
              "    <tr>\n",
              "      <th>12375</th>\n",
              "      <td>ZWE</td>\n",
              "      <td>2017-01-01</td>\n",
              "      <td>16</td>\n",
              "      <td>30940.81641</td>\n",
              "    </tr>\n",
              "  </tbody>\n",
              "</table>\n",
              "<p>12376 rows × 4 columns</p>\n",
              "</div>\n",
              "      <button class=\"colab-df-convert\" onclick=\"convertToInteractive('df-6eadfa86-3e52-44ea-bd1e-1ddae961d12c')\"\n",
              "              title=\"Convert this dataframe to an interactive table.\"\n",
              "              style=\"display:none;\">\n",
              "        \n",
              "  <svg xmlns=\"http://www.w3.org/2000/svg\" height=\"24px\"viewBox=\"0 0 24 24\"\n",
              "       width=\"24px\">\n",
              "    <path d=\"M0 0h24v24H0V0z\" fill=\"none\"/>\n",
              "    <path d=\"M18.56 5.44l.94 2.06.94-2.06 2.06-.94-2.06-.94-.94-2.06-.94 2.06-2.06.94zm-11 1L8.5 8.5l.94-2.06 2.06-.94-2.06-.94L8.5 2.5l-.94 2.06-2.06.94zm10 10l.94 2.06.94-2.06 2.06-.94-2.06-.94-.94-2.06-.94 2.06-2.06.94z\"/><path d=\"M17.41 7.96l-1.37-1.37c-.4-.4-.92-.59-1.43-.59-.52 0-1.04.2-1.43.59L10.3 9.45l-7.72 7.72c-.78.78-.78 2.05 0 2.83L4 21.41c.39.39.9.59 1.41.59.51 0 1.02-.2 1.41-.59l7.78-7.78 2.81-2.81c.8-.78.8-2.07 0-2.86zM5.41 20L4 18.59l7.72-7.72 1.47 1.35L5.41 20z\"/>\n",
              "  </svg>\n",
              "      </button>\n",
              "      \n",
              "  <style>\n",
              "    .colab-df-container {\n",
              "      display:flex;\n",
              "      flex-wrap:wrap;\n",
              "      gap: 12px;\n",
              "    }\n",
              "\n",
              "    .colab-df-convert {\n",
              "      background-color: #E8F0FE;\n",
              "      border: none;\n",
              "      border-radius: 50%;\n",
              "      cursor: pointer;\n",
              "      display: none;\n",
              "      fill: #1967D2;\n",
              "      height: 32px;\n",
              "      padding: 0 0 0 0;\n",
              "      width: 32px;\n",
              "    }\n",
              "\n",
              "    .colab-df-convert:hover {\n",
              "      background-color: #E2EBFA;\n",
              "      box-shadow: 0px 1px 2px rgba(60, 64, 67, 0.3), 0px 1px 3px 1px rgba(60, 64, 67, 0.15);\n",
              "      fill: #174EA6;\n",
              "    }\n",
              "\n",
              "    [theme=dark] .colab-df-convert {\n",
              "      background-color: #3B4455;\n",
              "      fill: #D2E3FC;\n",
              "    }\n",
              "\n",
              "    [theme=dark] .colab-df-convert:hover {\n",
              "      background-color: #434B5C;\n",
              "      box-shadow: 0px 1px 3px 1px rgba(0, 0, 0, 0.15);\n",
              "      filter: drop-shadow(0px 1px 2px rgba(0, 0, 0, 0.3));\n",
              "      fill: #FFFFFF;\n",
              "    }\n",
              "  </style>\n",
              "\n",
              "      <script>\n",
              "        const buttonEl =\n",
              "          document.querySelector('#df-6eadfa86-3e52-44ea-bd1e-1ddae961d12c button.colab-df-convert');\n",
              "        buttonEl.style.display =\n",
              "          google.colab.kernel.accessAllowed ? 'block' : 'none';\n",
              "\n",
              "        async function convertToInteractive(key) {\n",
              "          const element = document.querySelector('#df-6eadfa86-3e52-44ea-bd1e-1ddae961d12c');\n",
              "          const dataTable =\n",
              "            await google.colab.kernel.invokeFunction('convertToInteractive',\n",
              "                                                     [key], {});\n",
              "          if (!dataTable) return;\n",
              "\n",
              "          const docLinkHtml = 'Like what you see? Visit the ' +\n",
              "            '<a target=\"_blank\" href=https://colab.research.google.com/notebooks/data_table.ipynb>data table notebook</a>'\n",
              "            + ' to learn more about interactive tables.';\n",
              "          element.innerHTML = '';\n",
              "          dataTable['output_type'] = 'display_data';\n",
              "          await google.colab.output.renderOutput(dataTable, element);\n",
              "          const docLink = document.createElement('div');\n",
              "          docLink.innerHTML = docLinkHtml;\n",
              "          element.appendChild(docLink);\n",
              "        }\n",
              "      </script>\n",
              "    </div>\n",
              "  </div>\n",
              "  "
            ]
          },
          "metadata": {},
          "execution_count": 100
        }
      ],
      "execution_count": null
    },
    {
      "cell_type": "markdown",
      "source": [
        "### Solución"
      ],
      "metadata": {
        "id": "jn-sTKRpMxdc"
      }
    },
    {
      "cell_type": "code",
      "source": [
        "print('Resolución;')\n",
        "df_seleccion.rename(columns = {'codigo_pais': 'codigo_iso'}, inplace = False)\n",
        "df_seleccion.columns"
      ],
      "metadata": {
        "application/vnd.databricks.v1+cell": {
          "title": "",
          "showTitle": false,
          "inputWidgets": {},
          "nuid": "5d8e8823-53bd-4474-b582-a81aa8ba8f45"
        },
        "colab": {
          "base_uri": "https://localhost:8080/"
        },
        "id": "MJiJhoDhMNIQ",
        "outputId": "56093cd4-0739-44ba-c116-2d9843622bab"
      },
      "outputs": [
        {
          "output_type": "stream",
          "name": "stdout",
          "text": [
            "Resolución;\n"
          ]
        },
        {
          "output_type": "execute_result",
          "data": {
            "text/plain": [
              "Index(['codigo_iso', 'year', 'pop', 'rgdpo'], dtype='object')"
            ]
          },
          "metadata": {},
          "execution_count": 101
        }
      ],
      "execution_count": null
    },
    {
      "cell_type": "markdown",
      "source": [
        "### Filtrado del DataFrame"
      ],
      "metadata": {
        "application/vnd.databricks.v1+cell": {
          "title": "",
          "showTitle": false,
          "inputWidgets": {},
          "nuid": "cf733b11-c8cc-4cf2-b946-73c062bcd9e9"
        },
        "id": "QUYg8uXOMNIR"
      }
    },
    {
      "cell_type": "code",
      "source": [
        "#to_time(format = '%Y')\n",
        "df_seleccion['year']"
      ],
      "metadata": {
        "application/vnd.databricks.v1+cell": {
          "title": "",
          "showTitle": false,
          "inputWidgets": {},
          "nuid": "b8d5b76a-9eb1-4dab-87a0-64b94f6510b0"
        },
        "colab": {
          "base_uri": "https://localhost:8080/"
        },
        "id": "qDiplCjeMNIR",
        "outputId": "a758d471-da62-4cb3-e46e-ede8683c5ef4"
      },
      "outputs": [
        {
          "output_type": "execute_result",
          "data": {
            "text/plain": [
              "0       1950-01-01\n",
              "1       1951-01-01\n",
              "2       1952-01-01\n",
              "3       1953-01-01\n",
              "4       1954-01-01\n",
              "           ...    \n",
              "12371   2013-01-01\n",
              "12372   2014-01-01\n",
              "12373   2015-01-01\n",
              "12374   2016-01-01\n",
              "12375   2017-01-01\n",
              "Name: year, Length: 12376, dtype: datetime64[ns]"
            ]
          },
          "metadata": {},
          "execution_count": 102
        }
      ],
      "execution_count": null
    },
    {
      "cell_type": "code",
      "source": [
        "df_seleccion.dtypes"
      ],
      "metadata": {
        "colab": {
          "base_uri": "https://localhost:8080/"
        },
        "id": "6cjMJWKUlC65",
        "outputId": "e066d709-9abc-4d3c-a386-a40579eea43c"
      },
      "execution_count": null,
      "outputs": [
        {
          "output_type": "execute_result",
          "data": {
            "text/plain": [
              "codigo_iso            object\n",
              "year          datetime64[ns]\n",
              "pop                    int64\n",
              "rgdpo                float64\n",
              "dtype: object"
            ]
          },
          "metadata": {},
          "execution_count": 103
        }
      ]
    },
    {
      "cell_type": "code",
      "source": [
        "# Condición booleana de una Serie de Pandas (indexado condicional)\n",
        "df_seleccion['year'] > np.array('2015-01-01', dtype=np.datetime64)"
      ],
      "metadata": {
        "application/vnd.databricks.v1+cell": {
          "title": "",
          "showTitle": false,
          "inputWidgets": {},
          "nuid": "cb087db0-aa88-403c-9b0b-94ce9fcdfc82"
        },
        "colab": {
          "base_uri": "https://localhost:8080/"
        },
        "id": "idn6vmhSMNIR",
        "outputId": "7685b6ca-8ff9-4803-c101-95f76a171779"
      },
      "outputs": [
        {
          "output_type": "execute_result",
          "data": {
            "text/plain": [
              "0        False\n",
              "1        False\n",
              "2        False\n",
              "3        False\n",
              "4        False\n",
              "         ...  \n",
              "12371    False\n",
              "12372    False\n",
              "12373    False\n",
              "12374     True\n",
              "12375     True\n",
              "Name: year, Length: 12376, dtype: bool"
            ]
          },
          "metadata": {},
          "execution_count": 104
        }
      ],
      "execution_count": null
    },
    {
      "cell_type": "code",
      "source": [
        "# Filtramos por filas a partir de una condición en la columna year (fechas mayores a 2015)\n",
        "df_filtrado = df_seleccion.loc[df_seleccion['year'] > np.array('2015-01-01', dtype=np.datetime64)]\n",
        "df_filtrado"
      ],
      "metadata": {
        "application/vnd.databricks.v1+cell": {
          "title": "",
          "showTitle": false,
          "inputWidgets": {},
          "nuid": "a08db69a-8887-4d96-b35a-ead129a1bd66"
        },
        "colab": {
          "base_uri": "https://localhost:8080/",
          "height": 423
        },
        "id": "6yTG2LmcMNIR",
        "outputId": "30d0dd4b-1e11-4916-ed05-26b99fdc90f7"
      },
      "outputs": [
        {
          "output_type": "execute_result",
          "data": {
            "text/plain": [
              "      codigo_iso       year  pop          rgdpo\n",
              "66           ABW 2016-01-01    0    3101.279785\n",
              "67           ABW 2017-01-01    0    3144.354980\n",
              "134          AGO 2016-01-01   28  151165.046900\n",
              "135          AGO 2017-01-01   29  148737.671900\n",
              "202          AIA 2016-01-01    0     227.307556\n",
              "...          ...        ...  ...            ...\n",
              "12239        ZAF 2017-01-01   56  665931.562500\n",
              "12306        ZMB 2016-01-01   16   58932.542970\n",
              "12307        ZMB 2017-01-01   17   63231.378910\n",
              "12374        ZWE 2016-01-01   16   29420.449220\n",
              "12375        ZWE 2017-01-01   16   30940.816410\n",
              "\n",
              "[364 rows x 4 columns]"
            ],
            "text/html": [
              "\n",
              "  <div id=\"df-c2aa61d0-e54e-44bd-87f4-5142a46097a2\">\n",
              "    <div class=\"colab-df-container\">\n",
              "      <div>\n",
              "<style scoped>\n",
              "    .dataframe tbody tr th:only-of-type {\n",
              "        vertical-align: middle;\n",
              "    }\n",
              "\n",
              "    .dataframe tbody tr th {\n",
              "        vertical-align: top;\n",
              "    }\n",
              "\n",
              "    .dataframe thead th {\n",
              "        text-align: right;\n",
              "    }\n",
              "</style>\n",
              "<table border=\"1\" class=\"dataframe\">\n",
              "  <thead>\n",
              "    <tr style=\"text-align: right;\">\n",
              "      <th></th>\n",
              "      <th>codigo_iso</th>\n",
              "      <th>year</th>\n",
              "      <th>pop</th>\n",
              "      <th>rgdpo</th>\n",
              "    </tr>\n",
              "  </thead>\n",
              "  <tbody>\n",
              "    <tr>\n",
              "      <th>66</th>\n",
              "      <td>ABW</td>\n",
              "      <td>2016-01-01</td>\n",
              "      <td>0</td>\n",
              "      <td>3101.279785</td>\n",
              "    </tr>\n",
              "    <tr>\n",
              "      <th>67</th>\n",
              "      <td>ABW</td>\n",
              "      <td>2017-01-01</td>\n",
              "      <td>0</td>\n",
              "      <td>3144.354980</td>\n",
              "    </tr>\n",
              "    <tr>\n",
              "      <th>134</th>\n",
              "      <td>AGO</td>\n",
              "      <td>2016-01-01</td>\n",
              "      <td>28</td>\n",
              "      <td>151165.046900</td>\n",
              "    </tr>\n",
              "    <tr>\n",
              "      <th>135</th>\n",
              "      <td>AGO</td>\n",
              "      <td>2017-01-01</td>\n",
              "      <td>29</td>\n",
              "      <td>148737.671900</td>\n",
              "    </tr>\n",
              "    <tr>\n",
              "      <th>202</th>\n",
              "      <td>AIA</td>\n",
              "      <td>2016-01-01</td>\n",
              "      <td>0</td>\n",
              "      <td>227.307556</td>\n",
              "    </tr>\n",
              "    <tr>\n",
              "      <th>...</th>\n",
              "      <td>...</td>\n",
              "      <td>...</td>\n",
              "      <td>...</td>\n",
              "      <td>...</td>\n",
              "    </tr>\n",
              "    <tr>\n",
              "      <th>12239</th>\n",
              "      <td>ZAF</td>\n",
              "      <td>2017-01-01</td>\n",
              "      <td>56</td>\n",
              "      <td>665931.562500</td>\n",
              "    </tr>\n",
              "    <tr>\n",
              "      <th>12306</th>\n",
              "      <td>ZMB</td>\n",
              "      <td>2016-01-01</td>\n",
              "      <td>16</td>\n",
              "      <td>58932.542970</td>\n",
              "    </tr>\n",
              "    <tr>\n",
              "      <th>12307</th>\n",
              "      <td>ZMB</td>\n",
              "      <td>2017-01-01</td>\n",
              "      <td>17</td>\n",
              "      <td>63231.378910</td>\n",
              "    </tr>\n",
              "    <tr>\n",
              "      <th>12374</th>\n",
              "      <td>ZWE</td>\n",
              "      <td>2016-01-01</td>\n",
              "      <td>16</td>\n",
              "      <td>29420.449220</td>\n",
              "    </tr>\n",
              "    <tr>\n",
              "      <th>12375</th>\n",
              "      <td>ZWE</td>\n",
              "      <td>2017-01-01</td>\n",
              "      <td>16</td>\n",
              "      <td>30940.816410</td>\n",
              "    </tr>\n",
              "  </tbody>\n",
              "</table>\n",
              "<p>364 rows × 4 columns</p>\n",
              "</div>\n",
              "      <button class=\"colab-df-convert\" onclick=\"convertToInteractive('df-c2aa61d0-e54e-44bd-87f4-5142a46097a2')\"\n",
              "              title=\"Convert this dataframe to an interactive table.\"\n",
              "              style=\"display:none;\">\n",
              "        \n",
              "  <svg xmlns=\"http://www.w3.org/2000/svg\" height=\"24px\"viewBox=\"0 0 24 24\"\n",
              "       width=\"24px\">\n",
              "    <path d=\"M0 0h24v24H0V0z\" fill=\"none\"/>\n",
              "    <path d=\"M18.56 5.44l.94 2.06.94-2.06 2.06-.94-2.06-.94-.94-2.06-.94 2.06-2.06.94zm-11 1L8.5 8.5l.94-2.06 2.06-.94-2.06-.94L8.5 2.5l-.94 2.06-2.06.94zm10 10l.94 2.06.94-2.06 2.06-.94-2.06-.94-.94-2.06-.94 2.06-2.06.94z\"/><path d=\"M17.41 7.96l-1.37-1.37c-.4-.4-.92-.59-1.43-.59-.52 0-1.04.2-1.43.59L10.3 9.45l-7.72 7.72c-.78.78-.78 2.05 0 2.83L4 21.41c.39.39.9.59 1.41.59.51 0 1.02-.2 1.41-.59l7.78-7.78 2.81-2.81c.8-.78.8-2.07 0-2.86zM5.41 20L4 18.59l7.72-7.72 1.47 1.35L5.41 20z\"/>\n",
              "  </svg>\n",
              "      </button>\n",
              "      \n",
              "  <style>\n",
              "    .colab-df-container {\n",
              "      display:flex;\n",
              "      flex-wrap:wrap;\n",
              "      gap: 12px;\n",
              "    }\n",
              "\n",
              "    .colab-df-convert {\n",
              "      background-color: #E8F0FE;\n",
              "      border: none;\n",
              "      border-radius: 50%;\n",
              "      cursor: pointer;\n",
              "      display: none;\n",
              "      fill: #1967D2;\n",
              "      height: 32px;\n",
              "      padding: 0 0 0 0;\n",
              "      width: 32px;\n",
              "    }\n",
              "\n",
              "    .colab-df-convert:hover {\n",
              "      background-color: #E2EBFA;\n",
              "      box-shadow: 0px 1px 2px rgba(60, 64, 67, 0.3), 0px 1px 3px 1px rgba(60, 64, 67, 0.15);\n",
              "      fill: #174EA6;\n",
              "    }\n",
              "\n",
              "    [theme=dark] .colab-df-convert {\n",
              "      background-color: #3B4455;\n",
              "      fill: #D2E3FC;\n",
              "    }\n",
              "\n",
              "    [theme=dark] .colab-df-convert:hover {\n",
              "      background-color: #434B5C;\n",
              "      box-shadow: 0px 1px 3px 1px rgba(0, 0, 0, 0.15);\n",
              "      filter: drop-shadow(0px 1px 2px rgba(0, 0, 0, 0.3));\n",
              "      fill: #FFFFFF;\n",
              "    }\n",
              "  </style>\n",
              "\n",
              "      <script>\n",
              "        const buttonEl =\n",
              "          document.querySelector('#df-c2aa61d0-e54e-44bd-87f4-5142a46097a2 button.colab-df-convert');\n",
              "        buttonEl.style.display =\n",
              "          google.colab.kernel.accessAllowed ? 'block' : 'none';\n",
              "\n",
              "        async function convertToInteractive(key) {\n",
              "          const element = document.querySelector('#df-c2aa61d0-e54e-44bd-87f4-5142a46097a2');\n",
              "          const dataTable =\n",
              "            await google.colab.kernel.invokeFunction('convertToInteractive',\n",
              "                                                     [key], {});\n",
              "          if (!dataTable) return;\n",
              "\n",
              "          const docLinkHtml = 'Like what you see? Visit the ' +\n",
              "            '<a target=\"_blank\" href=https://colab.research.google.com/notebooks/data_table.ipynb>data table notebook</a>'\n",
              "            + ' to learn more about interactive tables.';\n",
              "          element.innerHTML = '';\n",
              "          dataTable['output_type'] = 'display_data';\n",
              "          await google.colab.output.renderOutput(dataTable, element);\n",
              "          const docLink = document.createElement('div');\n",
              "          docLink.innerHTML = docLinkHtml;\n",
              "          element.appendChild(docLink);\n",
              "        }\n",
              "      </script>\n",
              "    </div>\n",
              "  </div>\n",
              "  "
            ]
          },
          "metadata": {},
          "execution_count": 105
        }
      ],
      "execution_count": null
    },
    {
      "cell_type": "markdown",
      "source": [
        ">**Ejercicio 2:** Generar un nuevo dataframe llamado `df_mayor_pob` realizando un filtrado de las filas del dataframe `df_filtrado`, si la población es mayor a 200 millones de habitantes."
      ],
      "metadata": {
        "application/vnd.databricks.v1+cell": {
          "title": "",
          "showTitle": false,
          "inputWidgets": {},
          "nuid": "a141139c-84e7-44a8-b53a-40dbc7485ad3"
        },
        "id": "Yxb83PZVMNIR"
      }
    },
    {
      "cell_type": "code",
      "source": [
        "print(df_filtrado.keys())\n",
        "# Su código aquí\n",
        "df_mayor_pob = df_filtrado.loc[df_filtrado['pop'] > 200]\n",
        "df_mayor_pob = df_filtrado[df_filtrado['pop'] > 200]\n",
        "df_mayor_pob\n"
      ],
      "metadata": {
        "application/vnd.databricks.v1+cell": {
          "title": "",
          "showTitle": false,
          "inputWidgets": {},
          "nuid": "d05e6949-48cb-44b3-8caf-6604d402e2a1"
        },
        "id": "Z7YfQWHNMNIR",
        "colab": {
          "base_uri": "https://localhost:8080/",
          "height": 381
        },
        "outputId": "27eff512-cd18-4859-841e-a1420acd93bf"
      },
      "outputs": [
        {
          "output_type": "stream",
          "name": "stdout",
          "text": [
            "Index(['codigo_iso', 'year', 'pop', 'rgdpo'], dtype='object')\n"
          ]
        },
        {
          "output_type": "execute_result",
          "data": {
            "text/plain": [
              "      codigo_iso       year   pop        rgdpo\n",
              "1698         BRA 2016-01-01   207   2863052.75\n",
              "1699         BRA 2017-01-01   209   2890897.50\n",
              "2310         CHN 2016-01-01  1403  17360582.00\n",
              "2311         CHN 2017-01-01  1409  18383838.00\n",
              "5234         IDN 2016-01-01   261   2643358.50\n",
              "5235         IDN 2017-01-01   263   2796742.50\n",
              "5302         IND 2016-01-01  1324   7995329.50\n",
              "5303         IND 2017-01-01  1339   8599774.00\n",
              "11762        USA 2016-01-01   322  17392620.00\n",
              "11763        USA 2017-01-01   324  17778680.00"
            ],
            "text/html": [
              "\n",
              "  <div id=\"df-62a1971c-135c-45b1-9d48-2f422a5ffb73\">\n",
              "    <div class=\"colab-df-container\">\n",
              "      <div>\n",
              "<style scoped>\n",
              "    .dataframe tbody tr th:only-of-type {\n",
              "        vertical-align: middle;\n",
              "    }\n",
              "\n",
              "    .dataframe tbody tr th {\n",
              "        vertical-align: top;\n",
              "    }\n",
              "\n",
              "    .dataframe thead th {\n",
              "        text-align: right;\n",
              "    }\n",
              "</style>\n",
              "<table border=\"1\" class=\"dataframe\">\n",
              "  <thead>\n",
              "    <tr style=\"text-align: right;\">\n",
              "      <th></th>\n",
              "      <th>codigo_iso</th>\n",
              "      <th>year</th>\n",
              "      <th>pop</th>\n",
              "      <th>rgdpo</th>\n",
              "    </tr>\n",
              "  </thead>\n",
              "  <tbody>\n",
              "    <tr>\n",
              "      <th>1698</th>\n",
              "      <td>BRA</td>\n",
              "      <td>2016-01-01</td>\n",
              "      <td>207</td>\n",
              "      <td>2863052.75</td>\n",
              "    </tr>\n",
              "    <tr>\n",
              "      <th>1699</th>\n",
              "      <td>BRA</td>\n",
              "      <td>2017-01-01</td>\n",
              "      <td>209</td>\n",
              "      <td>2890897.50</td>\n",
              "    </tr>\n",
              "    <tr>\n",
              "      <th>2310</th>\n",
              "      <td>CHN</td>\n",
              "      <td>2016-01-01</td>\n",
              "      <td>1403</td>\n",
              "      <td>17360582.00</td>\n",
              "    </tr>\n",
              "    <tr>\n",
              "      <th>2311</th>\n",
              "      <td>CHN</td>\n",
              "      <td>2017-01-01</td>\n",
              "      <td>1409</td>\n",
              "      <td>18383838.00</td>\n",
              "    </tr>\n",
              "    <tr>\n",
              "      <th>5234</th>\n",
              "      <td>IDN</td>\n",
              "      <td>2016-01-01</td>\n",
              "      <td>261</td>\n",
              "      <td>2643358.50</td>\n",
              "    </tr>\n",
              "    <tr>\n",
              "      <th>5235</th>\n",
              "      <td>IDN</td>\n",
              "      <td>2017-01-01</td>\n",
              "      <td>263</td>\n",
              "      <td>2796742.50</td>\n",
              "    </tr>\n",
              "    <tr>\n",
              "      <th>5302</th>\n",
              "      <td>IND</td>\n",
              "      <td>2016-01-01</td>\n",
              "      <td>1324</td>\n",
              "      <td>7995329.50</td>\n",
              "    </tr>\n",
              "    <tr>\n",
              "      <th>5303</th>\n",
              "      <td>IND</td>\n",
              "      <td>2017-01-01</td>\n",
              "      <td>1339</td>\n",
              "      <td>8599774.00</td>\n",
              "    </tr>\n",
              "    <tr>\n",
              "      <th>11762</th>\n",
              "      <td>USA</td>\n",
              "      <td>2016-01-01</td>\n",
              "      <td>322</td>\n",
              "      <td>17392620.00</td>\n",
              "    </tr>\n",
              "    <tr>\n",
              "      <th>11763</th>\n",
              "      <td>USA</td>\n",
              "      <td>2017-01-01</td>\n",
              "      <td>324</td>\n",
              "      <td>17778680.00</td>\n",
              "    </tr>\n",
              "  </tbody>\n",
              "</table>\n",
              "</div>\n",
              "      <button class=\"colab-df-convert\" onclick=\"convertToInteractive('df-62a1971c-135c-45b1-9d48-2f422a5ffb73')\"\n",
              "              title=\"Convert this dataframe to an interactive table.\"\n",
              "              style=\"display:none;\">\n",
              "        \n",
              "  <svg xmlns=\"http://www.w3.org/2000/svg\" height=\"24px\"viewBox=\"0 0 24 24\"\n",
              "       width=\"24px\">\n",
              "    <path d=\"M0 0h24v24H0V0z\" fill=\"none\"/>\n",
              "    <path d=\"M18.56 5.44l.94 2.06.94-2.06 2.06-.94-2.06-.94-.94-2.06-.94 2.06-2.06.94zm-11 1L8.5 8.5l.94-2.06 2.06-.94-2.06-.94L8.5 2.5l-.94 2.06-2.06.94zm10 10l.94 2.06.94-2.06 2.06-.94-2.06-.94-.94-2.06-.94 2.06-2.06.94z\"/><path d=\"M17.41 7.96l-1.37-1.37c-.4-.4-.92-.59-1.43-.59-.52 0-1.04.2-1.43.59L10.3 9.45l-7.72 7.72c-.78.78-.78 2.05 0 2.83L4 21.41c.39.39.9.59 1.41.59.51 0 1.02-.2 1.41-.59l7.78-7.78 2.81-2.81c.8-.78.8-2.07 0-2.86zM5.41 20L4 18.59l7.72-7.72 1.47 1.35L5.41 20z\"/>\n",
              "  </svg>\n",
              "      </button>\n",
              "      \n",
              "  <style>\n",
              "    .colab-df-container {\n",
              "      display:flex;\n",
              "      flex-wrap:wrap;\n",
              "      gap: 12px;\n",
              "    }\n",
              "\n",
              "    .colab-df-convert {\n",
              "      background-color: #E8F0FE;\n",
              "      border: none;\n",
              "      border-radius: 50%;\n",
              "      cursor: pointer;\n",
              "      display: none;\n",
              "      fill: #1967D2;\n",
              "      height: 32px;\n",
              "      padding: 0 0 0 0;\n",
              "      width: 32px;\n",
              "    }\n",
              "\n",
              "    .colab-df-convert:hover {\n",
              "      background-color: #E2EBFA;\n",
              "      box-shadow: 0px 1px 2px rgba(60, 64, 67, 0.3), 0px 1px 3px 1px rgba(60, 64, 67, 0.15);\n",
              "      fill: #174EA6;\n",
              "    }\n",
              "\n",
              "    [theme=dark] .colab-df-convert {\n",
              "      background-color: #3B4455;\n",
              "      fill: #D2E3FC;\n",
              "    }\n",
              "\n",
              "    [theme=dark] .colab-df-convert:hover {\n",
              "      background-color: #434B5C;\n",
              "      box-shadow: 0px 1px 3px 1px rgba(0, 0, 0, 0.15);\n",
              "      filter: drop-shadow(0px 1px 2px rgba(0, 0, 0, 0.3));\n",
              "      fill: #FFFFFF;\n",
              "    }\n",
              "  </style>\n",
              "\n",
              "      <script>\n",
              "        const buttonEl =\n",
              "          document.querySelector('#df-62a1971c-135c-45b1-9d48-2f422a5ffb73 button.colab-df-convert');\n",
              "        buttonEl.style.display =\n",
              "          google.colab.kernel.accessAllowed ? 'block' : 'none';\n",
              "\n",
              "        async function convertToInteractive(key) {\n",
              "          const element = document.querySelector('#df-62a1971c-135c-45b1-9d48-2f422a5ffb73');\n",
              "          const dataTable =\n",
              "            await google.colab.kernel.invokeFunction('convertToInteractive',\n",
              "                                                     [key], {});\n",
              "          if (!dataTable) return;\n",
              "\n",
              "          const docLinkHtml = 'Like what you see? Visit the ' +\n",
              "            '<a target=\"_blank\" href=https://colab.research.google.com/notebooks/data_table.ipynb>data table notebook</a>'\n",
              "            + ' to learn more about interactive tables.';\n",
              "          element.innerHTML = '';\n",
              "          dataTable['output_type'] = 'display_data';\n",
              "          await google.colab.output.renderOutput(dataTable, element);\n",
              "          const docLink = document.createElement('div');\n",
              "          docLink.innerHTML = docLinkHtml;\n",
              "          element.appendChild(docLink);\n",
              "        }\n",
              "      </script>\n",
              "    </div>\n",
              "  </div>\n",
              "  "
            ]
          },
          "metadata": {},
          "execution_count": 106
        }
      ],
      "execution_count": null
    },
    {
      "cell_type": "code",
      "source": [
        "df_seleccion['year'] = pd.to_datetime(df_seleccion['year'], format = '%Y')\n",
        "df_seleccion['pop']  = df['pop'].fillna(0).astype(int)\n",
        "#df.dtypes\n",
        "df_seleccion\n",
        " \n",
        "df_filtrado = df_seleccion.loc[df_seleccion['year'] > np.array('2015-01-01', dtype=np.datetime64)]\n",
        "df_filtrado\n",
        " \n",
        "df_mayor_pob = df_filtrado.loc[df_filtrado['pop'] > 200]\n",
        "df_mayor_pob"
      ],
      "metadata": {
        "id": "Ti-fviuCrwtP",
        "colab": {
          "base_uri": "https://localhost:8080/",
          "height": 363
        },
        "outputId": "a45127e0-d876-47ef-b068-7d4497a67ff7"
      },
      "execution_count": null,
      "outputs": [
        {
          "output_type": "execute_result",
          "data": {
            "text/plain": [
              "      codigo_iso       year   pop        rgdpo\n",
              "1698         BRA 2016-01-01   207   2863052.75\n",
              "1699         BRA 2017-01-01   209   2890897.50\n",
              "2310         CHN 2016-01-01  1403  17360582.00\n",
              "2311         CHN 2017-01-01  1409  18383838.00\n",
              "5234         IDN 2016-01-01   261   2643358.50\n",
              "5235         IDN 2017-01-01   263   2796742.50\n",
              "5302         IND 2016-01-01  1324   7995329.50\n",
              "5303         IND 2017-01-01  1339   8599774.00\n",
              "11762        USA 2016-01-01   322  17392620.00\n",
              "11763        USA 2017-01-01   324  17778680.00"
            ],
            "text/html": [
              "\n",
              "  <div id=\"df-c102f26b-5ab1-450c-aca1-e4c4ddf5a971\">\n",
              "    <div class=\"colab-df-container\">\n",
              "      <div>\n",
              "<style scoped>\n",
              "    .dataframe tbody tr th:only-of-type {\n",
              "        vertical-align: middle;\n",
              "    }\n",
              "\n",
              "    .dataframe tbody tr th {\n",
              "        vertical-align: top;\n",
              "    }\n",
              "\n",
              "    .dataframe thead th {\n",
              "        text-align: right;\n",
              "    }\n",
              "</style>\n",
              "<table border=\"1\" class=\"dataframe\">\n",
              "  <thead>\n",
              "    <tr style=\"text-align: right;\">\n",
              "      <th></th>\n",
              "      <th>codigo_iso</th>\n",
              "      <th>year</th>\n",
              "      <th>pop</th>\n",
              "      <th>rgdpo</th>\n",
              "    </tr>\n",
              "  </thead>\n",
              "  <tbody>\n",
              "    <tr>\n",
              "      <th>1698</th>\n",
              "      <td>BRA</td>\n",
              "      <td>2016-01-01</td>\n",
              "      <td>207</td>\n",
              "      <td>2863052.75</td>\n",
              "    </tr>\n",
              "    <tr>\n",
              "      <th>1699</th>\n",
              "      <td>BRA</td>\n",
              "      <td>2017-01-01</td>\n",
              "      <td>209</td>\n",
              "      <td>2890897.50</td>\n",
              "    </tr>\n",
              "    <tr>\n",
              "      <th>2310</th>\n",
              "      <td>CHN</td>\n",
              "      <td>2016-01-01</td>\n",
              "      <td>1403</td>\n",
              "      <td>17360582.00</td>\n",
              "    </tr>\n",
              "    <tr>\n",
              "      <th>2311</th>\n",
              "      <td>CHN</td>\n",
              "      <td>2017-01-01</td>\n",
              "      <td>1409</td>\n",
              "      <td>18383838.00</td>\n",
              "    </tr>\n",
              "    <tr>\n",
              "      <th>5234</th>\n",
              "      <td>IDN</td>\n",
              "      <td>2016-01-01</td>\n",
              "      <td>261</td>\n",
              "      <td>2643358.50</td>\n",
              "    </tr>\n",
              "    <tr>\n",
              "      <th>5235</th>\n",
              "      <td>IDN</td>\n",
              "      <td>2017-01-01</td>\n",
              "      <td>263</td>\n",
              "      <td>2796742.50</td>\n",
              "    </tr>\n",
              "    <tr>\n",
              "      <th>5302</th>\n",
              "      <td>IND</td>\n",
              "      <td>2016-01-01</td>\n",
              "      <td>1324</td>\n",
              "      <td>7995329.50</td>\n",
              "    </tr>\n",
              "    <tr>\n",
              "      <th>5303</th>\n",
              "      <td>IND</td>\n",
              "      <td>2017-01-01</td>\n",
              "      <td>1339</td>\n",
              "      <td>8599774.00</td>\n",
              "    </tr>\n",
              "    <tr>\n",
              "      <th>11762</th>\n",
              "      <td>USA</td>\n",
              "      <td>2016-01-01</td>\n",
              "      <td>322</td>\n",
              "      <td>17392620.00</td>\n",
              "    </tr>\n",
              "    <tr>\n",
              "      <th>11763</th>\n",
              "      <td>USA</td>\n",
              "      <td>2017-01-01</td>\n",
              "      <td>324</td>\n",
              "      <td>17778680.00</td>\n",
              "    </tr>\n",
              "  </tbody>\n",
              "</table>\n",
              "</div>\n",
              "      <button class=\"colab-df-convert\" onclick=\"convertToInteractive('df-c102f26b-5ab1-450c-aca1-e4c4ddf5a971')\"\n",
              "              title=\"Convert this dataframe to an interactive table.\"\n",
              "              style=\"display:none;\">\n",
              "        \n",
              "  <svg xmlns=\"http://www.w3.org/2000/svg\" height=\"24px\"viewBox=\"0 0 24 24\"\n",
              "       width=\"24px\">\n",
              "    <path d=\"M0 0h24v24H0V0z\" fill=\"none\"/>\n",
              "    <path d=\"M18.56 5.44l.94 2.06.94-2.06 2.06-.94-2.06-.94-.94-2.06-.94 2.06-2.06.94zm-11 1L8.5 8.5l.94-2.06 2.06-.94-2.06-.94L8.5 2.5l-.94 2.06-2.06.94zm10 10l.94 2.06.94-2.06 2.06-.94-2.06-.94-.94-2.06-.94 2.06-2.06.94z\"/><path d=\"M17.41 7.96l-1.37-1.37c-.4-.4-.92-.59-1.43-.59-.52 0-1.04.2-1.43.59L10.3 9.45l-7.72 7.72c-.78.78-.78 2.05 0 2.83L4 21.41c.39.39.9.59 1.41.59.51 0 1.02-.2 1.41-.59l7.78-7.78 2.81-2.81c.8-.78.8-2.07 0-2.86zM5.41 20L4 18.59l7.72-7.72 1.47 1.35L5.41 20z\"/>\n",
              "  </svg>\n",
              "      </button>\n",
              "      \n",
              "  <style>\n",
              "    .colab-df-container {\n",
              "      display:flex;\n",
              "      flex-wrap:wrap;\n",
              "      gap: 12px;\n",
              "    }\n",
              "\n",
              "    .colab-df-convert {\n",
              "      background-color: #E8F0FE;\n",
              "      border: none;\n",
              "      border-radius: 50%;\n",
              "      cursor: pointer;\n",
              "      display: none;\n",
              "      fill: #1967D2;\n",
              "      height: 32px;\n",
              "      padding: 0 0 0 0;\n",
              "      width: 32px;\n",
              "    }\n",
              "\n",
              "    .colab-df-convert:hover {\n",
              "      background-color: #E2EBFA;\n",
              "      box-shadow: 0px 1px 2px rgba(60, 64, 67, 0.3), 0px 1px 3px 1px rgba(60, 64, 67, 0.15);\n",
              "      fill: #174EA6;\n",
              "    }\n",
              "\n",
              "    [theme=dark] .colab-df-convert {\n",
              "      background-color: #3B4455;\n",
              "      fill: #D2E3FC;\n",
              "    }\n",
              "\n",
              "    [theme=dark] .colab-df-convert:hover {\n",
              "      background-color: #434B5C;\n",
              "      box-shadow: 0px 1px 3px 1px rgba(0, 0, 0, 0.15);\n",
              "      filter: drop-shadow(0px 1px 2px rgba(0, 0, 0, 0.3));\n",
              "      fill: #FFFFFF;\n",
              "    }\n",
              "  </style>\n",
              "\n",
              "      <script>\n",
              "        const buttonEl =\n",
              "          document.querySelector('#df-c102f26b-5ab1-450c-aca1-e4c4ddf5a971 button.colab-df-convert');\n",
              "        buttonEl.style.display =\n",
              "          google.colab.kernel.accessAllowed ? 'block' : 'none';\n",
              "\n",
              "        async function convertToInteractive(key) {\n",
              "          const element = document.querySelector('#df-c102f26b-5ab1-450c-aca1-e4c4ddf5a971');\n",
              "          const dataTable =\n",
              "            await google.colab.kernel.invokeFunction('convertToInteractive',\n",
              "                                                     [key], {});\n",
              "          if (!dataTable) return;\n",
              "\n",
              "          const docLinkHtml = 'Like what you see? Visit the ' +\n",
              "            '<a target=\"_blank\" href=https://colab.research.google.com/notebooks/data_table.ipynb>data table notebook</a>'\n",
              "            + ' to learn more about interactive tables.';\n",
              "          element.innerHTML = '';\n",
              "          dataTable['output_type'] = 'display_data';\n",
              "          await google.colab.output.renderOutput(dataTable, element);\n",
              "          const docLink = document.createElement('div');\n",
              "          docLink.innerHTML = docLinkHtml;\n",
              "          element.appendChild(docLink);\n",
              "        }\n",
              "      </script>\n",
              "    </div>\n",
              "  </div>\n",
              "  "
            ]
          },
          "metadata": {},
          "execution_count": 107
        }
      ]
    },
    {
      "cell_type": "markdown",
      "source": [
        "### Solución"
      ],
      "metadata": {
        "id": "anQevJDHM2SB"
      }
    },
    {
      "cell_type": "code",
      "source": [
        "df_mayor_pob = df_filtrado.loc[df_filtrado['pob_millones'] > 200]\n",
        "df_mayor_pob"
      ],
      "metadata": {
        "application/vnd.databricks.v1+cell": {
          "title": "",
          "showTitle": false,
          "inputWidgets": {},
          "nuid": "e0fbb3cf-14ce-46c9-b0c2-f8bd35e28357"
        },
        "colab": {
          "base_uri": "https://localhost:8080/",
          "height": 550
        },
        "id": "o0KQm1LrMNIR",
        "outputId": "d255ad7f-a419-424e-ed93-129e2c62d21c"
      },
      "outputs": [
        {
          "output_type": "error",
          "ename": "KeyError",
          "evalue": "ignored",
          "traceback": [
            "\u001b[0;31m---------------------------------------------------------------------------\u001b[0m",
            "\u001b[0;31mKeyError\u001b[0m                                  Traceback (most recent call last)",
            "\u001b[0;32m/usr/local/lib/python3.7/dist-packages/pandas/core/indexes/base.py\u001b[0m in \u001b[0;36mget_loc\u001b[0;34m(self, key, method, tolerance)\u001b[0m\n\u001b[1;32m   3360\u001b[0m             \u001b[0;32mtry\u001b[0m\u001b[0;34m:\u001b[0m\u001b[0;34m\u001b[0m\u001b[0;34m\u001b[0m\u001b[0m\n\u001b[0;32m-> 3361\u001b[0;31m                 \u001b[0;32mreturn\u001b[0m \u001b[0mself\u001b[0m\u001b[0;34m.\u001b[0m\u001b[0m_engine\u001b[0m\u001b[0;34m.\u001b[0m\u001b[0mget_loc\u001b[0m\u001b[0;34m(\u001b[0m\u001b[0mcasted_key\u001b[0m\u001b[0;34m)\u001b[0m\u001b[0;34m\u001b[0m\u001b[0;34m\u001b[0m\u001b[0m\n\u001b[0m\u001b[1;32m   3362\u001b[0m             \u001b[0;32mexcept\u001b[0m \u001b[0mKeyError\u001b[0m \u001b[0;32mas\u001b[0m \u001b[0merr\u001b[0m\u001b[0;34m:\u001b[0m\u001b[0;34m\u001b[0m\u001b[0;34m\u001b[0m\u001b[0m\n",
            "\u001b[0;32m/usr/local/lib/python3.7/dist-packages/pandas/_libs/index.pyx\u001b[0m in \u001b[0;36mpandas._libs.index.IndexEngine.get_loc\u001b[0;34m()\u001b[0m\n",
            "\u001b[0;32m/usr/local/lib/python3.7/dist-packages/pandas/_libs/index.pyx\u001b[0m in \u001b[0;36mpandas._libs.index.IndexEngine.get_loc\u001b[0;34m()\u001b[0m\n",
            "\u001b[0;32mpandas/_libs/hashtable_class_helper.pxi\u001b[0m in \u001b[0;36mpandas._libs.hashtable.PyObjectHashTable.get_item\u001b[0;34m()\u001b[0m\n",
            "\u001b[0;32mpandas/_libs/hashtable_class_helper.pxi\u001b[0m in \u001b[0;36mpandas._libs.hashtable.PyObjectHashTable.get_item\u001b[0;34m()\u001b[0m\n",
            "\u001b[0;31mKeyError\u001b[0m: 'pob_millones'",
            "\nThe above exception was the direct cause of the following exception:\n",
            "\u001b[0;31mKeyError\u001b[0m                                  Traceback (most recent call last)",
            "\u001b[0;32m<ipython-input-108-6eb426239e0a>\u001b[0m in \u001b[0;36m<module>\u001b[0;34m\u001b[0m\n\u001b[0;32m----> 1\u001b[0;31m \u001b[0mdf_mayor_pob\u001b[0m \u001b[0;34m=\u001b[0m \u001b[0mdf_filtrado\u001b[0m\u001b[0;34m.\u001b[0m\u001b[0mloc\u001b[0m\u001b[0;34m[\u001b[0m\u001b[0mdf_filtrado\u001b[0m\u001b[0;34m[\u001b[0m\u001b[0;34m'pob_millones'\u001b[0m\u001b[0;34m]\u001b[0m \u001b[0;34m>\u001b[0m \u001b[0;36m200\u001b[0m\u001b[0;34m]\u001b[0m\u001b[0;34m\u001b[0m\u001b[0;34m\u001b[0m\u001b[0m\n\u001b[0m\u001b[1;32m      2\u001b[0m \u001b[0mdf_mayor_pob\u001b[0m\u001b[0;34m\u001b[0m\u001b[0;34m\u001b[0m\u001b[0m\n",
            "\u001b[0;32m/usr/local/lib/python3.7/dist-packages/pandas/core/frame.py\u001b[0m in \u001b[0;36m__getitem__\u001b[0;34m(self, key)\u001b[0m\n\u001b[1;32m   3456\u001b[0m             \u001b[0;32mif\u001b[0m \u001b[0mself\u001b[0m\u001b[0;34m.\u001b[0m\u001b[0mcolumns\u001b[0m\u001b[0;34m.\u001b[0m\u001b[0mnlevels\u001b[0m \u001b[0;34m>\u001b[0m \u001b[0;36m1\u001b[0m\u001b[0;34m:\u001b[0m\u001b[0;34m\u001b[0m\u001b[0;34m\u001b[0m\u001b[0m\n\u001b[1;32m   3457\u001b[0m                 \u001b[0;32mreturn\u001b[0m \u001b[0mself\u001b[0m\u001b[0;34m.\u001b[0m\u001b[0m_getitem_multilevel\u001b[0m\u001b[0;34m(\u001b[0m\u001b[0mkey\u001b[0m\u001b[0;34m)\u001b[0m\u001b[0;34m\u001b[0m\u001b[0;34m\u001b[0m\u001b[0m\n\u001b[0;32m-> 3458\u001b[0;31m             \u001b[0mindexer\u001b[0m \u001b[0;34m=\u001b[0m \u001b[0mself\u001b[0m\u001b[0;34m.\u001b[0m\u001b[0mcolumns\u001b[0m\u001b[0;34m.\u001b[0m\u001b[0mget_loc\u001b[0m\u001b[0;34m(\u001b[0m\u001b[0mkey\u001b[0m\u001b[0;34m)\u001b[0m\u001b[0;34m\u001b[0m\u001b[0;34m\u001b[0m\u001b[0m\n\u001b[0m\u001b[1;32m   3459\u001b[0m             \u001b[0;32mif\u001b[0m \u001b[0mis_integer\u001b[0m\u001b[0;34m(\u001b[0m\u001b[0mindexer\u001b[0m\u001b[0;34m)\u001b[0m\u001b[0;34m:\u001b[0m\u001b[0;34m\u001b[0m\u001b[0;34m\u001b[0m\u001b[0m\n\u001b[1;32m   3460\u001b[0m                 \u001b[0mindexer\u001b[0m \u001b[0;34m=\u001b[0m \u001b[0;34m[\u001b[0m\u001b[0mindexer\u001b[0m\u001b[0;34m]\u001b[0m\u001b[0;34m\u001b[0m\u001b[0;34m\u001b[0m\u001b[0m\n",
            "\u001b[0;32m/usr/local/lib/python3.7/dist-packages/pandas/core/indexes/base.py\u001b[0m in \u001b[0;36mget_loc\u001b[0;34m(self, key, method, tolerance)\u001b[0m\n\u001b[1;32m   3361\u001b[0m                 \u001b[0;32mreturn\u001b[0m \u001b[0mself\u001b[0m\u001b[0;34m.\u001b[0m\u001b[0m_engine\u001b[0m\u001b[0;34m.\u001b[0m\u001b[0mget_loc\u001b[0m\u001b[0;34m(\u001b[0m\u001b[0mcasted_key\u001b[0m\u001b[0;34m)\u001b[0m\u001b[0;34m\u001b[0m\u001b[0;34m\u001b[0m\u001b[0m\n\u001b[1;32m   3362\u001b[0m             \u001b[0;32mexcept\u001b[0m \u001b[0mKeyError\u001b[0m \u001b[0;32mas\u001b[0m \u001b[0merr\u001b[0m\u001b[0;34m:\u001b[0m\u001b[0;34m\u001b[0m\u001b[0;34m\u001b[0m\u001b[0m\n\u001b[0;32m-> 3363\u001b[0;31m                 \u001b[0;32mraise\u001b[0m \u001b[0mKeyError\u001b[0m\u001b[0;34m(\u001b[0m\u001b[0mkey\u001b[0m\u001b[0;34m)\u001b[0m \u001b[0;32mfrom\u001b[0m \u001b[0merr\u001b[0m\u001b[0;34m\u001b[0m\u001b[0;34m\u001b[0m\u001b[0m\n\u001b[0m\u001b[1;32m   3364\u001b[0m \u001b[0;34m\u001b[0m\u001b[0m\n\u001b[1;32m   3365\u001b[0m         \u001b[0;32mif\u001b[0m \u001b[0mis_scalar\u001b[0m\u001b[0;34m(\u001b[0m\u001b[0mkey\u001b[0m\u001b[0;34m)\u001b[0m \u001b[0;32mand\u001b[0m \u001b[0misna\u001b[0m\u001b[0;34m(\u001b[0m\u001b[0mkey\u001b[0m\u001b[0;34m)\u001b[0m \u001b[0;32mand\u001b[0m \u001b[0;32mnot\u001b[0m \u001b[0mself\u001b[0m\u001b[0;34m.\u001b[0m\u001b[0mhasnans\u001b[0m\u001b[0;34m:\u001b[0m\u001b[0;34m\u001b[0m\u001b[0;34m\u001b[0m\u001b[0m\n",
            "\u001b[0;31mKeyError\u001b[0m: 'pob_millones'"
          ]
        }
      ],
      "execution_count": null
    },
    {
      "cell_type": "markdown",
      "source": [
        "### Creación de nuevas columnas"
      ],
      "metadata": {
        "application/vnd.databricks.v1+cell": {
          "title": "",
          "showTitle": false,
          "inputWidgets": {},
          "nuid": "49d889fa-d401-48d4-89d4-bc0652bcac8c"
        },
        "id": "5y4Ezm8fMNIR"
      }
    },
    {
      "cell_type": "code",
      "source": [
        "print(df_mayor_pob.keys())\n",
        "df_percapita = df_mayor_pob.copy()\n",
        "df_percapita.loc[:, 'pib_percapita'] = df_percapita['rgdpo'] / df_percapita['pop']\n",
        "df_percapita['pib_percapita_2'] = (df_percapita['rgdpo'] / df_percapita['pop'])**2\n",
        "df_percapita"
      ],
      "metadata": {
        "application/vnd.databricks.v1+cell": {
          "title": "",
          "showTitle": false,
          "inputWidgets": {},
          "nuid": "eb1aa74e-6179-48e1-a4f8-f2cd96aca1ab"
        },
        "colab": {
          "base_uri": "https://localhost:8080/",
          "height": 381
        },
        "id": "Vu1B9NLjMNIR",
        "outputId": "00f2fb8b-035a-4fac-de32-2e167a16fb2d"
      },
      "outputs": [
        {
          "output_type": "stream",
          "name": "stdout",
          "text": [
            "Index(['codigo_iso', 'year', 'pop', 'rgdpo'], dtype='object')\n"
          ]
        },
        {
          "output_type": "execute_result",
          "data": {
            "text/plain": [
              "      codigo_iso       year   pop        rgdpo  pib_percapita  pib_percapita_2\n",
              "1698         BRA 2016-01-01   207   2863052.75   13831.172705     1.913013e+08\n",
              "1699         BRA 2017-01-01   209   2890897.50   13832.045455     1.913255e+08\n",
              "2310         CHN 2016-01-01  1403  17360582.00   12373.900214     1.531134e+08\n",
              "2311         CHN 2017-01-01  1409  18383838.00   13047.436480     1.702356e+08\n",
              "5234         IDN 2016-01-01   261   2643358.50   10127.810345     1.025725e+08\n",
              "5235         IDN 2017-01-01   263   2796742.50   10634.001901     1.130820e+08\n",
              "5302         IND 2016-01-01  1324   7995329.50    6038.768505     3.646673e+07\n",
              "5303         IND 2017-01-01  1339   8599774.00    6422.534727     4.124895e+07\n",
              "11762        USA 2016-01-01   322  17392620.00   54014.347826     2.917550e+09\n",
              "11763        USA 2017-01-01   324  17778680.00   54872.469136     3.010988e+09"
            ],
            "text/html": [
              "\n",
              "  <div id=\"df-32567321-e12c-4187-b523-28a928e05853\">\n",
              "    <div class=\"colab-df-container\">\n",
              "      <div>\n",
              "<style scoped>\n",
              "    .dataframe tbody tr th:only-of-type {\n",
              "        vertical-align: middle;\n",
              "    }\n",
              "\n",
              "    .dataframe tbody tr th {\n",
              "        vertical-align: top;\n",
              "    }\n",
              "\n",
              "    .dataframe thead th {\n",
              "        text-align: right;\n",
              "    }\n",
              "</style>\n",
              "<table border=\"1\" class=\"dataframe\">\n",
              "  <thead>\n",
              "    <tr style=\"text-align: right;\">\n",
              "      <th></th>\n",
              "      <th>codigo_iso</th>\n",
              "      <th>year</th>\n",
              "      <th>pop</th>\n",
              "      <th>rgdpo</th>\n",
              "      <th>pib_percapita</th>\n",
              "      <th>pib_percapita_2</th>\n",
              "    </tr>\n",
              "  </thead>\n",
              "  <tbody>\n",
              "    <tr>\n",
              "      <th>1698</th>\n",
              "      <td>BRA</td>\n",
              "      <td>2016-01-01</td>\n",
              "      <td>207</td>\n",
              "      <td>2863052.75</td>\n",
              "      <td>13831.172705</td>\n",
              "      <td>1.913013e+08</td>\n",
              "    </tr>\n",
              "    <tr>\n",
              "      <th>1699</th>\n",
              "      <td>BRA</td>\n",
              "      <td>2017-01-01</td>\n",
              "      <td>209</td>\n",
              "      <td>2890897.50</td>\n",
              "      <td>13832.045455</td>\n",
              "      <td>1.913255e+08</td>\n",
              "    </tr>\n",
              "    <tr>\n",
              "      <th>2310</th>\n",
              "      <td>CHN</td>\n",
              "      <td>2016-01-01</td>\n",
              "      <td>1403</td>\n",
              "      <td>17360582.00</td>\n",
              "      <td>12373.900214</td>\n",
              "      <td>1.531134e+08</td>\n",
              "    </tr>\n",
              "    <tr>\n",
              "      <th>2311</th>\n",
              "      <td>CHN</td>\n",
              "      <td>2017-01-01</td>\n",
              "      <td>1409</td>\n",
              "      <td>18383838.00</td>\n",
              "      <td>13047.436480</td>\n",
              "      <td>1.702356e+08</td>\n",
              "    </tr>\n",
              "    <tr>\n",
              "      <th>5234</th>\n",
              "      <td>IDN</td>\n",
              "      <td>2016-01-01</td>\n",
              "      <td>261</td>\n",
              "      <td>2643358.50</td>\n",
              "      <td>10127.810345</td>\n",
              "      <td>1.025725e+08</td>\n",
              "    </tr>\n",
              "    <tr>\n",
              "      <th>5235</th>\n",
              "      <td>IDN</td>\n",
              "      <td>2017-01-01</td>\n",
              "      <td>263</td>\n",
              "      <td>2796742.50</td>\n",
              "      <td>10634.001901</td>\n",
              "      <td>1.130820e+08</td>\n",
              "    </tr>\n",
              "    <tr>\n",
              "      <th>5302</th>\n",
              "      <td>IND</td>\n",
              "      <td>2016-01-01</td>\n",
              "      <td>1324</td>\n",
              "      <td>7995329.50</td>\n",
              "      <td>6038.768505</td>\n",
              "      <td>3.646673e+07</td>\n",
              "    </tr>\n",
              "    <tr>\n",
              "      <th>5303</th>\n",
              "      <td>IND</td>\n",
              "      <td>2017-01-01</td>\n",
              "      <td>1339</td>\n",
              "      <td>8599774.00</td>\n",
              "      <td>6422.534727</td>\n",
              "      <td>4.124895e+07</td>\n",
              "    </tr>\n",
              "    <tr>\n",
              "      <th>11762</th>\n",
              "      <td>USA</td>\n",
              "      <td>2016-01-01</td>\n",
              "      <td>322</td>\n",
              "      <td>17392620.00</td>\n",
              "      <td>54014.347826</td>\n",
              "      <td>2.917550e+09</td>\n",
              "    </tr>\n",
              "    <tr>\n",
              "      <th>11763</th>\n",
              "      <td>USA</td>\n",
              "      <td>2017-01-01</td>\n",
              "      <td>324</td>\n",
              "      <td>17778680.00</td>\n",
              "      <td>54872.469136</td>\n",
              "      <td>3.010988e+09</td>\n",
              "    </tr>\n",
              "  </tbody>\n",
              "</table>\n",
              "</div>\n",
              "      <button class=\"colab-df-convert\" onclick=\"convertToInteractive('df-32567321-e12c-4187-b523-28a928e05853')\"\n",
              "              title=\"Convert this dataframe to an interactive table.\"\n",
              "              style=\"display:none;\">\n",
              "        \n",
              "  <svg xmlns=\"http://www.w3.org/2000/svg\" height=\"24px\"viewBox=\"0 0 24 24\"\n",
              "       width=\"24px\">\n",
              "    <path d=\"M0 0h24v24H0V0z\" fill=\"none\"/>\n",
              "    <path d=\"M18.56 5.44l.94 2.06.94-2.06 2.06-.94-2.06-.94-.94-2.06-.94 2.06-2.06.94zm-11 1L8.5 8.5l.94-2.06 2.06-.94-2.06-.94L8.5 2.5l-.94 2.06-2.06.94zm10 10l.94 2.06.94-2.06 2.06-.94-2.06-.94-.94-2.06-.94 2.06-2.06.94z\"/><path d=\"M17.41 7.96l-1.37-1.37c-.4-.4-.92-.59-1.43-.59-.52 0-1.04.2-1.43.59L10.3 9.45l-7.72 7.72c-.78.78-.78 2.05 0 2.83L4 21.41c.39.39.9.59 1.41.59.51 0 1.02-.2 1.41-.59l7.78-7.78 2.81-2.81c.8-.78.8-2.07 0-2.86zM5.41 20L4 18.59l7.72-7.72 1.47 1.35L5.41 20z\"/>\n",
              "  </svg>\n",
              "      </button>\n",
              "      \n",
              "  <style>\n",
              "    .colab-df-container {\n",
              "      display:flex;\n",
              "      flex-wrap:wrap;\n",
              "      gap: 12px;\n",
              "    }\n",
              "\n",
              "    .colab-df-convert {\n",
              "      background-color: #E8F0FE;\n",
              "      border: none;\n",
              "      border-radius: 50%;\n",
              "      cursor: pointer;\n",
              "      display: none;\n",
              "      fill: #1967D2;\n",
              "      height: 32px;\n",
              "      padding: 0 0 0 0;\n",
              "      width: 32px;\n",
              "    }\n",
              "\n",
              "    .colab-df-convert:hover {\n",
              "      background-color: #E2EBFA;\n",
              "      box-shadow: 0px 1px 2px rgba(60, 64, 67, 0.3), 0px 1px 3px 1px rgba(60, 64, 67, 0.15);\n",
              "      fill: #174EA6;\n",
              "    }\n",
              "\n",
              "    [theme=dark] .colab-df-convert {\n",
              "      background-color: #3B4455;\n",
              "      fill: #D2E3FC;\n",
              "    }\n",
              "\n",
              "    [theme=dark] .colab-df-convert:hover {\n",
              "      background-color: #434B5C;\n",
              "      box-shadow: 0px 1px 3px 1px rgba(0, 0, 0, 0.15);\n",
              "      filter: drop-shadow(0px 1px 2px rgba(0, 0, 0, 0.3));\n",
              "      fill: #FFFFFF;\n",
              "    }\n",
              "  </style>\n",
              "\n",
              "      <script>\n",
              "        const buttonEl =\n",
              "          document.querySelector('#df-32567321-e12c-4187-b523-28a928e05853 button.colab-df-convert');\n",
              "        buttonEl.style.display =\n",
              "          google.colab.kernel.accessAllowed ? 'block' : 'none';\n",
              "\n",
              "        async function convertToInteractive(key) {\n",
              "          const element = document.querySelector('#df-32567321-e12c-4187-b523-28a928e05853');\n",
              "          const dataTable =\n",
              "            await google.colab.kernel.invokeFunction('convertToInteractive',\n",
              "                                                     [key], {});\n",
              "          if (!dataTable) return;\n",
              "\n",
              "          const docLinkHtml = 'Like what you see? Visit the ' +\n",
              "            '<a target=\"_blank\" href=https://colab.research.google.com/notebooks/data_table.ipynb>data table notebook</a>'\n",
              "            + ' to learn more about interactive tables.';\n",
              "          element.innerHTML = '';\n",
              "          dataTable['output_type'] = 'display_data';\n",
              "          await google.colab.output.renderOutput(dataTable, element);\n",
              "          const docLink = document.createElement('div');\n",
              "          docLink.innerHTML = docLinkHtml;\n",
              "          element.appendChild(docLink);\n",
              "        }\n",
              "      </script>\n",
              "    </div>\n",
              "  </div>\n",
              "  "
            ]
          },
          "metadata": {},
          "execution_count": 109
        }
      ],
      "execution_count": null
    },
    {
      "cell_type": "markdown",
      "source": [
        "### Ordenamiento en el DataFrame"
      ],
      "metadata": {
        "application/vnd.databricks.v1+cell": {
          "title": "",
          "showTitle": false,
          "inputWidgets": {},
          "nuid": "f972e0de-e9be-4946-84a1-0e399892376a"
        },
        "id": "Xyv2rG_cMNIS"
      }
    },
    {
      "cell_type": "code",
      "source": [
        "df_percapita.sort_values(by='pop', ascending = True)"
      ],
      "metadata": {
        "application/vnd.databricks.v1+cell": {
          "title": "",
          "showTitle": false,
          "inputWidgets": {},
          "nuid": "38c37b9d-1327-4a46-8b30-c8ca4c8d8eb5"
        },
        "colab": {
          "base_uri": "https://localhost:8080/",
          "height": 363
        },
        "id": "TDfUMpKSMNIS",
        "outputId": "71f32710-2cc3-4f93-c164-ba510f73c302"
      },
      "outputs": [
        {
          "output_type": "execute_result",
          "data": {
            "text/plain": [
              "      codigo_iso       year   pop        rgdpo  pib_percapita  pib_percapita_2\n",
              "1698         BRA 2016-01-01   207   2863052.75   13831.172705     1.913013e+08\n",
              "1699         BRA 2017-01-01   209   2890897.50   13832.045455     1.913255e+08\n",
              "5234         IDN 2016-01-01   261   2643358.50   10127.810345     1.025725e+08\n",
              "5235         IDN 2017-01-01   263   2796742.50   10634.001901     1.130820e+08\n",
              "11762        USA 2016-01-01   322  17392620.00   54014.347826     2.917550e+09\n",
              "11763        USA 2017-01-01   324  17778680.00   54872.469136     3.010988e+09\n",
              "5302         IND 2016-01-01  1324   7995329.50    6038.768505     3.646673e+07\n",
              "5303         IND 2017-01-01  1339   8599774.00    6422.534727     4.124895e+07\n",
              "2310         CHN 2016-01-01  1403  17360582.00   12373.900214     1.531134e+08\n",
              "2311         CHN 2017-01-01  1409  18383838.00   13047.436480     1.702356e+08"
            ],
            "text/html": [
              "\n",
              "  <div id=\"df-324fe3d5-5a83-4587-b2cf-35d32c37b5c0\">\n",
              "    <div class=\"colab-df-container\">\n",
              "      <div>\n",
              "<style scoped>\n",
              "    .dataframe tbody tr th:only-of-type {\n",
              "        vertical-align: middle;\n",
              "    }\n",
              "\n",
              "    .dataframe tbody tr th {\n",
              "        vertical-align: top;\n",
              "    }\n",
              "\n",
              "    .dataframe thead th {\n",
              "        text-align: right;\n",
              "    }\n",
              "</style>\n",
              "<table border=\"1\" class=\"dataframe\">\n",
              "  <thead>\n",
              "    <tr style=\"text-align: right;\">\n",
              "      <th></th>\n",
              "      <th>codigo_iso</th>\n",
              "      <th>year</th>\n",
              "      <th>pop</th>\n",
              "      <th>rgdpo</th>\n",
              "      <th>pib_percapita</th>\n",
              "      <th>pib_percapita_2</th>\n",
              "    </tr>\n",
              "  </thead>\n",
              "  <tbody>\n",
              "    <tr>\n",
              "      <th>1698</th>\n",
              "      <td>BRA</td>\n",
              "      <td>2016-01-01</td>\n",
              "      <td>207</td>\n",
              "      <td>2863052.75</td>\n",
              "      <td>13831.172705</td>\n",
              "      <td>1.913013e+08</td>\n",
              "    </tr>\n",
              "    <tr>\n",
              "      <th>1699</th>\n",
              "      <td>BRA</td>\n",
              "      <td>2017-01-01</td>\n",
              "      <td>209</td>\n",
              "      <td>2890897.50</td>\n",
              "      <td>13832.045455</td>\n",
              "      <td>1.913255e+08</td>\n",
              "    </tr>\n",
              "    <tr>\n",
              "      <th>5234</th>\n",
              "      <td>IDN</td>\n",
              "      <td>2016-01-01</td>\n",
              "      <td>261</td>\n",
              "      <td>2643358.50</td>\n",
              "      <td>10127.810345</td>\n",
              "      <td>1.025725e+08</td>\n",
              "    </tr>\n",
              "    <tr>\n",
              "      <th>5235</th>\n",
              "      <td>IDN</td>\n",
              "      <td>2017-01-01</td>\n",
              "      <td>263</td>\n",
              "      <td>2796742.50</td>\n",
              "      <td>10634.001901</td>\n",
              "      <td>1.130820e+08</td>\n",
              "    </tr>\n",
              "    <tr>\n",
              "      <th>11762</th>\n",
              "      <td>USA</td>\n",
              "      <td>2016-01-01</td>\n",
              "      <td>322</td>\n",
              "      <td>17392620.00</td>\n",
              "      <td>54014.347826</td>\n",
              "      <td>2.917550e+09</td>\n",
              "    </tr>\n",
              "    <tr>\n",
              "      <th>11763</th>\n",
              "      <td>USA</td>\n",
              "      <td>2017-01-01</td>\n",
              "      <td>324</td>\n",
              "      <td>17778680.00</td>\n",
              "      <td>54872.469136</td>\n",
              "      <td>3.010988e+09</td>\n",
              "    </tr>\n",
              "    <tr>\n",
              "      <th>5302</th>\n",
              "      <td>IND</td>\n",
              "      <td>2016-01-01</td>\n",
              "      <td>1324</td>\n",
              "      <td>7995329.50</td>\n",
              "      <td>6038.768505</td>\n",
              "      <td>3.646673e+07</td>\n",
              "    </tr>\n",
              "    <tr>\n",
              "      <th>5303</th>\n",
              "      <td>IND</td>\n",
              "      <td>2017-01-01</td>\n",
              "      <td>1339</td>\n",
              "      <td>8599774.00</td>\n",
              "      <td>6422.534727</td>\n",
              "      <td>4.124895e+07</td>\n",
              "    </tr>\n",
              "    <tr>\n",
              "      <th>2310</th>\n",
              "      <td>CHN</td>\n",
              "      <td>2016-01-01</td>\n",
              "      <td>1403</td>\n",
              "      <td>17360582.00</td>\n",
              "      <td>12373.900214</td>\n",
              "      <td>1.531134e+08</td>\n",
              "    </tr>\n",
              "    <tr>\n",
              "      <th>2311</th>\n",
              "      <td>CHN</td>\n",
              "      <td>2017-01-01</td>\n",
              "      <td>1409</td>\n",
              "      <td>18383838.00</td>\n",
              "      <td>13047.436480</td>\n",
              "      <td>1.702356e+08</td>\n",
              "    </tr>\n",
              "  </tbody>\n",
              "</table>\n",
              "</div>\n",
              "      <button class=\"colab-df-convert\" onclick=\"convertToInteractive('df-324fe3d5-5a83-4587-b2cf-35d32c37b5c0')\"\n",
              "              title=\"Convert this dataframe to an interactive table.\"\n",
              "              style=\"display:none;\">\n",
              "        \n",
              "  <svg xmlns=\"http://www.w3.org/2000/svg\" height=\"24px\"viewBox=\"0 0 24 24\"\n",
              "       width=\"24px\">\n",
              "    <path d=\"M0 0h24v24H0V0z\" fill=\"none\"/>\n",
              "    <path d=\"M18.56 5.44l.94 2.06.94-2.06 2.06-.94-2.06-.94-.94-2.06-.94 2.06-2.06.94zm-11 1L8.5 8.5l.94-2.06 2.06-.94-2.06-.94L8.5 2.5l-.94 2.06-2.06.94zm10 10l.94 2.06.94-2.06 2.06-.94-2.06-.94-.94-2.06-.94 2.06-2.06.94z\"/><path d=\"M17.41 7.96l-1.37-1.37c-.4-.4-.92-.59-1.43-.59-.52 0-1.04.2-1.43.59L10.3 9.45l-7.72 7.72c-.78.78-.78 2.05 0 2.83L4 21.41c.39.39.9.59 1.41.59.51 0 1.02-.2 1.41-.59l7.78-7.78 2.81-2.81c.8-.78.8-2.07 0-2.86zM5.41 20L4 18.59l7.72-7.72 1.47 1.35L5.41 20z\"/>\n",
              "  </svg>\n",
              "      </button>\n",
              "      \n",
              "  <style>\n",
              "    .colab-df-container {\n",
              "      display:flex;\n",
              "      flex-wrap:wrap;\n",
              "      gap: 12px;\n",
              "    }\n",
              "\n",
              "    .colab-df-convert {\n",
              "      background-color: #E8F0FE;\n",
              "      border: none;\n",
              "      border-radius: 50%;\n",
              "      cursor: pointer;\n",
              "      display: none;\n",
              "      fill: #1967D2;\n",
              "      height: 32px;\n",
              "      padding: 0 0 0 0;\n",
              "      width: 32px;\n",
              "    }\n",
              "\n",
              "    .colab-df-convert:hover {\n",
              "      background-color: #E2EBFA;\n",
              "      box-shadow: 0px 1px 2px rgba(60, 64, 67, 0.3), 0px 1px 3px 1px rgba(60, 64, 67, 0.15);\n",
              "      fill: #174EA6;\n",
              "    }\n",
              "\n",
              "    [theme=dark] .colab-df-convert {\n",
              "      background-color: #3B4455;\n",
              "      fill: #D2E3FC;\n",
              "    }\n",
              "\n",
              "    [theme=dark] .colab-df-convert:hover {\n",
              "      background-color: #434B5C;\n",
              "      box-shadow: 0px 1px 3px 1px rgba(0, 0, 0, 0.15);\n",
              "      filter: drop-shadow(0px 1px 2px rgba(0, 0, 0, 0.3));\n",
              "      fill: #FFFFFF;\n",
              "    }\n",
              "  </style>\n",
              "\n",
              "      <script>\n",
              "        const buttonEl =\n",
              "          document.querySelector('#df-324fe3d5-5a83-4587-b2cf-35d32c37b5c0 button.colab-df-convert');\n",
              "        buttonEl.style.display =\n",
              "          google.colab.kernel.accessAllowed ? 'block' : 'none';\n",
              "\n",
              "        async function convertToInteractive(key) {\n",
              "          const element = document.querySelector('#df-324fe3d5-5a83-4587-b2cf-35d32c37b5c0');\n",
              "          const dataTable =\n",
              "            await google.colab.kernel.invokeFunction('convertToInteractive',\n",
              "                                                     [key], {});\n",
              "          if (!dataTable) return;\n",
              "\n",
              "          const docLinkHtml = 'Like what you see? Visit the ' +\n",
              "            '<a target=\"_blank\" href=https://colab.research.google.com/notebooks/data_table.ipynb>data table notebook</a>'\n",
              "            + ' to learn more about interactive tables.';\n",
              "          element.innerHTML = '';\n",
              "          dataTable['output_type'] = 'display_data';\n",
              "          await google.colab.output.renderOutput(dataTable, element);\n",
              "          const docLink = document.createElement('div');\n",
              "          docLink.innerHTML = docLinkHtml;\n",
              "          element.appendChild(docLink);\n",
              "        }\n",
              "      </script>\n",
              "    </div>\n",
              "  </div>\n",
              "  "
            ]
          },
          "metadata": {},
          "execution_count": 110
        }
      ],
      "execution_count": null
    },
    {
      "cell_type": "code",
      "source": [
        "df_percapita.sort_values(by='codigo_iso', ascending = True)"
      ],
      "metadata": {
        "id": "TRJASXbzoSyy"
      },
      "execution_count": null,
      "outputs": []
    },
    {
      "cell_type": "markdown",
      "source": [
        "### Agregación en DataFrames\n",
        "\n",
        "#### Uso la función groupby\n",
        "\n",
        "Busca agrupar grandes cantidades de datos y aplicar operaciones de cálculo en estos grupos"
      ],
      "metadata": {
        "application/vnd.databricks.v1+cell": {
          "title": "",
          "showTitle": false,
          "inputWidgets": {},
          "nuid": "f4f07a01-563f-487f-a874-168fd49eb10b"
        },
        "id": "NMTbmJNrMNIS"
      }
    },
    {
      "cell_type": "code",
      "source": [
        "df_percapita"
      ],
      "metadata": {
        "colab": {
          "base_uri": "https://localhost:8080/",
          "height": 363
        },
        "id": "hoMElp68oprP",
        "outputId": "d0717fb0-3c29-4d6c-9626-2f182bb089dd"
      },
      "execution_count": null,
      "outputs": [
        {
          "output_type": "execute_result",
          "data": {
            "text/plain": [
              "      codigo_iso       year   pop        rgdpo  pib_percapita  pib_percapita_2\n",
              "1698         BRA 2016-01-01   207   2863052.75   13831.172705     1.913013e+08\n",
              "1699         BRA 2017-01-01   209   2890897.50   13832.045455     1.913255e+08\n",
              "2310         CHN 2016-01-01  1403  17360582.00   12373.900214     1.531134e+08\n",
              "2311         CHN 2017-01-01  1409  18383838.00   13047.436480     1.702356e+08\n",
              "5234         IDN 2016-01-01   261   2643358.50   10127.810345     1.025725e+08\n",
              "5235         IDN 2017-01-01   263   2796742.50   10634.001901     1.130820e+08\n",
              "5302         IND 2016-01-01  1324   7995329.50    6038.768505     3.646673e+07\n",
              "5303         IND 2017-01-01  1339   8599774.00    6422.534727     4.124895e+07\n",
              "11762        USA 2016-01-01   322  17392620.00   54014.347826     2.917550e+09\n",
              "11763        USA 2017-01-01   324  17778680.00   54872.469136     3.010988e+09"
            ],
            "text/html": [
              "\n",
              "  <div id=\"df-47a57737-8def-4551-a6bd-05c92ef54a56\">\n",
              "    <div class=\"colab-df-container\">\n",
              "      <div>\n",
              "<style scoped>\n",
              "    .dataframe tbody tr th:only-of-type {\n",
              "        vertical-align: middle;\n",
              "    }\n",
              "\n",
              "    .dataframe tbody tr th {\n",
              "        vertical-align: top;\n",
              "    }\n",
              "\n",
              "    .dataframe thead th {\n",
              "        text-align: right;\n",
              "    }\n",
              "</style>\n",
              "<table border=\"1\" class=\"dataframe\">\n",
              "  <thead>\n",
              "    <tr style=\"text-align: right;\">\n",
              "      <th></th>\n",
              "      <th>codigo_iso</th>\n",
              "      <th>year</th>\n",
              "      <th>pop</th>\n",
              "      <th>rgdpo</th>\n",
              "      <th>pib_percapita</th>\n",
              "      <th>pib_percapita_2</th>\n",
              "    </tr>\n",
              "  </thead>\n",
              "  <tbody>\n",
              "    <tr>\n",
              "      <th>1698</th>\n",
              "      <td>BRA</td>\n",
              "      <td>2016-01-01</td>\n",
              "      <td>207</td>\n",
              "      <td>2863052.75</td>\n",
              "      <td>13831.172705</td>\n",
              "      <td>1.913013e+08</td>\n",
              "    </tr>\n",
              "    <tr>\n",
              "      <th>1699</th>\n",
              "      <td>BRA</td>\n",
              "      <td>2017-01-01</td>\n",
              "      <td>209</td>\n",
              "      <td>2890897.50</td>\n",
              "      <td>13832.045455</td>\n",
              "      <td>1.913255e+08</td>\n",
              "    </tr>\n",
              "    <tr>\n",
              "      <th>2310</th>\n",
              "      <td>CHN</td>\n",
              "      <td>2016-01-01</td>\n",
              "      <td>1403</td>\n",
              "      <td>17360582.00</td>\n",
              "      <td>12373.900214</td>\n",
              "      <td>1.531134e+08</td>\n",
              "    </tr>\n",
              "    <tr>\n",
              "      <th>2311</th>\n",
              "      <td>CHN</td>\n",
              "      <td>2017-01-01</td>\n",
              "      <td>1409</td>\n",
              "      <td>18383838.00</td>\n",
              "      <td>13047.436480</td>\n",
              "      <td>1.702356e+08</td>\n",
              "    </tr>\n",
              "    <tr>\n",
              "      <th>5234</th>\n",
              "      <td>IDN</td>\n",
              "      <td>2016-01-01</td>\n",
              "      <td>261</td>\n",
              "      <td>2643358.50</td>\n",
              "      <td>10127.810345</td>\n",
              "      <td>1.025725e+08</td>\n",
              "    </tr>\n",
              "    <tr>\n",
              "      <th>5235</th>\n",
              "      <td>IDN</td>\n",
              "      <td>2017-01-01</td>\n",
              "      <td>263</td>\n",
              "      <td>2796742.50</td>\n",
              "      <td>10634.001901</td>\n",
              "      <td>1.130820e+08</td>\n",
              "    </tr>\n",
              "    <tr>\n",
              "      <th>5302</th>\n",
              "      <td>IND</td>\n",
              "      <td>2016-01-01</td>\n",
              "      <td>1324</td>\n",
              "      <td>7995329.50</td>\n",
              "      <td>6038.768505</td>\n",
              "      <td>3.646673e+07</td>\n",
              "    </tr>\n",
              "    <tr>\n",
              "      <th>5303</th>\n",
              "      <td>IND</td>\n",
              "      <td>2017-01-01</td>\n",
              "      <td>1339</td>\n",
              "      <td>8599774.00</td>\n",
              "      <td>6422.534727</td>\n",
              "      <td>4.124895e+07</td>\n",
              "    </tr>\n",
              "    <tr>\n",
              "      <th>11762</th>\n",
              "      <td>USA</td>\n",
              "      <td>2016-01-01</td>\n",
              "      <td>322</td>\n",
              "      <td>17392620.00</td>\n",
              "      <td>54014.347826</td>\n",
              "      <td>2.917550e+09</td>\n",
              "    </tr>\n",
              "    <tr>\n",
              "      <th>11763</th>\n",
              "      <td>USA</td>\n",
              "      <td>2017-01-01</td>\n",
              "      <td>324</td>\n",
              "      <td>17778680.00</td>\n",
              "      <td>54872.469136</td>\n",
              "      <td>3.010988e+09</td>\n",
              "    </tr>\n",
              "  </tbody>\n",
              "</table>\n",
              "</div>\n",
              "      <button class=\"colab-df-convert\" onclick=\"convertToInteractive('df-47a57737-8def-4551-a6bd-05c92ef54a56')\"\n",
              "              title=\"Convert this dataframe to an interactive table.\"\n",
              "              style=\"display:none;\">\n",
              "        \n",
              "  <svg xmlns=\"http://www.w3.org/2000/svg\" height=\"24px\"viewBox=\"0 0 24 24\"\n",
              "       width=\"24px\">\n",
              "    <path d=\"M0 0h24v24H0V0z\" fill=\"none\"/>\n",
              "    <path d=\"M18.56 5.44l.94 2.06.94-2.06 2.06-.94-2.06-.94-.94-2.06-.94 2.06-2.06.94zm-11 1L8.5 8.5l.94-2.06 2.06-.94-2.06-.94L8.5 2.5l-.94 2.06-2.06.94zm10 10l.94 2.06.94-2.06 2.06-.94-2.06-.94-.94-2.06-.94 2.06-2.06.94z\"/><path d=\"M17.41 7.96l-1.37-1.37c-.4-.4-.92-.59-1.43-.59-.52 0-1.04.2-1.43.59L10.3 9.45l-7.72 7.72c-.78.78-.78 2.05 0 2.83L4 21.41c.39.39.9.59 1.41.59.51 0 1.02-.2 1.41-.59l7.78-7.78 2.81-2.81c.8-.78.8-2.07 0-2.86zM5.41 20L4 18.59l7.72-7.72 1.47 1.35L5.41 20z\"/>\n",
              "  </svg>\n",
              "      </button>\n",
              "      \n",
              "  <style>\n",
              "    .colab-df-container {\n",
              "      display:flex;\n",
              "      flex-wrap:wrap;\n",
              "      gap: 12px;\n",
              "    }\n",
              "\n",
              "    .colab-df-convert {\n",
              "      background-color: #E8F0FE;\n",
              "      border: none;\n",
              "      border-radius: 50%;\n",
              "      cursor: pointer;\n",
              "      display: none;\n",
              "      fill: #1967D2;\n",
              "      height: 32px;\n",
              "      padding: 0 0 0 0;\n",
              "      width: 32px;\n",
              "    }\n",
              "\n",
              "    .colab-df-convert:hover {\n",
              "      background-color: #E2EBFA;\n",
              "      box-shadow: 0px 1px 2px rgba(60, 64, 67, 0.3), 0px 1px 3px 1px rgba(60, 64, 67, 0.15);\n",
              "      fill: #174EA6;\n",
              "    }\n",
              "\n",
              "    [theme=dark] .colab-df-convert {\n",
              "      background-color: #3B4455;\n",
              "      fill: #D2E3FC;\n",
              "    }\n",
              "\n",
              "    [theme=dark] .colab-df-convert:hover {\n",
              "      background-color: #434B5C;\n",
              "      box-shadow: 0px 1px 3px 1px rgba(0, 0, 0, 0.15);\n",
              "      filter: drop-shadow(0px 1px 2px rgba(0, 0, 0, 0.3));\n",
              "      fill: #FFFFFF;\n",
              "    }\n",
              "  </style>\n",
              "\n",
              "      <script>\n",
              "        const buttonEl =\n",
              "          document.querySelector('#df-47a57737-8def-4551-a6bd-05c92ef54a56 button.colab-df-convert');\n",
              "        buttonEl.style.display =\n",
              "          google.colab.kernel.accessAllowed ? 'block' : 'none';\n",
              "\n",
              "        async function convertToInteractive(key) {\n",
              "          const element = document.querySelector('#df-47a57737-8def-4551-a6bd-05c92ef54a56');\n",
              "          const dataTable =\n",
              "            await google.colab.kernel.invokeFunction('convertToInteractive',\n",
              "                                                     [key], {});\n",
              "          if (!dataTable) return;\n",
              "\n",
              "          const docLinkHtml = 'Like what you see? Visit the ' +\n",
              "            '<a target=\"_blank\" href=https://colab.research.google.com/notebooks/data_table.ipynb>data table notebook</a>'\n",
              "            + ' to learn more about interactive tables.';\n",
              "          element.innerHTML = '';\n",
              "          dataTable['output_type'] = 'display_data';\n",
              "          await google.colab.output.renderOutput(dataTable, element);\n",
              "          const docLink = document.createElement('div');\n",
              "          docLink.innerHTML = docLinkHtml;\n",
              "          element.appendChild(docLink);\n",
              "        }\n",
              "      </script>\n",
              "    </div>\n",
              "  </div>\n",
              "  "
            ]
          },
          "metadata": {},
          "execution_count": 117
        }
      ]
    },
    {
      "cell_type": "code",
      "source": [
        "# Agregamos los datos mediante empleando el promedio\n",
        "print(df.keys())\n",
        "df_filt = df.groupby(['countrycode','year']).count().reset_index()\n",
        "df_filt"
      ],
      "metadata": {
        "application/vnd.databricks.v1+cell": {
          "title": "",
          "showTitle": false,
          "inputWidgets": {},
          "nuid": "e6d1dd83-364a-4c48-aa0d-ac0a3f6a2f04"
        },
        "colab": {
          "base_uri": "https://localhost:8080/",
          "height": 441
        },
        "id": "iJJF3TVBMNIS",
        "outputId": "abf9ef6c-5dd0-415c-ab42-99751142e7cf"
      },
      "outputs": [
        {
          "output_type": "stream",
          "name": "stdout",
          "text": [
            "Index(['countrycode', 'country', 'year', 'rgdpo', 'pop', 'emp', 'avh', 'hc'], dtype='object')\n"
          ]
        },
        {
          "output_type": "execute_result",
          "data": {
            "text/plain": [
              "      countrycode       year  country  rgdpo  pop  emp  avh  hc\n",
              "0             ABW 1950-01-01        1      0    1    0    0   0\n",
              "1             ABW 1951-01-01        1      0    1    0    0   0\n",
              "2             ABW 1952-01-01        1      0    1    0    0   0\n",
              "3             ABW 1953-01-01        1      0    1    0    0   0\n",
              "4             ABW 1954-01-01        1      0    1    0    0   0\n",
              "...           ...        ...      ...    ...  ...  ...  ...  ..\n",
              "12371         ZWE 2013-01-01        1      1    1    1    0   1\n",
              "12372         ZWE 2014-01-01        1      1    1    1    0   1\n",
              "12373         ZWE 2015-01-01        1      1    1    1    0   1\n",
              "12374         ZWE 2016-01-01        1      1    1    1    0   1\n",
              "12375         ZWE 2017-01-01        1      1    1    1    0   1\n",
              "\n",
              "[12376 rows x 8 columns]"
            ],
            "text/html": [
              "\n",
              "  <div id=\"df-c836998b-9a07-4d2c-acce-911f2e39c6a8\">\n",
              "    <div class=\"colab-df-container\">\n",
              "      <div>\n",
              "<style scoped>\n",
              "    .dataframe tbody tr th:only-of-type {\n",
              "        vertical-align: middle;\n",
              "    }\n",
              "\n",
              "    .dataframe tbody tr th {\n",
              "        vertical-align: top;\n",
              "    }\n",
              "\n",
              "    .dataframe thead th {\n",
              "        text-align: right;\n",
              "    }\n",
              "</style>\n",
              "<table border=\"1\" class=\"dataframe\">\n",
              "  <thead>\n",
              "    <tr style=\"text-align: right;\">\n",
              "      <th></th>\n",
              "      <th>countrycode</th>\n",
              "      <th>year</th>\n",
              "      <th>country</th>\n",
              "      <th>rgdpo</th>\n",
              "      <th>pop</th>\n",
              "      <th>emp</th>\n",
              "      <th>avh</th>\n",
              "      <th>hc</th>\n",
              "    </tr>\n",
              "  </thead>\n",
              "  <tbody>\n",
              "    <tr>\n",
              "      <th>0</th>\n",
              "      <td>ABW</td>\n",
              "      <td>1950-01-01</td>\n",
              "      <td>1</td>\n",
              "      <td>0</td>\n",
              "      <td>1</td>\n",
              "      <td>0</td>\n",
              "      <td>0</td>\n",
              "      <td>0</td>\n",
              "    </tr>\n",
              "    <tr>\n",
              "      <th>1</th>\n",
              "      <td>ABW</td>\n",
              "      <td>1951-01-01</td>\n",
              "      <td>1</td>\n",
              "      <td>0</td>\n",
              "      <td>1</td>\n",
              "      <td>0</td>\n",
              "      <td>0</td>\n",
              "      <td>0</td>\n",
              "    </tr>\n",
              "    <tr>\n",
              "      <th>2</th>\n",
              "      <td>ABW</td>\n",
              "      <td>1952-01-01</td>\n",
              "      <td>1</td>\n",
              "      <td>0</td>\n",
              "      <td>1</td>\n",
              "      <td>0</td>\n",
              "      <td>0</td>\n",
              "      <td>0</td>\n",
              "    </tr>\n",
              "    <tr>\n",
              "      <th>3</th>\n",
              "      <td>ABW</td>\n",
              "      <td>1953-01-01</td>\n",
              "      <td>1</td>\n",
              "      <td>0</td>\n",
              "      <td>1</td>\n",
              "      <td>0</td>\n",
              "      <td>0</td>\n",
              "      <td>0</td>\n",
              "    </tr>\n",
              "    <tr>\n",
              "      <th>4</th>\n",
              "      <td>ABW</td>\n",
              "      <td>1954-01-01</td>\n",
              "      <td>1</td>\n",
              "      <td>0</td>\n",
              "      <td>1</td>\n",
              "      <td>0</td>\n",
              "      <td>0</td>\n",
              "      <td>0</td>\n",
              "    </tr>\n",
              "    <tr>\n",
              "      <th>...</th>\n",
              "      <td>...</td>\n",
              "      <td>...</td>\n",
              "      <td>...</td>\n",
              "      <td>...</td>\n",
              "      <td>...</td>\n",
              "      <td>...</td>\n",
              "      <td>...</td>\n",
              "      <td>...</td>\n",
              "    </tr>\n",
              "    <tr>\n",
              "      <th>12371</th>\n",
              "      <td>ZWE</td>\n",
              "      <td>2013-01-01</td>\n",
              "      <td>1</td>\n",
              "      <td>1</td>\n",
              "      <td>1</td>\n",
              "      <td>1</td>\n",
              "      <td>0</td>\n",
              "      <td>1</td>\n",
              "    </tr>\n",
              "    <tr>\n",
              "      <th>12372</th>\n",
              "      <td>ZWE</td>\n",
              "      <td>2014-01-01</td>\n",
              "      <td>1</td>\n",
              "      <td>1</td>\n",
              "      <td>1</td>\n",
              "      <td>1</td>\n",
              "      <td>0</td>\n",
              "      <td>1</td>\n",
              "    </tr>\n",
              "    <tr>\n",
              "      <th>12373</th>\n",
              "      <td>ZWE</td>\n",
              "      <td>2015-01-01</td>\n",
              "      <td>1</td>\n",
              "      <td>1</td>\n",
              "      <td>1</td>\n",
              "      <td>1</td>\n",
              "      <td>0</td>\n",
              "      <td>1</td>\n",
              "    </tr>\n",
              "    <tr>\n",
              "      <th>12374</th>\n",
              "      <td>ZWE</td>\n",
              "      <td>2016-01-01</td>\n",
              "      <td>1</td>\n",
              "      <td>1</td>\n",
              "      <td>1</td>\n",
              "      <td>1</td>\n",
              "      <td>0</td>\n",
              "      <td>1</td>\n",
              "    </tr>\n",
              "    <tr>\n",
              "      <th>12375</th>\n",
              "      <td>ZWE</td>\n",
              "      <td>2017-01-01</td>\n",
              "      <td>1</td>\n",
              "      <td>1</td>\n",
              "      <td>1</td>\n",
              "      <td>1</td>\n",
              "      <td>0</td>\n",
              "      <td>1</td>\n",
              "    </tr>\n",
              "  </tbody>\n",
              "</table>\n",
              "<p>12376 rows × 8 columns</p>\n",
              "</div>\n",
              "      <button class=\"colab-df-convert\" onclick=\"convertToInteractive('df-c836998b-9a07-4d2c-acce-911f2e39c6a8')\"\n",
              "              title=\"Convert this dataframe to an interactive table.\"\n",
              "              style=\"display:none;\">\n",
              "        \n",
              "  <svg xmlns=\"http://www.w3.org/2000/svg\" height=\"24px\"viewBox=\"0 0 24 24\"\n",
              "       width=\"24px\">\n",
              "    <path d=\"M0 0h24v24H0V0z\" fill=\"none\"/>\n",
              "    <path d=\"M18.56 5.44l.94 2.06.94-2.06 2.06-.94-2.06-.94-.94-2.06-.94 2.06-2.06.94zm-11 1L8.5 8.5l.94-2.06 2.06-.94-2.06-.94L8.5 2.5l-.94 2.06-2.06.94zm10 10l.94 2.06.94-2.06 2.06-.94-2.06-.94-.94-2.06-.94 2.06-2.06.94z\"/><path d=\"M17.41 7.96l-1.37-1.37c-.4-.4-.92-.59-1.43-.59-.52 0-1.04.2-1.43.59L10.3 9.45l-7.72 7.72c-.78.78-.78 2.05 0 2.83L4 21.41c.39.39.9.59 1.41.59.51 0 1.02-.2 1.41-.59l7.78-7.78 2.81-2.81c.8-.78.8-2.07 0-2.86zM5.41 20L4 18.59l7.72-7.72 1.47 1.35L5.41 20z\"/>\n",
              "  </svg>\n",
              "      </button>\n",
              "      \n",
              "  <style>\n",
              "    .colab-df-container {\n",
              "      display:flex;\n",
              "      flex-wrap:wrap;\n",
              "      gap: 12px;\n",
              "    }\n",
              "\n",
              "    .colab-df-convert {\n",
              "      background-color: #E8F0FE;\n",
              "      border: none;\n",
              "      border-radius: 50%;\n",
              "      cursor: pointer;\n",
              "      display: none;\n",
              "      fill: #1967D2;\n",
              "      height: 32px;\n",
              "      padding: 0 0 0 0;\n",
              "      width: 32px;\n",
              "    }\n",
              "\n",
              "    .colab-df-convert:hover {\n",
              "      background-color: #E2EBFA;\n",
              "      box-shadow: 0px 1px 2px rgba(60, 64, 67, 0.3), 0px 1px 3px 1px rgba(60, 64, 67, 0.15);\n",
              "      fill: #174EA6;\n",
              "    }\n",
              "\n",
              "    [theme=dark] .colab-df-convert {\n",
              "      background-color: #3B4455;\n",
              "      fill: #D2E3FC;\n",
              "    }\n",
              "\n",
              "    [theme=dark] .colab-df-convert:hover {\n",
              "      background-color: #434B5C;\n",
              "      box-shadow: 0px 1px 3px 1px rgba(0, 0, 0, 0.15);\n",
              "      filter: drop-shadow(0px 1px 2px rgba(0, 0, 0, 0.3));\n",
              "      fill: #FFFFFF;\n",
              "    }\n",
              "  </style>\n",
              "\n",
              "      <script>\n",
              "        const buttonEl =\n",
              "          document.querySelector('#df-c836998b-9a07-4d2c-acce-911f2e39c6a8 button.colab-df-convert');\n",
              "        buttonEl.style.display =\n",
              "          google.colab.kernel.accessAllowed ? 'block' : 'none';\n",
              "\n",
              "        async function convertToInteractive(key) {\n",
              "          const element = document.querySelector('#df-c836998b-9a07-4d2c-acce-911f2e39c6a8');\n",
              "          const dataTable =\n",
              "            await google.colab.kernel.invokeFunction('convertToInteractive',\n",
              "                                                     [key], {});\n",
              "          if (!dataTable) return;\n",
              "\n",
              "          const docLinkHtml = 'Like what you see? Visit the ' +\n",
              "            '<a target=\"_blank\" href=https://colab.research.google.com/notebooks/data_table.ipynb>data table notebook</a>'\n",
              "            + ' to learn more about interactive tables.';\n",
              "          element.innerHTML = '';\n",
              "          dataTable['output_type'] = 'display_data';\n",
              "          await google.colab.output.renderOutput(dataTable, element);\n",
              "          const docLink = document.createElement('div');\n",
              "          docLink.innerHTML = docLinkHtml;\n",
              "          element.appendChild(docLink);\n",
              "        }\n",
              "      </script>\n",
              "    </div>\n",
              "  </div>\n",
              "  "
            ]
          },
          "metadata": {},
          "execution_count": 112
        }
      ],
      "execution_count": null
    },
    {
      "cell_type": "code",
      "source": [
        "# Agregamos los datos mediante empleando el promedio\n",
        "df_agrupado = df_percapita.groupby(['codigo_iso']).count()\n",
        "df_agrupado"
      ],
      "metadata": {
        "colab": {
          "base_uri": "https://localhost:8080/",
          "height": 237
        },
        "id": "KBcuCL5GpHeQ",
        "outputId": "4a769135-3ba7-4472-c65a-a9d796a22489"
      },
      "execution_count": null,
      "outputs": [
        {
          "output_type": "execute_result",
          "data": {
            "text/plain": [
              "            year  pop  rgdpo  pib_percapita  pib_percapita_2\n",
              "codigo_iso                                                  \n",
              "BRA            2    2      2              2                2\n",
              "CHN            2    2      2              2                2\n",
              "IDN            2    2      2              2                2\n",
              "IND            2    2      2              2                2\n",
              "USA            2    2      2              2                2"
            ],
            "text/html": [
              "\n",
              "  <div id=\"df-ca972645-05e9-4cd2-9731-bac0c36c8532\">\n",
              "    <div class=\"colab-df-container\">\n",
              "      <div>\n",
              "<style scoped>\n",
              "    .dataframe tbody tr th:only-of-type {\n",
              "        vertical-align: middle;\n",
              "    }\n",
              "\n",
              "    .dataframe tbody tr th {\n",
              "        vertical-align: top;\n",
              "    }\n",
              "\n",
              "    .dataframe thead th {\n",
              "        text-align: right;\n",
              "    }\n",
              "</style>\n",
              "<table border=\"1\" class=\"dataframe\">\n",
              "  <thead>\n",
              "    <tr style=\"text-align: right;\">\n",
              "      <th></th>\n",
              "      <th>year</th>\n",
              "      <th>pop</th>\n",
              "      <th>rgdpo</th>\n",
              "      <th>pib_percapita</th>\n",
              "      <th>pib_percapita_2</th>\n",
              "    </tr>\n",
              "    <tr>\n",
              "      <th>codigo_iso</th>\n",
              "      <th></th>\n",
              "      <th></th>\n",
              "      <th></th>\n",
              "      <th></th>\n",
              "      <th></th>\n",
              "    </tr>\n",
              "  </thead>\n",
              "  <tbody>\n",
              "    <tr>\n",
              "      <th>BRA</th>\n",
              "      <td>2</td>\n",
              "      <td>2</td>\n",
              "      <td>2</td>\n",
              "      <td>2</td>\n",
              "      <td>2</td>\n",
              "    </tr>\n",
              "    <tr>\n",
              "      <th>CHN</th>\n",
              "      <td>2</td>\n",
              "      <td>2</td>\n",
              "      <td>2</td>\n",
              "      <td>2</td>\n",
              "      <td>2</td>\n",
              "    </tr>\n",
              "    <tr>\n",
              "      <th>IDN</th>\n",
              "      <td>2</td>\n",
              "      <td>2</td>\n",
              "      <td>2</td>\n",
              "      <td>2</td>\n",
              "      <td>2</td>\n",
              "    </tr>\n",
              "    <tr>\n",
              "      <th>IND</th>\n",
              "      <td>2</td>\n",
              "      <td>2</td>\n",
              "      <td>2</td>\n",
              "      <td>2</td>\n",
              "      <td>2</td>\n",
              "    </tr>\n",
              "    <tr>\n",
              "      <th>USA</th>\n",
              "      <td>2</td>\n",
              "      <td>2</td>\n",
              "      <td>2</td>\n",
              "      <td>2</td>\n",
              "      <td>2</td>\n",
              "    </tr>\n",
              "  </tbody>\n",
              "</table>\n",
              "</div>\n",
              "      <button class=\"colab-df-convert\" onclick=\"convertToInteractive('df-ca972645-05e9-4cd2-9731-bac0c36c8532')\"\n",
              "              title=\"Convert this dataframe to an interactive table.\"\n",
              "              style=\"display:none;\">\n",
              "        \n",
              "  <svg xmlns=\"http://www.w3.org/2000/svg\" height=\"24px\"viewBox=\"0 0 24 24\"\n",
              "       width=\"24px\">\n",
              "    <path d=\"M0 0h24v24H0V0z\" fill=\"none\"/>\n",
              "    <path d=\"M18.56 5.44l.94 2.06.94-2.06 2.06-.94-2.06-.94-.94-2.06-.94 2.06-2.06.94zm-11 1L8.5 8.5l.94-2.06 2.06-.94-2.06-.94L8.5 2.5l-.94 2.06-2.06.94zm10 10l.94 2.06.94-2.06 2.06-.94-2.06-.94-.94-2.06-.94 2.06-2.06.94z\"/><path d=\"M17.41 7.96l-1.37-1.37c-.4-.4-.92-.59-1.43-.59-.52 0-1.04.2-1.43.59L10.3 9.45l-7.72 7.72c-.78.78-.78 2.05 0 2.83L4 21.41c.39.39.9.59 1.41.59.51 0 1.02-.2 1.41-.59l7.78-7.78 2.81-2.81c.8-.78.8-2.07 0-2.86zM5.41 20L4 18.59l7.72-7.72 1.47 1.35L5.41 20z\"/>\n",
              "  </svg>\n",
              "      </button>\n",
              "      \n",
              "  <style>\n",
              "    .colab-df-container {\n",
              "      display:flex;\n",
              "      flex-wrap:wrap;\n",
              "      gap: 12px;\n",
              "    }\n",
              "\n",
              "    .colab-df-convert {\n",
              "      background-color: #E8F0FE;\n",
              "      border: none;\n",
              "      border-radius: 50%;\n",
              "      cursor: pointer;\n",
              "      display: none;\n",
              "      fill: #1967D2;\n",
              "      height: 32px;\n",
              "      padding: 0 0 0 0;\n",
              "      width: 32px;\n",
              "    }\n",
              "\n",
              "    .colab-df-convert:hover {\n",
              "      background-color: #E2EBFA;\n",
              "      box-shadow: 0px 1px 2px rgba(60, 64, 67, 0.3), 0px 1px 3px 1px rgba(60, 64, 67, 0.15);\n",
              "      fill: #174EA6;\n",
              "    }\n",
              "\n",
              "    [theme=dark] .colab-df-convert {\n",
              "      background-color: #3B4455;\n",
              "      fill: #D2E3FC;\n",
              "    }\n",
              "\n",
              "    [theme=dark] .colab-df-convert:hover {\n",
              "      background-color: #434B5C;\n",
              "      box-shadow: 0px 1px 3px 1px rgba(0, 0, 0, 0.15);\n",
              "      filter: drop-shadow(0px 1px 2px rgba(0, 0, 0, 0.3));\n",
              "      fill: #FFFFFF;\n",
              "    }\n",
              "  </style>\n",
              "\n",
              "      <script>\n",
              "        const buttonEl =\n",
              "          document.querySelector('#df-ca972645-05e9-4cd2-9731-bac0c36c8532 button.colab-df-convert');\n",
              "        buttonEl.style.display =\n",
              "          google.colab.kernel.accessAllowed ? 'block' : 'none';\n",
              "\n",
              "        async function convertToInteractive(key) {\n",
              "          const element = document.querySelector('#df-ca972645-05e9-4cd2-9731-bac0c36c8532');\n",
              "          const dataTable =\n",
              "            await google.colab.kernel.invokeFunction('convertToInteractive',\n",
              "                                                     [key], {});\n",
              "          if (!dataTable) return;\n",
              "\n",
              "          const docLinkHtml = 'Like what you see? Visit the ' +\n",
              "            '<a target=\"_blank\" href=https://colab.research.google.com/notebooks/data_table.ipynb>data table notebook</a>'\n",
              "            + ' to learn more about interactive tables.';\n",
              "          element.innerHTML = '';\n",
              "          dataTable['output_type'] = 'display_data';\n",
              "          await google.colab.output.renderOutput(dataTable, element);\n",
              "          const docLink = document.createElement('div');\n",
              "          docLink.innerHTML = docLinkHtml;\n",
              "          element.appendChild(docLink);\n",
              "        }\n",
              "      </script>\n",
              "    </div>\n",
              "  </div>\n",
              "  "
            ]
          },
          "metadata": {},
          "execution_count": 113
        }
      ]
    },
    {
      "cell_type": "code",
      "source": [
        "print(df.keys())\n",
        "df = df.fillna(0)\n",
        "df_gb = df.groupby(['countrycode','year'])['pop'].count()\n",
        "df_gb"
      ],
      "metadata": {
        "colab": {
          "base_uri": "https://localhost:8080/"
        },
        "id": "-9W_dvHauG3E",
        "outputId": "6f9cf6e4-9ced-410e-91f6-38ad1a11be1b"
      },
      "execution_count": null,
      "outputs": [
        {
          "output_type": "stream",
          "name": "stdout",
          "text": [
            "Index(['countrycode', 'country', 'year', 'rgdpo', 'pop', 'emp', 'avh', 'hc'], dtype='object')\n"
          ]
        },
        {
          "output_type": "execute_result",
          "data": {
            "text/plain": [
              "countrycode  year      \n",
              "ABW          1950-01-01    1\n",
              "             1951-01-01    1\n",
              "             1952-01-01    1\n",
              "             1953-01-01    1\n",
              "             1954-01-01    1\n",
              "                          ..\n",
              "ZWE          2013-01-01    1\n",
              "             2014-01-01    1\n",
              "             2015-01-01    1\n",
              "             2016-01-01    1\n",
              "             2017-01-01    1\n",
              "Name: pop, Length: 12376, dtype: int64"
            ]
          },
          "metadata": {},
          "execution_count": 125
        }
      ]
    },
    {
      "cell_type": "code",
      "source": [
        "print(df.keys())\n",
        "df = df.fillna(0)\n",
        "df_gb = df.groupby(['countrycode','year'])['pop'].sum()\n",
        "df_gb"
      ],
      "metadata": {
        "colab": {
          "base_uri": "https://localhost:8080/"
        },
        "id": "i3sSegNPrcE3",
        "outputId": "798473e0-c566-4bfb-8d1a-0964cdaa098b"
      },
      "execution_count": null,
      "outputs": [
        {
          "output_type": "stream",
          "name": "stdout",
          "text": [
            "Index(['countrycode', 'country', 'year', 'rgdpo', 'pop', 'emp', 'avh', 'hc'], dtype='object')\n"
          ]
        },
        {
          "output_type": "execute_result",
          "data": {
            "text/plain": [
              "countrycode  year      \n",
              "ABW          1950-01-01     0\n",
              "             1951-01-01     0\n",
              "             1952-01-01     0\n",
              "             1953-01-01     0\n",
              "             1954-01-01     0\n",
              "                           ..\n",
              "ZWE          2013-01-01    15\n",
              "             2014-01-01    15\n",
              "             2015-01-01    15\n",
              "             2016-01-01    16\n",
              "             2017-01-01    16\n",
              "Name: pop, Length: 12376, dtype: int64"
            ]
          },
          "metadata": {},
          "execution_count": 127
        }
      ]
    },
    {
      "cell_type": "code",
      "source": [
        "\n",
        "#df_gb = df_gb.reset_index()\n",
        "print(df.keys())\n",
        "df[df['countrycode'] == 'BRA']"
      ],
      "metadata": {
        "colab": {
          "base_uri": "https://localhost:8080/",
          "height": 441
        },
        "id": "L7u_9S4evYhz",
        "outputId": "a5747ddb-5669-4352-c9d1-9697f1d07877"
      },
      "execution_count": null,
      "outputs": [
        {
          "output_type": "stream",
          "name": "stdout",
          "text": [
            "Index(['countrycode', 'country', 'year', 'rgdpo', 'pop', 'emp', 'avh', 'hc'], dtype='object')\n"
          ]
        },
        {
          "output_type": "execute_result",
          "data": {
            "text/plain": [
              "     countrycode country       year         rgdpo  pop         emp  \\\n",
              "1632         BRA  Brazil 1950-01-01  8.039127e+04   53   19.505514   \n",
              "1633         BRA  Brazil 1951-01-01  8.280485e+04   54   20.049252   \n",
              "1634         BRA  Brazil 1952-01-01  9.162370e+04   56   20.612316   \n",
              "1635         BRA  Brazil 1953-01-01  9.437516e+04   58   21.195559   \n",
              "1636         BRA  Brazil 1954-01-01  1.025050e+05   59   21.799868   \n",
              "...          ...     ...        ...           ...  ...         ...   \n",
              "1695         BRA  Brazil 2013-01-01  3.072402e+06  202  102.048592   \n",
              "1696         BRA  Brazil 2014-01-01  3.069772e+06  204  105.044907   \n",
              "1697         BRA  Brazil 2015-01-01  2.939667e+06  205  105.355797   \n",
              "1698         BRA  Brazil 2016-01-01  2.863053e+06  207  103.496231   \n",
              "1699         BRA  Brazil 2017-01-01  2.890898e+06  209  103.491943   \n",
              "\n",
              "              avh        hc  \n",
              "1632  2042.000000  1.300444  \n",
              "1633  2051.018555  1.308093  \n",
              "1634  2060.077148  1.315788  \n",
              "1635  2069.175537  1.323528  \n",
              "1636  2078.314209  1.331313  \n",
              "...           ...       ...  \n",
              "1695  1755.632324  2.684305  \n",
              "1696  1739.474731  2.748222  \n",
              "1697  1709.485596  2.813660  \n",
              "1698  1709.485596  2.880657  \n",
              "1699  1709.485596  2.949250  \n",
              "\n",
              "[68 rows x 8 columns]"
            ],
            "text/html": [
              "\n",
              "  <div id=\"df-cbe18c92-c4af-40d6-b5c4-16d43e117242\">\n",
              "    <div class=\"colab-df-container\">\n",
              "      <div>\n",
              "<style scoped>\n",
              "    .dataframe tbody tr th:only-of-type {\n",
              "        vertical-align: middle;\n",
              "    }\n",
              "\n",
              "    .dataframe tbody tr th {\n",
              "        vertical-align: top;\n",
              "    }\n",
              "\n",
              "    .dataframe thead th {\n",
              "        text-align: right;\n",
              "    }\n",
              "</style>\n",
              "<table border=\"1\" class=\"dataframe\">\n",
              "  <thead>\n",
              "    <tr style=\"text-align: right;\">\n",
              "      <th></th>\n",
              "      <th>countrycode</th>\n",
              "      <th>country</th>\n",
              "      <th>year</th>\n",
              "      <th>rgdpo</th>\n",
              "      <th>pop</th>\n",
              "      <th>emp</th>\n",
              "      <th>avh</th>\n",
              "      <th>hc</th>\n",
              "    </tr>\n",
              "  </thead>\n",
              "  <tbody>\n",
              "    <tr>\n",
              "      <th>1632</th>\n",
              "      <td>BRA</td>\n",
              "      <td>Brazil</td>\n",
              "      <td>1950-01-01</td>\n",
              "      <td>8.039127e+04</td>\n",
              "      <td>53</td>\n",
              "      <td>19.505514</td>\n",
              "      <td>2042.000000</td>\n",
              "      <td>1.300444</td>\n",
              "    </tr>\n",
              "    <tr>\n",
              "      <th>1633</th>\n",
              "      <td>BRA</td>\n",
              "      <td>Brazil</td>\n",
              "      <td>1951-01-01</td>\n",
              "      <td>8.280485e+04</td>\n",
              "      <td>54</td>\n",
              "      <td>20.049252</td>\n",
              "      <td>2051.018555</td>\n",
              "      <td>1.308093</td>\n",
              "    </tr>\n",
              "    <tr>\n",
              "      <th>1634</th>\n",
              "      <td>BRA</td>\n",
              "      <td>Brazil</td>\n",
              "      <td>1952-01-01</td>\n",
              "      <td>9.162370e+04</td>\n",
              "      <td>56</td>\n",
              "      <td>20.612316</td>\n",
              "      <td>2060.077148</td>\n",
              "      <td>1.315788</td>\n",
              "    </tr>\n",
              "    <tr>\n",
              "      <th>1635</th>\n",
              "      <td>BRA</td>\n",
              "      <td>Brazil</td>\n",
              "      <td>1953-01-01</td>\n",
              "      <td>9.437516e+04</td>\n",
              "      <td>58</td>\n",
              "      <td>21.195559</td>\n",
              "      <td>2069.175537</td>\n",
              "      <td>1.323528</td>\n",
              "    </tr>\n",
              "    <tr>\n",
              "      <th>1636</th>\n",
              "      <td>BRA</td>\n",
              "      <td>Brazil</td>\n",
              "      <td>1954-01-01</td>\n",
              "      <td>1.025050e+05</td>\n",
              "      <td>59</td>\n",
              "      <td>21.799868</td>\n",
              "      <td>2078.314209</td>\n",
              "      <td>1.331313</td>\n",
              "    </tr>\n",
              "    <tr>\n",
              "      <th>...</th>\n",
              "      <td>...</td>\n",
              "      <td>...</td>\n",
              "      <td>...</td>\n",
              "      <td>...</td>\n",
              "      <td>...</td>\n",
              "      <td>...</td>\n",
              "      <td>...</td>\n",
              "      <td>...</td>\n",
              "    </tr>\n",
              "    <tr>\n",
              "      <th>1695</th>\n",
              "      <td>BRA</td>\n",
              "      <td>Brazil</td>\n",
              "      <td>2013-01-01</td>\n",
              "      <td>3.072402e+06</td>\n",
              "      <td>202</td>\n",
              "      <td>102.048592</td>\n",
              "      <td>1755.632324</td>\n",
              "      <td>2.684305</td>\n",
              "    </tr>\n",
              "    <tr>\n",
              "      <th>1696</th>\n",
              "      <td>BRA</td>\n",
              "      <td>Brazil</td>\n",
              "      <td>2014-01-01</td>\n",
              "      <td>3.069772e+06</td>\n",
              "      <td>204</td>\n",
              "      <td>105.044907</td>\n",
              "      <td>1739.474731</td>\n",
              "      <td>2.748222</td>\n",
              "    </tr>\n",
              "    <tr>\n",
              "      <th>1697</th>\n",
              "      <td>BRA</td>\n",
              "      <td>Brazil</td>\n",
              "      <td>2015-01-01</td>\n",
              "      <td>2.939667e+06</td>\n",
              "      <td>205</td>\n",
              "      <td>105.355797</td>\n",
              "      <td>1709.485596</td>\n",
              "      <td>2.813660</td>\n",
              "    </tr>\n",
              "    <tr>\n",
              "      <th>1698</th>\n",
              "      <td>BRA</td>\n",
              "      <td>Brazil</td>\n",
              "      <td>2016-01-01</td>\n",
              "      <td>2.863053e+06</td>\n",
              "      <td>207</td>\n",
              "      <td>103.496231</td>\n",
              "      <td>1709.485596</td>\n",
              "      <td>2.880657</td>\n",
              "    </tr>\n",
              "    <tr>\n",
              "      <th>1699</th>\n",
              "      <td>BRA</td>\n",
              "      <td>Brazil</td>\n",
              "      <td>2017-01-01</td>\n",
              "      <td>2.890898e+06</td>\n",
              "      <td>209</td>\n",
              "      <td>103.491943</td>\n",
              "      <td>1709.485596</td>\n",
              "      <td>2.949250</td>\n",
              "    </tr>\n",
              "  </tbody>\n",
              "</table>\n",
              "<p>68 rows × 8 columns</p>\n",
              "</div>\n",
              "      <button class=\"colab-df-convert\" onclick=\"convertToInteractive('df-cbe18c92-c4af-40d6-b5c4-16d43e117242')\"\n",
              "              title=\"Convert this dataframe to an interactive table.\"\n",
              "              style=\"display:none;\">\n",
              "        \n",
              "  <svg xmlns=\"http://www.w3.org/2000/svg\" height=\"24px\"viewBox=\"0 0 24 24\"\n",
              "       width=\"24px\">\n",
              "    <path d=\"M0 0h24v24H0V0z\" fill=\"none\"/>\n",
              "    <path d=\"M18.56 5.44l.94 2.06.94-2.06 2.06-.94-2.06-.94-.94-2.06-.94 2.06-2.06.94zm-11 1L8.5 8.5l.94-2.06 2.06-.94-2.06-.94L8.5 2.5l-.94 2.06-2.06.94zm10 10l.94 2.06.94-2.06 2.06-.94-2.06-.94-.94-2.06-.94 2.06-2.06.94z\"/><path d=\"M17.41 7.96l-1.37-1.37c-.4-.4-.92-.59-1.43-.59-.52 0-1.04.2-1.43.59L10.3 9.45l-7.72 7.72c-.78.78-.78 2.05 0 2.83L4 21.41c.39.39.9.59 1.41.59.51 0 1.02-.2 1.41-.59l7.78-7.78 2.81-2.81c.8-.78.8-2.07 0-2.86zM5.41 20L4 18.59l7.72-7.72 1.47 1.35L5.41 20z\"/>\n",
              "  </svg>\n",
              "      </button>\n",
              "      \n",
              "  <style>\n",
              "    .colab-df-container {\n",
              "      display:flex;\n",
              "      flex-wrap:wrap;\n",
              "      gap: 12px;\n",
              "    }\n",
              "\n",
              "    .colab-df-convert {\n",
              "      background-color: #E8F0FE;\n",
              "      border: none;\n",
              "      border-radius: 50%;\n",
              "      cursor: pointer;\n",
              "      display: none;\n",
              "      fill: #1967D2;\n",
              "      height: 32px;\n",
              "      padding: 0 0 0 0;\n",
              "      width: 32px;\n",
              "    }\n",
              "\n",
              "    .colab-df-convert:hover {\n",
              "      background-color: #E2EBFA;\n",
              "      box-shadow: 0px 1px 2px rgba(60, 64, 67, 0.3), 0px 1px 3px 1px rgba(60, 64, 67, 0.15);\n",
              "      fill: #174EA6;\n",
              "    }\n",
              "\n",
              "    [theme=dark] .colab-df-convert {\n",
              "      background-color: #3B4455;\n",
              "      fill: #D2E3FC;\n",
              "    }\n",
              "\n",
              "    [theme=dark] .colab-df-convert:hover {\n",
              "      background-color: #434B5C;\n",
              "      box-shadow: 0px 1px 3px 1px rgba(0, 0, 0, 0.15);\n",
              "      filter: drop-shadow(0px 1px 2px rgba(0, 0, 0, 0.3));\n",
              "      fill: #FFFFFF;\n",
              "    }\n",
              "  </style>\n",
              "\n",
              "      <script>\n",
              "        const buttonEl =\n",
              "          document.querySelector('#df-cbe18c92-c4af-40d6-b5c4-16d43e117242 button.colab-df-convert');\n",
              "        buttonEl.style.display =\n",
              "          google.colab.kernel.accessAllowed ? 'block' : 'none';\n",
              "\n",
              "        async function convertToInteractive(key) {\n",
              "          const element = document.querySelector('#df-cbe18c92-c4af-40d6-b5c4-16d43e117242');\n",
              "          const dataTable =\n",
              "            await google.colab.kernel.invokeFunction('convertToInteractive',\n",
              "                                                     [key], {});\n",
              "          if (!dataTable) return;\n",
              "\n",
              "          const docLinkHtml = 'Like what you see? Visit the ' +\n",
              "            '<a target=\"_blank\" href=https://colab.research.google.com/notebooks/data_table.ipynb>data table notebook</a>'\n",
              "            + ' to learn more about interactive tables.';\n",
              "          element.innerHTML = '';\n",
              "          dataTable['output_type'] = 'display_data';\n",
              "          await google.colab.output.renderOutput(dataTable, element);\n",
              "          const docLink = document.createElement('div');\n",
              "          docLink.innerHTML = docLinkHtml;\n",
              "          element.appendChild(docLink);\n",
              "        }\n",
              "      </script>\n",
              "    </div>\n",
              "  </div>\n",
              "  "
            ]
          },
          "metadata": {},
          "execution_count": 122
        }
      ]
    },
    {
      "cell_type": "markdown",
      "source": [
        ">**Ejercicio 3:** Generar un nuevo dataframe llamado `df_final` realizando un agrupamiento por el `codigo_pais` obteniendo los valores máximos y mínimos `['max', 'min']` del dataframe `df_percapita`"
      ],
      "metadata": {
        "application/vnd.databricks.v1+cell": {
          "title": "",
          "showTitle": false,
          "inputWidgets": {},
          "nuid": "0dd0e184-6659-4a17-9db1-4533c54528ed"
        },
        "id": "JDlAOi4_MNIS"
      }
    },
    {
      "cell_type": "code",
      "source": [
        "#Su código aquí\n",
        "df_final = df_gb.groupby(level = 0).agg(['max','min'])\n",
        "df_final\n"
      ],
      "metadata": {
        "application/vnd.databricks.v1+cell": {
          "title": "",
          "showTitle": false,
          "inputWidgets": {},
          "nuid": "0d7f2359-4a53-490c-b82a-2a183728f695"
        },
        "id": "ZGUmcpWvMNIS",
        "colab": {
          "base_uri": "https://localhost:8080/",
          "height": 455
        },
        "outputId": "2315264a-6f7c-4549-9cde-cbaa0dc4efbf"
      },
      "outputs": [
        {
          "output_type": "execute_result",
          "data": {
            "text/plain": [
              "             max  min\n",
              "countrycode          \n",
              "ABW            0    0\n",
              "AGO           29    0\n",
              "AIA            0    0\n",
              "ALB            3    0\n",
              "ARE            9    0\n",
              "...          ...  ...\n",
              "VNM           95    0\n",
              "YEM           28    0\n",
              "ZAF           56   13\n",
              "ZMB           17    0\n",
              "ZWE           16    0\n",
              "\n",
              "[182 rows x 2 columns]"
            ],
            "text/html": [
              "\n",
              "  <div id=\"df-d0eacb9e-e57c-4e88-8a2a-935c9aa86e51\">\n",
              "    <div class=\"colab-df-container\">\n",
              "      <div>\n",
              "<style scoped>\n",
              "    .dataframe tbody tr th:only-of-type {\n",
              "        vertical-align: middle;\n",
              "    }\n",
              "\n",
              "    .dataframe tbody tr th {\n",
              "        vertical-align: top;\n",
              "    }\n",
              "\n",
              "    .dataframe thead th {\n",
              "        text-align: right;\n",
              "    }\n",
              "</style>\n",
              "<table border=\"1\" class=\"dataframe\">\n",
              "  <thead>\n",
              "    <tr style=\"text-align: right;\">\n",
              "      <th></th>\n",
              "      <th>max</th>\n",
              "      <th>min</th>\n",
              "    </tr>\n",
              "    <tr>\n",
              "      <th>countrycode</th>\n",
              "      <th></th>\n",
              "      <th></th>\n",
              "    </tr>\n",
              "  </thead>\n",
              "  <tbody>\n",
              "    <tr>\n",
              "      <th>ABW</th>\n",
              "      <td>0</td>\n",
              "      <td>0</td>\n",
              "    </tr>\n",
              "    <tr>\n",
              "      <th>AGO</th>\n",
              "      <td>29</td>\n",
              "      <td>0</td>\n",
              "    </tr>\n",
              "    <tr>\n",
              "      <th>AIA</th>\n",
              "      <td>0</td>\n",
              "      <td>0</td>\n",
              "    </tr>\n",
              "    <tr>\n",
              "      <th>ALB</th>\n",
              "      <td>3</td>\n",
              "      <td>0</td>\n",
              "    </tr>\n",
              "    <tr>\n",
              "      <th>ARE</th>\n",
              "      <td>9</td>\n",
              "      <td>0</td>\n",
              "    </tr>\n",
              "    <tr>\n",
              "      <th>...</th>\n",
              "      <td>...</td>\n",
              "      <td>...</td>\n",
              "    </tr>\n",
              "    <tr>\n",
              "      <th>VNM</th>\n",
              "      <td>95</td>\n",
              "      <td>0</td>\n",
              "    </tr>\n",
              "    <tr>\n",
              "      <th>YEM</th>\n",
              "      <td>28</td>\n",
              "      <td>0</td>\n",
              "    </tr>\n",
              "    <tr>\n",
              "      <th>ZAF</th>\n",
              "      <td>56</td>\n",
              "      <td>13</td>\n",
              "    </tr>\n",
              "    <tr>\n",
              "      <th>ZMB</th>\n",
              "      <td>17</td>\n",
              "      <td>0</td>\n",
              "    </tr>\n",
              "    <tr>\n",
              "      <th>ZWE</th>\n",
              "      <td>16</td>\n",
              "      <td>0</td>\n",
              "    </tr>\n",
              "  </tbody>\n",
              "</table>\n",
              "<p>182 rows × 2 columns</p>\n",
              "</div>\n",
              "      <button class=\"colab-df-convert\" onclick=\"convertToInteractive('df-d0eacb9e-e57c-4e88-8a2a-935c9aa86e51')\"\n",
              "              title=\"Convert this dataframe to an interactive table.\"\n",
              "              style=\"display:none;\">\n",
              "        \n",
              "  <svg xmlns=\"http://www.w3.org/2000/svg\" height=\"24px\"viewBox=\"0 0 24 24\"\n",
              "       width=\"24px\">\n",
              "    <path d=\"M0 0h24v24H0V0z\" fill=\"none\"/>\n",
              "    <path d=\"M18.56 5.44l.94 2.06.94-2.06 2.06-.94-2.06-.94-.94-2.06-.94 2.06-2.06.94zm-11 1L8.5 8.5l.94-2.06 2.06-.94-2.06-.94L8.5 2.5l-.94 2.06-2.06.94zm10 10l.94 2.06.94-2.06 2.06-.94-2.06-.94-.94-2.06-.94 2.06-2.06.94z\"/><path d=\"M17.41 7.96l-1.37-1.37c-.4-.4-.92-.59-1.43-.59-.52 0-1.04.2-1.43.59L10.3 9.45l-7.72 7.72c-.78.78-.78 2.05 0 2.83L4 21.41c.39.39.9.59 1.41.59.51 0 1.02-.2 1.41-.59l7.78-7.78 2.81-2.81c.8-.78.8-2.07 0-2.86zM5.41 20L4 18.59l7.72-7.72 1.47 1.35L5.41 20z\"/>\n",
              "  </svg>\n",
              "      </button>\n",
              "      \n",
              "  <style>\n",
              "    .colab-df-container {\n",
              "      display:flex;\n",
              "      flex-wrap:wrap;\n",
              "      gap: 12px;\n",
              "    }\n",
              "\n",
              "    .colab-df-convert {\n",
              "      background-color: #E8F0FE;\n",
              "      border: none;\n",
              "      border-radius: 50%;\n",
              "      cursor: pointer;\n",
              "      display: none;\n",
              "      fill: #1967D2;\n",
              "      height: 32px;\n",
              "      padding: 0 0 0 0;\n",
              "      width: 32px;\n",
              "    }\n",
              "\n",
              "    .colab-df-convert:hover {\n",
              "      background-color: #E2EBFA;\n",
              "      box-shadow: 0px 1px 2px rgba(60, 64, 67, 0.3), 0px 1px 3px 1px rgba(60, 64, 67, 0.15);\n",
              "      fill: #174EA6;\n",
              "    }\n",
              "\n",
              "    [theme=dark] .colab-df-convert {\n",
              "      background-color: #3B4455;\n",
              "      fill: #D2E3FC;\n",
              "    }\n",
              "\n",
              "    [theme=dark] .colab-df-convert:hover {\n",
              "      background-color: #434B5C;\n",
              "      box-shadow: 0px 1px 3px 1px rgba(0, 0, 0, 0.15);\n",
              "      filter: drop-shadow(0px 1px 2px rgba(0, 0, 0, 0.3));\n",
              "      fill: #FFFFFF;\n",
              "    }\n",
              "  </style>\n",
              "\n",
              "      <script>\n",
              "        const buttonEl =\n",
              "          document.querySelector('#df-d0eacb9e-e57c-4e88-8a2a-935c9aa86e51 button.colab-df-convert');\n",
              "        buttonEl.style.display =\n",
              "          google.colab.kernel.accessAllowed ? 'block' : 'none';\n",
              "\n",
              "        async function convertToInteractive(key) {\n",
              "          const element = document.querySelector('#df-d0eacb9e-e57c-4e88-8a2a-935c9aa86e51');\n",
              "          const dataTable =\n",
              "            await google.colab.kernel.invokeFunction('convertToInteractive',\n",
              "                                                     [key], {});\n",
              "          if (!dataTable) return;\n",
              "\n",
              "          const docLinkHtml = 'Like what you see? Visit the ' +\n",
              "            '<a target=\"_blank\" href=https://colab.research.google.com/notebooks/data_table.ipynb>data table notebook</a>'\n",
              "            + ' to learn more about interactive tables.';\n",
              "          element.innerHTML = '';\n",
              "          dataTable['output_type'] = 'display_data';\n",
              "          await google.colab.output.renderOutput(dataTable, element);\n",
              "          const docLink = document.createElement('div');\n",
              "          docLink.innerHTML = docLinkHtml;\n",
              "          element.appendChild(docLink);\n",
              "        }\n",
              "      </script>\n",
              "    </div>\n",
              "  </div>\n",
              "  "
            ]
          },
          "metadata": {},
          "execution_count": 128
        }
      ],
      "execution_count": null
    },
    {
      "cell_type": "code",
      "source": [
        "#Su código aquí\n",
        "df_final = df_gb.groupby('countrycode').agg(['max','min'])\n",
        "df_final"
      ],
      "metadata": {
        "colab": {
          "base_uri": "https://localhost:8080/",
          "height": 455
        },
        "id": "zNLgs3jNy4ox",
        "outputId": "0fca0bd2-c551-4631-d366-442611f82d4b"
      },
      "execution_count": null,
      "outputs": [
        {
          "output_type": "execute_result",
          "data": {
            "text/plain": [
              "             max  min\n",
              "countrycode          \n",
              "ABW            0    0\n",
              "AGO           29    0\n",
              "AIA            0    0\n",
              "ALB            3    0\n",
              "ARE            9    0\n",
              "...          ...  ...\n",
              "VNM           95    0\n",
              "YEM           28    0\n",
              "ZAF           56   13\n",
              "ZMB           17    0\n",
              "ZWE           16    0\n",
              "\n",
              "[182 rows x 2 columns]"
            ],
            "text/html": [
              "\n",
              "  <div id=\"df-0d8da357-1c89-4452-9714-80932f92f638\">\n",
              "    <div class=\"colab-df-container\">\n",
              "      <div>\n",
              "<style scoped>\n",
              "    .dataframe tbody tr th:only-of-type {\n",
              "        vertical-align: middle;\n",
              "    }\n",
              "\n",
              "    .dataframe tbody tr th {\n",
              "        vertical-align: top;\n",
              "    }\n",
              "\n",
              "    .dataframe thead th {\n",
              "        text-align: right;\n",
              "    }\n",
              "</style>\n",
              "<table border=\"1\" class=\"dataframe\">\n",
              "  <thead>\n",
              "    <tr style=\"text-align: right;\">\n",
              "      <th></th>\n",
              "      <th>max</th>\n",
              "      <th>min</th>\n",
              "    </tr>\n",
              "    <tr>\n",
              "      <th>countrycode</th>\n",
              "      <th></th>\n",
              "      <th></th>\n",
              "    </tr>\n",
              "  </thead>\n",
              "  <tbody>\n",
              "    <tr>\n",
              "      <th>ABW</th>\n",
              "      <td>0</td>\n",
              "      <td>0</td>\n",
              "    </tr>\n",
              "    <tr>\n",
              "      <th>AGO</th>\n",
              "      <td>29</td>\n",
              "      <td>0</td>\n",
              "    </tr>\n",
              "    <tr>\n",
              "      <th>AIA</th>\n",
              "      <td>0</td>\n",
              "      <td>0</td>\n",
              "    </tr>\n",
              "    <tr>\n",
              "      <th>ALB</th>\n",
              "      <td>3</td>\n",
              "      <td>0</td>\n",
              "    </tr>\n",
              "    <tr>\n",
              "      <th>ARE</th>\n",
              "      <td>9</td>\n",
              "      <td>0</td>\n",
              "    </tr>\n",
              "    <tr>\n",
              "      <th>...</th>\n",
              "      <td>...</td>\n",
              "      <td>...</td>\n",
              "    </tr>\n",
              "    <tr>\n",
              "      <th>VNM</th>\n",
              "      <td>95</td>\n",
              "      <td>0</td>\n",
              "    </tr>\n",
              "    <tr>\n",
              "      <th>YEM</th>\n",
              "      <td>28</td>\n",
              "      <td>0</td>\n",
              "    </tr>\n",
              "    <tr>\n",
              "      <th>ZAF</th>\n",
              "      <td>56</td>\n",
              "      <td>13</td>\n",
              "    </tr>\n",
              "    <tr>\n",
              "      <th>ZMB</th>\n",
              "      <td>17</td>\n",
              "      <td>0</td>\n",
              "    </tr>\n",
              "    <tr>\n",
              "      <th>ZWE</th>\n",
              "      <td>16</td>\n",
              "      <td>0</td>\n",
              "    </tr>\n",
              "  </tbody>\n",
              "</table>\n",
              "<p>182 rows × 2 columns</p>\n",
              "</div>\n",
              "      <button class=\"colab-df-convert\" onclick=\"convertToInteractive('df-0d8da357-1c89-4452-9714-80932f92f638')\"\n",
              "              title=\"Convert this dataframe to an interactive table.\"\n",
              "              style=\"display:none;\">\n",
              "        \n",
              "  <svg xmlns=\"http://www.w3.org/2000/svg\" height=\"24px\"viewBox=\"0 0 24 24\"\n",
              "       width=\"24px\">\n",
              "    <path d=\"M0 0h24v24H0V0z\" fill=\"none\"/>\n",
              "    <path d=\"M18.56 5.44l.94 2.06.94-2.06 2.06-.94-2.06-.94-.94-2.06-.94 2.06-2.06.94zm-11 1L8.5 8.5l.94-2.06 2.06-.94-2.06-.94L8.5 2.5l-.94 2.06-2.06.94zm10 10l.94 2.06.94-2.06 2.06-.94-2.06-.94-.94-2.06-.94 2.06-2.06.94z\"/><path d=\"M17.41 7.96l-1.37-1.37c-.4-.4-.92-.59-1.43-.59-.52 0-1.04.2-1.43.59L10.3 9.45l-7.72 7.72c-.78.78-.78 2.05 0 2.83L4 21.41c.39.39.9.59 1.41.59.51 0 1.02-.2 1.41-.59l7.78-7.78 2.81-2.81c.8-.78.8-2.07 0-2.86zM5.41 20L4 18.59l7.72-7.72 1.47 1.35L5.41 20z\"/>\n",
              "  </svg>\n",
              "      </button>\n",
              "      \n",
              "  <style>\n",
              "    .colab-df-container {\n",
              "      display:flex;\n",
              "      flex-wrap:wrap;\n",
              "      gap: 12px;\n",
              "    }\n",
              "\n",
              "    .colab-df-convert {\n",
              "      background-color: #E8F0FE;\n",
              "      border: none;\n",
              "      border-radius: 50%;\n",
              "      cursor: pointer;\n",
              "      display: none;\n",
              "      fill: #1967D2;\n",
              "      height: 32px;\n",
              "      padding: 0 0 0 0;\n",
              "      width: 32px;\n",
              "    }\n",
              "\n",
              "    .colab-df-convert:hover {\n",
              "      background-color: #E2EBFA;\n",
              "      box-shadow: 0px 1px 2px rgba(60, 64, 67, 0.3), 0px 1px 3px 1px rgba(60, 64, 67, 0.15);\n",
              "      fill: #174EA6;\n",
              "    }\n",
              "\n",
              "    [theme=dark] .colab-df-convert {\n",
              "      background-color: #3B4455;\n",
              "      fill: #D2E3FC;\n",
              "    }\n",
              "\n",
              "    [theme=dark] .colab-df-convert:hover {\n",
              "      background-color: #434B5C;\n",
              "      box-shadow: 0px 1px 3px 1px rgba(0, 0, 0, 0.15);\n",
              "      filter: drop-shadow(0px 1px 2px rgba(0, 0, 0, 0.3));\n",
              "      fill: #FFFFFF;\n",
              "    }\n",
              "  </style>\n",
              "\n",
              "      <script>\n",
              "        const buttonEl =\n",
              "          document.querySelector('#df-0d8da357-1c89-4452-9714-80932f92f638 button.colab-df-convert');\n",
              "        buttonEl.style.display =\n",
              "          google.colab.kernel.accessAllowed ? 'block' : 'none';\n",
              "\n",
              "        async function convertToInteractive(key) {\n",
              "          const element = document.querySelector('#df-0d8da357-1c89-4452-9714-80932f92f638');\n",
              "          const dataTable =\n",
              "            await google.colab.kernel.invokeFunction('convertToInteractive',\n",
              "                                                     [key], {});\n",
              "          if (!dataTable) return;\n",
              "\n",
              "          const docLinkHtml = 'Like what you see? Visit the ' +\n",
              "            '<a target=\"_blank\" href=https://colab.research.google.com/notebooks/data_table.ipynb>data table notebook</a>'\n",
              "            + ' to learn more about interactive tables.';\n",
              "          element.innerHTML = '';\n",
              "          dataTable['output_type'] = 'display_data';\n",
              "          await google.colab.output.renderOutput(dataTable, element);\n",
              "          const docLink = document.createElement('div');\n",
              "          docLink.innerHTML = docLinkHtml;\n",
              "          element.appendChild(docLink);\n",
              "        }\n",
              "      </script>\n",
              "    </div>\n",
              "  </div>\n",
              "  "
            ]
          },
          "metadata": {},
          "execution_count": 129
        }
      ]
    },
    {
      "cell_type": "code",
      "source": [
        "from google.colab import drive\n",
        "drive.mount('/content/drive')"
      ],
      "metadata": {
        "id": "g_fzyiPE1XWh"
      },
      "execution_count": null,
      "outputs": []
    },
    {
      "cell_type": "code",
      "source": [
        "df_drive = pd.read_csv('/content/drive/MyDrive/Colab Notebooks/Dataset/reviews_filmaffinity.csv'\n",
        "          , sep = '||')\n",
        "df_drive"
      ],
      "metadata": {
        "id": "22gq4Tx9FJ_7"
      },
      "execution_count": null,
      "outputs": []
    },
    {
      "cell_type": "markdown",
      "source": [
        "### Solución"
      ],
      "metadata": {
        "id": "AMeQExR2M61O"
      }
    },
    {
      "cell_type": "code",
      "source": [
        "df_final = df_percapita.groupby(by = 'codigo_pais').agg(['max', 'min'])\n",
        "df_final"
      ],
      "metadata": {
        "application/vnd.databricks.v1+cell": {
          "title": "",
          "showTitle": false,
          "inputWidgets": {},
          "nuid": "d040624b-8811-41a6-b0bb-85075156e6cd"
        },
        "id": "N8Z6xnzNMNIS"
      },
      "outputs": [],
      "execution_count": null
    },
    {
      "cell_type": "markdown",
      "source": [
        "### Fin"
      ],
      "metadata": {
        "id": "DQh2YxFrM_Uu"
      }
    },
    {
      "cell_type": "markdown",
      "source": [
        "\n",
        "\n",
        "<div style=\"text-align: center; line-height: 0; padding-top: 9px;\">\n",
        "  <img src=\"https://storage.googleapis.com/datasets-academy/public-img/notebooks/headers/databits-footer-notebook.png\" alt=\"Databricks Learning\" style=\"width: 100%;\">\n",
        "</div>"
      ],
      "metadata": {
        "application/vnd.databricks.v1+cell": {
          "title": "",
          "showTitle": false,
          "inputWidgets": {},
          "nuid": "b0717d6f-234c-40bc-bac4-7c55ba4d04f2"
        },
        "id": "WqAxmeT0MNIS"
      }
    }
  ],
  "metadata": {
    "language_info": {
      "mimetype": "text/x-python",
      "name": "python",
      "pygments_lexer": "ipython3",
      "codemirror_mode": {
        "name": "ipython",
        "version": 3
      },
      "version": "3.7.3",
      "nbconvert_exporter": "python",
      "file_extension": ".py"
    },
    "name": "IntroPython2_Clase(2h)",
    "notebookId": 4361305204748322,
    "kernelspec": {
      "display_name": "Python 3",
      "language": "python",
      "name": "python3"
    },
    "application/vnd.databricks.v1+notebook": {
      "notebookName": "03 Python - Librerías para Ciencia de Datos",
      "dashboards": [],
      "notebookMetadata": {
        "pythonIndentUnit": 2
      },
      "language": "python",
      "widgets": {},
      "notebookOrigID": 2160096233161531
    },
    "colab": {
      "collapsed_sections": [
        "jn-sTKRpMxdc",
        "anQevJDHM2SB",
        "AMeQExR2M61O"
      ],
      "provenance": [],
      "include_colab_link": true
    }
  },
  "nbformat": 4,
  "nbformat_minor": 0
}