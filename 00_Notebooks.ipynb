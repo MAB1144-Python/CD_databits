{
  "cells": [
    {
      "cell_type": "markdown",
      "metadata": {
        "id": "view-in-github",
        "colab_type": "text"
      },
      "source": [
        "<a href=\"https://colab.research.google.com/github/MAB1144-Python/CD_databits/blob/main/00_Notebooks.ipynb\" target=\"_parent\"><img src=\"https://colab.research.google.com/assets/colab-badge.svg\" alt=\"Open In Colab\"/></a>"
      ]
    },
    {
      "cell_type": "markdown",
      "source": [
        "<div style=\"text-align: center; line-height: 0; padding-top: 9px;\">\n",
        "  <img src=\"https://storage.googleapis.com/datasets-academy/public-img/notebooks/headers/databits-header-notebook.png\" alt=\"Databricks Learning\" style=\"width: 100%;\">\n",
        "</div>"
      ],
      "metadata": {
        "application/vnd.databricks.v1+cell": {
          "title": "",
          "showTitle": false,
          "inputWidgets": {},
          "nuid": "fea9ab74-95f8-4a4c-aa4a-7b192513fc0c"
        },
        "id": "fw3qaEkwyBAl"
      }
    },
    {
      "cell_type": "markdown",
      "source": [
        "# Colab Notebooks\n",
        "\n",
        "## Descripción\n",
        "En esta lección revisaremos la mayoría de funcionalidades que provee un Notebook para desarrollar código con el lenguaje de programación Python sobre Google Colaboratory.\n",
        "\n",
        "## Audiencia\n",
        "\n",
        "* Audiencia primaria: Desarrolladores, Ingenieros y Científicos de datos y Analistas de BI\n",
        "\n",
        "## Requisitos previos\n",
        "\n",
        "* Conocimientos básicos de programación\n",
        "* Navegador web: Chrome\n",
        "\n",
        "<img alt=\"Caution\" title=\"Caution\" style=\"vertical-align: text-bottom; position: relative; height:1.3em; top:0.0em\" src=\"https://storage.googleapis.com/datasets-academy/public-img/notebooks/icons/danger.png\"/> **Disclaimer:** Este material ha sido preparado por el equipo de **handytec Academy®**. Se prohibe la publicación o reproducción de este material sin previa autorización de **handytec Academy®** - 2022 Todos los derechos reservados."
      ],
      "metadata": {
        "application/vnd.databricks.v1+cell": {
          "title": "",
          "showTitle": false,
          "inputWidgets": {},
          "nuid": "ce86a642-d1f7-498f-970f-fda2dd247eba"
        },
        "id": "y93MLVN2yBAp"
      }
    },
    {
      "cell_type": "markdown",
      "source": [
        "# Notebooks\n",
        "\n",
        "Presentamos una demostración de cómo funciona un Notebook como IDE de interacción con lenguajes de programación científicos. Un Notebook es una interfaz web de programación que permite escribir porciones de código dentro de celdas y estas se pueden ejecutar independientemente. Además a través de 'magics', que son directivas que van precedidas del caracter '%' permiten ejecutar código de distintos lenguajes en un mismo Notebook. En general un Notebook permite:\n",
        "\n",
        "<b>\n",
        "- Programar en cualquier lenguaje de programación (R, Python, bash, Java, Nodejs, Latex, Markdown, etc.)\n",
        "- Disponer de un solo entorno, web y colaborativo para implementar Data Pipelines incluidos los modelos de Analítica de Datos.\n",
        "- Escribir código y visualizar los resultados de manera sencilla."
      ],
      "metadata": {
        "application/vnd.databricks.v1+cell": {
          "title": "",
          "showTitle": false,
          "inputWidgets": {},
          "nuid": "e1e37ed8-55dd-4375-8db9-e74805d1c527"
        },
        "id": "YLIXfjAQyBAq"
      }
    },
    {
      "cell_type": "markdown",
      "source": [
        "### ¿Deseas crear programas en Python?"
      ],
      "metadata": {
        "application/vnd.databricks.v1+cell": {
          "title": "",
          "showTitle": false,
          "inputWidgets": {},
          "nuid": "102d42a5-1ebe-4595-954d-fa499ab3f505"
        },
        "id": "VkezURWsyBAq"
      }
    },
    {
      "cell_type": "code",
      "source": [
        "# Fibonacci\n",
        "\n",
        "def fibonacci_loop(num):\n",
        "    if num == 0:\n",
        "        return 0\n",
        "    elif num == 1 or num == 2:\n",
        "        return 1\n",
        "    elif num > 2:\n",
        "        a = 1 # variable for (n - 1)\n",
        "        b = 1 # variable for (n - 2)\n",
        "        for _ in range(3, num + 1):\n",
        "            c = a + b\n",
        "            a, b = b, c\n",
        "\n",
        "        return c"
      ],
      "metadata": {
        "application/vnd.databricks.v1+cell": {
          "title": "",
          "showTitle": false,
          "inputWidgets": {},
          "nuid": "369f6e7b-2128-490f-9f5c-138911910ddc"
        },
        "id": "B1ILwSRvyBAq"
      },
      "outputs": [],
      "execution_count": null
    },
    {
      "cell_type": "code",
      "source": [
        "%time fibonacci_loop(40)"
      ],
      "metadata": {
        "application/vnd.databricks.v1+cell": {
          "title": "",
          "showTitle": false,
          "inputWidgets": {},
          "nuid": "9e529b9c-784f-4ddc-a3fb-a758f297870d"
        },
        "colab": {
          "base_uri": "https://localhost:8080/"
        },
        "id": "LD3yu-_RyBAs",
        "outputId": "dfba71e2-e7db-443d-893a-9e5f920d43d8"
      },
      "outputs": [
        {
          "output_type": "stream",
          "name": "stdout",
          "text": [
            "CPU times: user 10 µs, sys: 3 µs, total: 13 µs\n",
            "Wall time: 17.6 µs\n"
          ]
        },
        {
          "output_type": "execute_result",
          "data": {
            "text/plain": [
              "102334155"
            ]
          },
          "metadata": {},
          "execution_count": 2
        }
      ],
      "execution_count": null
    },
    {
      "cell_type": "markdown",
      "source": [
        "### ¿Deseas explicar una fórmula con Latex?"
      ],
      "metadata": {
        "application/vnd.databricks.v1+cell": {
          "title": "",
          "showTitle": false,
          "inputWidgets": {},
          "nuid": "672fa544-55b7-4252-b702-b5b4be944124"
        },
        "id": "pOYiLnMHyBAu"
      }
    },
    {
      "cell_type": "markdown",
      "source": [
        "$$\\int_a^b f(x) = F(b) - F(a)$$\n",
        "\n",
        "$$A{_i}{_j}=B{_i}{_j}$$"
      ],
      "metadata": {
        "application/vnd.databricks.v1+cell": {
          "title": "",
          "showTitle": false,
          "inputWidgets": {},
          "nuid": "fd9b7960-8004-404b-a6e9-fee6bd149a2d"
        },
        "id": "_bWGDdjfyBAv"
      }
    },
    {
      "cell_type": "markdown",
      "source": [
        "### ¿Deseas graficar?"
      ],
      "metadata": {
        "application/vnd.databricks.v1+cell": {
          "title": "",
          "showTitle": false,
          "inputWidgets": {},
          "nuid": "d9b920f3-a78f-49b7-b31d-0d15c1b90d18"
        },
        "id": "W2Jf8uD1yBAv"
      }
    },
    {
      "cell_type": "code",
      "source": [
        "#Instalar librería vía comando\n",
        "!pip install matplotlib"
      ],
      "metadata": {
        "application/vnd.databricks.v1+cell": {
          "title": "",
          "showTitle": false,
          "inputWidgets": {},
          "nuid": "3e80e550-932c-43a6-a221-a71903168608"
        },
        "colab": {
          "base_uri": "https://localhost:8080/"
        },
        "id": "5gwZMR96yBAv",
        "outputId": "711662ce-424a-443c-b392-b1b44e2d481e"
      },
      "outputs": [
        {
          "output_type": "stream",
          "name": "stdout",
          "text": [
            "Requirement already satisfied: matplotlib in /usr/local/lib/python3.7/dist-packages (3.2.2)\n",
            "Requirement already satisfied: numpy>=1.11 in /usr/local/lib/python3.7/dist-packages (from matplotlib) (1.19.5)\n",
            "Requirement already satisfied: python-dateutil>=2.1 in /usr/local/lib/python3.7/dist-packages (from matplotlib) (2.8.2)\n",
            "Requirement already satisfied: kiwisolver>=1.0.1 in /usr/local/lib/python3.7/dist-packages (from matplotlib) (1.3.2)\n",
            "Requirement already satisfied: cycler>=0.10 in /usr/local/lib/python3.7/dist-packages (from matplotlib) (0.11.0)\n",
            "Requirement already satisfied: pyparsing!=2.0.4,!=2.1.2,!=2.1.6,>=2.0.1 in /usr/local/lib/python3.7/dist-packages (from matplotlib) (3.0.6)\n",
            "Requirement already satisfied: six>=1.5 in /usr/local/lib/python3.7/dist-packages (from python-dateutil>=2.1->matplotlib) (1.15.0)\n"
          ]
        }
      ],
      "execution_count": null
    },
    {
      "cell_type": "code",
      "source": [
        "from matplotlib import pyplot as plt\n",
        "x = range(1000)\n",
        "y = [i ** 2 for i in x]\n",
        "fig, plt = plt.subplots()\n",
        "plt.plot(x,y)\n",
        "display(fig)"
      ],
      "metadata": {
        "application/vnd.databricks.v1+cell": {
          "title": "",
          "showTitle": false,
          "inputWidgets": {},
          "nuid": "97336eb6-55c4-40d6-85de-b4aa3658a024"
        },
        "colab": {
          "base_uri": "https://localhost:8080/",
          "height": 535
        },
        "id": "v8M8JQMFyBAw",
        "outputId": "52db6e78-385d-4de8-ac67-d940787b325f"
      },
      "outputs": [
        {
          "output_type": "display_data",
          "data": {
            "image/png": "[encoded data removed]",
            "text/plain": [
              "<Figure size 432x288 with 1 Axes>"
            ]
          },
          "metadata": {}
        },
        {
          "output_type": "display_data",
          "data": {
            "image/png": "[encoded data removed]",
            "text/plain": [
              "<Figure size 432x288 with 1 Axes>"
            ]
          },
          "metadata": {
            "needs_background": "light"
          }
        }
      ],
      "execution_count": null
    },
    {
      "cell_type": "markdown",
      "source": [
        "\n",
        "\n",
        "<div style=\"text-align: center; line-height: 0; padding-top: 9px;\">\n",
        "  <img src=\"https://storage.googleapis.com/datasets-academy/public-img/notebooks/headers/databits-footer-notebook.png\" alt=\"Databricks Learning\" style=\"width: 100%;\">\n",
        "</div>"
      ],
      "metadata": {
        "application/vnd.databricks.v1+cell": {
          "title": "",
          "showTitle": false,
          "inputWidgets": {},
          "nuid": "05e2fe1e-0f12-4432-8430-7549a865b829"
        },
        "id": "xk1fvHgoyBAx"
      }
    }
  ],
  "metadata": {
    "kernelspec": {
      "display_name": "Python 3",
      "language": "python",
      "name": "python3"
    },
    "language_info": {
      "mimetype": "text/x-python",
      "name": "python",
      "pygments_lexer": "ipython3",
      "codemirror_mode": {
        "name": "ipython",
        "version": 3
      },
      "version": "3.7.5",
      "nbconvert_exporter": "python",
      "file_extension": ".py"
    },
    "application/vnd.databricks.v1+notebook": {
      "notebookName": "01 Notebooks",
      "dashboards": [
        {
          "elements": [
            {
              "elementNUID": "8bb9939b-6620-4399-84d8-2455ee652260",
              "guid": "4fc14b02-7a2b-424e-9ba7-4875e4bf5bfc",
              "resultIndex": null,
              "options": {
                "showTitle": false,
                "showRunButton": true,
                "scale": 0,
                "autoScaleImg": false,
                "titleAlign": "center"
              },
              "position": {
                "x": 0,
                "y": 0,
                "height": 8,
                "width": 15,
                "z": null
              },
              "elementType": "command"
            },
            {
              "elementNUID": "97336eb6-55c4-40d6-85de-b4aa3658a024",
              "guid": "f183d73b-1722-47e7-b584-89f180d6f4c0",
              "resultIndex": null,
              "options": null,
              "position": {
                "x": 0,
                "y": 8,
                "height": 6,
                "width": 12,
                "z": null
              },
              "elementType": "command"
            }
          ],
          "guid": "1a1c368c-9321-44b6-899f-e63d24f1dc65",
          "layoutOption": {
            "stack": true,
            "grid": true
          },
          "version": "DashboardViewV1",
          "nuid": "88b01bde-cade-4ec3-a626-a76509cef90e",
          "origId": 1339001728492653,
          "title": "Dash",
          "width": 1024,
          "globalVars": {}
        },
        {
          "elements": [
            {
              "elementNUID": "8bb9939b-6620-4399-84d8-2455ee652260",
              "guid": "d37bfd67-9a51-4925-845c-56b17350a6a7",
              "resultIndex": null,
              "options": {
                "showTitle": false,
                "showRunButton": true,
                "scale": 0,
                "autoScaleImg": false,
                "titleAlign": "center"
              },
              "position": {
                "x": 0,
                "y": 0,
                "height": 11,
                "width": 17,
                "z": null
              },
              "elementType": "command"
            }
          ],
          "guid": "03165a39-ab04-4b19-833d-0a5ab87072eb",
          "layoutOption": {
            "stack": true,
            "grid": true
          },
          "version": "DashboardViewV1",
          "nuid": "17dfbcf3-eaeb-4749-89b0-c3e856366c00",
          "origId": 1339001728492654,
          "title": "Untitled",
          "width": 1024,
          "globalVars": {}
        },
        {
          "elements": [
            {
              "elementNUID": "8bb9939b-6620-4399-84d8-2455ee652260",
              "guid": "6ce1145c-2204-4b18-8a13-47db371fe652",
              "resultIndex": null,
              "options": {
                "titleAlign": "center",
                "autoScaleImg": false,
                "scale": 0,
                "showTitle": false
              },
              "position": {
                "x": 0,
                "y": 0,
                "height": 9,
                "width": 14,
                "z": null
              },
              "elementType": "command"
            }
          ],
          "guid": "d58984ed-49f4-4636-b33d-15d5f76352ef",
          "layoutOption": {
            "stack": true,
            "grid": true
          },
          "version": "DashboardViewV1",
          "nuid": "dcf89468-7160-4ea1-988b-44abfc53c53d",
          "origId": 1339001728492655,
          "title": "Untitled",
          "width": 1024,
          "globalVars": {}
        },
        {
          "elements": [
            {
              "elementNUID": "8bb9939b-6620-4399-84d8-2455ee652260",
              "guid": "9ab7c345-3ea4-422c-a498-82a9393ae9d2",
              "resultIndex": null,
              "options": {
                "showTitle": false,
                "showRunButton": true,
                "scale": 0,
                "autoScaleImg": false,
                "titleAlign": "center"
              },
              "position": {
                "x": 0,
                "y": 0,
                "height": 7,
                "width": 12,
                "z": null
              },
              "elementType": "command"
            }
          ],
          "guid": "91ab1672-2cb4-41cd-a9f3-2eb85c87c8ed",
          "layoutOption": {
            "stack": true,
            "grid": true
          },
          "version": "DashboardViewV1",
          "nuid": "d168f8f7-c20f-410a-80f4-fa527885531b",
          "origId": 1339001728492656,
          "title": "Untitled",
          "width": 1024,
          "globalVars": {}
        },
        {
          "elements": [
            {
              "elementNUID": "8bb9939b-6620-4399-84d8-2455ee652260",
              "guid": "6d0315bc-99cc-44f0-abe5-5e6a680ae8e5",
              "resultIndex": null,
              "options": null,
              "position": {
                "x": 0,
                "y": 0,
                "height": 6,
                "width": 12,
                "z": null
              },
              "elementType": "command"
            }
          ],
          "guid": "99d6b24f-f99e-4568-86af-4b0e503c6df7",
          "layoutOption": {
            "stack": true,
            "grid": true
          },
          "version": "DashboardViewV1",
          "nuid": "fea62126-620a-410d-b5ca-30525686d863",
          "origId": 1339001728492657,
          "title": "Academy",
          "width": 1024,
          "globalVars": {}
        }
      ],
      "notebookMetadata": {
        "pythonIndentUnit": 2
      },
      "language": "python",
      "widgets": {},
      "notebookOrigID": 1339001728492632
    },
    "colab": {
      "provenance": [],
      "include_colab_link": true
    }
  },
  "nbformat": 4,
  "nbformat_minor": 0
}