{
  "cells": [
    {
      "cell_type": "markdown",
      "source": [
        "\n",
        "<div style=\"text-align: center; line-height: 0; padding-top: 9px;\">\n",
        "  <img src=\"https://storage.googleapis.com/datasets-academy/public-img/notebooks/headers/databits-header-notebook.png\" alt=\"Databricks Learning\" style=\"width: 100%;\">\n",
        "</div>"
      ],
      "metadata": {
        "application/vnd.databricks.v1+cell": {
          "title": "",
          "showTitle": false,
          "inputWidgets": {},
          "nuid": "83a14146-3520-4c98-8e8d-1d939ed8d998"
        },
        "id": "Oquu2Dlm6slX"
      }
    },
    {
      "cell_type": "markdown",
      "source": [
        "# <center>  Estadística Descriptiva  </center>\n",
        "\n",
        "## Descripción\n",
        "En esta lección se revisa los conceptos asociados a la estadística descriptiva implementando código Python.\n",
        "\n",
        "## Contenido\n",
        "\n",
        "* Medidas de Tendencia Central\n",
        "* Medidas de Dispersión\n",
        "* Medidas de Posición\n",
        "* Medidas de Forma\n",
        "* Distribución Normal\n",
        "* Covarianza y correlación\n",
        "\n",
        "## Requisitos previos\n",
        "\n",
        "* Haber completado el curso:\n",
        "  * Introducción a Python\n",
        "  * Conocimientos básicos de programación\n",
        "  * Navegador web: Chrome\n",
        "\n",
        "<img alt=\"Caution\" title=\"Caution\" style=\"vertical-align: text-bottom; position: relative; height:1.3em; top:0.0em\" src=\"https://storage.googleapis.com/datasets-academy/public-img/notebooks/icons/danger.png\"/> **Disclaimer:** Este material ha sido preparado por el equipo de **handytec Academy®**. Se prohibe la publicación o reproducción de este material sin previa autorización de **handytec Academy®** - 2022 Todos los derechos reservados."
      ],
      "metadata": {
        "application/vnd.databricks.v1+cell": {
          "title": "",
          "showTitle": false,
          "inputWidgets": {},
          "nuid": "ef836853-0144-4292-9bc5-cd2cc6d0c234"
        },
        "id": "iZrq2oSJ6sla"
      }
    },
    {
      "cell_type": "markdown",
      "source": [
        "## Importar librerías y verificar versiones"
      ],
      "metadata": {
        "application/vnd.databricks.v1+cell": {
          "title": "",
          "showTitle": false,
          "inputWidgets": {},
          "nuid": "710669da-3e8d-4e85-9c39-f802cfd81c78"
        },
        "id": "DuKNVut26slb"
      }
    },
    {
      "cell_type": "code",
      "source": [
        "import sys\n",
        "import numpy as np\n",
        "import pandas as pd\n",
        "# Librería para medidas de posición y forma\n",
        "import scipy\n",
        "import scipy.stats as stats\n",
        "# Librerías para visualización\n",
        "import seaborn as sns\n",
        "import matplotlib\n",
        "import matplotlib.pyplot as plt"
      ],
      "metadata": {
        "application/vnd.databricks.v1+cell": {
          "title": "",
          "showTitle": false,
          "inputWidgets": {},
          "nuid": "f66338cc-9e1a-4ecf-988f-7d75a1e42259"
        },
        "id": "ZuTFoTVl6slb"
      },
      "outputs": [],
      "execution_count": 3
    },
    {
      "cell_type": "code",
      "source": [
        "print('** Versiones Actuales | Requeridas **')\n",
        "print('Python:\\nVersion Actual:', sys.version, ' | Requerida >= 3.6')\n",
        "print('NumPy:\\nVersion Actual: {:10} | Requerida >= 1.16.2'.format(np.__version__))\n",
        "print('Pandas:\\nVersion Actual: {:10}| Requerida >= 1.0.1'.format(pd.__version__))\n",
        "print('SciPy:\\nVersion Actual: {:10}| Requerida >= 1.2.1'.format(scipy.__version__))\n",
        "print('Matplotlib:\\nVersion Actual: {:10} | Requerida >= 3.0.3'.format(matplotlib.__version__))\n",
        "print('Seaborn:\\nVersion Actual: {:10} |Requerida >= 0.9.0 '.format(sns.__version__))"
      ],
      "metadata": {
        "application/vnd.databricks.v1+cell": {
          "title": "",
          "showTitle": false,
          "inputWidgets": {},
          "nuid": "3150ed84-3a10-4529-9db3-557ffa2b57ab"
        },
        "colab": {
          "base_uri": "https://localhost:8080/"
        },
        "id": "kzQdV-kx6sld",
        "outputId": "aeb358cb-a9f2-4fc3-d37c-55af9b78f462"
      },
      "outputs": [
        {
          "output_type": "stream",
          "name": "stdout",
          "text": [
            "** Versiones Actuales | Requeridas **\n",
            "Python:\n",
            "Version Actual: 3.7.14 (default, Sep  8 2022, 00:06:44) \n",
            "[GCC 7.5.0]  | Requerida >= 3.6\n",
            "NumPy:\n",
            "Version Actual: 1.21.6     | Requerida >= 1.16.2\n",
            "Pandas:\n",
            "Version Actual: 1.3.5     | Requerida >= 1.0.1\n",
            "SciPy:\n",
            "Version Actual: 1.7.3     | Requerida >= 1.2.1\n",
            "Matplotlib:\n",
            "Version Actual: 3.2.2      | Requerida >= 3.0.3\n",
            "Seaborn:\n",
            "Version Actual: 0.11.2     |Requerida >= 0.9.0 \n"
          ]
        }
      ],
      "execution_count": null
    },
    {
      "cell_type": "markdown",
      "source": [
        "## 1. Dataset de Trabajo\n",
        "\n",
        "**Credit:** conjunto de datos simulados que contiene información sobre diez mil clientes de una entidad financiera\n",
        "\n",
        "<a href='https://rdrr.io/cran/ISLR/man/Credit.html'>\n",
        "  Documentación de las variables </a>"
      ],
      "metadata": {
        "application/vnd.databricks.v1+cell": {
          "title": "",
          "showTitle": false,
          "inputWidgets": {},
          "nuid": "69cc1b5a-f0f5-4e37-9e5e-1e0f8a9913f5"
        },
        "id": "NugVOSJb6sld"
      }
    },
    {
      "cell_type": "markdown",
      "source": [
        "**Diccionario de datos**\n",
        "* ID: Código de identificación del cliente\n",
        "* Income: Ingresos del cliente en $10,000's\n",
        "* Limit: Límite de crédito\n",
        "* Rating: Puntaje crediticio\n",
        "* Cards: Número de tarjetas de crédito\n",
        "* Age: Edad en años\n",
        "* Education: Número de años de educación\n",
        "* Gender: Masculino (Male) o Femenino (Female)\n",
        "* Student: Si el cliente es estudiantes (Yes) o no lo es (No)\n",
        "* Married: Si el cliente está casado (Yes) o no está (No)\n",
        "* Ethnicity: Africano (African), Americano (American), Asiático (Asian) y Caucásico (Caucasian)\n",
        "* Balance: Promedio del saldo de la tarjeta de crédito en dólares"
      ],
      "metadata": {
        "application/vnd.databricks.v1+cell": {
          "title": "",
          "showTitle": false,
          "inputWidgets": {},
          "nuid": "2b8b096b-e54f-4f1d-af4e-aecb80306dc3"
        },
        "id": "4CQr8tOv6sle"
      }
    },
    {
      "cell_type": "code",
      "source": [
        "Credit       = pd.read_csv(\"https://storage.googleapis.com/datasets-academy/Credit.csv\")\n",
        "Credit[\"ID\"] = Credit[\"ID\"].astype(object)"
      ],
      "metadata": {
        "application/vnd.databricks.v1+cell": {
          "title": "",
          "showTitle": false,
          "inputWidgets": {},
          "nuid": "404d5cc8-c865-4fe6-b300-e6407d420f32"
        },
        "id": "lfPH_Vek6sle"
      },
      "outputs": [],
      "execution_count": 8
    },
    {
      "cell_type": "code",
      "source": [
        "Credit.head(30)"
      ],
      "metadata": {
        "application/vnd.databricks.v1+cell": {
          "title": "",
          "showTitle": false,
          "inputWidgets": {},
          "nuid": "d9f435d8-9a4b-490d-a680-1a8c09b4c409"
        },
        "colab": {
          "base_uri": "https://localhost:8080/",
          "height": 1207
        },
        "id": "8IqK1mj_6sle",
        "outputId": "14b89058-54c2-47bd-9e0b-35837773e9d9"
      },
      "outputs": [
        {
          "output_type": "execute_result",
          "data": {
            "text/plain": [
              "    ID   Income  Limit  Rating  Cards  Age  Education  Gender Student Married  \\\n",
              "0    1   14.891   3606     283      2   34         11    Male      No     Yes   \n",
              "1    2  106.025   6645     483      3   82         15  Female     Yes     Yes   \n",
              "2    3  104.593   7075     514      4   71         11    Male      No      No   \n",
              "3    4  148.924   9504     681      3   36         11  Female      No      No   \n",
              "4    5   55.882   4897     357      2   68         16    Male      No     Yes   \n",
              "5    6   80.180   8047     569      4   77         10    Male      No      No   \n",
              "6    7   20.996   3388     259      2   37         12  Female      No      No   \n",
              "7    8   71.408   7114     512      2   87          9    Male      No      No   \n",
              "8    9   15.125   3300     266      5   66         13  Female      No      No   \n",
              "9   10   71.061   6819     491      3   41         19  Female     Yes     Yes   \n",
              "10  11   63.095   8117     589      4   30         14    Male      No     Yes   \n",
              "11  12   15.045   1311     138      3   64         16    Male      No      No   \n",
              "12  13   80.616   5308     394      1   57          7  Female      No     Yes   \n",
              "13  14   43.682   6922     511      1   49          9    Male      No     Yes   \n",
              "14  15   19.144   3291     269      2   75         13  Female      No      No   \n",
              "15  16   20.089   2525     200      3   57         15  Female      No     Yes   \n",
              "16  17   53.598   3714     286      3   73         17  Female      No     Yes   \n",
              "17  18   36.496   4378     339      3   69         15  Female      No     Yes   \n",
              "18  19   49.570   6384     448      1   28          9  Female      No     Yes   \n",
              "19  20   42.079   6626     479      2   44          9    Male      No      No   \n",
              "20  21   17.700   2860     235      4   63         16  Female      No      No   \n",
              "21  22   37.348   6378     458      1   72         17  Female      No      No   \n",
              "22  23   20.103   2631     213      3   61         10    Male      No     Yes   \n",
              "23  24   64.027   5179     398      5   48          8    Male      No     Yes   \n",
              "24  25   10.742   1757     156      3   57         15  Female      No      No   \n",
              "25  26   14.090   4323     326      5   25         16  Female      No     Yes   \n",
              "26  27   42.471   3625     289      6   44         12  Female     Yes      No   \n",
              "27  28   32.793   4534     333      2   44         16    Male      No      No   \n",
              "28  29  186.634  13414     949      2   41         14  Female      No     Yes   \n",
              "29  30   26.813   5611     411      4   55         16  Female      No      No   \n",
              "\n",
              "           Ethnicity  Balance  \n",
              "0          Caucasian      333  \n",
              "1              Asian      903  \n",
              "2              Asian      580  \n",
              "3              Asian      964  \n",
              "4          Caucasian      331  \n",
              "5          Caucasian     1151  \n",
              "6   African American      203  \n",
              "7              Asian      872  \n",
              "8          Caucasian      279  \n",
              "9   African American     1350  \n",
              "10         Caucasian     1407  \n",
              "11         Caucasian        0  \n",
              "12             Asian      204  \n",
              "13         Caucasian     1081  \n",
              "14  African American      148  \n",
              "15  African American        0  \n",
              "16  African American        0  \n",
              "17             Asian      368  \n",
              "18             Asian      891  \n",
              "19             Asian     1048  \n",
              "20             Asian       89  \n",
              "21         Caucasian      968  \n",
              "22  African American        0  \n",
              "23  African American      411  \n",
              "24         Caucasian        0  \n",
              "25  African American      671  \n",
              "26         Caucasian      654  \n",
              "27  African American      467  \n",
              "28  African American     1809  \n",
              "29         Caucasian      915  "
            ],
            "text/html": [
              "\n",
              "  <div id=\"df-4912be65-5d4d-456d-84b3-4c06ec3a47bf\">\n",
              "    <div class=\"colab-df-container\">\n",
              "      <div>\n",
              "<style scoped>\n",
              "    .dataframe tbody tr th:only-of-type {\n",
              "        vertical-align: middle;\n",
              "    }\n",
              "\n",
              "    .dataframe tbody tr th {\n",
              "        vertical-align: top;\n",
              "    }\n",
              "\n",
              "    .dataframe thead th {\n",
              "        text-align: right;\n",
              "    }\n",
              "</style>\n",
              "<table border=\"1\" class=\"dataframe\">\n",
              "  <thead>\n",
              "    <tr style=\"text-align: right;\">\n",
              "      <th></th>\n",
              "      <th>ID</th>\n",
              "      <th>Income</th>\n",
              "      <th>Limit</th>\n",
              "      <th>Rating</th>\n",
              "      <th>Cards</th>\n",
              "      <th>Age</th>\n",
              "      <th>Education</th>\n",
              "      <th>Gender</th>\n",
              "      <th>Student</th>\n",
              "      <th>Married</th>\n",
              "      <th>Ethnicity</th>\n",
              "      <th>Balance</th>\n",
              "    </tr>\n",
              "  </thead>\n",
              "  <tbody>\n",
              "    <tr>\n",
              "      <th>0</th>\n",
              "      <td>1</td>\n",
              "      <td>14.891</td>\n",
              "      <td>3606</td>\n",
              "      <td>283</td>\n",
              "      <td>2</td>\n",
              "      <td>34</td>\n",
              "      <td>11</td>\n",
              "      <td>Male</td>\n",
              "      <td>No</td>\n",
              "      <td>Yes</td>\n",
              "      <td>Caucasian</td>\n",
              "      <td>333</td>\n",
              "    </tr>\n",
              "    <tr>\n",
              "      <th>1</th>\n",
              "      <td>2</td>\n",
              "      <td>106.025</td>\n",
              "      <td>6645</td>\n",
              "      <td>483</td>\n",
              "      <td>3</td>\n",
              "      <td>82</td>\n",
              "      <td>15</td>\n",
              "      <td>Female</td>\n",
              "      <td>Yes</td>\n",
              "      <td>Yes</td>\n",
              "      <td>Asian</td>\n",
              "      <td>903</td>\n",
              "    </tr>\n",
              "    <tr>\n",
              "      <th>2</th>\n",
              "      <td>3</td>\n",
              "      <td>104.593</td>\n",
              "      <td>7075</td>\n",
              "      <td>514</td>\n",
              "      <td>4</td>\n",
              "      <td>71</td>\n",
              "      <td>11</td>\n",
              "      <td>Male</td>\n",
              "      <td>No</td>\n",
              "      <td>No</td>\n",
              "      <td>Asian</td>\n",
              "      <td>580</td>\n",
              "    </tr>\n",
              "    <tr>\n",
              "      <th>3</th>\n",
              "      <td>4</td>\n",
              "      <td>148.924</td>\n",
              "      <td>9504</td>\n",
              "      <td>681</td>\n",
              "      <td>3</td>\n",
              "      <td>36</td>\n",
              "      <td>11</td>\n",
              "      <td>Female</td>\n",
              "      <td>No</td>\n",
              "      <td>No</td>\n",
              "      <td>Asian</td>\n",
              "      <td>964</td>\n",
              "    </tr>\n",
              "    <tr>\n",
              "      <th>4</th>\n",
              "      <td>5</td>\n",
              "      <td>55.882</td>\n",
              "      <td>4897</td>\n",
              "      <td>357</td>\n",
              "      <td>2</td>\n",
              "      <td>68</td>\n",
              "      <td>16</td>\n",
              "      <td>Male</td>\n",
              "      <td>No</td>\n",
              "      <td>Yes</td>\n",
              "      <td>Caucasian</td>\n",
              "      <td>331</td>\n",
              "    </tr>\n",
              "    <tr>\n",
              "      <th>5</th>\n",
              "      <td>6</td>\n",
              "      <td>80.180</td>\n",
              "      <td>8047</td>\n",
              "      <td>569</td>\n",
              "      <td>4</td>\n",
              "      <td>77</td>\n",
              "      <td>10</td>\n",
              "      <td>Male</td>\n",
              "      <td>No</td>\n",
              "      <td>No</td>\n",
              "      <td>Caucasian</td>\n",
              "      <td>1151</td>\n",
              "    </tr>\n",
              "    <tr>\n",
              "      <th>6</th>\n",
              "      <td>7</td>\n",
              "      <td>20.996</td>\n",
              "      <td>3388</td>\n",
              "      <td>259</td>\n",
              "      <td>2</td>\n",
              "      <td>37</td>\n",
              "      <td>12</td>\n",
              "      <td>Female</td>\n",
              "      <td>No</td>\n",
              "      <td>No</td>\n",
              "      <td>African American</td>\n",
              "      <td>203</td>\n",
              "    </tr>\n",
              "    <tr>\n",
              "      <th>7</th>\n",
              "      <td>8</td>\n",
              "      <td>71.408</td>\n",
              "      <td>7114</td>\n",
              "      <td>512</td>\n",
              "      <td>2</td>\n",
              "      <td>87</td>\n",
              "      <td>9</td>\n",
              "      <td>Male</td>\n",
              "      <td>No</td>\n",
              "      <td>No</td>\n",
              "      <td>Asian</td>\n",
              "      <td>872</td>\n",
              "    </tr>\n",
              "    <tr>\n",
              "      <th>8</th>\n",
              "      <td>9</td>\n",
              "      <td>15.125</td>\n",
              "      <td>3300</td>\n",
              "      <td>266</td>\n",
              "      <td>5</td>\n",
              "      <td>66</td>\n",
              "      <td>13</td>\n",
              "      <td>Female</td>\n",
              "      <td>No</td>\n",
              "      <td>No</td>\n",
              "      <td>Caucasian</td>\n",
              "      <td>279</td>\n",
              "    </tr>\n",
              "    <tr>\n",
              "      <th>9</th>\n",
              "      <td>10</td>\n",
              "      <td>71.061</td>\n",
              "      <td>6819</td>\n",
              "      <td>491</td>\n",
              "      <td>3</td>\n",
              "      <td>41</td>\n",
              "      <td>19</td>\n",
              "      <td>Female</td>\n",
              "      <td>Yes</td>\n",
              "      <td>Yes</td>\n",
              "      <td>African American</td>\n",
              "      <td>1350</td>\n",
              "    </tr>\n",
              "    <tr>\n",
              "      <th>10</th>\n",
              "      <td>11</td>\n",
              "      <td>63.095</td>\n",
              "      <td>8117</td>\n",
              "      <td>589</td>\n",
              "      <td>4</td>\n",
              "      <td>30</td>\n",
              "      <td>14</td>\n",
              "      <td>Male</td>\n",
              "      <td>No</td>\n",
              "      <td>Yes</td>\n",
              "      <td>Caucasian</td>\n",
              "      <td>1407</td>\n",
              "    </tr>\n",
              "    <tr>\n",
              "      <th>11</th>\n",
              "      <td>12</td>\n",
              "      <td>15.045</td>\n",
              "      <td>1311</td>\n",
              "      <td>138</td>\n",
              "      <td>3</td>\n",
              "      <td>64</td>\n",
              "      <td>16</td>\n",
              "      <td>Male</td>\n",
              "      <td>No</td>\n",
              "      <td>No</td>\n",
              "      <td>Caucasian</td>\n",
              "      <td>0</td>\n",
              "    </tr>\n",
              "    <tr>\n",
              "      <th>12</th>\n",
              "      <td>13</td>\n",
              "      <td>80.616</td>\n",
              "      <td>5308</td>\n",
              "      <td>394</td>\n",
              "      <td>1</td>\n",
              "      <td>57</td>\n",
              "      <td>7</td>\n",
              "      <td>Female</td>\n",
              "      <td>No</td>\n",
              "      <td>Yes</td>\n",
              "      <td>Asian</td>\n",
              "      <td>204</td>\n",
              "    </tr>\n",
              "    <tr>\n",
              "      <th>13</th>\n",
              "      <td>14</td>\n",
              "      <td>43.682</td>\n",
              "      <td>6922</td>\n",
              "      <td>511</td>\n",
              "      <td>1</td>\n",
              "      <td>49</td>\n",
              "      <td>9</td>\n",
              "      <td>Male</td>\n",
              "      <td>No</td>\n",
              "      <td>Yes</td>\n",
              "      <td>Caucasian</td>\n",
              "      <td>1081</td>\n",
              "    </tr>\n",
              "    <tr>\n",
              "      <th>14</th>\n",
              "      <td>15</td>\n",
              "      <td>19.144</td>\n",
              "      <td>3291</td>\n",
              "      <td>269</td>\n",
              "      <td>2</td>\n",
              "      <td>75</td>\n",
              "      <td>13</td>\n",
              "      <td>Female</td>\n",
              "      <td>No</td>\n",
              "      <td>No</td>\n",
              "      <td>African American</td>\n",
              "      <td>148</td>\n",
              "    </tr>\n",
              "    <tr>\n",
              "      <th>15</th>\n",
              "      <td>16</td>\n",
              "      <td>20.089</td>\n",
              "      <td>2525</td>\n",
              "      <td>200</td>\n",
              "      <td>3</td>\n",
              "      <td>57</td>\n",
              "      <td>15</td>\n",
              "      <td>Female</td>\n",
              "      <td>No</td>\n",
              "      <td>Yes</td>\n",
              "      <td>African American</td>\n",
              "      <td>0</td>\n",
              "    </tr>\n",
              "    <tr>\n",
              "      <th>16</th>\n",
              "      <td>17</td>\n",
              "      <td>53.598</td>\n",
              "      <td>3714</td>\n",
              "      <td>286</td>\n",
              "      <td>3</td>\n",
              "      <td>73</td>\n",
              "      <td>17</td>\n",
              "      <td>Female</td>\n",
              "      <td>No</td>\n",
              "      <td>Yes</td>\n",
              "      <td>African American</td>\n",
              "      <td>0</td>\n",
              "    </tr>\n",
              "    <tr>\n",
              "      <th>17</th>\n",
              "      <td>18</td>\n",
              "      <td>36.496</td>\n",
              "      <td>4378</td>\n",
              "      <td>339</td>\n",
              "      <td>3</td>\n",
              "      <td>69</td>\n",
              "      <td>15</td>\n",
              "      <td>Female</td>\n",
              "      <td>No</td>\n",
              "      <td>Yes</td>\n",
              "      <td>Asian</td>\n",
              "      <td>368</td>\n",
              "    </tr>\n",
              "    <tr>\n",
              "      <th>18</th>\n",
              "      <td>19</td>\n",
              "      <td>49.570</td>\n",
              "      <td>6384</td>\n",
              "      <td>448</td>\n",
              "      <td>1</td>\n",
              "      <td>28</td>\n",
              "      <td>9</td>\n",
              "      <td>Female</td>\n",
              "      <td>No</td>\n",
              "      <td>Yes</td>\n",
              "      <td>Asian</td>\n",
              "      <td>891</td>\n",
              "    </tr>\n",
              "    <tr>\n",
              "      <th>19</th>\n",
              "      <td>20</td>\n",
              "      <td>42.079</td>\n",
              "      <td>6626</td>\n",
              "      <td>479</td>\n",
              "      <td>2</td>\n",
              "      <td>44</td>\n",
              "      <td>9</td>\n",
              "      <td>Male</td>\n",
              "      <td>No</td>\n",
              "      <td>No</td>\n",
              "      <td>Asian</td>\n",
              "      <td>1048</td>\n",
              "    </tr>\n",
              "    <tr>\n",
              "      <th>20</th>\n",
              "      <td>21</td>\n",
              "      <td>17.700</td>\n",
              "      <td>2860</td>\n",
              "      <td>235</td>\n",
              "      <td>4</td>\n",
              "      <td>63</td>\n",
              "      <td>16</td>\n",
              "      <td>Female</td>\n",
              "      <td>No</td>\n",
              "      <td>No</td>\n",
              "      <td>Asian</td>\n",
              "      <td>89</td>\n",
              "    </tr>\n",
              "    <tr>\n",
              "      <th>21</th>\n",
              "      <td>22</td>\n",
              "      <td>37.348</td>\n",
              "      <td>6378</td>\n",
              "      <td>458</td>\n",
              "      <td>1</td>\n",
              "      <td>72</td>\n",
              "      <td>17</td>\n",
              "      <td>Female</td>\n",
              "      <td>No</td>\n",
              "      <td>No</td>\n",
              "      <td>Caucasian</td>\n",
              "      <td>968</td>\n",
              "    </tr>\n",
              "    <tr>\n",
              "      <th>22</th>\n",
              "      <td>23</td>\n",
              "      <td>20.103</td>\n",
              "      <td>2631</td>\n",
              "      <td>213</td>\n",
              "      <td>3</td>\n",
              "      <td>61</td>\n",
              "      <td>10</td>\n",
              "      <td>Male</td>\n",
              "      <td>No</td>\n",
              "      <td>Yes</td>\n",
              "      <td>African American</td>\n",
              "      <td>0</td>\n",
              "    </tr>\n",
              "    <tr>\n",
              "      <th>23</th>\n",
              "      <td>24</td>\n",
              "      <td>64.027</td>\n",
              "      <td>5179</td>\n",
              "      <td>398</td>\n",
              "      <td>5</td>\n",
              "      <td>48</td>\n",
              "      <td>8</td>\n",
              "      <td>Male</td>\n",
              "      <td>No</td>\n",
              "      <td>Yes</td>\n",
              "      <td>African American</td>\n",
              "      <td>411</td>\n",
              "    </tr>\n",
              "    <tr>\n",
              "      <th>24</th>\n",
              "      <td>25</td>\n",
              "      <td>10.742</td>\n",
              "      <td>1757</td>\n",
              "      <td>156</td>\n",
              "      <td>3</td>\n",
              "      <td>57</td>\n",
              "      <td>15</td>\n",
              "      <td>Female</td>\n",
              "      <td>No</td>\n",
              "      <td>No</td>\n",
              "      <td>Caucasian</td>\n",
              "      <td>0</td>\n",
              "    </tr>\n",
              "    <tr>\n",
              "      <th>25</th>\n",
              "      <td>26</td>\n",
              "      <td>14.090</td>\n",
              "      <td>4323</td>\n",
              "      <td>326</td>\n",
              "      <td>5</td>\n",
              "      <td>25</td>\n",
              "      <td>16</td>\n",
              "      <td>Female</td>\n",
              "      <td>No</td>\n",
              "      <td>Yes</td>\n",
              "      <td>African American</td>\n",
              "      <td>671</td>\n",
              "    </tr>\n",
              "    <tr>\n",
              "      <th>26</th>\n",
              "      <td>27</td>\n",
              "      <td>42.471</td>\n",
              "      <td>3625</td>\n",
              "      <td>289</td>\n",
              "      <td>6</td>\n",
              "      <td>44</td>\n",
              "      <td>12</td>\n",
              "      <td>Female</td>\n",
              "      <td>Yes</td>\n",
              "      <td>No</td>\n",
              "      <td>Caucasian</td>\n",
              "      <td>654</td>\n",
              "    </tr>\n",
              "    <tr>\n",
              "      <th>27</th>\n",
              "      <td>28</td>\n",
              "      <td>32.793</td>\n",
              "      <td>4534</td>\n",
              "      <td>333</td>\n",
              "      <td>2</td>\n",
              "      <td>44</td>\n",
              "      <td>16</td>\n",
              "      <td>Male</td>\n",
              "      <td>No</td>\n",
              "      <td>No</td>\n",
              "      <td>African American</td>\n",
              "      <td>467</td>\n",
              "    </tr>\n",
              "    <tr>\n",
              "      <th>28</th>\n",
              "      <td>29</td>\n",
              "      <td>186.634</td>\n",
              "      <td>13414</td>\n",
              "      <td>949</td>\n",
              "      <td>2</td>\n",
              "      <td>41</td>\n",
              "      <td>14</td>\n",
              "      <td>Female</td>\n",
              "      <td>No</td>\n",
              "      <td>Yes</td>\n",
              "      <td>African American</td>\n",
              "      <td>1809</td>\n",
              "    </tr>\n",
              "    <tr>\n",
              "      <th>29</th>\n",
              "      <td>30</td>\n",
              "      <td>26.813</td>\n",
              "      <td>5611</td>\n",
              "      <td>411</td>\n",
              "      <td>4</td>\n",
              "      <td>55</td>\n",
              "      <td>16</td>\n",
              "      <td>Female</td>\n",
              "      <td>No</td>\n",
              "      <td>No</td>\n",
              "      <td>Caucasian</td>\n",
              "      <td>915</td>\n",
              "    </tr>\n",
              "  </tbody>\n",
              "</table>\n",
              "</div>\n",
              "      <button class=\"colab-df-convert\" onclick=\"convertToInteractive('df-4912be65-5d4d-456d-84b3-4c06ec3a47bf')\"\n",
              "              title=\"Convert this dataframe to an interactive table.\"\n",
              "              style=\"display:none;\">\n",
              "        \n",
              "  <svg xmlns=\"http://www.w3.org/2000/svg\" height=\"24px\"viewBox=\"0 0 24 24\"\n",
              "       width=\"24px\">\n",
              "    <path d=\"M0 0h24v24H0V0z\" fill=\"none\"/>\n",
              "    <path d=\"M18.56 5.44l.94 2.06.94-2.06 2.06-.94-2.06-.94-.94-2.06-.94 2.06-2.06.94zm-11 1L8.5 8.5l.94-2.06 2.06-.94-2.06-.94L8.5 2.5l-.94 2.06-2.06.94zm10 10l.94 2.06.94-2.06 2.06-.94-2.06-.94-.94-2.06-.94 2.06-2.06.94z\"/><path d=\"M17.41 7.96l-1.37-1.37c-.4-.4-.92-.59-1.43-.59-.52 0-1.04.2-1.43.59L10.3 9.45l-7.72 7.72c-.78.78-.78 2.05 0 2.83L4 21.41c.39.39.9.59 1.41.59.51 0 1.02-.2 1.41-.59l7.78-7.78 2.81-2.81c.8-.78.8-2.07 0-2.86zM5.41 20L4 18.59l7.72-7.72 1.47 1.35L5.41 20z\"/>\n",
              "  </svg>\n",
              "      </button>\n",
              "      \n",
              "  <style>\n",
              "    .colab-df-container {\n",
              "      display:flex;\n",
              "      flex-wrap:wrap;\n",
              "      gap: 12px;\n",
              "    }\n",
              "\n",
              "    .colab-df-convert {\n",
              "      background-color: #E8F0FE;\n",
              "      border: none;\n",
              "      border-radius: 50%;\n",
              "      cursor: pointer;\n",
              "      display: none;\n",
              "      fill: #1967D2;\n",
              "      height: 32px;\n",
              "      padding: 0 0 0 0;\n",
              "      width: 32px;\n",
              "    }\n",
              "\n",
              "    .colab-df-convert:hover {\n",
              "      background-color: #E2EBFA;\n",
              "      box-shadow: 0px 1px 2px rgba(60, 64, 67, 0.3), 0px 1px 3px 1px rgba(60, 64, 67, 0.15);\n",
              "      fill: #174EA6;\n",
              "    }\n",
              "\n",
              "    [theme=dark] .colab-df-convert {\n",
              "      background-color: #3B4455;\n",
              "      fill: #D2E3FC;\n",
              "    }\n",
              "\n",
              "    [theme=dark] .colab-df-convert:hover {\n",
              "      background-color: #434B5C;\n",
              "      box-shadow: 0px 1px 3px 1px rgba(0, 0, 0, 0.15);\n",
              "      filter: drop-shadow(0px 1px 2px rgba(0, 0, 0, 0.3));\n",
              "      fill: #FFFFFF;\n",
              "    }\n",
              "  </style>\n",
              "\n",
              "      <script>\n",
              "        const buttonEl =\n",
              "          document.querySelector('#df-4912be65-5d4d-456d-84b3-4c06ec3a47bf button.colab-df-convert');\n",
              "        buttonEl.style.display =\n",
              "          google.colab.kernel.accessAllowed ? 'block' : 'none';\n",
              "\n",
              "        async function convertToInteractive(key) {\n",
              "          const element = document.querySelector('#df-4912be65-5d4d-456d-84b3-4c06ec3a47bf');\n",
              "          const dataTable =\n",
              "            await google.colab.kernel.invokeFunction('convertToInteractive',\n",
              "                                                     [key], {});\n",
              "          if (!dataTable) return;\n",
              "\n",
              "          const docLinkHtml = 'Like what you see? Visit the ' +\n",
              "            '<a target=\"_blank\" href=https://colab.research.google.com/notebooks/data_table.ipynb>data table notebook</a>'\n",
              "            + ' to learn more about interactive tables.';\n",
              "          element.innerHTML = '';\n",
              "          dataTable['output_type'] = 'display_data';\n",
              "          await google.colab.output.renderOutput(dataTable, element);\n",
              "          const docLink = document.createElement('div');\n",
              "          docLink.innerHTML = docLinkHtml;\n",
              "          element.appendChild(docLink);\n",
              "        }\n",
              "      </script>\n",
              "    </div>\n",
              "  </div>\n",
              "  "
            ]
          },
          "metadata": {},
          "execution_count": 9
        }
      ],
      "execution_count": 9
    },
    {
      "cell_type": "code",
      "source": [
        "ingresos = Credit[\"Income\"]\n",
        "limite = Credit[\"Limit\"]\n",
        "type(ingresos)"
      ],
      "metadata": {
        "application/vnd.databricks.v1+cell": {
          "title": "",
          "showTitle": false,
          "inputWidgets": {},
          "nuid": "5ef21503-f5de-490a-8919-7825c1759f2c"
        },
        "colab": {
          "base_uri": "https://localhost:8080/",
          "height": 0
        },
        "id": "mQJhr8A26slf",
        "outputId": "fce1b68a-f38a-45fa-89b9-f38ec08e2d66"
      },
      "outputs": [
        {
          "output_type": "execute_result",
          "data": {
            "text/plain": [
              "pandas.core.series.Series"
            ]
          },
          "metadata": {},
          "execution_count": 10
        }
      ],
      "execution_count": 10
    },
    {
      "cell_type": "markdown",
      "source": [
        "## 2. Medidas de Tendencia Central\n",
        "\n",
        "Empezaremos visualizando la distribución de los ingresos por medio de un histograma. \n",
        "\n",
        "**Ejercicio:** Identificar las características de la distribución."
      ],
      "metadata": {
        "application/vnd.databricks.v1+cell": {
          "title": "",
          "showTitle": false,
          "inputWidgets": {},
          "nuid": "b4acd775-d585-4be9-b89a-76587887c077"
        },
        "id": "xCRMAw8x6slf"
      }
    },
    {
      "cell_type": "code",
      "source": [
        "sns.displot(ingresos, color=\"darkblue\", kde=True)\n",
        "plt.title(\"Ingresos\")\n",
        "plt.xlabel(\"Dólares\")\n",
        "plt.ylabel(\"Frecuencia Absoluta\")\n",
        "plt.show()"
      ],
      "metadata": {
        "application/vnd.databricks.v1+cell": {
          "title": "",
          "showTitle": false,
          "inputWidgets": {},
          "nuid": "d415a880-32da-4f1f-bb01-82ac4dbd90ec"
        },
        "colab": {
          "base_uri": "https://localhost:8080/",
          "height": 385
        },
        "id": "N8Y0-L2M6slg",
        "outputId": "77f52af8-f9be-4f87-d93b-20226ed728d5"
      },
      "outputs": [
        {
          "output_type": "display_data",
          "data": {
            "text/plain": [
              "<Figure size 360x360 with 1 Axes>"
            ],
            "image/png": "[encoded data removed]"
          },
          "metadata": {
            "needs_background": "light"
          }
        }
      ],
      "execution_count": 11
    },
    {
      "cell_type": "code",
      "source": [
        "# Medidas de tendencia central\n",
        "media    = ingresos.mean()\n",
        "mediana  = ingresos.median()\n",
        "moda     = ingresos.mode()\n",
        "\n",
        "print('Promedio: ', media, '\\nMediana: ', mediana, '\\nModa: ', moda[0])"
      ],
      "metadata": {
        "application/vnd.databricks.v1+cell": {
          "title": "",
          "showTitle": false,
          "inputWidgets": {},
          "nuid": "0b6f0e22-2a86-4243-9eb0-f4bc66a66894"
        },
        "colab": {
          "base_uri": "https://localhost:8080/",
          "height": 0
        },
        "id": "OaB5r8Vp6slg",
        "outputId": "626633a8-1331-40fe-c7cc-c07bcaded7d5"
      },
      "outputs": [
        {
          "output_type": "stream",
          "name": "stdout",
          "text": [
            "Promedio:  45.218885 \n",
            "Mediana:  33.1155 \n",
            "Moda:  23.793\n"
          ]
        }
      ],
      "execution_count": 12
    },
    {
      "cell_type": "markdown",
      "source": [
        "**¿Cuál de las medidas de tendencia central resumen correctamente a los ingresos?**"
      ],
      "metadata": {
        "application/vnd.databricks.v1+cell": {
          "title": "",
          "showTitle": false,
          "inputWidgets": {},
          "nuid": "3ffa0749-1c5f-4ad6-80bb-d354dff6b7d0"
        },
        "id": "oIzFbjb06slg"
      }
    },
    {
      "cell_type": "code",
      "source": [
        "sns.displot(ingresos, color =\"darkblue\", kde=True)\n",
        "plt.title(\"Ingresos\")\n",
        "plt.xlabel(\"Dólares\")\n",
        "plt.ylabel(\"Frecuencia Absoluta\")\n",
        "plt.axvline(media, color='red', label='Promedio')\n",
        "plt.axvline(mediana, color='yellow', label='Mediana')\n",
        "plt.axvline(moda[0], color='green', label='Moda')\n",
        "plt.axvline(150, color='b', label='Cliente')\n",
        "plt.legend()\n",
        "plt.show()\n",
        "plt.savefig('/content/drive/MyDrive/Colab Notebooks/grf.jpeg')\n"
      ],
      "metadata": {
        "application/vnd.databricks.v1+cell": {
          "title": "",
          "showTitle": false,
          "inputWidgets": {},
          "nuid": "17563212-36c8-40cf-8ccd-44ea05006a6c"
        },
        "colab": {
          "base_uri": "https://localhost:8080/",
          "height": 403
        },
        "id": "kMqKL8Mu6slg",
        "outputId": "a714f4cd-b77f-4690-d5e2-396dde35d75f"
      },
      "outputs": [
        {
          "output_type": "display_data",
          "data": {
            "text/plain": [
              "<Figure size 360x360 with 1 Axes>"
            ],
            "image/png": "[encoded data removed]"
          },
          "metadata": {
            "needs_background": "light"
          }
        },
        {
          "output_type": "display_data",
          "data": {
            "text/plain": [
              "<Figure size 432x288 with 0 Axes>"
            ]
          },
          "metadata": {}
        }
      ],
      "execution_count": 13
    },
    {
      "cell_type": "code",
      "source": [
        "from google.colab import drive\n",
        "drive.mount('/content/drive')"
      ],
      "metadata": {
        "id": "Zr5z7UqlhmMf",
        "colab": {
          "base_uri": "https://localhost:8080/",
          "height": 0
        },
        "outputId": "0ac7af5d-611b-412d-8092-eefbcf8c06d9"
      },
      "execution_count": 14,
      "outputs": [
        {
          "output_type": "stream",
          "name": "stdout",
          "text": [
            "Drive already mounted at /content/drive; to attempt to forcibly remount, call drive.mount(\"/content/drive\", force_remount=True).\n"
          ]
        }
      ]
    },
    {
      "cell_type": "code",
      "source": [
        "df = pd.read_csv('/content/drive/MyDrive/Colab Notebooks/Dataset/cars.csv')"
      ],
      "metadata": {
        "id": "gZiogkxWyQpd"
      },
      "execution_count": 15,
      "outputs": []
    },
    {
      "cell_type": "code",
      "source": [
        "df"
      ],
      "metadata": {
        "colab": {
          "base_uri": "https://localhost:8080/",
          "height": 487
        },
        "id": "619BkwHEgCZi",
        "outputId": "c15837cb-4049-4679-baaf-1d33259afdc8"
      },
      "execution_count": 16,
      "outputs": [
        {
          "output_type": "execute_result",
          "data": {
            "text/plain": [
              "      manufacturer_name  model_name transmission   color  odometer_value  \\\n",
              "0                Subaru     Outback    automatic  silver          190000   \n",
              "1                Subaru     Outback    automatic    blue          290000   \n",
              "2                Subaru    Forester    automatic     red          402000   \n",
              "3                Subaru     Impreza   mechanical    blue           10000   \n",
              "4                Subaru      Legacy    automatic   black          280000   \n",
              "...                 ...         ...          ...     ...             ...   \n",
              "38526          Chrysler         300    automatic  silver          290000   \n",
              "38527          Chrysler  PT Cruiser   mechanical    blue          321000   \n",
              "38528          Chrysler         300    automatic    blue          777957   \n",
              "38529          Chrysler  PT Cruiser   mechanical   black           20000   \n",
              "38530          Chrysler     Voyager    automatic  silver          297729   \n",
              "\n",
              "       year_produced engine_fuel  engine_has_gas engine_type  engine_capacity  \\\n",
              "0               2010    gasoline           False    gasoline              2.5   \n",
              "1               2002    gasoline           False    gasoline              3.0   \n",
              "2               2001    gasoline           False    gasoline              2.5   \n",
              "3               1999    gasoline           False    gasoline              3.0   \n",
              "4               2001    gasoline           False    gasoline              2.5   \n",
              "...              ...         ...             ...         ...              ...   \n",
              "38526           2000    gasoline           False    gasoline              3.5   \n",
              "38527           2004      diesel           False      diesel              2.2   \n",
              "38528           2000    gasoline           False    gasoline              3.5   \n",
              "38529           2001    gasoline           False    gasoline              2.0   \n",
              "38530           2000    gasoline           False    gasoline              2.4   \n",
              "\n",
              "       ... feature_1  feature_2 feature_3 feature_4  feature_5  feature_6  \\\n",
              "0      ...      True       True      True     False       True      False   \n",
              "1      ...      True      False     False      True       True      False   \n",
              "2      ...      True      False     False     False      False      False   \n",
              "3      ...     False      False     False     False      False      False   \n",
              "4      ...      True      False      True      True      False      False   \n",
              "...    ...       ...        ...       ...       ...        ...        ...   \n",
              "38526  ...      True      False     False      True       True      False   \n",
              "38527  ...      True      False     False      True       True      False   \n",
              "38528  ...      True      False     False      True       True      False   \n",
              "38529  ...      True      False     False     False      False      False   \n",
              "38530  ...     False      False     False     False      False      False   \n",
              "\n",
              "      feature_7  feature_8  feature_9  duration_listed  \n",
              "0          True       True       True               16  \n",
              "1         False      False       True               83  \n",
              "2         False       True       True              151  \n",
              "3         False      False      False               86  \n",
              "4         False      False       True                7  \n",
              "...         ...        ...        ...              ...  \n",
              "38526     False       True       True              301  \n",
              "38527     False       True       True              317  \n",
              "38528     False       True       True              369  \n",
              "38529     False      False       True              490  \n",
              "38530     False      False       True              632  \n",
              "\n",
              "[38531 rows x 30 columns]"
            ],
            "text/html": [
              "\n",
              "  <div id=\"df-26aeead6-a2ca-4932-b460-ffb44d4afd1c\">\n",
              "    <div class=\"colab-df-container\">\n",
              "      <div>\n",
              "<style scoped>\n",
              "    .dataframe tbody tr th:only-of-type {\n",
              "        vertical-align: middle;\n",
              "    }\n",
              "\n",
              "    .dataframe tbody tr th {\n",
              "        vertical-align: top;\n",
              "    }\n",
              "\n",
              "    .dataframe thead th {\n",
              "        text-align: right;\n",
              "    }\n",
              "</style>\n",
              "<table border=\"1\" class=\"dataframe\">\n",
              "  <thead>\n",
              "    <tr style=\"text-align: right;\">\n",
              "      <th></th>\n",
              "      <th>manufacturer_name</th>\n",
              "      <th>model_name</th>\n",
              "      <th>transmission</th>\n",
              "      <th>color</th>\n",
              "      <th>odometer_value</th>\n",
              "      <th>year_produced</th>\n",
              "      <th>engine_fuel</th>\n",
              "      <th>engine_has_gas</th>\n",
              "      <th>engine_type</th>\n",
              "      <th>engine_capacity</th>\n",
              "      <th>...</th>\n",
              "      <th>feature_1</th>\n",
              "      <th>feature_2</th>\n",
              "      <th>feature_3</th>\n",
              "      <th>feature_4</th>\n",
              "      <th>feature_5</th>\n",
              "      <th>feature_6</th>\n",
              "      <th>feature_7</th>\n",
              "      <th>feature_8</th>\n",
              "      <th>feature_9</th>\n",
              "      <th>duration_listed</th>\n",
              "    </tr>\n",
              "  </thead>\n",
              "  <tbody>\n",
              "    <tr>\n",
              "      <th>0</th>\n",
              "      <td>Subaru</td>\n",
              "      <td>Outback</td>\n",
              "      <td>automatic</td>\n",
              "      <td>silver</td>\n",
              "      <td>190000</td>\n",
              "      <td>2010</td>\n",
              "      <td>gasoline</td>\n",
              "      <td>False</td>\n",
              "      <td>gasoline</td>\n",
              "      <td>2.5</td>\n",
              "      <td>...</td>\n",
              "      <td>True</td>\n",
              "      <td>True</td>\n",
              "      <td>True</td>\n",
              "      <td>False</td>\n",
              "      <td>True</td>\n",
              "      <td>False</td>\n",
              "      <td>True</td>\n",
              "      <td>True</td>\n",
              "      <td>True</td>\n",
              "      <td>16</td>\n",
              "    </tr>\n",
              "    <tr>\n",
              "      <th>1</th>\n",
              "      <td>Subaru</td>\n",
              "      <td>Outback</td>\n",
              "      <td>automatic</td>\n",
              "      <td>blue</td>\n",
              "      <td>290000</td>\n",
              "      <td>2002</td>\n",
              "      <td>gasoline</td>\n",
              "      <td>False</td>\n",
              "      <td>gasoline</td>\n",
              "      <td>3.0</td>\n",
              "      <td>...</td>\n",
              "      <td>True</td>\n",
              "      <td>False</td>\n",
              "      <td>False</td>\n",
              "      <td>True</td>\n",
              "      <td>True</td>\n",
              "      <td>False</td>\n",
              "      <td>False</td>\n",
              "      <td>False</td>\n",
              "      <td>True</td>\n",
              "      <td>83</td>\n",
              "    </tr>\n",
              "    <tr>\n",
              "      <th>2</th>\n",
              "      <td>Subaru</td>\n",
              "      <td>Forester</td>\n",
              "      <td>automatic</td>\n",
              "      <td>red</td>\n",
              "      <td>402000</td>\n",
              "      <td>2001</td>\n",
              "      <td>gasoline</td>\n",
              "      <td>False</td>\n",
              "      <td>gasoline</td>\n",
              "      <td>2.5</td>\n",
              "      <td>...</td>\n",
              "      <td>True</td>\n",
              "      <td>False</td>\n",
              "      <td>False</td>\n",
              "      <td>False</td>\n",
              "      <td>False</td>\n",
              "      <td>False</td>\n",
              "      <td>False</td>\n",
              "      <td>True</td>\n",
              "      <td>True</td>\n",
              "      <td>151</td>\n",
              "    </tr>\n",
              "    <tr>\n",
              "      <th>3</th>\n",
              "      <td>Subaru</td>\n",
              "      <td>Impreza</td>\n",
              "      <td>mechanical</td>\n",
              "      <td>blue</td>\n",
              "      <td>10000</td>\n",
              "      <td>1999</td>\n",
              "      <td>gasoline</td>\n",
              "      <td>False</td>\n",
              "      <td>gasoline</td>\n",
              "      <td>3.0</td>\n",
              "      <td>...</td>\n",
              "      <td>False</td>\n",
              "      <td>False</td>\n",
              "      <td>False</td>\n",
              "      <td>False</td>\n",
              "      <td>False</td>\n",
              "      <td>False</td>\n",
              "      <td>False</td>\n",
              "      <td>False</td>\n",
              "      <td>False</td>\n",
              "      <td>86</td>\n",
              "    </tr>\n",
              "    <tr>\n",
              "      <th>4</th>\n",
              "      <td>Subaru</td>\n",
              "      <td>Legacy</td>\n",
              "      <td>automatic</td>\n",
              "      <td>black</td>\n",
              "      <td>280000</td>\n",
              "      <td>2001</td>\n",
              "      <td>gasoline</td>\n",
              "      <td>False</td>\n",
              "      <td>gasoline</td>\n",
              "      <td>2.5</td>\n",
              "      <td>...</td>\n",
              "      <td>True</td>\n",
              "      <td>False</td>\n",
              "      <td>True</td>\n",
              "      <td>True</td>\n",
              "      <td>False</td>\n",
              "      <td>False</td>\n",
              "      <td>False</td>\n",
              "      <td>False</td>\n",
              "      <td>True</td>\n",
              "      <td>7</td>\n",
              "    </tr>\n",
              "    <tr>\n",
              "      <th>...</th>\n",
              "      <td>...</td>\n",
              "      <td>...</td>\n",
              "      <td>...</td>\n",
              "      <td>...</td>\n",
              "      <td>...</td>\n",
              "      <td>...</td>\n",
              "      <td>...</td>\n",
              "      <td>...</td>\n",
              "      <td>...</td>\n",
              "      <td>...</td>\n",
              "      <td>...</td>\n",
              "      <td>...</td>\n",
              "      <td>...</td>\n",
              "      <td>...</td>\n",
              "      <td>...</td>\n",
              "      <td>...</td>\n",
              "      <td>...</td>\n",
              "      <td>...</td>\n",
              "      <td>...</td>\n",
              "      <td>...</td>\n",
              "      <td>...</td>\n",
              "    </tr>\n",
              "    <tr>\n",
              "      <th>38526</th>\n",
              "      <td>Chrysler</td>\n",
              "      <td>300</td>\n",
              "      <td>automatic</td>\n",
              "      <td>silver</td>\n",
              "      <td>290000</td>\n",
              "      <td>2000</td>\n",
              "      <td>gasoline</td>\n",
              "      <td>False</td>\n",
              "      <td>gasoline</td>\n",
              "      <td>3.5</td>\n",
              "      <td>...</td>\n",
              "      <td>True</td>\n",
              "      <td>False</td>\n",
              "      <td>False</td>\n",
              "      <td>True</td>\n",
              "      <td>True</td>\n",
              "      <td>False</td>\n",
              "      <td>False</td>\n",
              "      <td>True</td>\n",
              "      <td>True</td>\n",
              "      <td>301</td>\n",
              "    </tr>\n",
              "    <tr>\n",
              "      <th>38527</th>\n",
              "      <td>Chrysler</td>\n",
              "      <td>PT Cruiser</td>\n",
              "      <td>mechanical</td>\n",
              "      <td>blue</td>\n",
              "      <td>321000</td>\n",
              "      <td>2004</td>\n",
              "      <td>diesel</td>\n",
              "      <td>False</td>\n",
              "      <td>diesel</td>\n",
              "      <td>2.2</td>\n",
              "      <td>...</td>\n",
              "      <td>True</td>\n",
              "      <td>False</td>\n",
              "      <td>False</td>\n",
              "      <td>True</td>\n",
              "      <td>True</td>\n",
              "      <td>False</td>\n",
              "      <td>False</td>\n",
              "      <td>True</td>\n",
              "      <td>True</td>\n",
              "      <td>317</td>\n",
              "    </tr>\n",
              "    <tr>\n",
              "      <th>38528</th>\n",
              "      <td>Chrysler</td>\n",
              "      <td>300</td>\n",
              "      <td>automatic</td>\n",
              "      <td>blue</td>\n",
              "      <td>777957</td>\n",
              "      <td>2000</td>\n",
              "      <td>gasoline</td>\n",
              "      <td>False</td>\n",
              "      <td>gasoline</td>\n",
              "      <td>3.5</td>\n",
              "      <td>...</td>\n",
              "      <td>True</td>\n",
              "      <td>False</td>\n",
              "      <td>False</td>\n",
              "      <td>True</td>\n",
              "      <td>True</td>\n",
              "      <td>False</td>\n",
              "      <td>False</td>\n",
              "      <td>True</td>\n",
              "      <td>True</td>\n",
              "      <td>369</td>\n",
              "    </tr>\n",
              "    <tr>\n",
              "      <th>38529</th>\n",
              "      <td>Chrysler</td>\n",
              "      <td>PT Cruiser</td>\n",
              "      <td>mechanical</td>\n",
              "      <td>black</td>\n",
              "      <td>20000</td>\n",
              "      <td>2001</td>\n",
              "      <td>gasoline</td>\n",
              "      <td>False</td>\n",
              "      <td>gasoline</td>\n",
              "      <td>2.0</td>\n",
              "      <td>...</td>\n",
              "      <td>True</td>\n",
              "      <td>False</td>\n",
              "      <td>False</td>\n",
              "      <td>False</td>\n",
              "      <td>False</td>\n",
              "      <td>False</td>\n",
              "      <td>False</td>\n",
              "      <td>False</td>\n",
              "      <td>True</td>\n",
              "      <td>490</td>\n",
              "    </tr>\n",
              "    <tr>\n",
              "      <th>38530</th>\n",
              "      <td>Chrysler</td>\n",
              "      <td>Voyager</td>\n",
              "      <td>automatic</td>\n",
              "      <td>silver</td>\n",
              "      <td>297729</td>\n",
              "      <td>2000</td>\n",
              "      <td>gasoline</td>\n",
              "      <td>False</td>\n",
              "      <td>gasoline</td>\n",
              "      <td>2.4</td>\n",
              "      <td>...</td>\n",
              "      <td>False</td>\n",
              "      <td>False</td>\n",
              "      <td>False</td>\n",
              "      <td>False</td>\n",
              "      <td>False</td>\n",
              "      <td>False</td>\n",
              "      <td>False</td>\n",
              "      <td>False</td>\n",
              "      <td>True</td>\n",
              "      <td>632</td>\n",
              "    </tr>\n",
              "  </tbody>\n",
              "</table>\n",
              "<p>38531 rows × 30 columns</p>\n",
              "</div>\n",
              "      <button class=\"colab-df-convert\" onclick=\"convertToInteractive('df-26aeead6-a2ca-4932-b460-ffb44d4afd1c')\"\n",
              "              title=\"Convert this dataframe to an interactive table.\"\n",
              "              style=\"display:none;\">\n",
              "        \n",
              "  <svg xmlns=\"http://www.w3.org/2000/svg\" height=\"24px\"viewBox=\"0 0 24 24\"\n",
              "       width=\"24px\">\n",
              "    <path d=\"M0 0h24v24H0V0z\" fill=\"none\"/>\n",
              "    <path d=\"M18.56 5.44l.94 2.06.94-2.06 2.06-.94-2.06-.94-.94-2.06-.94 2.06-2.06.94zm-11 1L8.5 8.5l.94-2.06 2.06-.94-2.06-.94L8.5 2.5l-.94 2.06-2.06.94zm10 10l.94 2.06.94-2.06 2.06-.94-2.06-.94-.94-2.06-.94 2.06-2.06.94z\"/><path d=\"M17.41 7.96l-1.37-1.37c-.4-.4-.92-.59-1.43-.59-.52 0-1.04.2-1.43.59L10.3 9.45l-7.72 7.72c-.78.78-.78 2.05 0 2.83L4 21.41c.39.39.9.59 1.41.59.51 0 1.02-.2 1.41-.59l7.78-7.78 2.81-2.81c.8-.78.8-2.07 0-2.86zM5.41 20L4 18.59l7.72-7.72 1.47 1.35L5.41 20z\"/>\n",
              "  </svg>\n",
              "      </button>\n",
              "      \n",
              "  <style>\n",
              "    .colab-df-container {\n",
              "      display:flex;\n",
              "      flex-wrap:wrap;\n",
              "      gap: 12px;\n",
              "    }\n",
              "\n",
              "    .colab-df-convert {\n",
              "      background-color: #E8F0FE;\n",
              "      border: none;\n",
              "      border-radius: 50%;\n",
              "      cursor: pointer;\n",
              "      display: none;\n",
              "      fill: #1967D2;\n",
              "      height: 32px;\n",
              "      padding: 0 0 0 0;\n",
              "      width: 32px;\n",
              "    }\n",
              "\n",
              "    .colab-df-convert:hover {\n",
              "      background-color: #E2EBFA;\n",
              "      box-shadow: 0px 1px 2px rgba(60, 64, 67, 0.3), 0px 1px 3px 1px rgba(60, 64, 67, 0.15);\n",
              "      fill: #174EA6;\n",
              "    }\n",
              "\n",
              "    [theme=dark] .colab-df-convert {\n",
              "      background-color: #3B4455;\n",
              "      fill: #D2E3FC;\n",
              "    }\n",
              "\n",
              "    [theme=dark] .colab-df-convert:hover {\n",
              "      background-color: #434B5C;\n",
              "      box-shadow: 0px 1px 3px 1px rgba(0, 0, 0, 0.15);\n",
              "      filter: drop-shadow(0px 1px 2px rgba(0, 0, 0, 0.3));\n",
              "      fill: #FFFFFF;\n",
              "    }\n",
              "  </style>\n",
              "\n",
              "      <script>\n",
              "        const buttonEl =\n",
              "          document.querySelector('#df-26aeead6-a2ca-4932-b460-ffb44d4afd1c button.colab-df-convert');\n",
              "        buttonEl.style.display =\n",
              "          google.colab.kernel.accessAllowed ? 'block' : 'none';\n",
              "\n",
              "        async function convertToInteractive(key) {\n",
              "          const element = document.querySelector('#df-26aeead6-a2ca-4932-b460-ffb44d4afd1c');\n",
              "          const dataTable =\n",
              "            await google.colab.kernel.invokeFunction('convertToInteractive',\n",
              "                                                     [key], {});\n",
              "          if (!dataTable) return;\n",
              "\n",
              "          const docLinkHtml = 'Like what you see? Visit the ' +\n",
              "            '<a target=\"_blank\" href=https://colab.research.google.com/notebooks/data_table.ipynb>data table notebook</a>'\n",
              "            + ' to learn more about interactive tables.';\n",
              "          element.innerHTML = '';\n",
              "          dataTable['output_type'] = 'display_data';\n",
              "          await google.colab.output.renderOutput(dataTable, element);\n",
              "          const docLink = document.createElement('div');\n",
              "          docLink.innerHTML = docLinkHtml;\n",
              "          element.appendChild(docLink);\n",
              "        }\n",
              "      </script>\n",
              "    </div>\n",
              "  </div>\n",
              "  "
            ]
          },
          "metadata": {},
          "execution_count": 16
        }
      ]
    },
    {
      "cell_type": "markdown",
      "source": [
        ">**Ejercicio 1:** Obtener el promedio, mediana y moda de la columna `Limit` del  DataFrame `Credit`"
      ],
      "metadata": {
        "application/vnd.databricks.v1+cell": {
          "title": "",
          "showTitle": false,
          "inputWidgets": {},
          "nuid": "ecb6b1a5-0544-4c4a-a523-db86039e02f5"
        },
        "id": "-C3JlL566slh"
      }
    },
    {
      "cell_type": "code",
      "source": [
        "#Su código aquí\n"
      ],
      "metadata": {
        "application/vnd.databricks.v1+cell": {
          "title": "",
          "showTitle": false,
          "inputWidgets": {},
          "nuid": "d7927ba8-440b-4120-8e3e-aa4277aa063d"
        },
        "id": "cIi3paKV6slh"
      },
      "outputs": [],
      "execution_count": null
    },
    {
      "cell_type": "markdown",
      "source": [
        "### Solución"
      ],
      "metadata": {
        "id": "pAOFUmrA7Dhy"
      }
    },
    {
      "cell_type": "code",
      "source": [
        "print('Respuesta:')\n",
        "limite = Credit['Limit']\n",
        "print('Promedio:', limite.mean())\n",
        "print('Mediana:', limite.median())\n",
        "print('Moda:', limite.mode()[0])"
      ],
      "metadata": {
        "application/vnd.databricks.v1+cell": {
          "title": "",
          "showTitle": false,
          "inputWidgets": {},
          "nuid": "3e281d5f-fda0-4be0-a168-7bdaedbc8f8d"
        },
        "colab": {
          "base_uri": "https://localhost:8080/"
        },
        "id": "HP8JWZkY6slh",
        "outputId": "20c374f4-24e5-4209-a4b9-999f8232f005"
      },
      "outputs": [
        {
          "output_type": "stream",
          "name": "stdout",
          "text": [
            "Respuesta:\n",
            "Promedio: 4735.6\n",
            "Mediana: 4622.5\n",
            "Moda: 855\n"
          ]
        }
      ],
      "execution_count": null
    },
    {
      "cell_type": "markdown",
      "source": [
        "## 3. Medidas de Dispersión"
      ],
      "metadata": {
        "application/vnd.databricks.v1+cell": {
          "title": "",
          "showTitle": false,
          "inputWidgets": {},
          "nuid": "c6390b99-8b13-4feb-871a-2ccaa3777b33"
        },
        "id": "m0dK7y896slh"
      }
    },
    {
      "cell_type": "markdown",
      "source": [
        "### Rango"
      ],
      "metadata": {
        "application/vnd.databricks.v1+cell": {
          "title": "",
          "showTitle": false,
          "inputWidgets": {},
          "nuid": "b017413a-cb33-4a2b-b22d-9c845396b341"
        },
        "id": "RmJwB9om6slh"
      }
    },
    {
      "cell_type": "code",
      "source": [
        "print(\"El ingreso mínimo es de:\", ingresos.min())\n",
        "print(\"El ingreso máximo es de:\", ingresos.max())\n",
        "print(\"El rango es igual a:\", ingresos.max()-ingresos.min())"
      ],
      "metadata": {
        "application/vnd.databricks.v1+cell": {
          "title": "",
          "showTitle": false,
          "inputWidgets": {},
          "nuid": "13b12715-3498-473c-97a0-2b9549ece97e"
        },
        "colab": {
          "base_uri": "https://localhost:8080/",
          "height": 0
        },
        "id": "hV3qBNp96sli",
        "outputId": "a6708340-42d8-4421-fce2-3d4f9ad09d29"
      },
      "outputs": [
        {
          "output_type": "stream",
          "name": "stdout",
          "text": [
            "El ingreso mínimo es de: 10.354\n",
            "El ingreso máximo es de: 186.634\n",
            "El rango es igual a: 176.27999999999997\n"
          ]
        }
      ],
      "execution_count": 17
    },
    {
      "cell_type": "markdown",
      "source": [
        "### Varianza y Desviación Estándar\n",
        "* El argumento ```ddof``` hace referencia al denominador: ```N-ddof```\n",
        "* ```ddof=0``` si trabajamos con la población\n",
        "* ```ddof=1``` si trabajamos con la muestra"
      ],
      "metadata": {
        "application/vnd.databricks.v1+cell": {
          "title": "",
          "showTitle": false,
          "inputWidgets": {},
          "nuid": "c5d6ba53-5581-4ad8-9d4e-68d3506dfb2a"
        },
        "id": "b5FazGOu6sli"
      }
    },
    {
      "cell_type": "markdown",
      "source": [
        "ddof grados de libertad\n",
        "En estadística, grados de libertad, expresión introducida por Ronald Fisher, dice que, de un conjunto de observaciones, los grados de libertad están dados por el número de valores que pueden ser asignados de forma arbitraria, antes de que el resto de las variables tomen un valor automáticamente, producto de establecerse las que son libres; esto, con el fin de compensar e igualar un resultado el cual se ha conocido previamente. Se encuentran mediante la fórmula {\\displaystyle n-r}{\\displaystyle n-r}, donde n es el número de sujetos en la muestra que pueden tomar un valor y r es el número de sujetos cuyo valor dependerá del que tomen los miembros de la muestra que son libres. También pueden ser representados por {\\displaystyle k-r}{\\displaystyle k-r}, donde {\\displaystyle k}k= número de grupos; esto, cuando se realizan operaciones con grupos y no con sujetos individuales."
      ],
      "metadata": {
        "id": "4hA4DCeSNEZm"
      }
    },
    {
      "cell_type": "code",
      "source": [
        "print(\"La varianza en la población es igual a:\", ingresos.var(ddof=0))#Medida de dispersión respecto a la media\n",
        "print(\"La desviación estandar en la población es igual a:\", ingresos.std(ddof=0))"
      ],
      "metadata": {
        "application/vnd.databricks.v1+cell": {
          "title": "",
          "showTitle": false,
          "inputWidgets": {},
          "nuid": "3e686fe4-7ca9-4d9e-9934-7321149f9a34"
        },
        "colab": {
          "base_uri": "https://localhost:8080/",
          "height": 0
        },
        "id": "nHg9l3aS6sli",
        "outputId": "e241d86f-1e3d-4b7b-ff3a-ced78cde1ddb"
      },
      "outputs": [
        {
          "output_type": "stream",
          "name": "stdout",
          "text": [
            "La varianza en la población es igual a: 1239.0533939567752\n",
            "La desviación estandar en la población es igual a: 35.20019025455367\n"
          ]
        }
      ],
      "execution_count": 18
    },
    {
      "cell_type": "code",
      "source": [
        "print(\"La varianza en la muestra es igual a:\", ingresos.var(ddof=1))\n",
        "print(\"La desviación estandar en la muestra es igual a:\", ingresos.std(ddof=1))"
      ],
      "metadata": {
        "application/vnd.databricks.v1+cell": {
          "title": "",
          "showTitle": false,
          "inputWidgets": {},
          "nuid": "a639cba4-5153-44e2-8765-36c7b6cd4bbf"
        },
        "colab": {
          "base_uri": "https://localhost:8080/",
          "height": 0
        },
        "id": "FubjsUvh6sli",
        "outputId": "662975ca-d3e1-41c8-ac1f-2c1838b43710"
      },
      "outputs": [
        {
          "output_type": "stream",
          "name": "stdout",
          "text": [
            "La varianza en la muestra es igual a: 1242.1587909341104\n",
            "La desviación estandar en la muestra es igual a: 35.244273165070524\n"
          ]
        }
      ],
      "execution_count": 19
    },
    {
      "cell_type": "markdown",
      "source": [
        "La varianza de un conjunto de valores es una medida de variación igual al cuadrado de la desviación estándar. Varianza muestral: s2 el cuadrado de la desviación estándar s. Varianza poblacional: s2 el cuadrado de la desviación estándar poblacional s.\n",
        "\n"
      ],
      "metadata": {
        "id": "4UHhaDm7QMH7"
      }
    },
    {
      "cell_type": "markdown",
      "source": [
        "De forma predeterminada, el método ```var()``` calcula la varianza asumiendo que se trabaja con una muestra. Si no queremos utilizar el argumento ```ddof``` podemos corregir el valor por medio del siguiente truco algebráico."
      ],
      "metadata": {
        "application/vnd.databricks.v1+cell": {
          "title": "",
          "showTitle": false,
          "inputWidgets": {},
          "nuid": "c0649eae-277d-4cef-bce0-e20ca238271e"
        },
        "id": "r_L9ZP3L6sli"
      }
    },
    {
      "cell_type": "code",
      "source": [
        "ingresos.var()*(len(ingresos)-1)/len(ingresos)"
      ],
      "metadata": {
        "application/vnd.databricks.v1+cell": {
          "title": "",
          "showTitle": false,
          "inputWidgets": {},
          "nuid": "aac9193c-7e33-4a75-8902-036fae67af48"
        },
        "colab": {
          "base_uri": "https://localhost:8080/"
        },
        "id": "L9KnBfIG6sli",
        "outputId": "ca45915a-8284-4fe8-e528-c9c7f92fa72d"
      },
      "outputs": [
        {
          "output_type": "execute_result",
          "data": {
            "text/plain": [
              "1239.0533939567745"
            ]
          },
          "metadata": {},
          "execution_count": 20
        }
      ],
      "execution_count": null
    },
    {
      "cell_type": "markdown",
      "source": [
        ">**Ejercicio 2:** Obtener el rango, la varianza muestral y la desviación estándar muestral de la columna `Balance` del  DataFrame `Credit`"
      ],
      "metadata": {
        "application/vnd.databricks.v1+cell": {
          "title": "",
          "showTitle": false,
          "inputWidgets": {},
          "nuid": "577631eb-b323-4e72-8e70-6329cf18bce0"
        },
        "id": "2stB9VK16slj"
      }
    },
    {
      "cell_type": "code",
      "source": [
        "#Su código aquí\n",
        "print(\"El ingreso mínimo es de:\", Credit['Balance'].min())\n",
        "print(\"El ingreso máximo es de:\", Credit['Balance'].max())\n",
        "print(\"El rango es igual a:\", Credit['Balance'].max()-ingresos.min())\n",
        "var = Credit['Balance'].var()*(len(Credit['Balance'])-1)/len(Credit['Balance'])\n",
        "print(dvest)\n",
        "var = dvest**2\n",
        "var"
      ],
      "metadata": {
        "application/vnd.databricks.v1+cell": {
          "title": "",
          "showTitle": false,
          "inputWidgets": {},
          "nuid": "23bf971b-2b15-4ed4-9d89-538cfcc57ffe"
        },
        "id": "svRT54QF6slj",
        "colab": {
          "base_uri": "https://localhost:8080/",
          "height": 0
        },
        "outputId": "cdf54759-99a7-4c44-b8f5-7e872647a8c4"
      },
      "outputs": [
        {
          "output_type": "stream",
          "name": "stdout",
          "text": [
            "El ingreso mínimo es de: 0\n",
            "El ingreso máximo es de: 1999\n",
            "El rango es igual a: 1988.646\n",
            "210849.779775\n"
          ]
        },
        {
          "output_type": "execute_result",
          "data": {
            "text/plain": [
              "44457629631.166"
            ]
          },
          "metadata": {},
          "execution_count": 23
        }
      ],
      "execution_count": 23
    },
    {
      "cell_type": "code",
      "source": [
        "balance = Credit[\"Balance\"]\n",
        "print(\"El rango es igual a:\", balance.max()-balance.min())\n",
        "print(\"La varianza es igual a:\", balance.var())\n",
        "print(\"La varianza es igual a:\", balance.var()*(len(balance)-1)/len(balance))\n"
      ],
      "metadata": {
        "colab": {
          "base_uri": "https://localhost:8080/",
          "height": 0
        },
        "id": "JdmbUfel02KR",
        "outputId": "c654fa16-2e56-42bb-fcfe-6ced786cafc5"
      },
      "execution_count": 22,
      "outputs": [
        {
          "output_type": "stream",
          "name": "stdout",
          "text": [
            "El rango es igual a: 1999\n",
            "La varianza es igual a: 211378.22533834586\n",
            "La varianza es igual a: 210849.779775\n"
          ]
        }
      ]
    },
    {
      "cell_type": "markdown",
      "source": [
        "### Solución"
      ],
      "metadata": {
        "id": "PPjEZvbb7J6R"
      }
    },
    {
      "cell_type": "code",
      "source": [
        "print('Respuesta:')\n",
        "saldo_tc = Credit['Balance']\n",
        "print('Rango:', saldo_tc.max()-saldo_tc.min())\n",
        "print('Varianza muestral:', saldo_tc.var(ddof=1))\n",
        "print('Desv. estándar muestral:', saldo_tc.std(ddof=1))"
      ],
      "metadata": {
        "application/vnd.databricks.v1+cell": {
          "title": "",
          "showTitle": false,
          "inputWidgets": {},
          "nuid": "682d439e-8883-4ca2-bcab-dc46c7353a3f"
        },
        "colab": {
          "base_uri": "https://localhost:8080/"
        },
        "id": "b8uYa9ZS6slj",
        "outputId": "e1ba102a-f26d-4150-f609-94d7523a38a0"
      },
      "outputs": [
        {
          "output_type": "stream",
          "name": "stdout",
          "text": [
            "Respuesta:\n",
            "Rango: 1999\n",
            "Varianza muestral: 211378.22533834612\n",
            "Desv. estándar muestral: 459.75887738938343\n"
          ]
        }
      ],
      "execution_count": null
    },
    {
      "cell_type": "markdown",
      "source": [
        "## 4. Medidas de Posición\n",
        "El método ```describe()``` muestra de forma predeterminada los cuartiles sin embargo, podemos requerir otras medidas de posición de acuerdo a lo que se necesite."
      ],
      "metadata": {
        "application/vnd.databricks.v1+cell": {
          "title": "",
          "showTitle": false,
          "inputWidgets": {},
          "nuid": "15d5b2c1-ecf4-4a16-a616-071e0abd5ad9"
        },
        "id": "pPk9JnFj6slj"
      }
    },
    {
      "cell_type": "code",
      "source": [
        "ingresos.describe()"
      ],
      "metadata": {
        "application/vnd.databricks.v1+cell": {
          "title": "",
          "showTitle": false,
          "inputWidgets": {},
          "nuid": "4fb8b55c-c263-4f51-b004-e8d80063f494"
        },
        "colab": {
          "base_uri": "https://localhost:8080/"
        },
        "id": "VtOoeWpr6slj",
        "outputId": "6d55bfb5-6113-4ce6-f100-32c29e9ea8b1"
      },
      "outputs": [
        {
          "output_type": "execute_result",
          "data": {
            "text/plain": [
              "count    400.000000\n",
              "mean      45.218885\n",
              "std       35.244273\n",
              "min       10.354000\n",
              "25%       21.007250\n",
              "50%       33.115500\n",
              "75%       57.470750\n",
              "max      186.634000\n",
              "Name: Income, dtype: float64"
            ]
          },
          "metadata": {},
          "execution_count": 35
        }
      ],
      "execution_count": null
    },
    {
      "cell_type": "code",
      "source": [
        "df.describe()"
      ],
      "metadata": {
        "colab": {
          "base_uri": "https://localhost:8080/",
          "height": 364
        },
        "id": "ITN_yia-1vbz",
        "outputId": "5b90094c-d99b-4445-ab9e-ea634026e05b"
      },
      "execution_count": 24,
      "outputs": [
        {
          "output_type": "execute_result",
          "data": {
            "text/plain": [
              "       odometer_value  year_produced  engine_capacity     price_usd  \\\n",
              "count    38531.000000   38531.000000     38521.000000  38531.000000   \n",
              "mean    248864.638447    2002.943734         2.055161   6639.971021   \n",
              "std     136072.376530       8.065731         0.671178   6428.152018   \n",
              "min          0.000000    1942.000000         0.200000      1.000000   \n",
              "25%     158000.000000    1998.000000         1.600000   2100.000000   \n",
              "50%     250000.000000    2003.000000         2.000000   4800.000000   \n",
              "75%     325000.000000    2009.000000         2.300000   8990.000000   \n",
              "max    1000000.000000    2019.000000         8.000000  50000.000000   \n",
              "\n",
              "       number_of_photos    up_counter  duration_listed  \n",
              "count      38531.000000  38531.000000     38531.000000  \n",
              "mean           9.649062     16.306091        80.577249  \n",
              "std            6.093217     43.286933       112.826569  \n",
              "min            1.000000      1.000000         0.000000  \n",
              "25%            5.000000      2.000000        23.000000  \n",
              "50%            8.000000      5.000000        59.000000  \n",
              "75%           12.000000     16.000000        91.000000  \n",
              "max           86.000000   1861.000000      2232.000000  "
            ],
            "text/html": [
              "\n",
              "  <div id=\"df-f5553285-9cf5-4933-97d2-438814fe5602\">\n",
              "    <div class=\"colab-df-container\">\n",
              "      <div>\n",
              "<style scoped>\n",
              "    .dataframe tbody tr th:only-of-type {\n",
              "        vertical-align: middle;\n",
              "    }\n",
              "\n",
              "    .dataframe tbody tr th {\n",
              "        vertical-align: top;\n",
              "    }\n",
              "\n",
              "    .dataframe thead th {\n",
              "        text-align: right;\n",
              "    }\n",
              "</style>\n",
              "<table border=\"1\" class=\"dataframe\">\n",
              "  <thead>\n",
              "    <tr style=\"text-align: right;\">\n",
              "      <th></th>\n",
              "      <th>odometer_value</th>\n",
              "      <th>year_produced</th>\n",
              "      <th>engine_capacity</th>\n",
              "      <th>price_usd</th>\n",
              "      <th>number_of_photos</th>\n",
              "      <th>up_counter</th>\n",
              "      <th>duration_listed</th>\n",
              "    </tr>\n",
              "  </thead>\n",
              "  <tbody>\n",
              "    <tr>\n",
              "      <th>count</th>\n",
              "      <td>38531.000000</td>\n",
              "      <td>38531.000000</td>\n",
              "      <td>38521.000000</td>\n",
              "      <td>38531.000000</td>\n",
              "      <td>38531.000000</td>\n",
              "      <td>38531.000000</td>\n",
              "      <td>38531.000000</td>\n",
              "    </tr>\n",
              "    <tr>\n",
              "      <th>mean</th>\n",
              "      <td>248864.638447</td>\n",
              "      <td>2002.943734</td>\n",
              "      <td>2.055161</td>\n",
              "      <td>6639.971021</td>\n",
              "      <td>9.649062</td>\n",
              "      <td>16.306091</td>\n",
              "      <td>80.577249</td>\n",
              "    </tr>\n",
              "    <tr>\n",
              "      <th>std</th>\n",
              "      <td>136072.376530</td>\n",
              "      <td>8.065731</td>\n",
              "      <td>0.671178</td>\n",
              "      <td>6428.152018</td>\n",
              "      <td>6.093217</td>\n",
              "      <td>43.286933</td>\n",
              "      <td>112.826569</td>\n",
              "    </tr>\n",
              "    <tr>\n",
              "      <th>min</th>\n",
              "      <td>0.000000</td>\n",
              "      <td>1942.000000</td>\n",
              "      <td>0.200000</td>\n",
              "      <td>1.000000</td>\n",
              "      <td>1.000000</td>\n",
              "      <td>1.000000</td>\n",
              "      <td>0.000000</td>\n",
              "    </tr>\n",
              "    <tr>\n",
              "      <th>25%</th>\n",
              "      <td>158000.000000</td>\n",
              "      <td>1998.000000</td>\n",
              "      <td>1.600000</td>\n",
              "      <td>2100.000000</td>\n",
              "      <td>5.000000</td>\n",
              "      <td>2.000000</td>\n",
              "      <td>23.000000</td>\n",
              "    </tr>\n",
              "    <tr>\n",
              "      <th>50%</th>\n",
              "      <td>250000.000000</td>\n",
              "      <td>2003.000000</td>\n",
              "      <td>2.000000</td>\n",
              "      <td>4800.000000</td>\n",
              "      <td>8.000000</td>\n",
              "      <td>5.000000</td>\n",
              "      <td>59.000000</td>\n",
              "    </tr>\n",
              "    <tr>\n",
              "      <th>75%</th>\n",
              "      <td>325000.000000</td>\n",
              "      <td>2009.000000</td>\n",
              "      <td>2.300000</td>\n",
              "      <td>8990.000000</td>\n",
              "      <td>12.000000</td>\n",
              "      <td>16.000000</td>\n",
              "      <td>91.000000</td>\n",
              "    </tr>\n",
              "    <tr>\n",
              "      <th>max</th>\n",
              "      <td>1000000.000000</td>\n",
              "      <td>2019.000000</td>\n",
              "      <td>8.000000</td>\n",
              "      <td>50000.000000</td>\n",
              "      <td>86.000000</td>\n",
              "      <td>1861.000000</td>\n",
              "      <td>2232.000000</td>\n",
              "    </tr>\n",
              "  </tbody>\n",
              "</table>\n",
              "</div>\n",
              "      <button class=\"colab-df-convert\" onclick=\"convertToInteractive('df-f5553285-9cf5-4933-97d2-438814fe5602')\"\n",
              "              title=\"Convert this dataframe to an interactive table.\"\n",
              "              style=\"display:none;\">\n",
              "        \n",
              "  <svg xmlns=\"http://www.w3.org/2000/svg\" height=\"24px\"viewBox=\"0 0 24 24\"\n",
              "       width=\"24px\">\n",
              "    <path d=\"M0 0h24v24H0V0z\" fill=\"none\"/>\n",
              "    <path d=\"M18.56 5.44l.94 2.06.94-2.06 2.06-.94-2.06-.94-.94-2.06-.94 2.06-2.06.94zm-11 1L8.5 8.5l.94-2.06 2.06-.94-2.06-.94L8.5 2.5l-.94 2.06-2.06.94zm10 10l.94 2.06.94-2.06 2.06-.94-2.06-.94-.94-2.06-.94 2.06-2.06.94z\"/><path d=\"M17.41 7.96l-1.37-1.37c-.4-.4-.92-.59-1.43-.59-.52 0-1.04.2-1.43.59L10.3 9.45l-7.72 7.72c-.78.78-.78 2.05 0 2.83L4 21.41c.39.39.9.59 1.41.59.51 0 1.02-.2 1.41-.59l7.78-7.78 2.81-2.81c.8-.78.8-2.07 0-2.86zM5.41 20L4 18.59l7.72-7.72 1.47 1.35L5.41 20z\"/>\n",
              "  </svg>\n",
              "      </button>\n",
              "      \n",
              "  <style>\n",
              "    .colab-df-container {\n",
              "      display:flex;\n",
              "      flex-wrap:wrap;\n",
              "      gap: 12px;\n",
              "    }\n",
              "\n",
              "    .colab-df-convert {\n",
              "      background-color: #E8F0FE;\n",
              "      border: none;\n",
              "      border-radius: 50%;\n",
              "      cursor: pointer;\n",
              "      display: none;\n",
              "      fill: #1967D2;\n",
              "      height: 32px;\n",
              "      padding: 0 0 0 0;\n",
              "      width: 32px;\n",
              "    }\n",
              "\n",
              "    .colab-df-convert:hover {\n",
              "      background-color: #E2EBFA;\n",
              "      box-shadow: 0px 1px 2px rgba(60, 64, 67, 0.3), 0px 1px 3px 1px rgba(60, 64, 67, 0.15);\n",
              "      fill: #174EA6;\n",
              "    }\n",
              "\n",
              "    [theme=dark] .colab-df-convert {\n",
              "      background-color: #3B4455;\n",
              "      fill: #D2E3FC;\n",
              "    }\n",
              "\n",
              "    [theme=dark] .colab-df-convert:hover {\n",
              "      background-color: #434B5C;\n",
              "      box-shadow: 0px 1px 3px 1px rgba(0, 0, 0, 0.15);\n",
              "      filter: drop-shadow(0px 1px 2px rgba(0, 0, 0, 0.3));\n",
              "      fill: #FFFFFF;\n",
              "    }\n",
              "  </style>\n",
              "\n",
              "      <script>\n",
              "        const buttonEl =\n",
              "          document.querySelector('#df-f5553285-9cf5-4933-97d2-438814fe5602 button.colab-df-convert');\n",
              "        buttonEl.style.display =\n",
              "          google.colab.kernel.accessAllowed ? 'block' : 'none';\n",
              "\n",
              "        async function convertToInteractive(key) {\n",
              "          const element = document.querySelector('#df-f5553285-9cf5-4933-97d2-438814fe5602');\n",
              "          const dataTable =\n",
              "            await google.colab.kernel.invokeFunction('convertToInteractive',\n",
              "                                                     [key], {});\n",
              "          if (!dataTable) return;\n",
              "\n",
              "          const docLinkHtml = 'Like what you see? Visit the ' +\n",
              "            '<a target=\"_blank\" href=https://colab.research.google.com/notebooks/data_table.ipynb>data table notebook</a>'\n",
              "            + ' to learn more about interactive tables.';\n",
              "          element.innerHTML = '';\n",
              "          dataTable['output_type'] = 'display_data';\n",
              "          await google.colab.output.renderOutput(dataTable, element);\n",
              "          const docLink = document.createElement('div');\n",
              "          docLink.innerHTML = docLinkHtml;\n",
              "          element.appendChild(docLink);\n",
              "        }\n",
              "      </script>\n",
              "    </div>\n",
              "  </div>\n",
              "  "
            ]
          },
          "metadata": {},
          "execution_count": 24
        }
      ]
    },
    {
      "cell_type": "code",
      "source": [
        "# Percentil 50\n",
        "print(\"El ingreso mínimo es de:\", ingresos.min())\n",
        "print(\"El ingreso máximo es de:\", ingresos.max())\n",
        "ingresos.quantile(0.50)"
      ],
      "metadata": {
        "application/vnd.databricks.v1+cell": {
          "title": "",
          "showTitle": false,
          "inputWidgets": {},
          "nuid": "1b1d4731-1a85-40db-a7dd-b119c99a067a"
        },
        "colab": {
          "base_uri": "https://localhost:8080/",
          "height": 0
        },
        "id": "zFRR5e176slj",
        "outputId": "c45ae76e-5316-4887-dff0-098726df17db"
      },
      "outputs": [
        {
          "output_type": "stream",
          "name": "stdout",
          "text": [
            "El ingreso mínimo es de: 10.354\n",
            "El ingreso máximo es de: 186.634\n"
          ]
        },
        {
          "output_type": "execute_result",
          "data": {
            "text/plain": [
              "33.1155"
            ]
          },
          "metadata": {},
          "execution_count": 25
        }
      ],
      "execution_count": 25
    },
    {
      "cell_type": "markdown",
      "source": [
        "El argumento del método ```quantile()``` puede ser también un arreglo numérico. Utilizaremos la función ```arange``` de ```numpy``` para crear un arreglo para el cálculo de deciles"
      ],
      "metadata": {
        "application/vnd.databricks.v1+cell": {
          "title": "",
          "showTitle": false,
          "inputWidgets": {},
          "nuid": "1488ce31-2a5a-4fc0-a4f3-1c82dbb79a91"
        },
        "id": "I79a8kCK6slk"
      }
    },
    {
      "cell_type": "code",
      "source": [
        "np.arange(start=0.1, stop=1, step=0.1)"
      ],
      "metadata": {
        "application/vnd.databricks.v1+cell": {
          "title": "",
          "showTitle": false,
          "inputWidgets": {},
          "nuid": "7852f4a7-f7e8-4e64-a783-5f326132b38b"
        },
        "colab": {
          "base_uri": "https://localhost:8080/"
        },
        "id": "lOJcNvL86slk",
        "outputId": "21314aff-7674-4c01-b5f3-fb81fdaed209"
      },
      "outputs": [
        {
          "output_type": "execute_result",
          "data": {
            "text/plain": [
              "array([0.1, 0.2, 0.3, 0.4, 0.5, 0.6, 0.7, 0.8, 0.9])"
            ]
          },
          "metadata": {},
          "execution_count": 25
        }
      ],
      "execution_count": null
    },
    {
      "cell_type": "code",
      "source": [
        "ingresos.quantile(np.arange(0.1, 1, 0.1))"
      ],
      "metadata": {
        "application/vnd.databricks.v1+cell": {
          "title": "",
          "showTitle": false,
          "inputWidgets": {},
          "nuid": "9704dd59-a6f4-4b26-a678-7ce7739beaf8"
        },
        "colab": {
          "base_uri": "https://localhost:8080/"
        },
        "id": "QqE9DFqM6slk",
        "outputId": "e35601b0-30df-4d0f-9bd1-ac2d2bc8c0d8"
      },
      "outputs": [
        {
          "output_type": "execute_result",
          "data": {
            "text/plain": [
              "0.1    14.5834\n",
              "0.2    19.2088\n",
              "0.3    23.7567\n",
              "0.4    27.8126\n",
              "0.5    33.1155\n",
              "0.6    40.0754\n",
              "0.7    51.9641\n",
              "0.8    63.8334\n",
              "0.9    92.4513\n",
              "Name: Income, dtype: float64"
            ]
          },
          "metadata": {},
          "execution_count": 26
        }
      ],
      "execution_count": null
    },
    {
      "cell_type": "markdown",
      "source": [
        "### Rango Intercuartil (IQR)\n",
        "Medida de dispersión a ser utilizada cuando se emplea la mediana como medida de tendencia central.\n",
        "Se define como la diferencia entre el tercer cuartil (Q3) y el primer cuartil (Q1), es decir: $$IRQ = Q3 - Q1$$."
      ],
      "metadata": {
        "application/vnd.databricks.v1+cell": {
          "title": "",
          "showTitle": false,
          "inputWidgets": {},
          "nuid": "57fc160c-d3d9-41ed-b5d6-f707bc5666fe"
        },
        "id": "7gNaVHhc6slk"
      }
    },
    {
      "cell_type": "code",
      "source": [
        "#0 25 50 75 100\n",
        "stats.iqr(ingresos)"
      ],
      "metadata": {
        "application/vnd.databricks.v1+cell": {
          "title": "",
          "showTitle": false,
          "inputWidgets": {},
          "nuid": "fd266769-da7d-401f-b5da-c831913051b5"
        },
        "colab": {
          "base_uri": "https://localhost:8080/"
        },
        "id": "rbd5sqkx6slk",
        "outputId": "81aa70f4-4439-48a2-a253-83f95bb4fcbe"
      },
      "outputs": [
        {
          "output_type": "execute_result",
          "data": {
            "text/plain": [
              "36.4635"
            ]
          },
          "metadata": {},
          "execution_count": 38
        }
      ],
      "execution_count": null
    },
    {
      "cell_type": "code",
      "source": [
        "ingresos.quantile(0.75) - ingresos.quantile(0.25)"
      ],
      "metadata": {
        "application/vnd.databricks.v1+cell": {
          "title": "",
          "showTitle": false,
          "inputWidgets": {},
          "nuid": "ce1dac0d-a6da-4776-8a3f-0184dd059e13"
        },
        "colab": {
          "base_uri": "https://localhost:8080/"
        },
        "id": "-Gc-E-p06slk",
        "outputId": "afb58415-5d9a-4f16-a89e-90b734ae287c"
      },
      "outputs": [
        {
          "output_type": "execute_result",
          "data": {
            "text/plain": [
              "36.4635"
            ]
          },
          "metadata": {},
          "execution_count": 39
        }
      ],
      "execution_count": null
    },
    {
      "cell_type": "code",
      "source": [
        "sns.boxplot(x=ingresos,color = \"darkgreen\") \n",
        "plt.title(\"Boxplot de los Ingresos\")\n",
        "plt.xlabel(\"Dólares\")\n",
        "plt.show()"
      ],
      "metadata": {
        "application/vnd.databricks.v1+cell": {
          "title": "",
          "showTitle": false,
          "inputWidgets": {},
          "nuid": "f9a1639f-df57-44ba-8dfa-95dcd1b4774d"
        },
        "colab": {
          "base_uri": "https://localhost:8080/",
          "height": 295
        },
        "id": "uLwgA5xM6slk",
        "outputId": "e706df77-3305-48dc-a73b-b4f84544db27"
      },
      "outputs": [
        {
          "output_type": "display_data",
          "data": {
            "text/plain": [
              "<Figure size 432x288 with 1 Axes>"
            ],
            "image/png": "[encoded data removed]"
          },
          "metadata": {
            "needs_background": "light"
          }
        }
      ],
      "execution_count": null
    },
    {
      "cell_type": "code",
      "source": [
        "sns.boxplot(x=ingresos, color=\"darkgreen\", whis=1.5) \n",
        "plt.title(\"Boxplot de los Ingresos\")\n",
        "plt.xlabel(\"Dólares\")\n",
        "plt.axvline(ingresos.quantile(0.25), color='yellow', label='Q1')\n",
        "plt.axvline(mediana, color='blue', label='Q2/Mediana')\n",
        "plt.axvline(ingresos.quantile(0.75), color='red', label='Q3')\n",
        "plt.legend()\n",
        "plt.show()"
      ],
      "metadata": {
        "application/vnd.databricks.v1+cell": {
          "title": "",
          "showTitle": false,
          "inputWidgets": {},
          "nuid": "efda9bac-85d1-4b75-b313-751a7194d558"
        },
        "colab": {
          "base_uri": "https://localhost:8080/",
          "height": 295
        },
        "id": "aIs-rw0f6sll",
        "outputId": "9d572745-a9d0-486d-9a6e-911fa0c6eede"
      },
      "outputs": [
        {
          "output_type": "display_data",
          "data": {
            "text/plain": [
              "<Figure size 432x288 with 1 Axes>"
            ],
            "image/png": "[encoded data removed]"
          },
          "metadata": {
            "needs_background": "light"
          }
        }
      ],
      "execution_count": null
    },
    {
      "cell_type": "code",
      "source": [
        "sns.boxplot(x=ingresos, y=Credit[\"Gender\"], whis=1.5) \n",
        "plt.title(\"Boxplot de los Ingresos\")\n",
        "plt.xlabel(\"Dólares\")\n",
        "plt.legend()\n",
        "plt.show()"
      ],
      "metadata": {
        "application/vnd.databricks.v1+cell": {
          "title": "",
          "showTitle": false,
          "inputWidgets": {},
          "nuid": "ffc958e8-735f-42f2-a4ce-1db4db2f5db8"
        },
        "colab": {
          "base_uri": "https://localhost:8080/",
          "height": 313
        },
        "id": "ezPmKwru6sll",
        "outputId": "6727ac24-8395-43a8-9a40-6163fd6ab3b6"
      },
      "outputs": [
        {
          "output_type": "stream",
          "name": "stderr",
          "text": [
            "No handles with labels found to put in legend.\n"
          ]
        },
        {
          "output_type": "display_data",
          "data": {
            "text/plain": [
              "<Figure size 432x288 with 1 Axes>"
            ],
            "image/png": "[encoded data removed]"
          },
          "metadata": {
            "needs_background": "light"
          }
        }
      ],
      "execution_count": null
    },
    {
      "cell_type": "code",
      "source": [
        "sns.boxplot(x=ingresos, y=Credit[\"Ethnicity\"]) \n",
        "plt.title(\"Boxplot de los Ingresos por Etnia\")\n",
        "plt.xlabel(\"Dólares\")\n",
        "plt.legend()\n",
        "plt.show()"
      ],
      "metadata": {
        "application/vnd.databricks.v1+cell": {
          "title": "",
          "showTitle": false,
          "inputWidgets": {},
          "nuid": "a975abaa-4c68-4ec3-9b44-fae71ed5405a"
        },
        "colab": {
          "base_uri": "https://localhost:8080/",
          "height": 313
        },
        "id": "3_uHuuf96sll",
        "outputId": "3429bc1d-751e-4f22-e56b-f8f3e93e29b6"
      },
      "outputs": [
        {
          "output_type": "stream",
          "name": "stderr",
          "text": [
            "No handles with labels found to put in legend.\n"
          ]
        },
        {
          "output_type": "display_data",
          "data": {
            "text/plain": [
              "<Figure size 432x288 with 1 Axes>"
            ],
            "image/png": "[encoded data removed]"
          },
          "metadata": {
            "needs_background": "light"
          }
        }
      ],
      "execution_count": null
    },
    {
      "cell_type": "markdown",
      "source": [
        "### Valores atípicos/extremos\n",
        "Se definen como observaciones extremas a aquellas que se encuentran fuera del rango $$[Q_1-(1.5 \\times IQR) ; Q_3 +(1.5 \\times IQR)]$$"
      ],
      "metadata": {
        "application/vnd.databricks.v1+cell": {
          "title": "",
          "showTitle": false,
          "inputWidgets": {},
          "nuid": "8e9f473d-3eb9-487a-b701-c399461939ca"
        },
        "id": "mKScJPhB6sll"
      }
    },
    {
      "cell_type": "markdown",
      "source": [
        "El Rango Intercuartil (o métrica IQR) es una medida estadística que cuantifica la dispersión de la muestra considerada, es decir, la variabilidad de la distribución de los elementos muestrales en base a algún parámetro de interés.\n",
        "\n"
      ],
      "metadata": {
        "id": "2248FNy6R5YE"
      }
    },
    {
      "cell_type": "code",
      "source": [
        "IQR  = stats.iqr(ingresos)# rango interquartil\n",
        "whis = 1.5\n",
        "cons = IQR * whis\n",
        "\n",
        "print(ingresos.quantile(0.75))\n",
        "print(ingresos.quantile(0.25))\n",
        "print(ingresos.quantile(0.75)-ingresos.quantile(0.25))\n",
        "\n",
        "print(cons)\n",
        "#Cuartiles\n",
        "Q1   = ingresos.quantile(0.25)\n",
        "Q3   = ingresos.quantile(0.75)\n",
        "\n",
        "print(\"El límite inferior para valores extremos es:\", (Q1-cons))\n",
        "print(\"El límite superior para valores extremos es:\", (Q3+cons))"
      ],
      "metadata": {
        "application/vnd.databricks.v1+cell": {
          "title": "",
          "showTitle": false,
          "inputWidgets": {},
          "nuid": "b8542c89-e2d5-4ed3-b29b-59aa1659ecd8"
        },
        "colab": {
          "base_uri": "https://localhost:8080/",
          "height": 0
        },
        "id": "qXJeTpOU6sll",
        "outputId": "86e08dc5-2289-4e87-84e4-c6a26acb234c"
      },
      "outputs": [
        {
          "output_type": "stream",
          "name": "stdout",
          "text": [
            "57.47075\n",
            "21.00725\n",
            "36.4635\n",
            "54.69525\n",
            "El límite inferior para valores extremos es: -33.688\n",
            "El límite superior para valores extremos es: 112.166\n"
          ]
        }
      ],
      "execution_count": 27
    },
    {
      "cell_type": "code",
      "source": [
        "sns.boxplot(x=ingresos, color=\"darkgreen\", whis=1.5) \n",
        "plt.title(\"Boxplot de los Ingresos\")\n",
        "plt.xlabel(\"Dólares\")\n",
        "plt.axvline(Q3+cons, color='blue', label='Lim. Superior')\n",
        "plt.axvline(Q1-cons, color='red', label='Lim. inferior')\n",
        "plt.legend()\n",
        "plt.show()"
      ],
      "metadata": {
        "application/vnd.databricks.v1+cell": {
          "title": "",
          "showTitle": false,
          "inputWidgets": {},
          "nuid": "9f6767e6-fb95-493b-b003-c2237a3fe4a1"
        },
        "colab": {
          "base_uri": "https://localhost:8080/",
          "height": 295
        },
        "id": "rPxmKUwl6sll",
        "outputId": "3999291b-e14c-490c-f447-6d24b7d0b663"
      },
      "outputs": [
        {
          "output_type": "display_data",
          "data": {
            "text/plain": [
              "<Figure size 432x288 with 1 Axes>"
            ],
            "image/png": "[encoded data removed]"
          },
          "metadata": {
            "needs_background": "light"
          }
        }
      ],
      "execution_count": 28
    },
    {
      "cell_type": "markdown",
      "source": [
        ">**Ejercicio 3:** Encuentre los quintiles y el rango intercuartil de la columna `Education` del  DataFrame `Credit`"
      ],
      "metadata": {
        "application/vnd.databricks.v1+cell": {
          "title": "",
          "showTitle": false,
          "inputWidgets": {},
          "nuid": "f3eed898-3df7-4c31-941f-13a7fe21f7d1"
        },
        "id": "qVC-sczy6sll"
      }
    },
    {
      "cell_type": "code",
      "source": [
        "#Su código aquí\n"
      ],
      "metadata": {
        "application/vnd.databricks.v1+cell": {
          "title": "",
          "showTitle": false,
          "inputWidgets": {},
          "nuid": "e96162e7-5614-49c6-af69-b9e175e7cd91"
        },
        "id": "LGczxyPA6sll"
      },
      "outputs": [],
      "execution_count": null
    },
    {
      "cell_type": "markdown",
      "source": [
        "### Solución"
      ],
      "metadata": {
        "id": "MdjY9Z2L7SmB"
      }
    },
    {
      "cell_type": "code",
      "source": [
        "print('Respuesta:')\n",
        "educacion = Credit['Education']\n",
        "print('Quintiles:', educacion.quantile(np.arange(0.2, 1, 0.2)))\n",
        "print('\\nIQR Educación:', stats.iqr(educacion))"
      ],
      "metadata": {
        "application/vnd.databricks.v1+cell": {
          "title": "",
          "showTitle": false,
          "inputWidgets": {},
          "nuid": "fd1f0c1f-b878-4ff5-ab82-74086c087df5"
        },
        "colab": {
          "base_uri": "https://localhost:8080/"
        },
        "id": "sm28se836slm",
        "outputId": "19536749-01bb-4fb9-e1ea-8337af517ae8"
      },
      "outputs": [
        {
          "output_type": "stream",
          "name": "stdout",
          "text": [
            "Respuesta:\n",
            "Quintiles: 0.2    11.0\n",
            "0.4    13.0\n",
            "0.6    15.0\n",
            "0.8    16.0\n",
            "Name: Education, dtype: float64\n",
            "\n",
            "IQR Educación: 5.0\n"
          ]
        }
      ],
      "execution_count": null
    },
    {
      "cell_type": "markdown",
      "source": [
        "## 5. Medidas de Forma\n",
        "Interprete el coeficiente de asimetría y la curtosis"
      ],
      "metadata": {
        "application/vnd.databricks.v1+cell": {
          "title": "",
          "showTitle": false,
          "inputWidgets": {},
          "nuid": "73628cfc-7de0-48f1-b37a-5fd1f75ff918"
        },
        "id": "NUHwCpRF6slm"
      }
    },
    {
      "cell_type": "code",
      "source": [
        "print(\"El coeficiente de asimetría es igual a:\", ingresos.skew())\n",
        "print(\"La curtosis es igual a:\", ingresos.kurtosis())"
      ],
      "metadata": {
        "application/vnd.databricks.v1+cell": {
          "title": "",
          "showTitle": false,
          "inputWidgets": {},
          "nuid": "c1d61256-baee-41ff-99df-34f35264debf"
        },
        "colab": {
          "base_uri": "https://localhost:8080/",
          "height": 0
        },
        "id": "xOHf02cq6slm",
        "outputId": "d84629a2-2df9-4821-f89c-825ce8d23867"
      },
      "outputs": [
        {
          "output_type": "stream",
          "name": "stdout",
          "text": [
            "El coeficiente de asimetría es igual a: 1.7421174049581518\n",
            "La curtosis es igual a: 2.9474764313066233\n"
          ]
        }
      ],
      "execution_count": 30
    },
    {
      "cell_type": "markdown",
      "source": [
        "Formalmente, decimos que una distribución de frecuencias es **simétrica** si la media aritmética X¯ es igual a la mediana Md. Esto significa que en cualquier otro caso, la distribución es asimétrica."
      ],
      "metadata": {
        "id": "BoQ-IPU0U16O"
      }
    },
    {
      "cell_type": "markdown",
      "source": [
        "La **curtosis** de una variable estadística/aleatoria es una característica de forma de su distribución de frecuencias/probabilidad.\n",
        "\n",
        "Según su concepción clásica, una curtosis grande implica una mayor concentración de valores de la variable tanto muy cerca de la media de la distribución (pico) como muy lejos de ella (colas),"
      ],
      "metadata": {
        "id": "RBHMvJ_YVU_z"
      }
    },
    {
      "cell_type": "code",
      "source": [
        "sns.displot(ingresos, color=\"darkred\", kde=True)\n",
        "plt.title(\"Ingresos\")\n",
        "plt.xlabel(\"Dólares\")\n",
        "plt.ylabel(\"Frecuencia Absoluta\")\n",
        "plt.axvline(media, color='red', label='Promedio')\n",
        "plt.axvline(mediana, color='yellow', label='Mediana')\n",
        "plt.axvline(moda[0], color='green', label='Moda')\n",
        "plt.legend()\n",
        "plt.show()"
      ],
      "metadata": {
        "application/vnd.databricks.v1+cell": {
          "title": "",
          "showTitle": false,
          "inputWidgets": {},
          "nuid": "969868c9-8331-464a-93a4-b57e83c3064d"
        },
        "colab": {
          "base_uri": "https://localhost:8080/",
          "height": 385
        },
        "id": "kbhPvj8o6slm",
        "outputId": "5670f09b-2bfd-4ccb-bcb9-73e3f5040e70"
      },
      "outputs": [
        {
          "output_type": "display_data",
          "data": {
            "text/plain": [
              "<Figure size 360x360 with 1 Axes>"
            ],
            "image/png": "[encoded data removed]"
          },
          "metadata": {
            "needs_background": "light"
          }
        }
      ],
      "execution_count": 29
    },
    {
      "cell_type": "markdown",
      "source": [
        ">**Ejercicio 4:** Obtenga el coeficiente de asimetría y la curtosis de la columna `Rating` del  DataFrame `Credit`"
      ],
      "metadata": {
        "application/vnd.databricks.v1+cell": {
          "title": "",
          "showTitle": false,
          "inputWidgets": {},
          "nuid": "36f6de66-da9c-404e-bfed-bdcd5a57f2ec"
        },
        "id": "58nXtOkL6slm"
      }
    },
    {
      "cell_type": "code",
      "source": [
        "# Su código aquí\n",
        "education = Credit['Education']\n",
        "education.quantile(np.arange(0, 1.2, 0.2))\n"
      ],
      "metadata": {
        "application/vnd.databricks.v1+cell": {
          "title": "",
          "showTitle": false,
          "inputWidgets": {},
          "nuid": "2799d2a4-bf14-478d-a5e2-1a676283221d"
        },
        "id": "VDPqYQCz6slm",
        "colab": {
          "base_uri": "https://localhost:8080/",
          "height": 0
        },
        "outputId": "e0eb1e26-3650-4218-87a7-5b03dfec4a65"
      },
      "outputs": [
        {
          "output_type": "execute_result",
          "data": {
            "text/plain": [
              "0.0     5.0\n",
              "0.2    11.0\n",
              "0.4    13.0\n",
              "0.6    15.0\n",
              "0.8    16.0\n",
              "1.0    20.0\n",
              "Name: Education, dtype: float64"
            ]
          },
          "metadata": {},
          "execution_count": 40
        }
      ],
      "execution_count": 40
    },
    {
      "cell_type": "code",
      "source": [
        "rating = Credit['Rating']\n",
        "\n",
        "print(\"El coeficiente de asimetría es igual a:\", rating.skew())\n",
        "print(\"La curtosis es igual a:\", rating.kurtosis())\n"
      ],
      "metadata": {
        "colab": {
          "base_uri": "https://localhost:8080/",
          "height": 0
        },
        "id": "x8_tPXOA7BPq",
        "outputId": "fd8ca0f8-eb7d-4605-df3f-c359b45a84a7"
      },
      "execution_count": 42,
      "outputs": [
        {
          "output_type": "stream",
          "name": "stdout",
          "text": [
            "El coeficiente de asimetría es igual a: 0.8653935227370102\n",
            "La curtosis es igual a: 1.0609469816702823\n"
          ]
        }
      ]
    },
    {
      "cell_type": "code",
      "source": [
        "sns.displot(rating, color=\"darkred\", kde=True)\n",
        "plt.title(\"Ingresos\")\n",
        "plt.xlabel(\"Dólares\")\n",
        "plt.ylabel(\"Frecuencia Absoluta\")\n",
        "\n",
        "plt.legend()\n",
        "plt.show()"
      ],
      "metadata": {
        "colab": {
          "base_uri": "https://localhost:8080/",
          "height": 403
        },
        "id": "82JiP_gh7m3z",
        "outputId": "3d49c077-f3b9-4dcf-d4dc-a8a74bb0ee5e"
      },
      "execution_count": 43,
      "outputs": [
        {
          "output_type": "stream",
          "name": "stderr",
          "text": [
            "WARNING:matplotlib.legend:No handles with labels found to put in legend.\n"
          ]
        },
        {
          "output_type": "display_data",
          "data": {
            "text/plain": [
              "<Figure size 360x360 with 1 Axes>"
            ],
            "image/png": "[encoded data removed]"
          },
          "metadata": {
            "needs_background": "light"
          }
        }
      ]
    },
    {
      "cell_type": "markdown",
      "source": [
        "### Solución"
      ],
      "metadata": {
        "id": "nmr0StaP7W0_"
      }
    },
    {
      "cell_type": "code",
      "source": [
        "print('Respuesta:')\n",
        "puntaje = Credit['Rating']\n",
        "print('Coeficiente de asimetría:', puntaje.skew())\n",
        "print('Curtosis:', puntaje.kurtosis())"
      ],
      "metadata": {
        "application/vnd.databricks.v1+cell": {
          "title": "",
          "showTitle": false,
          "inputWidgets": {},
          "nuid": "3f1e1b67-a1b0-4a98-b1f9-3418b5e3a5f7"
        },
        "colab": {
          "base_uri": "https://localhost:8080/"
        },
        "id": "6L1B7ViJ6slm",
        "outputId": "32ea4dca-e15c-452c-d400-aba812f3da77"
      },
      "outputs": [
        {
          "output_type": "stream",
          "name": "stdout",
          "text": [
            "Respuesta:\n",
            "Coeficiente de asimetría: 0.8653935227370102\n",
            "Curtosis: 1.0609469816702823\n"
          ]
        }
      ],
      "execution_count": null
    },
    {
      "cell_type": "markdown",
      "source": [
        "## 6. Distribución Normal"
      ],
      "metadata": {
        "application/vnd.databricks.v1+cell": {
          "title": "",
          "showTitle": false,
          "inputWidgets": {},
          "nuid": "c2de61ea-cd9c-42e8-82c5-f9ade14e5afc"
        },
        "id": "syrhPojO6slm"
      }
    },
    {
      "cell_type": "code",
      "source": [
        "data = np.random.normal(0, 1, 50000)\n",
        "\n",
        "print(\"mean : \", np.mean(data))\n",
        "print(\"var  : \", np.var(data))\n",
        "print(\"skew : \",stats.skew(data))\n",
        "print(\"kurt : \",stats.kurtosis(data))"
      ],
      "metadata": {
        "application/vnd.databricks.v1+cell": {
          "title": "",
          "showTitle": false,
          "inputWidgets": {},
          "nuid": "b7042993-0db2-40e8-a911-9762f06ba27d"
        },
        "colab": {
          "base_uri": "https://localhost:8080/",
          "height": 0
        },
        "id": "k0V2qq2Y6slm",
        "outputId": "a2d0e1f8-f719-4e86-d567-882481cca85b"
      },
      "outputs": [
        {
          "output_type": "stream",
          "name": "stdout",
          "text": [
            "mean :  0.0045141209381979715\n",
            "var  :  1.0057187723144878\n",
            "skew :  0.012622344407429287\n",
            "kurt :  0.03463002139109861\n"
          ]
        }
      ],
      "execution_count": 44
    },
    {
      "cell_type": "code",
      "source": [
        "sns.displot(data, color=\"darkgreen\", kde=True)\n",
        "plt.title(\"Distribución Normal\")\n",
        "plt.xlabel(\"Valores\")\n",
        "plt.ylabel(\"Frecuencia Absoluta\")\n",
        "plt.show()"
      ],
      "metadata": {
        "application/vnd.databricks.v1+cell": {
          "title": "",
          "showTitle": false,
          "inputWidgets": {},
          "nuid": "bec9a330-9423-4d7e-b8f6-10e1581c4377"
        },
        "colab": {
          "base_uri": "https://localhost:8080/",
          "height": 399
        },
        "id": "9WToTwWI6slm",
        "outputId": "319b96f7-95f7-4868-8932-189089c398e6"
      },
      "outputs": [
        {
          "output_type": "display_data",
          "data": {
            "text/plain": [
              "<Figure size 360x360 with 1 Axes>"
            ],
            "image/png": "[encoded data removed]"
          },
          "metadata": {
            "needs_background": "light"
          }
        }
      ],
      "execution_count": 45
    },
    {
      "cell_type": "markdown",
      "source": [
        "## 7. Covarianza y correlación\n",
        "\n",
        "Analizar las relaciones **lineales** entre dos variables cuantitativas por medio de la covarianza y correlación.\n",
        "\n",
        "- **Covarianza**: Nos da el signo de la relación entre dos variables, pero no podemos determinar la intensidad en la relación entre las mismas\n",
        "**La covarianza mide la relación lineal entre dos variables. **\n",
        "- **Coeficiente de correlación de Person**: Nos permite entender la relación entre las variables tanto su dirección (signo) e intensidad (valor). Se encuentra entre los valores de -1 y 1"
      ],
      "metadata": {
        "application/vnd.databricks.v1+cell": {
          "title": "",
          "showTitle": false,
          "inputWidgets": {},
          "nuid": "e4e15c8b-2735-4a53-a6e9-c6be468fad54"
        },
        "id": "8UdilNEu6sln"
      }
    },
    {
      "cell_type": "code",
      "source": [
        "# Matriz de varianzas y covarianzas\n",
        "Credit\\\n",
        ".cov()\\\n",
        ".round(decimals=2)"
      ],
      "metadata": {
        "application/vnd.databricks.v1+cell": {
          "title": "",
          "showTitle": false,
          "inputWidgets": {},
          "nuid": "863f418b-cb57-4024-9303-c64b41c1d608"
        },
        "colab": {
          "base_uri": "https://localhost:8080/",
          "height": 269
        },
        "id": "uR2mo_sJ6sln",
        "outputId": "04b4e570-19e3-4bb4-9c40-81680fd3d2cf"
      },
      "outputs": [
        {
          "output_type": "execute_result",
          "data": {
            "text/plain": [
              "             Income       Limit     Rating  Cards      Age  Education  \\\n",
              "Income      1242.16    64437.01    4315.49  -0.88   106.60      -3.05   \n",
              "Limit      64437.01  5327781.92  356019.74  32.38  4016.95    -169.87   \n",
              "Rating      4315.49   356019.74   23939.56  11.30   275.34     -14.57   \n",
              "Cards         -0.88       32.38      11.30   1.88     1.02      -0.22   \n",
              "Age          106.60     4016.95     275.34   1.02   297.56       0.20   \n",
              "Education     -3.05     -169.87     -14.57  -0.22     0.20       9.77   \n",
              "Balance     7513.03   914445.99   61434.67  54.51    14.55     -11.58   \n",
              "\n",
              "             Balance  \n",
              "Income       7513.03  \n",
              "Limit      914445.99  \n",
              "Rating      61434.67  \n",
              "Cards          54.51  \n",
              "Age            14.55  \n",
              "Education     -11.58  \n",
              "Balance    211378.23  "
            ],
            "text/html": [
              "\n",
              "  <div id=\"df-506d354a-8a24-4a3f-9544-1ee6d129d825\">\n",
              "    <div class=\"colab-df-container\">\n",
              "      <div>\n",
              "<style scoped>\n",
              "    .dataframe tbody tr th:only-of-type {\n",
              "        vertical-align: middle;\n",
              "    }\n",
              "\n",
              "    .dataframe tbody tr th {\n",
              "        vertical-align: top;\n",
              "    }\n",
              "\n",
              "    .dataframe thead th {\n",
              "        text-align: right;\n",
              "    }\n",
              "</style>\n",
              "<table border=\"1\" class=\"dataframe\">\n",
              "  <thead>\n",
              "    <tr style=\"text-align: right;\">\n",
              "      <th></th>\n",
              "      <th>Income</th>\n",
              "      <th>Limit</th>\n",
              "      <th>Rating</th>\n",
              "      <th>Cards</th>\n",
              "      <th>Age</th>\n",
              "      <th>Education</th>\n",
              "      <th>Balance</th>\n",
              "    </tr>\n",
              "  </thead>\n",
              "  <tbody>\n",
              "    <tr>\n",
              "      <th>Income</th>\n",
              "      <td>1242.16</td>\n",
              "      <td>64437.01</td>\n",
              "      <td>4315.49</td>\n",
              "      <td>-0.88</td>\n",
              "      <td>106.60</td>\n",
              "      <td>-3.05</td>\n",
              "      <td>7513.03</td>\n",
              "    </tr>\n",
              "    <tr>\n",
              "      <th>Limit</th>\n",
              "      <td>64437.01</td>\n",
              "      <td>5327781.92</td>\n",
              "      <td>356019.74</td>\n",
              "      <td>32.38</td>\n",
              "      <td>4016.95</td>\n",
              "      <td>-169.87</td>\n",
              "      <td>914445.99</td>\n",
              "    </tr>\n",
              "    <tr>\n",
              "      <th>Rating</th>\n",
              "      <td>4315.49</td>\n",
              "      <td>356019.74</td>\n",
              "      <td>23939.56</td>\n",
              "      <td>11.30</td>\n",
              "      <td>275.34</td>\n",
              "      <td>-14.57</td>\n",
              "      <td>61434.67</td>\n",
              "    </tr>\n",
              "    <tr>\n",
              "      <th>Cards</th>\n",
              "      <td>-0.88</td>\n",
              "      <td>32.38</td>\n",
              "      <td>11.30</td>\n",
              "      <td>1.88</td>\n",
              "      <td>1.02</td>\n",
              "      <td>-0.22</td>\n",
              "      <td>54.51</td>\n",
              "    </tr>\n",
              "    <tr>\n",
              "      <th>Age</th>\n",
              "      <td>106.60</td>\n",
              "      <td>4016.95</td>\n",
              "      <td>275.34</td>\n",
              "      <td>1.02</td>\n",
              "      <td>297.56</td>\n",
              "      <td>0.20</td>\n",
              "      <td>14.55</td>\n",
              "    </tr>\n",
              "    <tr>\n",
              "      <th>Education</th>\n",
              "      <td>-3.05</td>\n",
              "      <td>-169.87</td>\n",
              "      <td>-14.57</td>\n",
              "      <td>-0.22</td>\n",
              "      <td>0.20</td>\n",
              "      <td>9.77</td>\n",
              "      <td>-11.58</td>\n",
              "    </tr>\n",
              "    <tr>\n",
              "      <th>Balance</th>\n",
              "      <td>7513.03</td>\n",
              "      <td>914445.99</td>\n",
              "      <td>61434.67</td>\n",
              "      <td>54.51</td>\n",
              "      <td>14.55</td>\n",
              "      <td>-11.58</td>\n",
              "      <td>211378.23</td>\n",
              "    </tr>\n",
              "  </tbody>\n",
              "</table>\n",
              "</div>\n",
              "      <button class=\"colab-df-convert\" onclick=\"convertToInteractive('df-506d354a-8a24-4a3f-9544-1ee6d129d825')\"\n",
              "              title=\"Convert this dataframe to an interactive table.\"\n",
              "              style=\"display:none;\">\n",
              "        \n",
              "  <svg xmlns=\"http://www.w3.org/2000/svg\" height=\"24px\"viewBox=\"0 0 24 24\"\n",
              "       width=\"24px\">\n",
              "    <path d=\"M0 0h24v24H0V0z\" fill=\"none\"/>\n",
              "    <path d=\"M18.56 5.44l.94 2.06.94-2.06 2.06-.94-2.06-.94-.94-2.06-.94 2.06-2.06.94zm-11 1L8.5 8.5l.94-2.06 2.06-.94-2.06-.94L8.5 2.5l-.94 2.06-2.06.94zm10 10l.94 2.06.94-2.06 2.06-.94-2.06-.94-.94-2.06-.94 2.06-2.06.94z\"/><path d=\"M17.41 7.96l-1.37-1.37c-.4-.4-.92-.59-1.43-.59-.52 0-1.04.2-1.43.59L10.3 9.45l-7.72 7.72c-.78.78-.78 2.05 0 2.83L4 21.41c.39.39.9.59 1.41.59.51 0 1.02-.2 1.41-.59l7.78-7.78 2.81-2.81c.8-.78.8-2.07 0-2.86zM5.41 20L4 18.59l7.72-7.72 1.47 1.35L5.41 20z\"/>\n",
              "  </svg>\n",
              "      </button>\n",
              "      \n",
              "  <style>\n",
              "    .colab-df-container {\n",
              "      display:flex;\n",
              "      flex-wrap:wrap;\n",
              "      gap: 12px;\n",
              "    }\n",
              "\n",
              "    .colab-df-convert {\n",
              "      background-color: #E8F0FE;\n",
              "      border: none;\n",
              "      border-radius: 50%;\n",
              "      cursor: pointer;\n",
              "      display: none;\n",
              "      fill: #1967D2;\n",
              "      height: 32px;\n",
              "      padding: 0 0 0 0;\n",
              "      width: 32px;\n",
              "    }\n",
              "\n",
              "    .colab-df-convert:hover {\n",
              "      background-color: #E2EBFA;\n",
              "      box-shadow: 0px 1px 2px rgba(60, 64, 67, 0.3), 0px 1px 3px 1px rgba(60, 64, 67, 0.15);\n",
              "      fill: #174EA6;\n",
              "    }\n",
              "\n",
              "    [theme=dark] .colab-df-convert {\n",
              "      background-color: #3B4455;\n",
              "      fill: #D2E3FC;\n",
              "    }\n",
              "\n",
              "    [theme=dark] .colab-df-convert:hover {\n",
              "      background-color: #434B5C;\n",
              "      box-shadow: 0px 1px 3px 1px rgba(0, 0, 0, 0.15);\n",
              "      filter: drop-shadow(0px 1px 2px rgba(0, 0, 0, 0.3));\n",
              "      fill: #FFFFFF;\n",
              "    }\n",
              "  </style>\n",
              "\n",
              "      <script>\n",
              "        const buttonEl =\n",
              "          document.querySelector('#df-506d354a-8a24-4a3f-9544-1ee6d129d825 button.colab-df-convert');\n",
              "        buttonEl.style.display =\n",
              "          google.colab.kernel.accessAllowed ? 'block' : 'none';\n",
              "\n",
              "        async function convertToInteractive(key) {\n",
              "          const element = document.querySelector('#df-506d354a-8a24-4a3f-9544-1ee6d129d825');\n",
              "          const dataTable =\n",
              "            await google.colab.kernel.invokeFunction('convertToInteractive',\n",
              "                                                     [key], {});\n",
              "          if (!dataTable) return;\n",
              "\n",
              "          const docLinkHtml = 'Like what you see? Visit the ' +\n",
              "            '<a target=\"_blank\" href=https://colab.research.google.com/notebooks/data_table.ipynb>data table notebook</a>'\n",
              "            + ' to learn more about interactive tables.';\n",
              "          element.innerHTML = '';\n",
              "          dataTable['output_type'] = 'display_data';\n",
              "          await google.colab.output.renderOutput(dataTable, element);\n",
              "          const docLink = document.createElement('div');\n",
              "          docLink.innerHTML = docLinkHtml;\n",
              "          element.appendChild(docLink);\n",
              "        }\n",
              "      </script>\n",
              "    </div>\n",
              "  </div>\n",
              "  "
            ]
          },
          "metadata": {},
          "execution_count": 33
        }
      ],
      "execution_count": 33
    },
    {
      "cell_type": "code",
      "source": [
        "Credit.cov().round(decimals=2)"
      ],
      "metadata": {
        "colab": {
          "base_uri": "https://localhost:8080/",
          "height": 269
        },
        "id": "SixfTKHuWOrt",
        "outputId": "ff58beb4-3aca-4762-9b26-49f3e64c0e0c"
      },
      "execution_count": 46,
      "outputs": [
        {
          "output_type": "execute_result",
          "data": {
            "text/plain": [
              "             Income       Limit     Rating  Cards      Age  Education  \\\n",
              "Income      1242.16    64437.01    4315.49  -0.88   106.60      -3.05   \n",
              "Limit      64437.01  5327781.92  356019.74  32.38  4016.95    -169.87   \n",
              "Rating      4315.49   356019.74   23939.56  11.30   275.34     -14.57   \n",
              "Cards         -0.88       32.38      11.30   1.88     1.02      -0.22   \n",
              "Age          106.60     4016.95     275.34   1.02   297.56       0.20   \n",
              "Education     -3.05     -169.87     -14.57  -0.22     0.20       9.77   \n",
              "Balance     7513.03   914445.99   61434.67  54.51    14.55     -11.58   \n",
              "\n",
              "             Balance  \n",
              "Income       7513.03  \n",
              "Limit      914445.99  \n",
              "Rating      61434.67  \n",
              "Cards          54.51  \n",
              "Age            14.55  \n",
              "Education     -11.58  \n",
              "Balance    211378.23  "
            ],
            "text/html": [
              "\n",
              "  <div id=\"df-4b9878cc-f0f4-4241-9214-c3e9b5557a6e\">\n",
              "    <div class=\"colab-df-container\">\n",
              "      <div>\n",
              "<style scoped>\n",
              "    .dataframe tbody tr th:only-of-type {\n",
              "        vertical-align: middle;\n",
              "    }\n",
              "\n",
              "    .dataframe tbody tr th {\n",
              "        vertical-align: top;\n",
              "    }\n",
              "\n",
              "    .dataframe thead th {\n",
              "        text-align: right;\n",
              "    }\n",
              "</style>\n",
              "<table border=\"1\" class=\"dataframe\">\n",
              "  <thead>\n",
              "    <tr style=\"text-align: right;\">\n",
              "      <th></th>\n",
              "      <th>Income</th>\n",
              "      <th>Limit</th>\n",
              "      <th>Rating</th>\n",
              "      <th>Cards</th>\n",
              "      <th>Age</th>\n",
              "      <th>Education</th>\n",
              "      <th>Balance</th>\n",
              "    </tr>\n",
              "  </thead>\n",
              "  <tbody>\n",
              "    <tr>\n",
              "      <th>Income</th>\n",
              "      <td>1242.16</td>\n",
              "      <td>64437.01</td>\n",
              "      <td>4315.49</td>\n",
              "      <td>-0.88</td>\n",
              "      <td>106.60</td>\n",
              "      <td>-3.05</td>\n",
              "      <td>7513.03</td>\n",
              "    </tr>\n",
              "    <tr>\n",
              "      <th>Limit</th>\n",
              "      <td>64437.01</td>\n",
              "      <td>5327781.92</td>\n",
              "      <td>356019.74</td>\n",
              "      <td>32.38</td>\n",
              "      <td>4016.95</td>\n",
              "      <td>-169.87</td>\n",
              "      <td>914445.99</td>\n",
              "    </tr>\n",
              "    <tr>\n",
              "      <th>Rating</th>\n",
              "      <td>4315.49</td>\n",
              "      <td>356019.74</td>\n",
              "      <td>23939.56</td>\n",
              "      <td>11.30</td>\n",
              "      <td>275.34</td>\n",
              "      <td>-14.57</td>\n",
              "      <td>61434.67</td>\n",
              "    </tr>\n",
              "    <tr>\n",
              "      <th>Cards</th>\n",
              "      <td>-0.88</td>\n",
              "      <td>32.38</td>\n",
              "      <td>11.30</td>\n",
              "      <td>1.88</td>\n",
              "      <td>1.02</td>\n",
              "      <td>-0.22</td>\n",
              "      <td>54.51</td>\n",
              "    </tr>\n",
              "    <tr>\n",
              "      <th>Age</th>\n",
              "      <td>106.60</td>\n",
              "      <td>4016.95</td>\n",
              "      <td>275.34</td>\n",
              "      <td>1.02</td>\n",
              "      <td>297.56</td>\n",
              "      <td>0.20</td>\n",
              "      <td>14.55</td>\n",
              "    </tr>\n",
              "    <tr>\n",
              "      <th>Education</th>\n",
              "      <td>-3.05</td>\n",
              "      <td>-169.87</td>\n",
              "      <td>-14.57</td>\n",
              "      <td>-0.22</td>\n",
              "      <td>0.20</td>\n",
              "      <td>9.77</td>\n",
              "      <td>-11.58</td>\n",
              "    </tr>\n",
              "    <tr>\n",
              "      <th>Balance</th>\n",
              "      <td>7513.03</td>\n",
              "      <td>914445.99</td>\n",
              "      <td>61434.67</td>\n",
              "      <td>54.51</td>\n",
              "      <td>14.55</td>\n",
              "      <td>-11.58</td>\n",
              "      <td>211378.23</td>\n",
              "    </tr>\n",
              "  </tbody>\n",
              "</table>\n",
              "</div>\n",
              "      <button class=\"colab-df-convert\" onclick=\"convertToInteractive('df-4b9878cc-f0f4-4241-9214-c3e9b5557a6e')\"\n",
              "              title=\"Convert this dataframe to an interactive table.\"\n",
              "              style=\"display:none;\">\n",
              "        \n",
              "  <svg xmlns=\"http://www.w3.org/2000/svg\" height=\"24px\"viewBox=\"0 0 24 24\"\n",
              "       width=\"24px\">\n",
              "    <path d=\"M0 0h24v24H0V0z\" fill=\"none\"/>\n",
              "    <path d=\"M18.56 5.44l.94 2.06.94-2.06 2.06-.94-2.06-.94-.94-2.06-.94 2.06-2.06.94zm-11 1L8.5 8.5l.94-2.06 2.06-.94-2.06-.94L8.5 2.5l-.94 2.06-2.06.94zm10 10l.94 2.06.94-2.06 2.06-.94-2.06-.94-.94-2.06-.94 2.06-2.06.94z\"/><path d=\"M17.41 7.96l-1.37-1.37c-.4-.4-.92-.59-1.43-.59-.52 0-1.04.2-1.43.59L10.3 9.45l-7.72 7.72c-.78.78-.78 2.05 0 2.83L4 21.41c.39.39.9.59 1.41.59.51 0 1.02-.2 1.41-.59l7.78-7.78 2.81-2.81c.8-.78.8-2.07 0-2.86zM5.41 20L4 18.59l7.72-7.72 1.47 1.35L5.41 20z\"/>\n",
              "  </svg>\n",
              "      </button>\n",
              "      \n",
              "  <style>\n",
              "    .colab-df-container {\n",
              "      display:flex;\n",
              "      flex-wrap:wrap;\n",
              "      gap: 12px;\n",
              "    }\n",
              "\n",
              "    .colab-df-convert {\n",
              "      background-color: #E8F0FE;\n",
              "      border: none;\n",
              "      border-radius: 50%;\n",
              "      cursor: pointer;\n",
              "      display: none;\n",
              "      fill: #1967D2;\n",
              "      height: 32px;\n",
              "      padding: 0 0 0 0;\n",
              "      width: 32px;\n",
              "    }\n",
              "\n",
              "    .colab-df-convert:hover {\n",
              "      background-color: #E2EBFA;\n",
              "      box-shadow: 0px 1px 2px rgba(60, 64, 67, 0.3), 0px 1px 3px 1px rgba(60, 64, 67, 0.15);\n",
              "      fill: #174EA6;\n",
              "    }\n",
              "\n",
              "    [theme=dark] .colab-df-convert {\n",
              "      background-color: #3B4455;\n",
              "      fill: #D2E3FC;\n",
              "    }\n",
              "\n",
              "    [theme=dark] .colab-df-convert:hover {\n",
              "      background-color: #434B5C;\n",
              "      box-shadow: 0px 1px 3px 1px rgba(0, 0, 0, 0.15);\n",
              "      filter: drop-shadow(0px 1px 2px rgba(0, 0, 0, 0.3));\n",
              "      fill: #FFFFFF;\n",
              "    }\n",
              "  </style>\n",
              "\n",
              "      <script>\n",
              "        const buttonEl =\n",
              "          document.querySelector('#df-4b9878cc-f0f4-4241-9214-c3e9b5557a6e button.colab-df-convert');\n",
              "        buttonEl.style.display =\n",
              "          google.colab.kernel.accessAllowed ? 'block' : 'none';\n",
              "\n",
              "        async function convertToInteractive(key) {\n",
              "          const element = document.querySelector('#df-4b9878cc-f0f4-4241-9214-c3e9b5557a6e');\n",
              "          const dataTable =\n",
              "            await google.colab.kernel.invokeFunction('convertToInteractive',\n",
              "                                                     [key], {});\n",
              "          if (!dataTable) return;\n",
              "\n",
              "          const docLinkHtml = 'Like what you see? Visit the ' +\n",
              "            '<a target=\"_blank\" href=https://colab.research.google.com/notebooks/data_table.ipynb>data table notebook</a>'\n",
              "            + ' to learn more about interactive tables.';\n",
              "          element.innerHTML = '';\n",
              "          dataTable['output_type'] = 'display_data';\n",
              "          await google.colab.output.renderOutput(dataTable, element);\n",
              "          const docLink = document.createElement('div');\n",
              "          docLink.innerHTML = docLinkHtml;\n",
              "          element.appendChild(docLink);\n",
              "        }\n",
              "      </script>\n",
              "    </div>\n",
              "  </div>\n",
              "  "
            ]
          },
          "metadata": {},
          "execution_count": 46
        }
      ]
    },
    {
      "cell_type": "code",
      "source": [
        "# Matriz de correlaciones\n",
        "Credit\\\n",
        ".corr()\\\n",
        ".round(decimals=2)"
      ],
      "metadata": {
        "application/vnd.databricks.v1+cell": {
          "title": "",
          "showTitle": false,
          "inputWidgets": {},
          "nuid": "bd42cbdb-43de-4450-a4a5-0583b3544e89"
        },
        "colab": {
          "base_uri": "https://localhost:8080/",
          "height": 269
        },
        "id": "lHvAeyKf6sln",
        "outputId": "a3c18423-9de2-4a96-8cba-8da5edbdf1d3"
      },
      "outputs": [
        {
          "output_type": "execute_result",
          "data": {
            "text/plain": [
              "           Income  Limit  Rating  Cards   Age  Education  Balance\n",
              "Income       1.00   0.79    0.79  -0.02  0.18      -0.03     0.46\n",
              "Limit        0.79   1.00    1.00   0.01  0.10      -0.02     0.86\n",
              "Rating       0.79   1.00    1.00   0.05  0.10      -0.03     0.86\n",
              "Cards       -0.02   0.01    0.05   1.00  0.04      -0.05     0.09\n",
              "Age          0.18   0.10    0.10   0.04  1.00       0.00     0.00\n",
              "Education   -0.03  -0.02   -0.03  -0.05  0.00       1.00    -0.01\n",
              "Balance      0.46   0.86    0.86   0.09  0.00      -0.01     1.00"
            ],
            "text/html": [
              "\n",
              "  <div id=\"df-fefb38d7-1450-4a6a-85ff-f01311bcd7ae\">\n",
              "    <div class=\"colab-df-container\">\n",
              "      <div>\n",
              "<style scoped>\n",
              "    .dataframe tbody tr th:only-of-type {\n",
              "        vertical-align: middle;\n",
              "    }\n",
              "\n",
              "    .dataframe tbody tr th {\n",
              "        vertical-align: top;\n",
              "    }\n",
              "\n",
              "    .dataframe thead th {\n",
              "        text-align: right;\n",
              "    }\n",
              "</style>\n",
              "<table border=\"1\" class=\"dataframe\">\n",
              "  <thead>\n",
              "    <tr style=\"text-align: right;\">\n",
              "      <th></th>\n",
              "      <th>Income</th>\n",
              "      <th>Limit</th>\n",
              "      <th>Rating</th>\n",
              "      <th>Cards</th>\n",
              "      <th>Age</th>\n",
              "      <th>Education</th>\n",
              "      <th>Balance</th>\n",
              "    </tr>\n",
              "  </thead>\n",
              "  <tbody>\n",
              "    <tr>\n",
              "      <th>Income</th>\n",
              "      <td>1.00</td>\n",
              "      <td>0.79</td>\n",
              "      <td>0.79</td>\n",
              "      <td>-0.02</td>\n",
              "      <td>0.18</td>\n",
              "      <td>-0.03</td>\n",
              "      <td>0.46</td>\n",
              "    </tr>\n",
              "    <tr>\n",
              "      <th>Limit</th>\n",
              "      <td>0.79</td>\n",
              "      <td>1.00</td>\n",
              "      <td>1.00</td>\n",
              "      <td>0.01</td>\n",
              "      <td>0.10</td>\n",
              "      <td>-0.02</td>\n",
              "      <td>0.86</td>\n",
              "    </tr>\n",
              "    <tr>\n",
              "      <th>Rating</th>\n",
              "      <td>0.79</td>\n",
              "      <td>1.00</td>\n",
              "      <td>1.00</td>\n",
              "      <td>0.05</td>\n",
              "      <td>0.10</td>\n",
              "      <td>-0.03</td>\n",
              "      <td>0.86</td>\n",
              "    </tr>\n",
              "    <tr>\n",
              "      <th>Cards</th>\n",
              "      <td>-0.02</td>\n",
              "      <td>0.01</td>\n",
              "      <td>0.05</td>\n",
              "      <td>1.00</td>\n",
              "      <td>0.04</td>\n",
              "      <td>-0.05</td>\n",
              "      <td>0.09</td>\n",
              "    </tr>\n",
              "    <tr>\n",
              "      <th>Age</th>\n",
              "      <td>0.18</td>\n",
              "      <td>0.10</td>\n",
              "      <td>0.10</td>\n",
              "      <td>0.04</td>\n",
              "      <td>1.00</td>\n",
              "      <td>0.00</td>\n",
              "      <td>0.00</td>\n",
              "    </tr>\n",
              "    <tr>\n",
              "      <th>Education</th>\n",
              "      <td>-0.03</td>\n",
              "      <td>-0.02</td>\n",
              "      <td>-0.03</td>\n",
              "      <td>-0.05</td>\n",
              "      <td>0.00</td>\n",
              "      <td>1.00</td>\n",
              "      <td>-0.01</td>\n",
              "    </tr>\n",
              "    <tr>\n",
              "      <th>Balance</th>\n",
              "      <td>0.46</td>\n",
              "      <td>0.86</td>\n",
              "      <td>0.86</td>\n",
              "      <td>0.09</td>\n",
              "      <td>0.00</td>\n",
              "      <td>-0.01</td>\n",
              "      <td>1.00</td>\n",
              "    </tr>\n",
              "  </tbody>\n",
              "</table>\n",
              "</div>\n",
              "      <button class=\"colab-df-convert\" onclick=\"convertToInteractive('df-fefb38d7-1450-4a6a-85ff-f01311bcd7ae')\"\n",
              "              title=\"Convert this dataframe to an interactive table.\"\n",
              "              style=\"display:none;\">\n",
              "        \n",
              "  <svg xmlns=\"http://www.w3.org/2000/svg\" height=\"24px\"viewBox=\"0 0 24 24\"\n",
              "       width=\"24px\">\n",
              "    <path d=\"M0 0h24v24H0V0z\" fill=\"none\"/>\n",
              "    <path d=\"M18.56 5.44l.94 2.06.94-2.06 2.06-.94-2.06-.94-.94-2.06-.94 2.06-2.06.94zm-11 1L8.5 8.5l.94-2.06 2.06-.94-2.06-.94L8.5 2.5l-.94 2.06-2.06.94zm10 10l.94 2.06.94-2.06 2.06-.94-2.06-.94-.94-2.06-.94 2.06-2.06.94z\"/><path d=\"M17.41 7.96l-1.37-1.37c-.4-.4-.92-.59-1.43-.59-.52 0-1.04.2-1.43.59L10.3 9.45l-7.72 7.72c-.78.78-.78 2.05 0 2.83L4 21.41c.39.39.9.59 1.41.59.51 0 1.02-.2 1.41-.59l7.78-7.78 2.81-2.81c.8-.78.8-2.07 0-2.86zM5.41 20L4 18.59l7.72-7.72 1.47 1.35L5.41 20z\"/>\n",
              "  </svg>\n",
              "      </button>\n",
              "      \n",
              "  <style>\n",
              "    .colab-df-container {\n",
              "      display:flex;\n",
              "      flex-wrap:wrap;\n",
              "      gap: 12px;\n",
              "    }\n",
              "\n",
              "    .colab-df-convert {\n",
              "      background-color: #E8F0FE;\n",
              "      border: none;\n",
              "      border-radius: 50%;\n",
              "      cursor: pointer;\n",
              "      display: none;\n",
              "      fill: #1967D2;\n",
              "      height: 32px;\n",
              "      padding: 0 0 0 0;\n",
              "      width: 32px;\n",
              "    }\n",
              "\n",
              "    .colab-df-convert:hover {\n",
              "      background-color: #E2EBFA;\n",
              "      box-shadow: 0px 1px 2px rgba(60, 64, 67, 0.3), 0px 1px 3px 1px rgba(60, 64, 67, 0.15);\n",
              "      fill: #174EA6;\n",
              "    }\n",
              "\n",
              "    [theme=dark] .colab-df-convert {\n",
              "      background-color: #3B4455;\n",
              "      fill: #D2E3FC;\n",
              "    }\n",
              "\n",
              "    [theme=dark] .colab-df-convert:hover {\n",
              "      background-color: #434B5C;\n",
              "      box-shadow: 0px 1px 3px 1px rgba(0, 0, 0, 0.15);\n",
              "      filter: drop-shadow(0px 1px 2px rgba(0, 0, 0, 0.3));\n",
              "      fill: #FFFFFF;\n",
              "    }\n",
              "  </style>\n",
              "\n",
              "      <script>\n",
              "        const buttonEl =\n",
              "          document.querySelector('#df-fefb38d7-1450-4a6a-85ff-f01311bcd7ae button.colab-df-convert');\n",
              "        buttonEl.style.display =\n",
              "          google.colab.kernel.accessAllowed ? 'block' : 'none';\n",
              "\n",
              "        async function convertToInteractive(key) {\n",
              "          const element = document.querySelector('#df-fefb38d7-1450-4a6a-85ff-f01311bcd7ae');\n",
              "          const dataTable =\n",
              "            await google.colab.kernel.invokeFunction('convertToInteractive',\n",
              "                                                     [key], {});\n",
              "          if (!dataTable) return;\n",
              "\n",
              "          const docLinkHtml = 'Like what you see? Visit the ' +\n",
              "            '<a target=\"_blank\" href=https://colab.research.google.com/notebooks/data_table.ipynb>data table notebook</a>'\n",
              "            + ' to learn more about interactive tables.';\n",
              "          element.innerHTML = '';\n",
              "          dataTable['output_type'] = 'display_data';\n",
              "          await google.colab.output.renderOutput(dataTable, element);\n",
              "          const docLink = document.createElement('div');\n",
              "          docLink.innerHTML = docLinkHtml;\n",
              "          element.appendChild(docLink);\n",
              "        }\n",
              "      </script>\n",
              "    </div>\n",
              "  </div>\n",
              "  "
            ]
          },
          "metadata": {},
          "execution_count": 47
        }
      ],
      "execution_count": 47
    },
    {
      "cell_type": "code",
      "source": [
        "import seaborn as sb \n",
        "import matplotlib.pyplot as plt\n",
        "\n",
        "dataplot = sb.heatmap(Credit.cov().round(decimals=2)) \n",
        "  \n",
        "plt.show() "
      ],
      "metadata": {
        "colab": {
          "base_uri": "https://localhost:8080/",
          "height": 316
        },
        "id": "7-B8yAMfmza7",
        "outputId": "f127abe7-bf43-40bc-b958-e4f58130d838"
      },
      "execution_count": 48,
      "outputs": [
        {
          "output_type": "display_data",
          "data": {
            "text/plain": [
              "<Figure size 432x288 with 2 Axes>"
            ],
            "image/png": "[encoded data removed]"
          },
          "metadata": {
            "needs_background": "light"
          }
        }
      ]
    },
    {
      "cell_type": "markdown",
      "source": [
        "**Nota Final**: Es importante comprender que la correlación no representa causalidad, analicemos algunos ejemplos: [Correlación Espuria](https://www.tylervigen.com/spurious-correlations)"
      ],
      "metadata": {
        "application/vnd.databricks.v1+cell": {
          "title": "",
          "showTitle": false,
          "inputWidgets": {},
          "nuid": "09ea0f2e-7998-4e27-8d7e-67ee12479e51"
        },
        "id": "SnwPBSnb6sln"
      }
    },
    {
      "cell_type": "markdown",
      "source": [
        "\n",
        "\n",
        "<div style=\"text-align: center; line-height: 0; padding-top: 9px;\">\n",
        "  <img src=\"https://storage.googleapis.com/datasets-academy/public-img/notebooks/headers/databits-footer-notebook.png\" alt=\"Databricks Learning\" style=\"width: 100%;\">\n",
        "</div>"
      ],
      "metadata": {
        "application/vnd.databricks.v1+cell": {
          "title": "",
          "showTitle": false,
          "inputWidgets": {},
          "nuid": "4e01380a-e4ae-4052-b758-09edf7a7529c"
        },
        "id": "fweO35Ro6sln"
      }
    }
  ],
  "metadata": {
    "language_info": {
      "mimetype": "text/x-python",
      "name": "python",
      "pygments_lexer": "ipython3",
      "codemirror_mode": {
        "name": "ipython",
        "version": 3
      },
      "version": "3.7.3",
      "nbconvert_exporter": "python",
      "file_extension": ".py"
    },
    "name": "Estadística Descriptiva",
    "notebookId": 3881684714476310,
    "kernelspec": {
      "display_name": "Python 3",
      "language": "python",
      "name": "python3"
    },
    "application/vnd.databricks.v1+notebook": {
      "notebookName": "05 Estadística descriptiva",
      "dashboards": [],
      "notebookMetadata": {
        "pythonIndentUnit": 2
      },
      "language": "python",
      "widgets": {},
      "notebookOrigID": 3292013333172471
    },
    "colab": {
      "provenance": [],
      "collapsed_sections": [
        "pAOFUmrA7Dhy",
        "PPjEZvbb7J6R",
        "7gNaVHhc6slk",
        "MdjY9Z2L7SmB",
        "nmr0StaP7W0_"
      ]
    }
  },
  "nbformat": 4,
  "nbformat_minor": 0
}